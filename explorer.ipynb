{
 "cells": [
  {
   "cell_type": "code",
   "execution_count": 1,
   "metadata": {},
   "outputs": [],
   "source": [
    "import pandas as pd\n",
    "import plotly.express as px"
   ]
  },
  {
   "cell_type": "markdown",
   "metadata": {},
   "source": [
    "### Nationwide Data"
   ]
  },
  {
   "cell_type": "code",
   "execution_count": 2,
   "metadata": {},
   "outputs": [],
   "source": [
    "df = pd.read_csv(\"data/covid_19_data.csv\")"
   ]
  },
  {
   "cell_type": "code",
   "execution_count": 3,
   "metadata": {},
   "outputs": [
    {
     "data": {
      "text/html": [
       "<div>\n",
       "<style scoped>\n",
       "    .dataframe tbody tr th:only-of-type {\n",
       "        vertical-align: middle;\n",
       "    }\n",
       "\n",
       "    .dataframe tbody tr th {\n",
       "        vertical-align: top;\n",
       "    }\n",
       "\n",
       "    .dataframe thead th {\n",
       "        text-align: right;\n",
       "    }\n",
       "</style>\n",
       "<table border=\"1\" class=\"dataframe\">\n",
       "  <thead>\n",
       "    <tr style=\"text-align: right;\">\n",
       "      <th></th>\n",
       "      <th>SNo</th>\n",
       "      <th>ObservationDate</th>\n",
       "      <th>Province/State</th>\n",
       "      <th>Country/Region</th>\n",
       "      <th>Last Update</th>\n",
       "      <th>Confirmed</th>\n",
       "      <th>Deaths</th>\n",
       "      <th>Recovered</th>\n",
       "    </tr>\n",
       "  </thead>\n",
       "  <tbody>\n",
       "    <tr>\n",
       "      <th>0</th>\n",
       "      <td>1</td>\n",
       "      <td>01/22/2020</td>\n",
       "      <td>Anhui</td>\n",
       "      <td>Mainland China</td>\n",
       "      <td>1/22/2020 17:00</td>\n",
       "      <td>1.0</td>\n",
       "      <td>0.0</td>\n",
       "      <td>0.0</td>\n",
       "    </tr>\n",
       "    <tr>\n",
       "      <th>1</th>\n",
       "      <td>2</td>\n",
       "      <td>01/22/2020</td>\n",
       "      <td>Beijing</td>\n",
       "      <td>Mainland China</td>\n",
       "      <td>1/22/2020 17:00</td>\n",
       "      <td>14.0</td>\n",
       "      <td>0.0</td>\n",
       "      <td>0.0</td>\n",
       "    </tr>\n",
       "    <tr>\n",
       "      <th>2</th>\n",
       "      <td>3</td>\n",
       "      <td>01/22/2020</td>\n",
       "      <td>Chongqing</td>\n",
       "      <td>Mainland China</td>\n",
       "      <td>1/22/2020 17:00</td>\n",
       "      <td>6.0</td>\n",
       "      <td>0.0</td>\n",
       "      <td>0.0</td>\n",
       "    </tr>\n",
       "    <tr>\n",
       "      <th>3</th>\n",
       "      <td>4</td>\n",
       "      <td>01/22/2020</td>\n",
       "      <td>Fujian</td>\n",
       "      <td>Mainland China</td>\n",
       "      <td>1/22/2020 17:00</td>\n",
       "      <td>1.0</td>\n",
       "      <td>0.0</td>\n",
       "      <td>0.0</td>\n",
       "    </tr>\n",
       "    <tr>\n",
       "      <th>4</th>\n",
       "      <td>5</td>\n",
       "      <td>01/22/2020</td>\n",
       "      <td>Gansu</td>\n",
       "      <td>Mainland China</td>\n",
       "      <td>1/22/2020 17:00</td>\n",
       "      <td>0.0</td>\n",
       "      <td>0.0</td>\n",
       "      <td>0.0</td>\n",
       "    </tr>\n",
       "  </tbody>\n",
       "</table>\n",
       "</div>"
      ],
      "text/plain": [
       "   SNo ObservationDate Province/State  Country/Region      Last Update  \\\n",
       "0    1      01/22/2020          Anhui  Mainland China  1/22/2020 17:00   \n",
       "1    2      01/22/2020        Beijing  Mainland China  1/22/2020 17:00   \n",
       "2    3      01/22/2020      Chongqing  Mainland China  1/22/2020 17:00   \n",
       "3    4      01/22/2020         Fujian  Mainland China  1/22/2020 17:00   \n",
       "4    5      01/22/2020          Gansu  Mainland China  1/22/2020 17:00   \n",
       "\n",
       "   Confirmed  Deaths  Recovered  \n",
       "0        1.0     0.0        0.0  \n",
       "1       14.0     0.0        0.0  \n",
       "2        6.0     0.0        0.0  \n",
       "3        1.0     0.0        0.0  \n",
       "4        0.0     0.0        0.0  "
      ]
     },
     "execution_count": 3,
     "metadata": {},
     "output_type": "execute_result"
    }
   ],
   "source": [
    "df.head()"
   ]
  },
  {
   "cell_type": "code",
   "execution_count": 4,
   "metadata": {},
   "outputs": [
    {
     "data": {
      "text/html": [
       "<div>\n",
       "<style scoped>\n",
       "    .dataframe tbody tr th:only-of-type {\n",
       "        vertical-align: middle;\n",
       "    }\n",
       "\n",
       "    .dataframe tbody tr th {\n",
       "        vertical-align: top;\n",
       "    }\n",
       "\n",
       "    .dataframe thead th {\n",
       "        text-align: right;\n",
       "    }\n",
       "</style>\n",
       "<table border=\"1\" class=\"dataframe\">\n",
       "  <thead>\n",
       "    <tr style=\"text-align: right;\">\n",
       "      <th></th>\n",
       "      <th>SNo</th>\n",
       "      <th>ObservationDate</th>\n",
       "      <th>Province/State</th>\n",
       "      <th>Country/Region</th>\n",
       "      <th>Last Update</th>\n",
       "      <th>Confirmed</th>\n",
       "      <th>Deaths</th>\n",
       "      <th>Recovered</th>\n",
       "    </tr>\n",
       "  </thead>\n",
       "  <tbody>\n",
       "    <tr>\n",
       "      <th>5571</th>\n",
       "      <td>5572</td>\n",
       "      <td>03/14/2020</td>\n",
       "      <td>NaN</td>\n",
       "      <td>Uruguay</td>\n",
       "      <td>2020-03-14T16:33:03</td>\n",
       "      <td>4.0</td>\n",
       "      <td>0.0</td>\n",
       "      <td>0.0</td>\n",
       "    </tr>\n",
       "    <tr>\n",
       "      <th>5826</th>\n",
       "      <td>5827</td>\n",
       "      <td>03/15/2020</td>\n",
       "      <td>NaN</td>\n",
       "      <td>Uruguay</td>\n",
       "      <td>2020-03-14T16:33:03</td>\n",
       "      <td>4.0</td>\n",
       "      <td>0.0</td>\n",
       "      <td>0.0</td>\n",
       "    </tr>\n",
       "    <tr>\n",
       "      <th>6074</th>\n",
       "      <td>6075</td>\n",
       "      <td>03/16/2020</td>\n",
       "      <td>NaN</td>\n",
       "      <td>Uruguay</td>\n",
       "      <td>2020-03-16T14:38:45</td>\n",
       "      <td>8.0</td>\n",
       "      <td>0.0</td>\n",
       "      <td>0.0</td>\n",
       "    </tr>\n",
       "    <tr>\n",
       "      <th>6311</th>\n",
       "      <td>6312</td>\n",
       "      <td>03/17/2020</td>\n",
       "      <td>NaN</td>\n",
       "      <td>Uruguay</td>\n",
       "      <td>2020-03-17T02:13:54</td>\n",
       "      <td>29.0</td>\n",
       "      <td>0.0</td>\n",
       "      <td>0.0</td>\n",
       "    </tr>\n",
       "    <tr>\n",
       "      <th>6571</th>\n",
       "      <td>6572</td>\n",
       "      <td>03/18/2020</td>\n",
       "      <td>NaN</td>\n",
       "      <td>Uruguay</td>\n",
       "      <td>2020-03-18T11:33:04</td>\n",
       "      <td>50.0</td>\n",
       "      <td>0.0</td>\n",
       "      <td>0.0</td>\n",
       "    </tr>\n",
       "    <tr>\n",
       "      <th>...</th>\n",
       "      <td>...</td>\n",
       "      <td>...</td>\n",
       "      <td>...</td>\n",
       "      <td>...</td>\n",
       "      <td>...</td>\n",
       "      <td>...</td>\n",
       "      <td>...</td>\n",
       "      <td>...</td>\n",
       "    </tr>\n",
       "    <tr>\n",
       "      <th>168840</th>\n",
       "      <td>168841</td>\n",
       "      <td>12/02/2020</td>\n",
       "      <td>NaN</td>\n",
       "      <td>Uruguay</td>\n",
       "      <td>2020-12-03 05:28:22</td>\n",
       "      <td>6225.0</td>\n",
       "      <td>80.0</td>\n",
       "      <td>4584.0</td>\n",
       "    </tr>\n",
       "    <tr>\n",
       "      <th>169600</th>\n",
       "      <td>169601</td>\n",
       "      <td>12/03/2020</td>\n",
       "      <td>NaN</td>\n",
       "      <td>Uruguay</td>\n",
       "      <td>2020-12-04 05:27:27</td>\n",
       "      <td>6455.0</td>\n",
       "      <td>80.0</td>\n",
       "      <td>4707.0</td>\n",
       "    </tr>\n",
       "    <tr>\n",
       "      <th>170360</th>\n",
       "      <td>170361</td>\n",
       "      <td>12/04/2020</td>\n",
       "      <td>NaN</td>\n",
       "      <td>Uruguay</td>\n",
       "      <td>2020-12-05 05:27:36</td>\n",
       "      <td>6731.0</td>\n",
       "      <td>80.0</td>\n",
       "      <td>4826.0</td>\n",
       "    </tr>\n",
       "    <tr>\n",
       "      <th>171120</th>\n",
       "      <td>171121</td>\n",
       "      <td>12/05/2020</td>\n",
       "      <td>NaN</td>\n",
       "      <td>Uruguay</td>\n",
       "      <td>2020-12-06 05:26:18</td>\n",
       "      <td>6965.0</td>\n",
       "      <td>81.0</td>\n",
       "      <td>4946.0</td>\n",
       "    </tr>\n",
       "    <tr>\n",
       "      <th>171880</th>\n",
       "      <td>171881</td>\n",
       "      <td>12/06/2020</td>\n",
       "      <td>NaN</td>\n",
       "      <td>Uruguay</td>\n",
       "      <td>2020-12-07 05:26:14</td>\n",
       "      <td>7303.0</td>\n",
       "      <td>82.0</td>\n",
       "      <td>5062.0</td>\n",
       "    </tr>\n",
       "  </tbody>\n",
       "</table>\n",
       "<p>268 rows × 8 columns</p>\n",
       "</div>"
      ],
      "text/plain": [
       "           SNo ObservationDate Province/State Country/Region  \\\n",
       "5571      5572      03/14/2020            NaN        Uruguay   \n",
       "5826      5827      03/15/2020            NaN        Uruguay   \n",
       "6074      6075      03/16/2020            NaN        Uruguay   \n",
       "6311      6312      03/17/2020            NaN        Uruguay   \n",
       "6571      6572      03/18/2020            NaN        Uruguay   \n",
       "...        ...             ...            ...            ...   \n",
       "168840  168841      12/02/2020            NaN        Uruguay   \n",
       "169600  169601      12/03/2020            NaN        Uruguay   \n",
       "170360  170361      12/04/2020            NaN        Uruguay   \n",
       "171120  171121      12/05/2020            NaN        Uruguay   \n",
       "171880  171881      12/06/2020            NaN        Uruguay   \n",
       "\n",
       "                Last Update  Confirmed  Deaths  Recovered  \n",
       "5571    2020-03-14T16:33:03        4.0     0.0        0.0  \n",
       "5826    2020-03-14T16:33:03        4.0     0.0        0.0  \n",
       "6074    2020-03-16T14:38:45        8.0     0.0        0.0  \n",
       "6311    2020-03-17T02:13:54       29.0     0.0        0.0  \n",
       "6571    2020-03-18T11:33:04       50.0     0.0        0.0  \n",
       "...                     ...        ...     ...        ...  \n",
       "168840  2020-12-03 05:28:22     6225.0    80.0     4584.0  \n",
       "169600  2020-12-04 05:27:27     6455.0    80.0     4707.0  \n",
       "170360  2020-12-05 05:27:36     6731.0    80.0     4826.0  \n",
       "171120  2020-12-06 05:26:18     6965.0    81.0     4946.0  \n",
       "171880  2020-12-07 05:26:14     7303.0    82.0     5062.0  \n",
       "\n",
       "[268 rows x 8 columns]"
      ]
     },
     "execution_count": 4,
     "metadata": {},
     "output_type": "execute_result"
    }
   ],
   "source": [
    "df[df[\"Country/Region\"] == \"Uruguay\"]"
   ]
  },
  {
   "cell_type": "markdown",
   "metadata": {},
   "source": [
    "### Aggregated data over regions (cummulative)"
   ]
  },
  {
   "cell_type": "code",
   "execution_count": 5,
   "metadata": {},
   "outputs": [
    {
     "data": {
      "text/html": [
       "<div>\n",
       "<style scoped>\n",
       "    .dataframe tbody tr th:only-of-type {\n",
       "        vertical-align: middle;\n",
       "    }\n",
       "\n",
       "    .dataframe tbody tr th {\n",
       "        vertical-align: top;\n",
       "    }\n",
       "\n",
       "    .dataframe thead th {\n",
       "        text-align: right;\n",
       "    }\n",
       "</style>\n",
       "<table border=\"1\" class=\"dataframe\">\n",
       "  <thead>\n",
       "    <tr style=\"text-align: right;\">\n",
       "      <th></th>\n",
       "      <th>Country/Region</th>\n",
       "      <th>Province/State</th>\n",
       "      <th>Confirmed</th>\n",
       "      <th>Deaths</th>\n",
       "      <th>Recovered</th>\n",
       "    </tr>\n",
       "  </thead>\n",
       "  <tbody>\n",
       "    <tr>\n",
       "      <th>0</th>\n",
       "      <td>Australia</td>\n",
       "      <td>Australian Capital Territory</td>\n",
       "      <td>28175.0</td>\n",
       "      <td>735.0</td>\n",
       "      <td>25809.0</td>\n",
       "    </tr>\n",
       "    <tr>\n",
       "      <th>1</th>\n",
       "      <td>Australia</td>\n",
       "      <td>Diamond Princess cruise ship</td>\n",
       "      <td>0.0</td>\n",
       "      <td>0.0</td>\n",
       "      <td>0.0</td>\n",
       "    </tr>\n",
       "    <tr>\n",
       "      <th>2</th>\n",
       "      <td>Australia</td>\n",
       "      <td>External territories</td>\n",
       "      <td>0.0</td>\n",
       "      <td>0.0</td>\n",
       "      <td>0.0</td>\n",
       "    </tr>\n",
       "    <tr>\n",
       "      <th>3</th>\n",
       "      <td>Australia</td>\n",
       "      <td>From Diamond Princess</td>\n",
       "      <td>55.0</td>\n",
       "      <td>0.0</td>\n",
       "      <td>0.0</td>\n",
       "    </tr>\n",
       "    <tr>\n",
       "      <th>4</th>\n",
       "      <td>Australia</td>\n",
       "      <td>Jervis Bay Territory</td>\n",
       "      <td>0.0</td>\n",
       "      <td>0.0</td>\n",
       "      <td>0.0</td>\n",
       "    </tr>\n",
       "  </tbody>\n",
       "</table>\n",
       "</div>"
      ],
      "text/plain": [
       "  Country/Region                Province/State  Confirmed  Deaths  Recovered\n",
       "0      Australia  Australian Capital Territory    28175.0   735.0    25809.0\n",
       "1      Australia  Diamond Princess cruise ship        0.0     0.0        0.0\n",
       "2      Australia          External territories        0.0     0.0        0.0\n",
       "3      Australia         From Diamond Princess       55.0     0.0        0.0\n",
       "4      Australia          Jervis Bay Territory        0.0     0.0        0.0"
      ]
     },
     "execution_count": 5,
     "metadata": {},
     "output_type": "execute_result"
    }
   ],
   "source": [
    "totals = df.groupby([\"Country/Region\", \"Province/State\"]).sum().reset_index().drop(\"SNo\", axis=1)\n",
    "totals.head()"
   ]
  },
  {
   "cell_type": "code",
   "execution_count": 6,
   "metadata": {},
   "outputs": [
    {
     "data": {
      "text/html": [
       "<div>\n",
       "<style scoped>\n",
       "    .dataframe tbody tr th:only-of-type {\n",
       "        vertical-align: middle;\n",
       "    }\n",
       "\n",
       "    .dataframe tbody tr th {\n",
       "        vertical-align: top;\n",
       "    }\n",
       "\n",
       "    .dataframe thead th {\n",
       "        text-align: right;\n",
       "    }\n",
       "</style>\n",
       "<table border=\"1\" class=\"dataframe\">\n",
       "  <thead>\n",
       "    <tr style=\"text-align: right;\">\n",
       "      <th></th>\n",
       "      <th>Country/Region</th>\n",
       "      <th>Province/State</th>\n",
       "      <th>Confirmed</th>\n",
       "      <th>Deaths</th>\n",
       "      <th>Recovered</th>\n",
       "    </tr>\n",
       "  </thead>\n",
       "  <tbody>\n",
       "    <tr>\n",
       "      <th>532</th>\n",
       "      <td>US</td>\n",
       "      <td>Norfolk County, MA</td>\n",
       "      <td>7.0</td>\n",
       "      <td>0.0</td>\n",
       "      <td>0.0</td>\n",
       "    </tr>\n",
       "    <tr>\n",
       "      <th>533</th>\n",
       "      <td>US</td>\n",
       "      <td>Alabama</td>\n",
       "      <td>24354457.0</td>\n",
       "      <td>417250.0</td>\n",
       "      <td>0.0</td>\n",
       "    </tr>\n",
       "    <tr>\n",
       "      <th>534</th>\n",
       "      <td>US</td>\n",
       "      <td>Alameda County, CA</td>\n",
       "      <td>6.0</td>\n",
       "      <td>0.0</td>\n",
       "      <td>0.0</td>\n",
       "    </tr>\n",
       "    <tr>\n",
       "      <th>535</th>\n",
       "      <td>US</td>\n",
       "      <td>Alaska</td>\n",
       "      <td>1700943.0</td>\n",
       "      <td>9522.0</td>\n",
       "      <td>0.0</td>\n",
       "    </tr>\n",
       "    <tr>\n",
       "      <th>536</th>\n",
       "      <td>US</td>\n",
       "      <td>American Samoa</td>\n",
       "      <td>0.0</td>\n",
       "      <td>0.0</td>\n",
       "      <td>0.0</td>\n",
       "    </tr>\n",
       "    <tr>\n",
       "      <th>...</th>\n",
       "      <td>...</td>\n",
       "      <td>...</td>\n",
       "      <td>...</td>\n",
       "      <td>...</td>\n",
       "      <td>...</td>\n",
       "    </tr>\n",
       "    <tr>\n",
       "      <th>726</th>\n",
       "      <td>US</td>\n",
       "      <td>Williamson County, TN</td>\n",
       "      <td>5.0</td>\n",
       "      <td>0.0</td>\n",
       "      <td>0.0</td>\n",
       "    </tr>\n",
       "    <tr>\n",
       "      <th>727</th>\n",
       "      <td>US</td>\n",
       "      <td>Wisconsin</td>\n",
       "      <td>25200400.0</td>\n",
       "      <td>291222.0</td>\n",
       "      <td>8.0</td>\n",
       "    </tr>\n",
       "    <tr>\n",
       "      <th>728</th>\n",
       "      <td>US</td>\n",
       "      <td>Wuhan Evacuee</td>\n",
       "      <td>4.0</td>\n",
       "      <td>0.0</td>\n",
       "      <td>0.0</td>\n",
       "    </tr>\n",
       "    <tr>\n",
       "      <th>729</th>\n",
       "      <td>US</td>\n",
       "      <td>Wyoming</td>\n",
       "      <td>1562150.0</td>\n",
       "      <td>12045.0</td>\n",
       "      <td>0.0</td>\n",
       "    </tr>\n",
       "    <tr>\n",
       "      <th>730</th>\n",
       "      <td>US</td>\n",
       "      <td>Yolo County, CA</td>\n",
       "      <td>4.0</td>\n",
       "      <td>0.0</td>\n",
       "      <td>0.0</td>\n",
       "    </tr>\n",
       "  </tbody>\n",
       "</table>\n",
       "<p>199 rows × 5 columns</p>\n",
       "</div>"
      ],
      "text/plain": [
       "    Country/Region         Province/State   Confirmed    Deaths  Recovered\n",
       "532             US     Norfolk County, MA         7.0       0.0        0.0\n",
       "533             US                Alabama  24354457.0  417250.0        0.0\n",
       "534             US     Alameda County, CA         6.0       0.0        0.0\n",
       "535             US                 Alaska   1700943.0    9522.0        0.0\n",
       "536             US         American Samoa         0.0       0.0        0.0\n",
       "..             ...                    ...         ...       ...        ...\n",
       "726             US  Williamson County, TN         5.0       0.0        0.0\n",
       "727             US              Wisconsin  25200400.0  291222.0        8.0\n",
       "728             US          Wuhan Evacuee         4.0       0.0        0.0\n",
       "729             US                Wyoming   1562150.0   12045.0        0.0\n",
       "730             US        Yolo County, CA         4.0       0.0        0.0\n",
       "\n",
       "[199 rows x 5 columns]"
      ]
     },
     "execution_count": 6,
     "metadata": {},
     "output_type": "execute_result"
    }
   ],
   "source": [
    "totals[totals[\"Country/Region\"] == \"US\"]"
   ]
  },
  {
   "cell_type": "markdown",
   "metadata": {},
   "source": [
    "### US Specific confirmed cases"
   ]
  },
  {
   "cell_type": "code",
   "execution_count": 7,
   "metadata": {},
   "outputs": [
    {
     "data": {
      "text/html": [
       "<div>\n",
       "<style scoped>\n",
       "    .dataframe tbody tr th:only-of-type {\n",
       "        vertical-align: middle;\n",
       "    }\n",
       "\n",
       "    .dataframe tbody tr th {\n",
       "        vertical-align: top;\n",
       "    }\n",
       "\n",
       "    .dataframe thead th {\n",
       "        text-align: right;\n",
       "    }\n",
       "</style>\n",
       "<table border=\"1\" class=\"dataframe\">\n",
       "  <thead>\n",
       "    <tr style=\"text-align: right;\">\n",
       "      <th></th>\n",
       "      <th>UID</th>\n",
       "      <th>iso2</th>\n",
       "      <th>iso3</th>\n",
       "      <th>code3</th>\n",
       "      <th>FIPS</th>\n",
       "      <th>Admin2</th>\n",
       "      <th>Province_State</th>\n",
       "      <th>Country_Region</th>\n",
       "      <th>Lat</th>\n",
       "      <th>Long_</th>\n",
       "      <th>...</th>\n",
       "      <th>11/27/20</th>\n",
       "      <th>11/28/20</th>\n",
       "      <th>11/29/20</th>\n",
       "      <th>11/30/20</th>\n",
       "      <th>12/1/20</th>\n",
       "      <th>12/2/20</th>\n",
       "      <th>12/3/20</th>\n",
       "      <th>12/4/20</th>\n",
       "      <th>12/5/20</th>\n",
       "      <th>12/6/20</th>\n",
       "    </tr>\n",
       "  </thead>\n",
       "  <tbody>\n",
       "    <tr>\n",
       "      <th>0</th>\n",
       "      <td>84001001</td>\n",
       "      <td>US</td>\n",
       "      <td>USA</td>\n",
       "      <td>840</td>\n",
       "      <td>1001.0</td>\n",
       "      <td>Autauga</td>\n",
       "      <td>Alabama</td>\n",
       "      <td>US</td>\n",
       "      <td>32.539527</td>\n",
       "      <td>-86.644082</td>\n",
       "      <td>...</td>\n",
       "      <td>2716</td>\n",
       "      <td>2735</td>\n",
       "      <td>2751</td>\n",
       "      <td>2780</td>\n",
       "      <td>2818</td>\n",
       "      <td>2873</td>\n",
       "      <td>2893</td>\n",
       "      <td>2945</td>\n",
       "      <td>2979</td>\n",
       "      <td>3005</td>\n",
       "    </tr>\n",
       "    <tr>\n",
       "      <th>1</th>\n",
       "      <td>84001003</td>\n",
       "      <td>US</td>\n",
       "      <td>USA</td>\n",
       "      <td>840</td>\n",
       "      <td>1003.0</td>\n",
       "      <td>Baldwin</td>\n",
       "      <td>Alabama</td>\n",
       "      <td>US</td>\n",
       "      <td>30.727750</td>\n",
       "      <td>-87.722071</td>\n",
       "      <td>...</td>\n",
       "      <td>8603</td>\n",
       "      <td>8733</td>\n",
       "      <td>8820</td>\n",
       "      <td>8890</td>\n",
       "      <td>9051</td>\n",
       "      <td>9163</td>\n",
       "      <td>9341</td>\n",
       "      <td>9501</td>\n",
       "      <td>9626</td>\n",
       "      <td>9728</td>\n",
       "    </tr>\n",
       "    <tr>\n",
       "      <th>2</th>\n",
       "      <td>84001005</td>\n",
       "      <td>US</td>\n",
       "      <td>USA</td>\n",
       "      <td>840</td>\n",
       "      <td>1005.0</td>\n",
       "      <td>Barbour</td>\n",
       "      <td>Alabama</td>\n",
       "      <td>US</td>\n",
       "      <td>31.868263</td>\n",
       "      <td>-85.387129</td>\n",
       "      <td>...</td>\n",
       "      <td>1171</td>\n",
       "      <td>1173</td>\n",
       "      <td>1175</td>\n",
       "      <td>1178</td>\n",
       "      <td>1189</td>\n",
       "      <td>1206</td>\n",
       "      <td>1214</td>\n",
       "      <td>1217</td>\n",
       "      <td>1219</td>\n",
       "      <td>1223</td>\n",
       "    </tr>\n",
       "    <tr>\n",
       "      <th>3</th>\n",
       "      <td>84001007</td>\n",
       "      <td>US</td>\n",
       "      <td>USA</td>\n",
       "      <td>840</td>\n",
       "      <td>1007.0</td>\n",
       "      <td>Bibb</td>\n",
       "      <td>Alabama</td>\n",
       "      <td>US</td>\n",
       "      <td>32.996421</td>\n",
       "      <td>-87.125115</td>\n",
       "      <td>...</td>\n",
       "      <td>1173</td>\n",
       "      <td>1179</td>\n",
       "      <td>1188</td>\n",
       "      <td>1196</td>\n",
       "      <td>1204</td>\n",
       "      <td>1239</td>\n",
       "      <td>1252</td>\n",
       "      <td>1270</td>\n",
       "      <td>1283</td>\n",
       "      <td>1293</td>\n",
       "    </tr>\n",
       "    <tr>\n",
       "      <th>4</th>\n",
       "      <td>84001009</td>\n",
       "      <td>US</td>\n",
       "      <td>USA</td>\n",
       "      <td>840</td>\n",
       "      <td>1009.0</td>\n",
       "      <td>Blount</td>\n",
       "      <td>Alabama</td>\n",
       "      <td>US</td>\n",
       "      <td>33.982109</td>\n",
       "      <td>-86.567906</td>\n",
       "      <td>...</td>\n",
       "      <td>2888</td>\n",
       "      <td>2922</td>\n",
       "      <td>2946</td>\n",
       "      <td>2997</td>\n",
       "      <td>3061</td>\n",
       "      <td>3100</td>\n",
       "      <td>3158</td>\n",
       "      <td>3231</td>\n",
       "      <td>3281</td>\n",
       "      <td>3299</td>\n",
       "    </tr>\n",
       "  </tbody>\n",
       "</table>\n",
       "<p>5 rows × 331 columns</p>\n",
       "</div>"
      ],
      "text/plain": [
       "        UID iso2 iso3  code3    FIPS   Admin2 Province_State Country_Region  \\\n",
       "0  84001001   US  USA    840  1001.0  Autauga        Alabama             US   \n",
       "1  84001003   US  USA    840  1003.0  Baldwin        Alabama             US   \n",
       "2  84001005   US  USA    840  1005.0  Barbour        Alabama             US   \n",
       "3  84001007   US  USA    840  1007.0     Bibb        Alabama             US   \n",
       "4  84001009   US  USA    840  1009.0   Blount        Alabama             US   \n",
       "\n",
       "         Lat      Long_  ... 11/27/20  11/28/20  11/29/20  11/30/20  12/1/20  \\\n",
       "0  32.539527 -86.644082  ...     2716      2735      2751      2780     2818   \n",
       "1  30.727750 -87.722071  ...     8603      8733      8820      8890     9051   \n",
       "2  31.868263 -85.387129  ...     1171      1173      1175      1178     1189   \n",
       "3  32.996421 -87.125115  ...     1173      1179      1188      1196     1204   \n",
       "4  33.982109 -86.567906  ...     2888      2922      2946      2997     3061   \n",
       "\n",
       "   12/2/20  12/3/20  12/4/20  12/5/20  12/6/20  \n",
       "0     2873     2893     2945     2979     3005  \n",
       "1     9163     9341     9501     9626     9728  \n",
       "2     1206     1214     1217     1219     1223  \n",
       "3     1239     1252     1270     1283     1293  \n",
       "4     3100     3158     3231     3281     3299  \n",
       "\n",
       "[5 rows x 331 columns]"
      ]
     },
     "execution_count": 7,
     "metadata": {},
     "output_type": "execute_result"
    }
   ],
   "source": [
    "# CONFIRMED US CASES\n",
    "df_usa = pd.read_csv(\"data/time_series_covid_19_confirmed_US.csv\")\n",
    "df_usa.head()"
   ]
  },
  {
   "cell_type": "markdown",
   "metadata": {},
   "source": [
    "### Covid confirmed cases over time for specific State\n",
    "\n",
    "We can use this same logic to generate filtered graphs on selection (i.e. state, date)"
   ]
  },
  {
   "cell_type": "code",
   "execution_count": 111,
   "metadata": {},
   "outputs": [
    {
     "data": {
      "text/plain": [
       "1/22/20         0\n",
       "1/23/20         0\n",
       "1/24/20         0\n",
       "1/25/20         0\n",
       "1/26/20         0\n",
       "            ...  \n",
       "12/2/20    256828\n",
       "12/3/20    260359\n",
       "12/4/20    264199\n",
       "12/5/20    267589\n",
       "12/6/20    269877\n",
       "Name: Alabama, Length: 320, dtype: int64"
      ]
     },
     "execution_count": 111,
     "metadata": {},
     "output_type": "execute_result"
    }
   ],
   "source": [
    "onestate = df_usa.groupby(\"Province_State\").sum()[df_usa.columns[11:]].loc[\"Alabama\"]\n",
    "onestate"
   ]
  },
  {
   "cell_type": "code",
   "execution_count": 112,
   "metadata": {},
   "outputs": [
    {
     "data": {
      "application/vnd.plotly.v1+json": {
       "config": {
        "plotlyServerURL": "https://plot.ly"
       },
       "data": [
        {
         "hovertemplate": "x=%{x}<br>y=%{y}<extra></extra>",
         "legendgroup": "",
         "line": {
          "color": "#636efa",
          "dash": "solid"
         },
         "mode": "lines",
         "name": "",
         "orientation": "v",
         "showlegend": false,
         "type": "scatter",
         "x": [
          "1/22/20",
          "1/23/20",
          "1/24/20",
          "1/25/20",
          "1/26/20",
          "1/27/20",
          "1/28/20",
          "1/29/20",
          "1/30/20",
          "1/31/20",
          "2/1/20",
          "2/2/20",
          "2/3/20",
          "2/4/20",
          "2/5/20",
          "2/6/20",
          "2/7/20",
          "2/8/20",
          "2/9/20",
          "2/10/20",
          "2/11/20",
          "2/12/20",
          "2/13/20",
          "2/14/20",
          "2/15/20",
          "2/16/20",
          "2/17/20",
          "2/18/20",
          "2/19/20",
          "2/20/20",
          "2/21/20",
          "2/22/20",
          "2/23/20",
          "2/24/20",
          "2/25/20",
          "2/26/20",
          "2/27/20",
          "2/28/20",
          "2/29/20",
          "3/1/20",
          "3/2/20",
          "3/3/20",
          "3/4/20",
          "3/5/20",
          "3/6/20",
          "3/7/20",
          "3/8/20",
          "3/9/20",
          "3/10/20",
          "3/11/20",
          "3/12/20",
          "3/13/20",
          "3/14/20",
          "3/15/20",
          "3/16/20",
          "3/17/20",
          "3/18/20",
          "3/19/20",
          "3/20/20",
          "3/21/20",
          "3/22/20",
          "3/23/20",
          "3/24/20",
          "3/25/20",
          "3/26/20",
          "3/27/20",
          "3/28/20",
          "3/29/20",
          "3/30/20",
          "3/31/20",
          "4/1/20",
          "4/2/20",
          "4/3/20",
          "4/4/20",
          "4/5/20",
          "4/6/20",
          "4/7/20",
          "4/8/20",
          "4/9/20",
          "4/10/20",
          "4/11/20",
          "4/12/20",
          "4/13/20",
          "4/14/20",
          "4/15/20",
          "4/16/20",
          "4/17/20",
          "4/18/20",
          "4/19/20",
          "4/20/20",
          "4/21/20",
          "4/22/20",
          "4/23/20",
          "4/24/20",
          "4/25/20",
          "4/26/20",
          "4/27/20",
          "4/28/20",
          "4/29/20",
          "4/30/20",
          "5/1/20",
          "5/2/20",
          "5/3/20",
          "5/4/20",
          "5/5/20",
          "5/6/20",
          "5/7/20",
          "5/8/20",
          "5/9/20",
          "5/10/20",
          "5/11/20",
          "5/12/20",
          "5/13/20",
          "5/14/20",
          "5/15/20",
          "5/16/20",
          "5/17/20",
          "5/18/20",
          "5/19/20",
          "5/20/20",
          "5/21/20",
          "5/22/20",
          "5/23/20",
          "5/24/20",
          "5/25/20",
          "5/26/20",
          "5/27/20",
          "5/28/20",
          "5/29/20",
          "5/30/20",
          "5/31/20",
          "6/1/20",
          "6/2/20",
          "6/3/20",
          "6/4/20",
          "6/5/20",
          "6/6/20",
          "6/7/20",
          "6/8/20",
          "6/9/20",
          "6/10/20",
          "6/11/20",
          "6/12/20",
          "6/13/20",
          "6/14/20",
          "6/15/20",
          "6/16/20",
          "6/17/20",
          "6/18/20",
          "6/19/20",
          "6/20/20",
          "6/21/20",
          "6/22/20",
          "6/23/20",
          "6/24/20",
          "6/25/20",
          "6/26/20",
          "6/27/20",
          "6/28/20",
          "6/29/20",
          "6/30/20",
          "7/1/20",
          "7/2/20",
          "7/3/20",
          "7/4/20",
          "7/5/20",
          "7/6/20",
          "7/7/20",
          "7/8/20",
          "7/9/20",
          "7/10/20",
          "7/11/20",
          "7/12/20",
          "7/13/20",
          "7/14/20",
          "7/15/20",
          "7/16/20",
          "7/17/20",
          "7/18/20",
          "7/19/20",
          "7/20/20",
          "7/21/20",
          "7/22/20",
          "7/23/20",
          "7/24/20",
          "7/25/20",
          "7/26/20",
          "7/27/20",
          "7/28/20",
          "7/29/20",
          "7/30/20",
          "7/31/20",
          "8/1/20",
          "8/2/20",
          "8/3/20",
          "8/4/20",
          "8/5/20",
          "8/6/20",
          "8/7/20",
          "8/8/20",
          "8/9/20",
          "8/10/20",
          "8/11/20",
          "8/12/20",
          "8/13/20",
          "8/14/20",
          "8/15/20",
          "8/16/20",
          "8/17/20",
          "8/18/20",
          "8/19/20",
          "8/20/20",
          "8/21/20",
          "8/22/20",
          "8/23/20",
          "8/24/20",
          "8/25/20",
          "8/26/20",
          "8/27/20",
          "8/28/20",
          "8/29/20",
          "8/30/20",
          "8/31/20",
          "9/1/20",
          "9/2/20",
          "9/3/20",
          "9/4/20",
          "9/5/20",
          "9/6/20",
          "9/7/20",
          "9/8/20",
          "9/9/20",
          "9/10/20",
          "9/11/20",
          "9/12/20",
          "9/13/20",
          "9/14/20",
          "9/15/20",
          "9/16/20",
          "9/17/20",
          "9/18/20",
          "9/19/20",
          "9/20/20",
          "9/21/20",
          "9/22/20",
          "9/23/20",
          "9/24/20",
          "9/25/20",
          "9/26/20",
          "9/27/20",
          "9/28/20",
          "9/29/20",
          "9/30/20",
          "10/1/20",
          "10/2/20",
          "10/3/20",
          "10/4/20",
          "10/5/20",
          "10/6/20",
          "10/7/20",
          "10/8/20",
          "10/9/20",
          "10/10/20",
          "10/11/20",
          "10/12/20",
          "10/13/20",
          "10/14/20",
          "10/15/20",
          "10/16/20",
          "10/17/20",
          "10/18/20",
          "10/19/20",
          "10/20/20",
          "10/21/20",
          "10/22/20",
          "10/23/20",
          "10/24/20",
          "10/25/20",
          "10/26/20",
          "10/27/20",
          "10/28/20",
          "10/29/20",
          "10/30/20",
          "10/31/20",
          "11/1/20",
          "11/2/20",
          "11/3/20",
          "11/4/20",
          "11/5/20",
          "11/6/20",
          "11/7/20",
          "11/8/20",
          "11/9/20",
          "11/10/20",
          "11/11/20",
          "11/12/20",
          "11/13/20",
          "11/14/20",
          "11/15/20",
          "11/16/20",
          "11/17/20",
          "11/18/20",
          "11/19/20",
          "11/20/20",
          "11/21/20",
          "11/22/20",
          "11/23/20",
          "11/24/20",
          "11/25/20",
          "11/26/20",
          "11/27/20",
          "11/28/20",
          "11/29/20",
          "11/30/20",
          "12/1/20",
          "12/2/20",
          "12/3/20",
          "12/4/20",
          "12/5/20",
          "12/6/20"
         ],
         "xaxis": "x",
         "y": [
          0,
          0,
          0,
          0,
          0,
          0,
          0,
          0,
          0,
          0,
          0,
          0,
          0,
          0,
          0,
          0,
          0,
          0,
          0,
          0,
          0,
          0,
          0,
          0,
          0,
          0,
          0,
          0,
          0,
          0,
          0,
          0,
          0,
          0,
          0,
          0,
          0,
          0,
          0,
          0,
          0,
          0,
          0,
          0,
          0,
          0,
          0,
          0,
          0,
          3,
          4,
          8,
          15,
          28,
          36,
          51,
          61,
          88,
          115,
          149,
          180,
          224,
          298,
          472,
          574,
          684,
          801,
          880,
          1001,
          1063,
          1175,
          1371,
          1606,
          1727,
          1905,
          2079,
          2308,
          2614,
          2954,
          3112,
          3346,
          3667,
          3870,
          4041,
          4307,
          4465,
          4557,
          4788,
          4978,
          5163,
          5404,
          5692,
          5899,
          6092,
          6274,
          6475,
          6621,
          6820,
          6979,
          7187,
          7440,
          7700,
          7977,
          8203,
          8520,
          8769,
          9115,
          9437,
          9720,
          9982,
          10262,
          10566,
          10822,
          11161,
          11494,
          11828,
          12137,
          12438,
          12825,
          13186,
          13590,
          13954,
          14328,
          14676,
          15309,
          15899,
          16263,
          16749,
          17262,
          17689,
          18200,
          18525,
          18734,
          18954,
          19262,
          19910,
          20355,
          20777,
          21268,
          21834,
          22659,
          23370,
          24405,
          25364,
          26182,
          26485,
          27034,
          27941,
          28676,
          29225,
          29683,
          30122,
          30771,
          31889,
          32878,
          33880,
          34903,
          35083,
          36503,
          37589,
          38477,
          39647,
          41340,
          42255,
          43216,
          44022,
          44932,
          46348,
          48149,
          49695,
          51329,
          52802,
          54781,
          56168,
          58284,
          60194,
          62128,
          64152,
          66181,
          67733,
          69236,
          70600,
          72594,
          74685,
          76795,
          78188,
          79948,
          81256,
          82698,
          84652,
          86664,
          88266,
          90299,
          91458,
          92502,
          93457,
          95323,
          97044,
          98895,
          99854,
          101466,
          102391,
          103485,
          104219,
          104976,
          106096,
          106926,
          107667,
          109092,
          110415,
          111696,
          112737,
          114212,
          114809,
          115485,
          116045,
          118190,
          119904,
          121041,
          122879,
          124155,
          124944,
          126500,
          127234,
          128240,
          129225,
          130373,
          130914,
          131690,
          132221,
          133005,
          134061,
          135138,
          136107,
          137166,
          137861,
          138619,
          139660,
          140423,
          141454,
          142768,
          143578,
          144325,
          145202,
          145859,
          146897,
          149263,
          150239,
          150965,
          151604,
          152350,
          153584,
          154772,
          155727,
          157402,
          158181,
          158717,
          159476,
          160485,
          161085,
          162683,
          163897,
          164698,
          165414,
          166514,
          167396,
          168620,
          169845,
          171157,
          172137,
          173002,
          174078,
          175210,
          176605,
          180437,
          182567,
          183831,
          184723,
          185938,
          187267,
          188775,
          190113,
          191932,
          193613,
          194458,
          195692,
          197504,
          198927,
          200528,
          202131,
          203518,
          204665,
          206523,
          206562,
          208637,
          210637,
          213617,
          215843,
          217822,
          219232,
          220848,
          223486,
          225910,
          228373,
          230708,
          232506,
          234080,
          236865,
          239318,
          241957,
          242874,
          244993,
          247229,
          249524,
          252900,
          256828,
          260359,
          264199,
          267589,
          269877
         ],
         "yaxis": "y"
        }
       ],
       "layout": {
        "legend": {
         "tracegroupgap": 0
        },
        "margin": {
         "t": 60
        },
        "template": {
         "data": {
          "bar": [
           {
            "error_x": {
             "color": "#2a3f5f"
            },
            "error_y": {
             "color": "#2a3f5f"
            },
            "marker": {
             "line": {
              "color": "#E5ECF6",
              "width": 0.5
             }
            },
            "type": "bar"
           }
          ],
          "barpolar": [
           {
            "marker": {
             "line": {
              "color": "#E5ECF6",
              "width": 0.5
             }
            },
            "type": "barpolar"
           }
          ],
          "carpet": [
           {
            "aaxis": {
             "endlinecolor": "#2a3f5f",
             "gridcolor": "white",
             "linecolor": "white",
             "minorgridcolor": "white",
             "startlinecolor": "#2a3f5f"
            },
            "baxis": {
             "endlinecolor": "#2a3f5f",
             "gridcolor": "white",
             "linecolor": "white",
             "minorgridcolor": "white",
             "startlinecolor": "#2a3f5f"
            },
            "type": "carpet"
           }
          ],
          "choropleth": [
           {
            "colorbar": {
             "outlinewidth": 0,
             "ticks": ""
            },
            "type": "choropleth"
           }
          ],
          "contour": [
           {
            "colorbar": {
             "outlinewidth": 0,
             "ticks": ""
            },
            "colorscale": [
             [
              0,
              "#0d0887"
             ],
             [
              0.1111111111111111,
              "#46039f"
             ],
             [
              0.2222222222222222,
              "#7201a8"
             ],
             [
              0.3333333333333333,
              "#9c179e"
             ],
             [
              0.4444444444444444,
              "#bd3786"
             ],
             [
              0.5555555555555556,
              "#d8576b"
             ],
             [
              0.6666666666666666,
              "#ed7953"
             ],
             [
              0.7777777777777778,
              "#fb9f3a"
             ],
             [
              0.8888888888888888,
              "#fdca26"
             ],
             [
              1,
              "#f0f921"
             ]
            ],
            "type": "contour"
           }
          ],
          "contourcarpet": [
           {
            "colorbar": {
             "outlinewidth": 0,
             "ticks": ""
            },
            "type": "contourcarpet"
           }
          ],
          "heatmap": [
           {
            "colorbar": {
             "outlinewidth": 0,
             "ticks": ""
            },
            "colorscale": [
             [
              0,
              "#0d0887"
             ],
             [
              0.1111111111111111,
              "#46039f"
             ],
             [
              0.2222222222222222,
              "#7201a8"
             ],
             [
              0.3333333333333333,
              "#9c179e"
             ],
             [
              0.4444444444444444,
              "#bd3786"
             ],
             [
              0.5555555555555556,
              "#d8576b"
             ],
             [
              0.6666666666666666,
              "#ed7953"
             ],
             [
              0.7777777777777778,
              "#fb9f3a"
             ],
             [
              0.8888888888888888,
              "#fdca26"
             ],
             [
              1,
              "#f0f921"
             ]
            ],
            "type": "heatmap"
           }
          ],
          "heatmapgl": [
           {
            "colorbar": {
             "outlinewidth": 0,
             "ticks": ""
            },
            "colorscale": [
             [
              0,
              "#0d0887"
             ],
             [
              0.1111111111111111,
              "#46039f"
             ],
             [
              0.2222222222222222,
              "#7201a8"
             ],
             [
              0.3333333333333333,
              "#9c179e"
             ],
             [
              0.4444444444444444,
              "#bd3786"
             ],
             [
              0.5555555555555556,
              "#d8576b"
             ],
             [
              0.6666666666666666,
              "#ed7953"
             ],
             [
              0.7777777777777778,
              "#fb9f3a"
             ],
             [
              0.8888888888888888,
              "#fdca26"
             ],
             [
              1,
              "#f0f921"
             ]
            ],
            "type": "heatmapgl"
           }
          ],
          "histogram": [
           {
            "marker": {
             "colorbar": {
              "outlinewidth": 0,
              "ticks": ""
             }
            },
            "type": "histogram"
           }
          ],
          "histogram2d": [
           {
            "colorbar": {
             "outlinewidth": 0,
             "ticks": ""
            },
            "colorscale": [
             [
              0,
              "#0d0887"
             ],
             [
              0.1111111111111111,
              "#46039f"
             ],
             [
              0.2222222222222222,
              "#7201a8"
             ],
             [
              0.3333333333333333,
              "#9c179e"
             ],
             [
              0.4444444444444444,
              "#bd3786"
             ],
             [
              0.5555555555555556,
              "#d8576b"
             ],
             [
              0.6666666666666666,
              "#ed7953"
             ],
             [
              0.7777777777777778,
              "#fb9f3a"
             ],
             [
              0.8888888888888888,
              "#fdca26"
             ],
             [
              1,
              "#f0f921"
             ]
            ],
            "type": "histogram2d"
           }
          ],
          "histogram2dcontour": [
           {
            "colorbar": {
             "outlinewidth": 0,
             "ticks": ""
            },
            "colorscale": [
             [
              0,
              "#0d0887"
             ],
             [
              0.1111111111111111,
              "#46039f"
             ],
             [
              0.2222222222222222,
              "#7201a8"
             ],
             [
              0.3333333333333333,
              "#9c179e"
             ],
             [
              0.4444444444444444,
              "#bd3786"
             ],
             [
              0.5555555555555556,
              "#d8576b"
             ],
             [
              0.6666666666666666,
              "#ed7953"
             ],
             [
              0.7777777777777778,
              "#fb9f3a"
             ],
             [
              0.8888888888888888,
              "#fdca26"
             ],
             [
              1,
              "#f0f921"
             ]
            ],
            "type": "histogram2dcontour"
           }
          ],
          "mesh3d": [
           {
            "colorbar": {
             "outlinewidth": 0,
             "ticks": ""
            },
            "type": "mesh3d"
           }
          ],
          "parcoords": [
           {
            "line": {
             "colorbar": {
              "outlinewidth": 0,
              "ticks": ""
             }
            },
            "type": "parcoords"
           }
          ],
          "pie": [
           {
            "automargin": true,
            "type": "pie"
           }
          ],
          "scatter": [
           {
            "marker": {
             "colorbar": {
              "outlinewidth": 0,
              "ticks": ""
             }
            },
            "type": "scatter"
           }
          ],
          "scatter3d": [
           {
            "line": {
             "colorbar": {
              "outlinewidth": 0,
              "ticks": ""
             }
            },
            "marker": {
             "colorbar": {
              "outlinewidth": 0,
              "ticks": ""
             }
            },
            "type": "scatter3d"
           }
          ],
          "scattercarpet": [
           {
            "marker": {
             "colorbar": {
              "outlinewidth": 0,
              "ticks": ""
             }
            },
            "type": "scattercarpet"
           }
          ],
          "scattergeo": [
           {
            "marker": {
             "colorbar": {
              "outlinewidth": 0,
              "ticks": ""
             }
            },
            "type": "scattergeo"
           }
          ],
          "scattergl": [
           {
            "marker": {
             "colorbar": {
              "outlinewidth": 0,
              "ticks": ""
             }
            },
            "type": "scattergl"
           }
          ],
          "scattermapbox": [
           {
            "marker": {
             "colorbar": {
              "outlinewidth": 0,
              "ticks": ""
             }
            },
            "type": "scattermapbox"
           }
          ],
          "scatterpolar": [
           {
            "marker": {
             "colorbar": {
              "outlinewidth": 0,
              "ticks": ""
             }
            },
            "type": "scatterpolar"
           }
          ],
          "scatterpolargl": [
           {
            "marker": {
             "colorbar": {
              "outlinewidth": 0,
              "ticks": ""
             }
            },
            "type": "scatterpolargl"
           }
          ],
          "scatterternary": [
           {
            "marker": {
             "colorbar": {
              "outlinewidth": 0,
              "ticks": ""
             }
            },
            "type": "scatterternary"
           }
          ],
          "surface": [
           {
            "colorbar": {
             "outlinewidth": 0,
             "ticks": ""
            },
            "colorscale": [
             [
              0,
              "#0d0887"
             ],
             [
              0.1111111111111111,
              "#46039f"
             ],
             [
              0.2222222222222222,
              "#7201a8"
             ],
             [
              0.3333333333333333,
              "#9c179e"
             ],
             [
              0.4444444444444444,
              "#bd3786"
             ],
             [
              0.5555555555555556,
              "#d8576b"
             ],
             [
              0.6666666666666666,
              "#ed7953"
             ],
             [
              0.7777777777777778,
              "#fb9f3a"
             ],
             [
              0.8888888888888888,
              "#fdca26"
             ],
             [
              1,
              "#f0f921"
             ]
            ],
            "type": "surface"
           }
          ],
          "table": [
           {
            "cells": {
             "fill": {
              "color": "#EBF0F8"
             },
             "line": {
              "color": "white"
             }
            },
            "header": {
             "fill": {
              "color": "#C8D4E3"
             },
             "line": {
              "color": "white"
             }
            },
            "type": "table"
           }
          ]
         },
         "layout": {
          "annotationdefaults": {
           "arrowcolor": "#2a3f5f",
           "arrowhead": 0,
           "arrowwidth": 1
          },
          "coloraxis": {
           "colorbar": {
            "outlinewidth": 0,
            "ticks": ""
           }
          },
          "colorscale": {
           "diverging": [
            [
             0,
             "#8e0152"
            ],
            [
             0.1,
             "#c51b7d"
            ],
            [
             0.2,
             "#de77ae"
            ],
            [
             0.3,
             "#f1b6da"
            ],
            [
             0.4,
             "#fde0ef"
            ],
            [
             0.5,
             "#f7f7f7"
            ],
            [
             0.6,
             "#e6f5d0"
            ],
            [
             0.7,
             "#b8e186"
            ],
            [
             0.8,
             "#7fbc41"
            ],
            [
             0.9,
             "#4d9221"
            ],
            [
             1,
             "#276419"
            ]
           ],
           "sequential": [
            [
             0,
             "#0d0887"
            ],
            [
             0.1111111111111111,
             "#46039f"
            ],
            [
             0.2222222222222222,
             "#7201a8"
            ],
            [
             0.3333333333333333,
             "#9c179e"
            ],
            [
             0.4444444444444444,
             "#bd3786"
            ],
            [
             0.5555555555555556,
             "#d8576b"
            ],
            [
             0.6666666666666666,
             "#ed7953"
            ],
            [
             0.7777777777777778,
             "#fb9f3a"
            ],
            [
             0.8888888888888888,
             "#fdca26"
            ],
            [
             1,
             "#f0f921"
            ]
           ],
           "sequentialminus": [
            [
             0,
             "#0d0887"
            ],
            [
             0.1111111111111111,
             "#46039f"
            ],
            [
             0.2222222222222222,
             "#7201a8"
            ],
            [
             0.3333333333333333,
             "#9c179e"
            ],
            [
             0.4444444444444444,
             "#bd3786"
            ],
            [
             0.5555555555555556,
             "#d8576b"
            ],
            [
             0.6666666666666666,
             "#ed7953"
            ],
            [
             0.7777777777777778,
             "#fb9f3a"
            ],
            [
             0.8888888888888888,
             "#fdca26"
            ],
            [
             1,
             "#f0f921"
            ]
           ]
          },
          "colorway": [
           "#636efa",
           "#EF553B",
           "#00cc96",
           "#ab63fa",
           "#FFA15A",
           "#19d3f3",
           "#FF6692",
           "#B6E880",
           "#FF97FF",
           "#FECB52"
          ],
          "font": {
           "color": "#2a3f5f"
          },
          "geo": {
           "bgcolor": "white",
           "lakecolor": "white",
           "landcolor": "#E5ECF6",
           "showlakes": true,
           "showland": true,
           "subunitcolor": "white"
          },
          "hoverlabel": {
           "align": "left"
          },
          "hovermode": "closest",
          "mapbox": {
           "style": "light"
          },
          "paper_bgcolor": "white",
          "plot_bgcolor": "#E5ECF6",
          "polar": {
           "angularaxis": {
            "gridcolor": "white",
            "linecolor": "white",
            "ticks": ""
           },
           "bgcolor": "#E5ECF6",
           "radialaxis": {
            "gridcolor": "white",
            "linecolor": "white",
            "ticks": ""
           }
          },
          "scene": {
           "xaxis": {
            "backgroundcolor": "#E5ECF6",
            "gridcolor": "white",
            "gridwidth": 2,
            "linecolor": "white",
            "showbackground": true,
            "ticks": "",
            "zerolinecolor": "white"
           },
           "yaxis": {
            "backgroundcolor": "#E5ECF6",
            "gridcolor": "white",
            "gridwidth": 2,
            "linecolor": "white",
            "showbackground": true,
            "ticks": "",
            "zerolinecolor": "white"
           },
           "zaxis": {
            "backgroundcolor": "#E5ECF6",
            "gridcolor": "white",
            "gridwidth": 2,
            "linecolor": "white",
            "showbackground": true,
            "ticks": "",
            "zerolinecolor": "white"
           }
          },
          "shapedefaults": {
           "line": {
            "color": "#2a3f5f"
           }
          },
          "ternary": {
           "aaxis": {
            "gridcolor": "white",
            "linecolor": "white",
            "ticks": ""
           },
           "baxis": {
            "gridcolor": "white",
            "linecolor": "white",
            "ticks": ""
           },
           "bgcolor": "#E5ECF6",
           "caxis": {
            "gridcolor": "white",
            "linecolor": "white",
            "ticks": ""
           }
          },
          "title": {
           "x": 0.05
          },
          "xaxis": {
           "automargin": true,
           "gridcolor": "white",
           "linecolor": "white",
           "ticks": "",
           "title": {
            "standoff": 15
           },
           "zerolinecolor": "white",
           "zerolinewidth": 2
          },
          "yaxis": {
           "automargin": true,
           "gridcolor": "white",
           "linecolor": "white",
           "ticks": "",
           "title": {
            "standoff": 15
           },
           "zerolinecolor": "white",
           "zerolinewidth": 2
          }
         }
        },
        "xaxis": {
         "anchor": "y",
         "domain": [
          0,
          1
         ],
         "title": {
          "text": "x"
         }
        },
        "yaxis": {
         "anchor": "x",
         "domain": [
          0,
          1
         ],
         "title": {
          "text": "y"
         }
        }
       }
      },
      "text/html": [
       "<div>                            <div id=\"2dd78944-5790-4fb6-8e85-62687b37898b\" class=\"plotly-graph-div\" style=\"height:525px; width:100%;\"></div>            <script type=\"text/javascript\">                require([\"plotly\"], function(Plotly) {                    window.PLOTLYENV=window.PLOTLYENV || {};                                    if (document.getElementById(\"2dd78944-5790-4fb6-8e85-62687b37898b\")) {                    Plotly.newPlot(                        \"2dd78944-5790-4fb6-8e85-62687b37898b\",                        [{\"hovertemplate\": \"x=%{x}<br>y=%{y}<extra></extra>\", \"legendgroup\": \"\", \"line\": {\"color\": \"#636efa\", \"dash\": \"solid\"}, \"mode\": \"lines\", \"name\": \"\", \"orientation\": \"v\", \"showlegend\": false, \"type\": \"scatter\", \"x\": [\"1/22/20\", \"1/23/20\", \"1/24/20\", \"1/25/20\", \"1/26/20\", \"1/27/20\", \"1/28/20\", \"1/29/20\", \"1/30/20\", \"1/31/20\", \"2/1/20\", \"2/2/20\", \"2/3/20\", \"2/4/20\", \"2/5/20\", \"2/6/20\", \"2/7/20\", \"2/8/20\", \"2/9/20\", \"2/10/20\", \"2/11/20\", \"2/12/20\", \"2/13/20\", \"2/14/20\", \"2/15/20\", \"2/16/20\", \"2/17/20\", \"2/18/20\", \"2/19/20\", \"2/20/20\", \"2/21/20\", \"2/22/20\", \"2/23/20\", \"2/24/20\", \"2/25/20\", \"2/26/20\", \"2/27/20\", \"2/28/20\", \"2/29/20\", \"3/1/20\", \"3/2/20\", \"3/3/20\", \"3/4/20\", \"3/5/20\", \"3/6/20\", \"3/7/20\", \"3/8/20\", \"3/9/20\", \"3/10/20\", \"3/11/20\", \"3/12/20\", \"3/13/20\", \"3/14/20\", \"3/15/20\", \"3/16/20\", \"3/17/20\", \"3/18/20\", \"3/19/20\", \"3/20/20\", \"3/21/20\", \"3/22/20\", \"3/23/20\", \"3/24/20\", \"3/25/20\", \"3/26/20\", \"3/27/20\", \"3/28/20\", \"3/29/20\", \"3/30/20\", \"3/31/20\", \"4/1/20\", \"4/2/20\", \"4/3/20\", \"4/4/20\", \"4/5/20\", \"4/6/20\", \"4/7/20\", \"4/8/20\", \"4/9/20\", \"4/10/20\", \"4/11/20\", \"4/12/20\", \"4/13/20\", \"4/14/20\", \"4/15/20\", \"4/16/20\", \"4/17/20\", \"4/18/20\", \"4/19/20\", \"4/20/20\", \"4/21/20\", \"4/22/20\", \"4/23/20\", \"4/24/20\", \"4/25/20\", \"4/26/20\", \"4/27/20\", \"4/28/20\", \"4/29/20\", \"4/30/20\", \"5/1/20\", \"5/2/20\", \"5/3/20\", \"5/4/20\", \"5/5/20\", \"5/6/20\", \"5/7/20\", \"5/8/20\", \"5/9/20\", \"5/10/20\", \"5/11/20\", \"5/12/20\", \"5/13/20\", \"5/14/20\", \"5/15/20\", \"5/16/20\", \"5/17/20\", \"5/18/20\", \"5/19/20\", \"5/20/20\", \"5/21/20\", \"5/22/20\", \"5/23/20\", \"5/24/20\", \"5/25/20\", \"5/26/20\", \"5/27/20\", \"5/28/20\", \"5/29/20\", \"5/30/20\", \"5/31/20\", \"6/1/20\", \"6/2/20\", \"6/3/20\", \"6/4/20\", \"6/5/20\", \"6/6/20\", \"6/7/20\", \"6/8/20\", \"6/9/20\", \"6/10/20\", \"6/11/20\", \"6/12/20\", \"6/13/20\", \"6/14/20\", \"6/15/20\", \"6/16/20\", \"6/17/20\", \"6/18/20\", \"6/19/20\", \"6/20/20\", \"6/21/20\", \"6/22/20\", \"6/23/20\", \"6/24/20\", \"6/25/20\", \"6/26/20\", \"6/27/20\", \"6/28/20\", \"6/29/20\", \"6/30/20\", \"7/1/20\", \"7/2/20\", \"7/3/20\", \"7/4/20\", \"7/5/20\", \"7/6/20\", \"7/7/20\", \"7/8/20\", \"7/9/20\", \"7/10/20\", \"7/11/20\", \"7/12/20\", \"7/13/20\", \"7/14/20\", \"7/15/20\", \"7/16/20\", \"7/17/20\", \"7/18/20\", \"7/19/20\", \"7/20/20\", \"7/21/20\", \"7/22/20\", \"7/23/20\", \"7/24/20\", \"7/25/20\", \"7/26/20\", \"7/27/20\", \"7/28/20\", \"7/29/20\", \"7/30/20\", \"7/31/20\", \"8/1/20\", \"8/2/20\", \"8/3/20\", \"8/4/20\", \"8/5/20\", \"8/6/20\", \"8/7/20\", \"8/8/20\", \"8/9/20\", \"8/10/20\", \"8/11/20\", \"8/12/20\", \"8/13/20\", \"8/14/20\", \"8/15/20\", \"8/16/20\", \"8/17/20\", \"8/18/20\", \"8/19/20\", \"8/20/20\", \"8/21/20\", \"8/22/20\", \"8/23/20\", \"8/24/20\", \"8/25/20\", \"8/26/20\", \"8/27/20\", \"8/28/20\", \"8/29/20\", \"8/30/20\", \"8/31/20\", \"9/1/20\", \"9/2/20\", \"9/3/20\", \"9/4/20\", \"9/5/20\", \"9/6/20\", \"9/7/20\", \"9/8/20\", \"9/9/20\", \"9/10/20\", \"9/11/20\", \"9/12/20\", \"9/13/20\", \"9/14/20\", \"9/15/20\", \"9/16/20\", \"9/17/20\", \"9/18/20\", \"9/19/20\", \"9/20/20\", \"9/21/20\", \"9/22/20\", \"9/23/20\", \"9/24/20\", \"9/25/20\", \"9/26/20\", \"9/27/20\", \"9/28/20\", \"9/29/20\", \"9/30/20\", \"10/1/20\", \"10/2/20\", \"10/3/20\", \"10/4/20\", \"10/5/20\", \"10/6/20\", \"10/7/20\", \"10/8/20\", \"10/9/20\", \"10/10/20\", \"10/11/20\", \"10/12/20\", \"10/13/20\", \"10/14/20\", \"10/15/20\", \"10/16/20\", \"10/17/20\", \"10/18/20\", \"10/19/20\", \"10/20/20\", \"10/21/20\", \"10/22/20\", \"10/23/20\", \"10/24/20\", \"10/25/20\", \"10/26/20\", \"10/27/20\", \"10/28/20\", \"10/29/20\", \"10/30/20\", \"10/31/20\", \"11/1/20\", \"11/2/20\", \"11/3/20\", \"11/4/20\", \"11/5/20\", \"11/6/20\", \"11/7/20\", \"11/8/20\", \"11/9/20\", \"11/10/20\", \"11/11/20\", \"11/12/20\", \"11/13/20\", \"11/14/20\", \"11/15/20\", \"11/16/20\", \"11/17/20\", \"11/18/20\", \"11/19/20\", \"11/20/20\", \"11/21/20\", \"11/22/20\", \"11/23/20\", \"11/24/20\", \"11/25/20\", \"11/26/20\", \"11/27/20\", \"11/28/20\", \"11/29/20\", \"11/30/20\", \"12/1/20\", \"12/2/20\", \"12/3/20\", \"12/4/20\", \"12/5/20\", \"12/6/20\"], \"xaxis\": \"x\", \"y\": [0, 0, 0, 0, 0, 0, 0, 0, 0, 0, 0, 0, 0, 0, 0, 0, 0, 0, 0, 0, 0, 0, 0, 0, 0, 0, 0, 0, 0, 0, 0, 0, 0, 0, 0, 0, 0, 0, 0, 0, 0, 0, 0, 0, 0, 0, 0, 0, 0, 3, 4, 8, 15, 28, 36, 51, 61, 88, 115, 149, 180, 224, 298, 472, 574, 684, 801, 880, 1001, 1063, 1175, 1371, 1606, 1727, 1905, 2079, 2308, 2614, 2954, 3112, 3346, 3667, 3870, 4041, 4307, 4465, 4557, 4788, 4978, 5163, 5404, 5692, 5899, 6092, 6274, 6475, 6621, 6820, 6979, 7187, 7440, 7700, 7977, 8203, 8520, 8769, 9115, 9437, 9720, 9982, 10262, 10566, 10822, 11161, 11494, 11828, 12137, 12438, 12825, 13186, 13590, 13954, 14328, 14676, 15309, 15899, 16263, 16749, 17262, 17689, 18200, 18525, 18734, 18954, 19262, 19910, 20355, 20777, 21268, 21834, 22659, 23370, 24405, 25364, 26182, 26485, 27034, 27941, 28676, 29225, 29683, 30122, 30771, 31889, 32878, 33880, 34903, 35083, 36503, 37589, 38477, 39647, 41340, 42255, 43216, 44022, 44932, 46348, 48149, 49695, 51329, 52802, 54781, 56168, 58284, 60194, 62128, 64152, 66181, 67733, 69236, 70600, 72594, 74685, 76795, 78188, 79948, 81256, 82698, 84652, 86664, 88266, 90299, 91458, 92502, 93457, 95323, 97044, 98895, 99854, 101466, 102391, 103485, 104219, 104976, 106096, 106926, 107667, 109092, 110415, 111696, 112737, 114212, 114809, 115485, 116045, 118190, 119904, 121041, 122879, 124155, 124944, 126500, 127234, 128240, 129225, 130373, 130914, 131690, 132221, 133005, 134061, 135138, 136107, 137166, 137861, 138619, 139660, 140423, 141454, 142768, 143578, 144325, 145202, 145859, 146897, 149263, 150239, 150965, 151604, 152350, 153584, 154772, 155727, 157402, 158181, 158717, 159476, 160485, 161085, 162683, 163897, 164698, 165414, 166514, 167396, 168620, 169845, 171157, 172137, 173002, 174078, 175210, 176605, 180437, 182567, 183831, 184723, 185938, 187267, 188775, 190113, 191932, 193613, 194458, 195692, 197504, 198927, 200528, 202131, 203518, 204665, 206523, 206562, 208637, 210637, 213617, 215843, 217822, 219232, 220848, 223486, 225910, 228373, 230708, 232506, 234080, 236865, 239318, 241957, 242874, 244993, 247229, 249524, 252900, 256828, 260359, 264199, 267589, 269877], \"yaxis\": \"y\"}],                        {\"legend\": {\"tracegroupgap\": 0}, \"margin\": {\"t\": 60}, \"template\": {\"data\": {\"bar\": [{\"error_x\": {\"color\": \"#2a3f5f\"}, \"error_y\": {\"color\": \"#2a3f5f\"}, \"marker\": {\"line\": {\"color\": \"#E5ECF6\", \"width\": 0.5}}, \"type\": \"bar\"}], \"barpolar\": [{\"marker\": {\"line\": {\"color\": \"#E5ECF6\", \"width\": 0.5}}, \"type\": \"barpolar\"}], \"carpet\": [{\"aaxis\": {\"endlinecolor\": \"#2a3f5f\", \"gridcolor\": \"white\", \"linecolor\": \"white\", \"minorgridcolor\": \"white\", \"startlinecolor\": \"#2a3f5f\"}, \"baxis\": {\"endlinecolor\": \"#2a3f5f\", \"gridcolor\": \"white\", \"linecolor\": \"white\", \"minorgridcolor\": \"white\", \"startlinecolor\": \"#2a3f5f\"}, \"type\": \"carpet\"}], \"choropleth\": [{\"colorbar\": {\"outlinewidth\": 0, \"ticks\": \"\"}, \"type\": \"choropleth\"}], \"contour\": [{\"colorbar\": {\"outlinewidth\": 0, \"ticks\": \"\"}, \"colorscale\": [[0.0, \"#0d0887\"], [0.1111111111111111, \"#46039f\"], [0.2222222222222222, \"#7201a8\"], [0.3333333333333333, \"#9c179e\"], [0.4444444444444444, \"#bd3786\"], [0.5555555555555556, \"#d8576b\"], [0.6666666666666666, \"#ed7953\"], [0.7777777777777778, \"#fb9f3a\"], [0.8888888888888888, \"#fdca26\"], [1.0, \"#f0f921\"]], \"type\": \"contour\"}], \"contourcarpet\": [{\"colorbar\": {\"outlinewidth\": 0, \"ticks\": \"\"}, \"type\": \"contourcarpet\"}], \"heatmap\": [{\"colorbar\": {\"outlinewidth\": 0, \"ticks\": \"\"}, \"colorscale\": [[0.0, \"#0d0887\"], [0.1111111111111111, \"#46039f\"], [0.2222222222222222, \"#7201a8\"], [0.3333333333333333, \"#9c179e\"], [0.4444444444444444, \"#bd3786\"], [0.5555555555555556, \"#d8576b\"], [0.6666666666666666, \"#ed7953\"], [0.7777777777777778, \"#fb9f3a\"], [0.8888888888888888, \"#fdca26\"], [1.0, \"#f0f921\"]], \"type\": \"heatmap\"}], \"heatmapgl\": [{\"colorbar\": {\"outlinewidth\": 0, \"ticks\": \"\"}, \"colorscale\": [[0.0, \"#0d0887\"], [0.1111111111111111, \"#46039f\"], [0.2222222222222222, \"#7201a8\"], [0.3333333333333333, \"#9c179e\"], [0.4444444444444444, \"#bd3786\"], [0.5555555555555556, \"#d8576b\"], [0.6666666666666666, \"#ed7953\"], [0.7777777777777778, \"#fb9f3a\"], [0.8888888888888888, \"#fdca26\"], [1.0, \"#f0f921\"]], \"type\": \"heatmapgl\"}], \"histogram\": [{\"marker\": {\"colorbar\": {\"outlinewidth\": 0, \"ticks\": \"\"}}, \"type\": \"histogram\"}], \"histogram2d\": [{\"colorbar\": {\"outlinewidth\": 0, \"ticks\": \"\"}, \"colorscale\": [[0.0, \"#0d0887\"], [0.1111111111111111, \"#46039f\"], [0.2222222222222222, \"#7201a8\"], [0.3333333333333333, \"#9c179e\"], [0.4444444444444444, \"#bd3786\"], [0.5555555555555556, \"#d8576b\"], [0.6666666666666666, \"#ed7953\"], [0.7777777777777778, \"#fb9f3a\"], [0.8888888888888888, \"#fdca26\"], [1.0, \"#f0f921\"]], \"type\": \"histogram2d\"}], \"histogram2dcontour\": [{\"colorbar\": {\"outlinewidth\": 0, \"ticks\": \"\"}, \"colorscale\": [[0.0, \"#0d0887\"], [0.1111111111111111, \"#46039f\"], [0.2222222222222222, \"#7201a8\"], [0.3333333333333333, \"#9c179e\"], [0.4444444444444444, \"#bd3786\"], [0.5555555555555556, \"#d8576b\"], [0.6666666666666666, \"#ed7953\"], [0.7777777777777778, \"#fb9f3a\"], [0.8888888888888888, \"#fdca26\"], [1.0, \"#f0f921\"]], \"type\": \"histogram2dcontour\"}], \"mesh3d\": [{\"colorbar\": {\"outlinewidth\": 0, \"ticks\": \"\"}, \"type\": \"mesh3d\"}], \"parcoords\": [{\"line\": {\"colorbar\": {\"outlinewidth\": 0, \"ticks\": \"\"}}, \"type\": \"parcoords\"}], \"pie\": [{\"automargin\": true, \"type\": \"pie\"}], \"scatter\": [{\"marker\": {\"colorbar\": {\"outlinewidth\": 0, \"ticks\": \"\"}}, \"type\": \"scatter\"}], \"scatter3d\": [{\"line\": {\"colorbar\": {\"outlinewidth\": 0, \"ticks\": \"\"}}, \"marker\": {\"colorbar\": {\"outlinewidth\": 0, \"ticks\": \"\"}}, \"type\": \"scatter3d\"}], \"scattercarpet\": [{\"marker\": {\"colorbar\": {\"outlinewidth\": 0, \"ticks\": \"\"}}, \"type\": \"scattercarpet\"}], \"scattergeo\": [{\"marker\": {\"colorbar\": {\"outlinewidth\": 0, \"ticks\": \"\"}}, \"type\": \"scattergeo\"}], \"scattergl\": [{\"marker\": {\"colorbar\": {\"outlinewidth\": 0, \"ticks\": \"\"}}, \"type\": \"scattergl\"}], \"scattermapbox\": [{\"marker\": {\"colorbar\": {\"outlinewidth\": 0, \"ticks\": \"\"}}, \"type\": \"scattermapbox\"}], \"scatterpolar\": [{\"marker\": {\"colorbar\": {\"outlinewidth\": 0, \"ticks\": \"\"}}, \"type\": \"scatterpolar\"}], \"scatterpolargl\": [{\"marker\": {\"colorbar\": {\"outlinewidth\": 0, \"ticks\": \"\"}}, \"type\": \"scatterpolargl\"}], \"scatterternary\": [{\"marker\": {\"colorbar\": {\"outlinewidth\": 0, \"ticks\": \"\"}}, \"type\": \"scatterternary\"}], \"surface\": [{\"colorbar\": {\"outlinewidth\": 0, \"ticks\": \"\"}, \"colorscale\": [[0.0, \"#0d0887\"], [0.1111111111111111, \"#46039f\"], [0.2222222222222222, \"#7201a8\"], [0.3333333333333333, \"#9c179e\"], [0.4444444444444444, \"#bd3786\"], [0.5555555555555556, \"#d8576b\"], [0.6666666666666666, \"#ed7953\"], [0.7777777777777778, \"#fb9f3a\"], [0.8888888888888888, \"#fdca26\"], [1.0, \"#f0f921\"]], \"type\": \"surface\"}], \"table\": [{\"cells\": {\"fill\": {\"color\": \"#EBF0F8\"}, \"line\": {\"color\": \"white\"}}, \"header\": {\"fill\": {\"color\": \"#C8D4E3\"}, \"line\": {\"color\": \"white\"}}, \"type\": \"table\"}]}, \"layout\": {\"annotationdefaults\": {\"arrowcolor\": \"#2a3f5f\", \"arrowhead\": 0, \"arrowwidth\": 1}, \"coloraxis\": {\"colorbar\": {\"outlinewidth\": 0, \"ticks\": \"\"}}, \"colorscale\": {\"diverging\": [[0, \"#8e0152\"], [0.1, \"#c51b7d\"], [0.2, \"#de77ae\"], [0.3, \"#f1b6da\"], [0.4, \"#fde0ef\"], [0.5, \"#f7f7f7\"], [0.6, \"#e6f5d0\"], [0.7, \"#b8e186\"], [0.8, \"#7fbc41\"], [0.9, \"#4d9221\"], [1, \"#276419\"]], \"sequential\": [[0.0, \"#0d0887\"], [0.1111111111111111, \"#46039f\"], [0.2222222222222222, \"#7201a8\"], [0.3333333333333333, \"#9c179e\"], [0.4444444444444444, \"#bd3786\"], [0.5555555555555556, \"#d8576b\"], [0.6666666666666666, \"#ed7953\"], [0.7777777777777778, \"#fb9f3a\"], [0.8888888888888888, \"#fdca26\"], [1.0, \"#f0f921\"]], \"sequentialminus\": [[0.0, \"#0d0887\"], [0.1111111111111111, \"#46039f\"], [0.2222222222222222, \"#7201a8\"], [0.3333333333333333, \"#9c179e\"], [0.4444444444444444, \"#bd3786\"], [0.5555555555555556, \"#d8576b\"], [0.6666666666666666, \"#ed7953\"], [0.7777777777777778, \"#fb9f3a\"], [0.8888888888888888, \"#fdca26\"], [1.0, \"#f0f921\"]]}, \"colorway\": [\"#636efa\", \"#EF553B\", \"#00cc96\", \"#ab63fa\", \"#FFA15A\", \"#19d3f3\", \"#FF6692\", \"#B6E880\", \"#FF97FF\", \"#FECB52\"], \"font\": {\"color\": \"#2a3f5f\"}, \"geo\": {\"bgcolor\": \"white\", \"lakecolor\": \"white\", \"landcolor\": \"#E5ECF6\", \"showlakes\": true, \"showland\": true, \"subunitcolor\": \"white\"}, \"hoverlabel\": {\"align\": \"left\"}, \"hovermode\": \"closest\", \"mapbox\": {\"style\": \"light\"}, \"paper_bgcolor\": \"white\", \"plot_bgcolor\": \"#E5ECF6\", \"polar\": {\"angularaxis\": {\"gridcolor\": \"white\", \"linecolor\": \"white\", \"ticks\": \"\"}, \"bgcolor\": \"#E5ECF6\", \"radialaxis\": {\"gridcolor\": \"white\", \"linecolor\": \"white\", \"ticks\": \"\"}}, \"scene\": {\"xaxis\": {\"backgroundcolor\": \"#E5ECF6\", \"gridcolor\": \"white\", \"gridwidth\": 2, \"linecolor\": \"white\", \"showbackground\": true, \"ticks\": \"\", \"zerolinecolor\": \"white\"}, \"yaxis\": {\"backgroundcolor\": \"#E5ECF6\", \"gridcolor\": \"white\", \"gridwidth\": 2, \"linecolor\": \"white\", \"showbackground\": true, \"ticks\": \"\", \"zerolinecolor\": \"white\"}, \"zaxis\": {\"backgroundcolor\": \"#E5ECF6\", \"gridcolor\": \"white\", \"gridwidth\": 2, \"linecolor\": \"white\", \"showbackground\": true, \"ticks\": \"\", \"zerolinecolor\": \"white\"}}, \"shapedefaults\": {\"line\": {\"color\": \"#2a3f5f\"}}, \"ternary\": {\"aaxis\": {\"gridcolor\": \"white\", \"linecolor\": \"white\", \"ticks\": \"\"}, \"baxis\": {\"gridcolor\": \"white\", \"linecolor\": \"white\", \"ticks\": \"\"}, \"bgcolor\": \"#E5ECF6\", \"caxis\": {\"gridcolor\": \"white\", \"linecolor\": \"white\", \"ticks\": \"\"}}, \"title\": {\"x\": 0.05}, \"xaxis\": {\"automargin\": true, \"gridcolor\": \"white\", \"linecolor\": \"white\", \"ticks\": \"\", \"title\": {\"standoff\": 15}, \"zerolinecolor\": \"white\", \"zerolinewidth\": 2}, \"yaxis\": {\"automargin\": true, \"gridcolor\": \"white\", \"linecolor\": \"white\", \"ticks\": \"\", \"title\": {\"standoff\": 15}, \"zerolinecolor\": \"white\", \"zerolinewidth\": 2}}}, \"xaxis\": {\"anchor\": \"y\", \"domain\": [0.0, 1.0], \"title\": {\"text\": \"x\"}}, \"yaxis\": {\"anchor\": \"x\", \"domain\": [0.0, 1.0], \"title\": {\"text\": \"y\"}}},                        {\"responsive\": true}                    ).then(function(){\n",
       "                            \n",
       "var gd = document.getElementById('2dd78944-5790-4fb6-8e85-62687b37898b');\n",
       "var x = new MutationObserver(function (mutations, observer) {{\n",
       "        var display = window.getComputedStyle(gd).display;\n",
       "        if (!display || display === 'none') {{\n",
       "            console.log([gd, 'removed!']);\n",
       "            Plotly.purge(gd);\n",
       "            observer.disconnect();\n",
       "        }}\n",
       "}});\n",
       "\n",
       "// Listen for the removal of the full notebook cells\n",
       "var notebookContainer = gd.closest('#notebook-container');\n",
       "if (notebookContainer) {{\n",
       "    x.observe(notebookContainer, {childList: true});\n",
       "}}\n",
       "\n",
       "// Listen for the clearing of the current output cell\n",
       "var outputEl = gd.closest('.output');\n",
       "if (outputEl) {{\n",
       "    x.observe(outputEl, {childList: true});\n",
       "}}\n",
       "\n",
       "                        })                };                });            </script>        </div>"
      ]
     },
     "metadata": {},
     "output_type": "display_data"
    }
   ],
   "source": [
    "px.line(x=onestate.index, y=onestate)"
   ]
  },
  {
   "cell_type": "code",
   "execution_count": 10,
   "metadata": {},
   "outputs": [],
   "source": [
    "px.set_mapbox_access_token(open(\".mapbox_token\").read())\n",
    "fig = px.scatter_mapbox(df_usa,\n",
    "                        lat=\"Lat\",\n",
    "                        lon=\"Long_\",\n",
    "                        zoom=1)"
   ]
  },
  {
   "cell_type": "code",
   "execution_count": 11,
   "metadata": {},
   "outputs": [
    {
     "data": {
      "application/vnd.plotly.v1+json": {
       "config": {
        "plotlyServerURL": "https://plot.ly"
       },
       "data": [
        {
         "hovertemplate": "Lat=%{lat}<br>Long_=%{lon}<extra></extra>",
         "lat": [
          32.53952745,
          30.72774991,
          31.868263,
          32.99642064,
          33.98210918,
          32.10030533,
          31.75300095,
          33.77483727,
          32.91360079,
          34.17805983,
          32.85044126,
          32.02227341,
          31.68099859,
          33.26984193,
          33.67679204,
          31.39932826,
          34.69847452,
          31.43401703,
          32.93690146,
          31.247785399999998,
          31.72941803,
          34.13020303,
          31.43037123,
          32.32688101,
          34.45946862,
          32.59785413,
          31.1256789,
          34.04567266,
          33.72076938,
          34.44235334,
          31.09389027,
          32.85504247,
          32.76039258,
          31.51148016,
          31.15197924,
          34.78144169,
          33.55554728,
          33.77995024,
          34.90171875,
          34.52041498,
          32.60154883,
          34.81185586,
          32.1597283,
          32.38759944,
          34.76327133,
          32.24767634,
          34.13697363,
          34.36975964,
          30.78472347,
          31.56729412,
          32.2206831,
          34.45500589,
          0,
          32.64048341,
          33.28094866,
          31.80396383,
          33.29526734,
          32.28725256,
          33.26879845,
          33.71902176,
          32.59117397,
          33.37823223,
          32.86698258,
          33.28726072,
          0,
          33.80270512,
          31.4092794,
          31.98773215,
          34.15030532,
          55.32222414,
          52.3233,
          61.14998174,
          60.90980451,
          58.74513976,
          58.62403337,
          63.67264044,
          59.79603738,
          64.80726247,
          59.09893571,
          58.29307365,
          58.45031811,
          60.24429722,
          55.57445008,
          57.65529415,
          62.15429159999999,
          62.31305045,
          64.90320724,
          69.31479216,
          67.04919196,
          0,
          57.13978948,
          55.76261984,
          57.24124555,
          59.56149996,
          63.87692095,
          0,
          61.47502768,
          56.3202004,
          59.890980799999994,
          65.50815459,
          -14.270999999999999,
          35.39465006,
          31.87934684,
          35.83883429,
          33.80190085,
          32.93166885,
          33.21498827,
          33.72854224,
          33.34835867,
          35.70471703,
          35.3997715,
          0,
          32.0971334,
          32.90525627,
          31.52508998,
          0,
          34.59933926,
          32.76895712,
          34.29145151,
          33.19153461,
          36.28784385,
          36.33644656,
          36.3084504,
          33.46755808,
          33.55598792,
          36.34038560000001,
          33.26458973,
          34.04613432,
          36.36826212,
          35.53864922,
          33.89723187,
          33.21230701,
          35.26205537,
          35.83018283,
          35.58928601,
          35.21247318,
          35.29631396,
          33.97042763,
          33.83011025,
          33.59035001,
          35.14719007,
          35.51202821,
          36.38177105,
          34.57692074,
          34.29017991,
          36.11735460000001,
          33.73325583,
          34.31709259,
          34.09007427,
          35.74242707,
          36.09604046,
          35.59802983,
          34.26767081,
          35.56759135,
          33.24116713,
          36.04188196,
          34.78498904,
          33.95317155,
          33.70375665,
          35.21413234,
          34.75392199,
          36.01038185,
          36.26844485,
          33.31403423,
          35.76271485,
          34.6815935,
          34.53704874,
          33.66340119,
          35.91947491,
          33.58839816,
          0,
          34.945915299999996,
          34.43268455,
          34.16250414,
          35.57433534,
          34.48254879,
          35.44871474,
          34.83624419,
          34.77054088,
          36.3415714,
          34.64916145,
          34.85588887,
          35.9109364,
          35.19605503,
          33.99780401,
          36.16258158,
          35.02201976,
          35.86251946,
          0,
          33.16887091,
          35.58095779,
          35.976844,
          35.25688493,
          35.18902527,
          35.00292371,
          37.64629437,
          38.59678594,
          38.44583082,
          39.66727762,
          38.20537103,
          39.17881957,
          37.91923498,
          41.74228275,
          38.77965956,
          36.75733899,
          39.59875897,
          40.69923009,
          33.0393082,
          36.51112084,
          35.34329425,
          36.07409056,
          39.10124298,
          40.67311306,
          34.30828379,
          37.21513971,
          38.07122463,
          37.57978556,
          39.4381191,
          37.18922369,
          41.58965602,
          37.93899289,
          36.21862405,
          38.50735751,
          39.30394768,
          33.70147516,
          0,
          39.06167234,
          40.00355989,
          33.74314981,
          38.45106826,
          36.60308176,
          34.84060306,
          33.03484597,
          37.75215114,
          37.93433732,
          35.38822029,
          37.422880799999994,
          34.65329488,
          37.23104908,
          37.05580291,
          40.76391419,
          39.57713498,
          41.59198861,
          38.26827353,
          38.52746429,
          37.55862499,
          39.03417539,
          40.12570935,
          40.64917670000001,
          36.22026558,
          38.02644018,
          0,
          34.44465746,
          38.68278902,
          39.26255932,
          39.87432092,
          37.57250606,
          39.64977461,
          37.19474156,
          37.31940883,
          37.95474293,
          40.09313619,
          39.95998787,
          38.74745778,
          38.82777431,
          39.68864463,
          37.201606,
          37.27732493,
          38.32608609,
          38.10883162,
          38.86246243,
          39.76018276,
          37.75208676,
          39.33133796,
          39.62754308,
          38.83240149,
          39.28656773,
          38.47362326,
          39.59921777,
          39.85646523,
          40.10603347,
          38.66611652,
          37.82247444,
          37.68473101,
          40.66593870000001,
          39.58635604,
          38.43260896,
          39.30497777,
          37.28632032,
          39.20278823,
          40.66671597,
          37.3153406,
          38.98749519,
          40.7249637,
          39.01787888,
          37.66954283,
          40.61810999,
          37.33859579,
          38.40214114,
          40.26279810000001,
          37.9014485,
          38.14717457,
          0,
          39.120926000000004,
          40.59414277,
          39.21720112,
          37.95544985,
          38.17359144,
          39.97913541,
          37.5836865,
          40.48596505,
          38.08054629,
          37.76248981,
          38.00450883,
          40.87595412,
          39.63803232,
          38.88133511,
          0,
          39.97015535,
          40.55499405,
          40.00346839,
          41.26809896,
          41.80283011,
          41.7937534,
          41.45949668,
          41.408032500000004,
          41.48896435,
          0,
          41.85853803,
          0,
          41.82972709,
          39.08646628,
          39.57992638,
          0,
          38.66143781,
          0,
          0,
          38.90417773,
          0,
          0,
          29.67866525,
          30.33060121,
          30.26548745,
          29.95079741,
          28.29409504,
          26.15184651,
          30.40666734,
          26.90131002,
          28.84804315,
          29.98319144,
          26.11091986,
          30.22509788,
          27.18677893,
          29.60631086,
          30.33225875,
          30.67652764,
          29.45933576,
          29.83791238,
          30.57796289,
          29.72856978,
          26.95635849,
          29.93543004,
          30.49673973,
          27.49293939,
          26.55386945,
          28.55364461,
          27.34254618,
          27.9276559,
          30.86747479,
          27.69308961,
          30.795459700000002,
          30.43669112,
          29.98484137,
          28.76202069,
          26.58410348,
          30.45955727,
          29.31829741,
          30.23766008,
          30.44396917,
          27.47196942,
          29.21227113,
          27.0772071,
          25.6112362,
          25.20904673,
          30.61037141,
          30.69143028,
          27.386336199999995,
          28.51367621,
          28.06312234,
          0,
          26.64676272,
          28.30810945,
          27.93130349,
          27.95027105,
          29.60779729,
          30.69341450000001,
          27.18546175,
          28.7158582,
          29.90096506,
          27.37763908,
          28.70181754,
          30.19746066,
          30.04848048,
          0,
          30.04412971,
          29.05858895,
          30.16548905,
          30.64204028,
          30.61359259,
          31.74847232,
          31.29633502,
          31.55456473,
          31.32669878,
          33.06882326,
          34.35607081,
          33.99148694,
          34.23732119,
          31.76095874,
          31.27590016,
          32.80904227,
          32.43829035,
          31.19576557,
          30.83922642,
          32.00979311,
          32.39577406,
          33.05917989,
          33.283094500000004,
          31.53169785,
          30.92951916,
          32.40209349,
          33.58138199,
          34.89872298,
          30.78371028,
          32.00043026,
          32.34341231,
          34.47197698,
          34.24393976,
          33.95436462,
          31.62221166,
          33.54187245,
          30.91395822,
          33.94243204,
          31.54892966,
          31.18810588,
          33.54534185,
          31.16068491,
          33.35334302,
          32.71391813,
          31.92289565,
          34.854916700000004,
          34.44244079,
          33.76944049,
          30.87967778,
          32.17265114,
          32.15630737,
          31.53328528,
          33.70291126,
          31.32155345,
          30.71101099,
          32.36616021,
          34.11302332,
          32.59221302,
          32.15328841,
          34.86430205,
          33.41357794,
          34.26268279,
          34.22604035,
          34.37525597,
          33.79216944,
          34.69316688,
          33.22879932,
          31.23279254,
          34.50487351,
          30.87454847,
          33.5769205,
          33.96044201,
          34.63331566,
          34.32207823,
          33.2721566,
          33.79602175,
          32.73709786,
          34.34626973,
          33.29686567,
          33.4533428,
          32.45802497,
          31.60213036,
          34.13794553,
          33.31535543,
          31.80405727,
          33.05867328,
          32.79248718,
          32.70211082,
          33.02512137,
          33.07841647,
          31.03828570000001,
          32.46325233,
          31.779330600000005,
          31.82588896,
          33.79201475,
          31.75218791,
          30.83568832,
          34.57286511,
          32.35207048,
          34.12920917,
          32.3483402,
          33.47851918,
          31.49683595,
          33.04163534,
          31.16568912,
          31.22483255,
          33.014289,
          32.17201038,
          33.59232073,
          34.78897608,
          32.50931999,
          33.55514538,
          33.83749973,
          33.878629600000004,
          0,
          33.91969522,
          32.56934316,
          34.46589159,
          31.35928155,
          33.09310242,
          34.00267074,
          32.23334561,
          33.32056115,
          31.86728114,
          34.88389445,
          31.76622818,
          33.35777107,
          33.65145002,
          32.2654021,
          32.74976524,
          30.93464824,
          33.26310031,
          34.55151201,
          32.07996777,
          32.03650571,
          32.69642758,
          33.56543317,
          32.04785085,
          32.55792548,
          31.92829517,
          31.77527543,
          30.86392347,
          31.45743864,
          32.12059861,
          34.91369188,
          32.40422134,
          33.03349196,
          31.71612656,
          32.67435595,
          0,
          34.82995757,
          32.87920671,
          34.73376362,
          33.78017694,
          31.05449097,
          33.41146451,
          32.96711864,
          31.5521809,
          32.04066113,
          32.12009104,
          34.64624278,
          34.80987459,
          31.97496928,
          33.78290391,
          32.80291082,
          31.55162306,
          0,
          13.4443,
          19.60121157,
          21.45803166,
          21.17882515,
          22.03935037,
          20.86399628,
          0,
          0,
          43.4526575,
          44.89333571,
          42.67002716,
          42.28269683,
          47.21754179,
          43.21672879999999,
          43.4085812,
          43.98829931,
          48.29996017,
          43.38713372,
          48.76684761,
          43.72592209,
          43.46665742,
          43.61970148,
          42.77149116,
          42.28347888,
          44.28496071,
          46.67459924,
          44.24186819,
          43.3507101,
          42.18332217,
          44.22800938,
          44.06482372,
          42.96927962,
          45.84721541,
          43.82078483,
          42.68891267,
          47.67282258,
          46.81587887,
          44.9438088,
          46.23315327,
          43.0012336,
          43.78141028,
          42.85518524,
          46.32638236,
          42.19494279999999,
          0,
          42.58016894,
          44.00545243,
          42.69254894,
          47.35364087,
          43.75303583,
          42.35440512,
          0,
          44.76728382,
          44.45275475,
          39.98815591,
          37.18049267,
          38.88829622,
          42.32359279,
          39.96209138,
          41.40385234,
          39.16840183,
          42.06823429,
          39.96991073,
          40.13919438,
          39.54581621,
          39.33425789,
          38.75388572,
          38.60704876,
          39.51949084,
          41.84144849,
          39.0032229,
          39.27432424,
          40.17514519,
          41.89373302,
          39.76768052,
          41.85116968,
          39.6809186,
          38.41353228,
          39.05935711,
          39.00072038,
          40.59706922,
          37.99189086,
          40.47289135,
          37.76430935,
          39.35907414,
          41.28569601,
          38.08163641,
          40.40423981,
          37.51810645,
          40.81908672,
          41.3533994,
          40.74717633,
          37.78595185,
          39.01054275,
          38.29980057,
          39.08869046,
          42.36542373,
          37.45939802,
          41.93842729,
          41.13746989,
          41.59081014,
          40.93148779,
          41.34426129999999,
          42.3224907,
          38.71987914,
          41.74583951,
          40.89188292,
          40.12581572,
          39.86064913,
          39.26119767,
          38.83042506,
          38.64963204,
          41.0327901,
          40.23917274,
          37.22078441,
          40.45674722,
          42.32451172,
          40.48996987,
          40.02742725,
          41.20596782,
          38.27594376,
          39.23198845,
          39.71654544,
          39.64187451,
          42.04165196,
          0,
          40.78702156,
          38.08510853,
          40.01360584,
          39.62265059,
          37.41391284,
          37.22631423,
          41.2013541,
          38.05095369,
          38.71240969,
          41.46613806,
          37.75332999,
          39.75836914,
          40.157179799999994,
          39.642916899999996,
          39.39133527,
          38.46996033,
          41.09309773,
          42.35129217,
          40.50716185,
          0,
          37.47119609,
          40.18417171,
          38.44272901,
          40.84925021,
          38.35309213,
          38.42955355,
          38.08706198,
          41.75509713,
          41.44619267,
          37.73033511,
          42.33641854,
          40.78579374,
          40.7457653,
          41.09194313,
          39.20744865,
          40.60626947,
          40.47388153,
          40.0509304,
          39.19605589,
          40.580783200000006,
          40.76135835,
          38.48015445,
          39.39561833,
          40.30319754,
          38.28814402,
          38.70186039,
          41.39804622,
          39.14647946,
          39.30712658,
          40.22787247,
          38.36597551,
          41.59761169,
          39.63684962,
          38.32117957,
          40.12361933,
          39.4142482,
          41.0469907,
          38.30393723,
          40.51587228,
          39.03630547,
          40.07306535,
          39.82304555,
          38.19467379,
          39.76719009,
          39.93029017,
          40.48527731,
          40.82907273,
          38.90915820000001,
          41.02078733,
          40.43781032,
          38.78576239,
          38.99588883,
          39.48994426,
          38.68861576,
          41.24521668,
          41.64232188,
          41.54366008,
          41.41874274,
          38.84112637,
          40.16143691,
          39.78163624,
          41.32467367,
          38.7099921,
          40.76940965,
          39.16130004,
          40.04034823,
          39.47899078,
          40.95610449,
          41.39672484,
          38.955304999999996,
          38.54118920000001,
          0,
          39.31145587,
          39.77202286,
          38.07809328,
          38.40112197,
          41.45986947,
          38.02097333,
          41.04166107,
          39.66437981,
          40.15734772,
          39.10235626,
          39.62002287,
          38.68672078,
          39.52305623,
          38.01519732,
          41.61756781,
          41.27890281,
          41.64423868,
          39.08952258,
          38.82767338,
          40.38872739,
          40.31123252,
          0,
          39.62550777,
          38.02658833,
          39.8523352,
          39.42944561,
          40.84704239,
          40.34728141,
          38.08922676,
          38.60219804,
          39.863344399999995,
          40.72934187,
          40.74911165,
          41.13863784,
          41.33075609,
          41.02903567,
          43.28383218,
          40.74324454,
          41.6844628,
          42.08011739,
          42.4704581,
          42.03657094,
          42.77461496,
          42.4709188,
          42.73545875,
          42.73172833,
          42.38521079,
          42.03617207,
          41.33149454,
          41.77233777,
          43.08177563,
          42.73538914,
          43.06001295,
          41.02868181,
          43.08247182,
          42.84443388,
          41.89981633,
          42.03718237,
          41.68560356,
          40.74773536,
          40.73742757,
          42.47104597,
          40.92012606,
          43.37787725,
          42.46815349,
          43.37782951,
          42.86271799,
          43.06000529999999,
          42.73270384,
          40.74542720000001,
          42.03614551,
          42.40183723,
          41.68378965,
          42.38382428,
          43.08178477,
          42.38353877,
          41.68330137,
          40.98767962,
          43.35671042,
          42.7764426,
          42.38696136,
          41.68630265,
          42.17178824,
          41.68576082,
          41.03192394,
          41.67169354,
          42.12118609,
          41.33649833,
          43.20405458,
          40.64181461,
          42.07923082,
          41.21842119,
          41.02958964,
          43.38107862,
          41.33081904,
          41.33521503,
          41.33445101,
          42.03586837,
          41.03299766,
          43.35638371,
          42.05220391,
          41.02988815,
          41.03018714,
          41.48370744,
          43.08310673,
          43.37824276,
          0,
          40.7393172,
          43.08193849,
          42.737633,
          42.73420133,
          41.68679484,
          41.33640314,
          41.68625425,
          40.73518949,
          42.38624071,
          41.63935978,
          41.6850066,
          43.08221074,
          42.03621213,
          42.07991767,
          40.73710579,
          0,
          41.0277278,
          40.75326764,
          41.03064984,
          41.33559454,
          41.33577126,
          40.73969028,
          42.42853483,
          43.37751174,
          43.29094334,
          42.38979414,
          43.37750768,
          42.73305373,
          37.88582951,
          38.21413251,
          39.53185661,
          37.2288586,
          38.47889676,
          37.85508555,
          39.82652589,
          37.78134351,
          38.30292938,
          37.14994405,
          37.16928494,
          39.78580976,
          37.23577007,
          39.34948772,
          39.48028352,
          38.2365018,
          37.19114520000001,
          37.23781842,
          37.50675523,
          39.78468441,
          38.86600962,
          39.79067154,
          38.88503636,
          37.88735543,
          37.45338105,
          38.91458712,
          38.69677695,
          38.04340344,
          37.69200114,
          38.56443815,
          38.99871131,
          38.91588178,
          39.34987223,
          37.56227336,
          37.73836671,
          38.4808095,
          37.8774388,
          37.99978709,
          37.19175361,
          38.04293782,
          37.562039399999996,
          38.08780079,
          39.41673394,
          39.2347941,
          39.78470589,
          38.88548175,
          38.00017981,
          37.55909527,
          37.55848695,
          37.19113093,
          38.48119447,
          39.20183497,
          39.04549684,
          38.21267844,
          38.91735806,
          38.45576156,
          38.35855394,
          39.78359669,
          38.39184858,
          37.23859987,
          38.56383358,
          39.39331582,
          37.19236568,
          38.68827511,
          37.19141121,
          39.78345387,
          37.55862897,
          38.47974157,
          39.78443827,
          38.65235984,
          39.3503437,
          39.13237408,
          0,
          38.18108732,
          39.78465501,
          39.37925655,
          37.64780729,
          39.78525843,
          37.95230263,
          39.82799632,
          38.34616184,
          39.28935726,
          39.35022773,
          38.52275276,
          38.91462787,
          38.78369175,
          38.48222076,
          37.6842718,
          37.19324632,
          39.04100763,
          39.35018161,
          39.35147699,
          39.78516566,
          38.03100851,
          37.56304714,
          37.1923008,
          37.23682549,
          39.35107575,
          38.91467218,
          0,
          38.95471985,
          38.91686134,
          39.78420784,
          38.48178252,
          37.55937174,
          37.8865336,
          39.11727348,
          37.10459774,
          36.75197631,
          38.00671029,
          37.05842757,
          36.96469836,
          38.14735938,
          36.73355174,
          38.97065142,
          38.2054607,
          38.36176608,
          37.62680923,
          38.69158994,
          37.52333168,
          37.77377239,
          37.97162523,
          37.20946153,
          37.14749129,
          36.62093411,
          38.94384345,
          36.85372876,
          38.66599534,
          38.31690743,
          37.32533118,
          36.89267803,
          37.9689263,
          37.16451126,
          36.72581156,
          37.35839237,
          36.78926125,
          37.73028906,
          37.21218923,
          38.11624059,
          37.69241417,
          38.0368225,
          38.36758311,
          37.56213922,
          38.2379395,
          36.55238827,
          38.75398691,
          37.638866799999995,
          38.64962758,
          36.72292505,
          37.46231118,
          37.26484328,
          38.54332505,
          37.83766422,
          37.6976111,
          36.85699301,
          38.44188174,
          37.29943898,
          37.79344553,
          38.44942688,
          36.67948079999999,
          37.30939025,
          37.41866422,
          38.18664655,
          37.87119786,
          37.85106355,
          38.93950319,
          37.35388197,
          36.89225732,
          37.54567114,
          37.10975748,
          38.07136018,
          37.59645942,
          37.09246661,
          37.12306748,
          38.53184419,
          37.45475628,
          37.21137452,
          36.85949479,
          37.02080035,
          37.71659336,
          37.70820545,
          37.55218078,
          36.88007070000001,
          37.79990579,
          38.59471935,
          37.05350953,
          36.73874143,
          37.5301951,
          37.96163597,
          37.94090733,
          37.81474237,
          36.99459295,
          36.71225341,
          38.03253032,
          37.92465657,
          37.21425819,
          37.80335779,
          38.33342292,
          37.47751843,
          38.39791089,
          0,
          38.51679143,
          37.42823949,
          38.69607718,
          37.25023553,
          37.47088263,
          37.83218794,
          37.10466131,
          38.51923469,
          37.36642393,
          38.19484205,
          36.99308373,
          38.29622293,
          38.21476019,
          36.74058474,
          38.03223971,
          37.3677562,
          36.8381152,
          36.80767017,
          38.61056487,
          0,
          37.66166713,
          36.99903045,
          37.75599461,
          36.80310688,
          37.52168356,
          36.75700531,
          37.73941626,
          38.04178222,
          30.295064899999996,
          30.65385745,
          30.20406249,
          29.89946234,
          31.07796211,
          30.64836518,
          32.34569994,
          32.67932307,
          32.57991587,
          30.22931235,
          32.0902519,
          29.87592238,
          31.66778967,
          32.82308512,
          31.44817835,
          32.05457447,
          30.53842039,
          32.73926954,
          30.84425359,
          30.72985248,
          32.13675181,
          31.59882456,
          29.86803617,
          30.25734305,
          32.30251776,
          29.74075478,
          30.26896765,
          31.67884782,
          30.2049055,
          29.52470226,
          32.6003154,
          30.44143993,
          32.36918118,
          32.81686191,
          31.72321584,
          30.06971951,
          32.47645559,
          0,
          29.42245447,
          30.71409502,
          31.19778499,
          32.09530039,
          32.41391005,
          31.56388699,
          29.87761636,
          29.90709658,
          30.82210324,
          30.02531716,
          30.12597499,
          30.59724262,
          30.13112107,
          29.69262097,
          30.40942847,
          30.62888673,
          32.00760749,
          29.37343766,
          0,
          32.83121059,
          29.83517605,
          31.10884837,
          30.85288548,
          32.70847669,
          30.46058217,
          32.78550125,
          30.87882871,
          31.94449367,
          44.1664747,
          46.65926321,
          43.8370751,
          44.97330019,
          44.59816444,
          44.40759555,
          44.11486325,
          44.05996956,
          0,
          44.49952995,
          45.40194593,
          45.83839062,
          43.95415864,
          45.51229767,
          0,
          44.4858305,
          45.01607142,
          43.47808377,
          39.62357628,
          39.00670238,
          39.45784712,
          39.30211911,
          38.53961642,
          38.87172293,
          39.56453592,
          39.56647682,
          38.51092331,
          38.45413522,
          39.47296601,
          39.52786077,
          39.55010644,
          39.25305293,
          39.24976208,
          39.13676329,
          0,
          38.83070039,
          39.06198912,
          38.1163542,
          38.30058422,
          38.76618159,
          0,
          39.60835778,
          38.37301947,
          38.21274277,
          41.72980578,
          42.37428441,
          41.79228404,
          41.40674725,
          41.40674725,
          42.6687626,
          42.58119713,
          42.13440424,
          42.33997957,
          42.48607732,
          41.2942019,
          42.16073095,
          0,
          41.94070556,
          42.327951399999996,
          0,
          42.35026951,
          44.6846864,
          46.41292944,
          42.59147037,
          45.03477666,
          44.99690221,
          44.0636262,
          46.6720582,
          42.59513984,
          43.70639106,
          44.63899297,
          41.95447397,
          41.91600556,
          42.24633834,
          41.91522292,
          45.37790017,
          45.44787015,
          46.29552653,
          43.98794227,
          42.94400871,
          44.68255561,
          45.90484910000001,
          46.00999672,
          42.59599185,
          45.52625509,
          0,
          43.02244215,
          43.98901072,
          46.40862701,
          44.69565625,
          43.29265605,
          41.88753639,
          46.89988536,
          43.83353985,
          42.59716886,
          42.94502238,
          44.35486835,
          46.20974132,
          43.64060976,
          42.24807035,
          42.24542231,
          44.68512729,
          43.03197711,
          47.63197653,
          43.99050893,
          43.09052506,
          44.94430054,
          41.89475156,
          42.60302282,
          46.47227431,
          46.07028979,
          42.69158356,
          44.33352407,
          46.4338914,
          43.99509218,
          43.64064262,
          45.58038692,
          0,
          43.64330771,
          44.33772443,
          41.92734151,
          43.31082541,
          45.0275929,
          43.29123859,
          43.554373999999996,
          42.66090111,
          43.64124435,
          44.33481032,
          46.665226200000006,
          43.98992088,
          44.68192279,
          45.02085831,
          42.95996803,
          0,
          45.34018577,
          44.33473082,
          43.33433923,
          43.42406072,
          46.19235734,
          42.95392800000001,
          42.92655373,
          41.91441767,
          43.46606813,
          0,
          42.25190229,
          42.253105,
          42.28098405,
          44.33853602,
          46.60962049,
          45.27476015,
          46.93479392,
          47.97373527,
          45.69804958,
          45.42712824,
          44.03554215,
          44.24205652,
          46.59180601,
          44.82017001,
          46.95043611,
          45.02343421,
          45.5021011,
          46.89289518,
          47.57992111,
          47.90504893,
          44.00715262,
          46.48096553,
          44.67172617,
          44.02238415,
          45.93348491,
          43.67381499,
          43.67394126,
          43.67385583,
          44.40849741,
          45.93424769,
          45.00761521,
          43.67129565,
          47.10778564,
          45.56181234,
          47.51009045,
          43.67423373,
          45.9459309,
          45.1526059,
          48.77754106,
          48.24539665,
          44.9973857,
          47.64270764,
          48.77217001,
          44.37136597,
          44.41311883,
          44.41327865,
          47.32557075,
          48.35825983,
          43.67429718,
          44.82367677,
          45.12328869,
          45.93705297,
          46.01265363,
          43.67142874,
          44.02216709,
          44.35291112,
          43.67434621,
          47.32628443,
          44.00374114,
          46.40846929,
          0,
          48.06642577,
          46.12105238,
          44.02301619,
          47.77372465,
          45.58606667,
          45.01625271,
          47.87197525,
          44.40555844,
          44.72836381,
          44.3543376,
          43.67482683,
          48.77501878,
          44.6490231,
          45.44447208,
          44.5796592,
          47.604840700000004,
          45.55192576,
          44.02240351,
          45.58613007,
          45.2829032,
          46.06996226,
          45.77298854,
          0,
          44.28424356,
          46.58589171,
          44.02211116,
          45.03864533,
          43.97823903,
          46.35721532,
          43.98772283,
          45.17297924,
          44.71710183,
          31.47669768,
          34.88084463,
          31.17467303,
          33.08658803,
          34.81681228,
          33.79696941,
          33.93683395,
          33.44834567,
          33.91983202,
          33.34598242,
          31.97061673,
          32.04158545,
          33.65358105,
          34.22772299,
          31.86977774,
          31.63225413,
          34.87625235,
          31.18961454,
          31.47786634,
          30.86259065,
          31.21444233,
          33.77036166,
          30.41830223,
          30.51359752,
          32.2656285,
          33.12345854,
          33.12825718,
          32.72531359,
          34.27993475,
          30.54020656,
          32.01922104,
          31.73397872,
          31.56884708,
          31.62257767,
          32.75462946,
          34.35687874,
          31.20572971,
          32.40419769,
          31.55147224,
          32.7536828,
          34.291877500000005,
          33.55545125,
          31.53288662,
          33.47386518,
          32.63389156,
          31.23132643,
          34.76216286,
          33.89236763,
          33.49419589,
          32.75339664,
          32.40021118,
          33.11009499,
          33.42491685,
          0,
          34.36398677,
          30.77090935,
          31.17161885,
          31.17507789,
          34.226046000000004,
          34.61810501,
          34.25157572,
          32.26469147,
          32.406704100000006,
          32.88149103,
          31.91282117,
          32.01744532,
          30.79187949,
          33.60192578,
          33.95339918,
          34.65133709,
          34.76872156,
          34.74023475,
          34.64967704,
          0,
          34.49162015,
          31.14971548,
          32.35810271,
          33.28392041,
          31.64135687,
          33.61300486,
          31.16078225,
          33.08747908,
          34.02824175,
          32.77890365,
          40.19058551,
          39.98492163,
          40.43238737,
          39.215877,
          36.70978521,
          37.50207671,
          38.25271289,
          38.29503305,
          37.32449052,
          38.99186229,
          39.65816401,
          36.71462476,
          39.65620858,
          38.83674754,
          38.02199522,
          37.38489388,
          39.42762566,
          36.94160441,
          38.64789422,
          37.72391475,
          39.51499357,
          36.9711783,
          40.41040752,
          39.31132056,
          39.6013098,
          38.50455671,
          38.844478,
          37.97663738,
          37.431814,
          37.681135499999996,
          39.96145298,
          39.89201062,
          37.60663134,
          36.9325593,
          36.27167174,
          38.41127108,
          38.43947277,
          40.21097916,
          37.2575872,
          40.11406587,
          40.35570088,
          38.38482826,
          37.94163617,
          40.09799248,
          39.1435761,
          36.77383887,
          37.55487945,
          39.01002188,
          37.20351921,
          38.25926778,
          38.74719601,
          39.0997,
          40.12699751,
          37.65896829,
          39.06986886,
          37.10626634,
          40.09673161,
          39.05345619,
          39.87001769,
          39.78110272,
          39.83049768,
          37.47865134,
          38.16193985,
          39.80601912,
          36.62869595,
          40.42212303,
          38.21450288,
          36.82516239,
          38.63571781,
          39.49593978,
          38.94022054,
          38.4181765,
          36.59666326,
          36.90519407,
          40.36079813,
          36.68710164,
          38.46036182,
          0,
          36.64916339,
          36.2130572,
          37.70660776,
          38.72798918,
          37.87736118,
          39.34310674,
          39.38154439,
          37.616229600000004,
          37.82462075,
          40.47942497,
          39.52817427,
          39.44007257,
          39.353746799999996,
          37.36085952,
          36.65460667,
          39.13734288,
          40.46921489,
          40.45214695,
          37.05588075,
          37.15772072,
          39.79742518,
          38.77875681,
          38.03699437,
          37.81214171,
          38.63770039999999,
          38.63555736,
          37.89090059,
          36.85571651,
          36.75000327,
          40.2099105,
          36.65465345,
          37.31728859,
          0,
          37.8457799,
          38.76529479,
          37.96130078,
          37.11303869,
          37.2813734,
          40.47945588,
          37.27029221,
          45.13434354,
          45.42335905,
          48.43175214,
          46.33277565,
          45.22850116,
          45.5197966,
          47.30797024,
          47.88084126,
          46.25319932,
          48.78420029,
          47.26584855,
          46.05953325,
          46.33478338,
          47.26331584,
          48.29575866,
          45.54486106,
          47.27545948,
          48.70513576,
          46.3816474,
          46.40605220000001,
          48.62879827,
          46.14907081,
          47.04581276,
          47.64514965,
          47.12610041,
          48.56084317,
          48.54265777,
          45.30080065,
          47.64469406,
          46.59907074,
          47.15283992,
          47.03728583,
          46.49684637,
          0,
          45.48965095,
          47.118246299999996,
          48.25936577,
          48.22773388,
          45.39617714,
          46.85538891,
          46.86048047,
          46.08520862,
          47.78668011,
          48.29607488,
          46.23397237,
          47.67657534,
          48.72085833,
          45.90018933,
          45.67071407,
          45.81367654,
          47.83741052,
          48.65577551,
          46.20973220000001,
          0,
          48.36435097,
          46.46652491,
          46.95925154,
          45.93955949,
          40.52449420000001,
          42.17695516,
          41.56896142,
          41.54634427,
          41.91311716,
          41.70759415,
          42.22079243,
          42.899727399999996,
          42.43018907,
          40.85486962,
          41.85056773,
          41.22703692,
          40.90899107,
          42.598885100000004,
          40.523719799999995,
          42.54502621,
          41.21999357,
          40.52439441,
          41.57486951,
          41.91637624,
          41.39374521,
          42.39040144,
          42.71985036,
          40.87028216,
          41.11168186,
          42.49188363,
          41.58071748,
          41.29518299,
          40.17638677,
          40.52458567,
          40.17636348,
          40.52993007,
          40.17642064,
          40.26186809,
          41.61703149,
          41.91428955,
          40.51481965,
          41.91528587,
          41.56742671,
          40.87257079,
          40.87349452,
          40.17658508,
          40.52451972,
          40.17609175,
          42.45522056,
          41.91586243,
          41.2200529,
          40.17584531,
          40.39257596,
          40.50663314,
          41.19930341,
          42.87990694,
          41.19774275,
          42.63758421,
          40.78416049,
          41.04658298,
          41.56650314,
          41.91371961,
          41.91676024,
          41.56797682,
          41.16624273,
          41.71711774,
          41.39750195,
          40.38514847,
          40.17637905,
          40.64843556,
          0,
          40.13141096,
          40.85082525,
          40.51156033,
          42.26434853,
          41.57246836,
          41.18813488,
          40.17556879999999,
          40.1247415,
          42.42252217,
          40.52418865,
          41.11314181,
          41.227810299999994,
          41.85070896,
          40.87241834,
          42.50284406,
          41.22045983,
          42.48932059,
          41.9169835,
          40.17626377,
          41.91358968,
          42.15725356,
          0,
          41.56730777,
          41.52815707,
          42.20934475,
          40.17642643,
          41.91482725,
          40.87272618,
          39.15509045,
          39.58105744,
          36.21458855,
          38.912862,
          41.14531606,
          37.78436681,
          39.98100864,
          41.40692186,
          39.933223299999995,
          37.64268459,
          39.01777974,
          38.53841696,
          38.04264256,
          0,
          40.44003782,
          39.44875482,
          0,
          40.66562265,
          39.44157041,
          43.51637314,
          43.87498583,
          42.92015988,
          44.69063265,
          43.93779815,
          42.91537785,
          43.29662971,
          0,
          42.98499744,
          43.291833000000004,
          43.36094111,
          0,
          39.47538693,
          40.96010917,
          39.87681124,
          39.80343818,
          39.15008829,
          39.37199394,
          40.78681335,
          39.71581067,
          40.73766234,
          40.56335249,
          40.28047017,
          40.43629879,
          40.26549699,
          40.86095313,
          39.8895449,
          0,
          41.03238628,
          39.58719656,
          40.56465737,
          41.13891592,
          0,
          40.65835409,
          40.85951833,
          35.05163625,
          33.91514144,
          33.36406072,
          34.91131525,
          36.60569702,
          34.57421077,
          34.34274529,
          32.35275771,
          32.47167456,
          32.73911281,
          34.86319296,
          35.85751555,
          31.91383467,
          32.79215361,
          33.74526079,
          35.86631386,
          32.18179341,
          35.58007720000001,
          36.01095101,
          32.61348406,
          0,
          35.10403332,
          36.51072137,
          34.02097406,
          36.50838318,
          35.48014807,
          35.68862401,
          35.50708973,
          33.13028233,
          34.00715494,
          36.58006022,
          34.64048375,
          0,
          36.48126404,
          34.71669834,
          42.60060306,
          42.25748406,
          40.85209301,
          42.15903158,
          42.24778241,
          42.91261714,
          42.22769210000001,
          42.13891056,
          42.49430041,
          44.74530905,
          42.24819348,
          42.59509207,
          42.19837623,
          41.76486060000001,
          42.76249024,
          44.11630765,
          44.59040891,
          43.11363907,
          43.0022601,
          42.275797,
          43.66146647,
          43.42034246,
          44.04200959,
          40.636182500000004,
          43.784415700000004,
          42.72596275,
          42.91653905,
          43.14638895,
          42.90123494,
          40.74066522,
          40.76727260000001,
          43.19898042,
          43.24375382,
          43.00491923,
          42.85145728,
          41.40337468,
          43.2516977,
          43.42778894,
          42.63492579,
          0,
          41.42630093,
          40.71088124,
          42.71348136,
          40.58582155,
          41.15027894,
          43.10904162,
          42.81668777,
          42.58831742,
          42.39184015,
          42.78081007,
          44.4976179,
          42.2689144,
          40.88320119,
          41.71579493,
          42.16852837,
          42.44945765,
          41.89027881,
          0,
          43.56173026,
          43.31153794,
          43.15494365,
          41.16278376,
          42.70145109,
          42.63505484,
          36.0434701,
          35.922379600000006,
          36.49360862,
          34.97403241,
          36.43296207,
          36.07569796,
          35.48531943,
          36.0688473,
          34.61296243,
          34.070565,
          35.61113393,
          35.74989637,
          35.3877799,
          35.95204977,
          36.33804939,
          34.8932941,
          36.39312665,
          35.66211129,
          35.70394416,
          35.1349263,
          36.12908077,
          35.05704275,
          35.33553364,
          34.26744084,
          35.11833364,
          35.04762133,
          36.36123664,
          35.66520691,
          35.79115496,
          35.93099927,
          34.93449805,
          36.03638492,
          35.91230639,
          36.12859861,
          36.081519,
          35.29373559,
          36.44667547,
          35.3506925,
          36.30337451,
          35.48544173,
          36.07959451,
          36.25669272,
          35.36731853,
          35.55269063,
          35.33788927,
          36.3607755,
          35.01888303,
          35.42017674,
          35.80950511,
          35.28814273,
          35.51745004,
          35.02254606,
          35.47623147,
          35.24032589999999,
          35.48508185,
          35.14867843,
          35.85402722,
          35.84326734,
          35.67736232,
          35.24469268,
          36.01059309,
          35.33155144,
          35.30885257,
          35.96575634,
          34.25758282,
          36.41736238,
          34.72607366,
          36.06092947,
          0,
          35.15253315,
          36.26723798,
          34.52265624,
          36.17847453,
          36.38989032,
          35.59535426,
          35.27820615,
          35.71015088,
          35.00417719,
          34.64244496,
          36.39593137,
          35.64003916,
          35.40114178,
          34.98820368,
          34.8386299,
          35.31647813,
          36.4017975,
          36.41689489,
          35.48665845,
          35.20383864,
          35.87147226,
          0,
          34.98960527,
          36.36880673,
          35.78879266,
          36.39728256,
          35.83810081,
          36.23103603,
          35.36438125,
          36.2084135,
          35.70625477,
          36.16222629,
          35.90079156,
          46.09686891,
          46.93579637,
          48.0683985,
          47.02366884,
          48.79106111,
          46.11285362,
          48.79094471,
          46.97847375,
          46.93201724,
          48.77286211,
          46.11017712,
          48.814938700000006,
          47.35423935,
          47.71701474,
          46.28398398,
          47.457108399999996,
          46.94022281,
          47.92093639,
          46.35821257,
          47.45785838,
          46.43375068,
          46.97830064,
          46.45681054,
          46.45729487,
          48.23104458,
          46.11182017,
          47.74133370000001,
          47.60766714,
          47.31213126,
          46.71681782,
          48.20197971,
          47.9226426,
          47.11530482,
          0,
          48.76623521,
          48.24977025,
          48.26886249,
          46.45621782,
          48.71982533,
          46.26440649,
          48.77245354,
          46.10830372,
          47.57700669,
          46.11323337,
          46.44737738,
          46.80851182,
          47.45611548,
          46.97962541,
          48.68565745,
          47.45367788,
          0,
          48.36876964,
          48.22390169,
          47.58614526,
          48.34522353,
          15.0979,
          38.84541072,
          40.77285242,
          40.84772277,
          41.70860332,
          39.33425634,
          40.55998859,
          40.01625942,
          38.93416837,
          39.44012838,
          40.578968599999996,
          40.13923427,
          39.91592258,
          39.04847534,
          39.41485808,
          40.76932373,
          40.30096166,
          40.85065156,
          41.424119,
          40.13412966,
          41.32398837,
          40.27942393,
          41.36796058,
          39.75107189,
          39.56021306,
          39.96995815,
          41.60213491,
          38.82708533,
          41.49952319,
          39.69116283,
          40.05026529,
          39.19673558,
          41.00250487,
          40.66015414,
          40.29380509,
          41.333964200000004,
          39.1839264,
          39.49537927,
          40.56163713,
          41.14651175,
          39.01914254,
          40.38614126,
          40.39830217,
          41.69710807,
          38.59743452,
          40.09136236,
          40.38996525,
          41.29553751,
          41.62101218,
          39.89381073,
          41.01631101,
          40.58610662,
          41.11770589,
          39.09224872,
          40.54043046,
          40.0543329,
          39.72984936,
          39.75394919,
          39.62081738,
          40.52363560000001,
          39.96575964,
          39.76818851,
          41.53781826,
          0,
          41.11676341,
          39.73508655,
          39.64170392,
          39.07634001,
          41.16793482,
          39.7420247,
          41.02094889,
          40.77180308,
          39.33705391,
          41.35624126,
          38.80270163,
          41.12351311,
          40.33163494,
          40.81482476,
          41.12464734,
          41.31735028,
          40.44214695,
          0,
          40.30016061,
          40.8554138,
          39.25208988,
          39.42581994,
          39.45690571,
          40.82925852,
          41.56052014,
          41.36224827,
          40.84339621,
          35.88494195,
          36.73090616,
          34.37366573,
          36.7496847,
          35.26862449,
          35.87518314,
          33.96472458,
          35.17364557,
          35.5426055,
          34.25103751,
          35.90692775,
          34.02807439,
          36.74817177,
          35.20413532,
          34.58840127,
          34.65973764,
          34.28845626,
          36.76268118,
          35.90230551,
          35.63853802,
          36.40823634,
          35.98772922,
          36.218019399999996,
          36.3791334,
          34.70418038,
          35.0167709,
          36.796296999999996,
          34.93535801,
          34.7440135,
          36.78836519,
          35.22257600000001,
          35.04912569,
          34.58781741,
          34.11130184,
          34.31440473,
          36.81799745,
          35.94530008,
          34.91671958,
          34.87844729,
          34.89851864,
          35.70270942,
          35.91899576,
          33.95273467,
          36.31149996,
          34.02311222,
          36.30179091,
          35.01123903,
          34.11664328,
          35.37235506,
          34.48116015,
          35.61318461,
          36.38953329,
          36.79843529,
          35.46485198,
          35.55140095,
          35.64661916,
          36.62888819,
          36.83532655,
          0,
          36.31743373,
          36.07695283,
          34.92065823,
          34.72959848,
          35.20614018,
          34.41635232,
          35.68711719,
          36.37004357,
          35.16478725,
          35.49447108,
          34.48556989,
          36.74777635,
          34.37288446,
          36.11939621,
          0,
          35.96024096,
          36.71380786,
          35.29071824,
          36.76705782,
          36.42316318,
          44.70915557,
          44.49167306,
          45.18787398,
          45.99712889,
          45.94464254,
          43.17406868,
          44.14230227,
          42.45911325,
          43.91570171,
          43.27941273,
          45.37160076,
          44.49024544,
          43.06422669,
          45.51872811,
          42.43201126,
          44.62806839,
          42.3665549,
          42.68762984,
          42.79246693,
          43.93727035,
          44.64252874,
          44.48899494,
          43.1937027,
          44.90287942,
          45.41846568,
          45.54747959,
          0,
          44.90322804,
          45.41501554,
          45.46248721,
          45.59073056,
          0,
          45.30915495,
          45.57894064,
          45.16292781,
          45.55972701,
          44.72698162,
          45.23330449,
          39.87140411,
          40.46809875,
          40.81665618,
          40.6825484,
          40.00522157,
          40.41570541,
          40.47961444,
          41.78869215,
          40.33682119,
          40.91152759,
          40.49527404,
          41.43625568,
          40.91545395,
          40.92058903,
          39.97291773,
          41.19265812,
          41.00110782,
          41.23255967,
          41.04821986,
          41.68447709,
          40.1625372,
          40.41377078,
          39.91680171,
          41.42822061,
          41.99253829,
          39.92041012,
          41.51095103,
          39.92956518,
          39.92913544,
          39.85746531,
          40.42162652,
          40.65241041,
          41.12913106,
          40.53358749,
          41.43564672,
          40.03904563,
          40.99206278,
          40.36680311,
          40.6154815,
          41.17823008,
          41.34310539,
          41.80938602,
          41.30248872,
          40.61116939,
          41.05934058,
          40.21053671,
          41.03023987,
          40.75182733,
          40.84785433,
          0,
          40.40206612,
          40.00338507,
          41.33155042,
          41.74471626,
          40.70497338,
          40.77129231,
          39.97172723,
          41.44634738,
          41.82147784,
          41.77255149,
          0,
          40.96188846,
          41.40323442,
          41.81304978,
          40.19208869,
          41.64938475,
          40.31377979999999,
          41.51955538,
          39.9210089,
          18.180117000000006,
          18.360255,
          18.459681,
          18.251619,
          18.131361,
          18.287985,
          18.406631,
          17.998457000000005,
          18.445532999999998,
          18.201592,
          18.34946,
          18.040993,
          18.211615,
          18.418578,
          18.328802,
          18.374986,
          18.437269,
          18.102851,
          18.251818,
          18.28885,
          18.173559,
          18.097597,
          18.224687,
          18.304264,
          18.31586,
          18.436115,
          18.318373,
          18.373715,
          17.982429,
          18.007516,
          18.039942,
          18.345114000000002,
          18.266461,
          18.410928,
          18.134532,
          18.145211,
          18.44981,
          18.211446,
          18.050764,
          18.223793,
          18.011661,
          18.269035000000002,
          18.23679,
          18.187527,
          18.425688,
          18.342114000000002,
          18.420473,
          18.171795,
          18.017889,
          18.175457,
          18.377805,
          18.316963,
          18.230636999999998,
          18.288019,
          18.215046,
          0,
          18.03174,
          18.059645,
          18.059498,
          18.439692,
          18.335442999999998,
          18.346329,
          18.08282,
          18.010386999999994,
          18.111484,
          18.386933,
          18.147987,
          18.328646,
          17.994525,
          18.362406,
          18.431445999999998,
          18.336159,
          0,
          18.271214,
          18.409346,
          18.428262,
          18.123276,
          18.127951,
          18.070399,
          18.080374,
          41.71018079,
          41.67106337,
          41.5642026,
          0,
          41.87064746,
          0,
          41.45961631,
          34.22333378,
          33.54338026,
          32.98837386,
          34.51828081,
          33.21927586,
          33.26679302,
          32.39226291,
          33.20222596,
          33.66926881,
          32.82487866,
          35.05122251,
          34.69249168,
          34.64137396,
          33.66610974,
          32.87582989,
          34.33358335,
          34.39007791,
          33.0794369,
          33.77221995,
          34.39287073,
          34.02361754,
          33.43443342,
          34.89502264,
          34.15272415,
          32.77419582,
          33.9212828,
          32.43171982,
          34.33988254,
          34.68270843,
          34.48244419,
          34.16393091,
          33.89665987,
          34.07859748,
          34.59905577,
          33.90161443,
          34.28629098,
          34.75225169,
          33.4391073,
          0,
          34.88807695,
          34.01791263,
          34.00795823,
          34.92960077,
          33.91826534,
          0,
          34.68835752,
          33.62190129,
          34.97281497,
          43.71757685,
          44.41464384,
          43.19486375,
          42.98914167,
          44.36974375,
          45.58994323,
          43.71756379,
          44.07657829,
          44.90608745,
          45.77074915,
          43.20660134,
          44.85834507,
          42.91296147,
          44.97788119,
          45.70889983,
          43.67741105,
          43.67490933,
          45.367281,
          44.75994309,
          45.15639647,
          43.38520741,
          45.41846445,
          43.23929297,
          45.07082625,
          45.1723937,
          43.19419064,
          44.29299053,
          44.67385954,
          44.54708407,
          43.6746384,
          45.58015551,
          44.39091534,
          43.33449012,
          44.54747703,
          43.69318385,
          44.06637798,
          43.96278565,
          44.36956169,
          44.02193107,
          44.35919441,
          43.27841182,
          43.89522709,
          45.75870838,
          43.6742571,
          45.76626028,
          44.56676791,
          43.58078848,
          44.02197882,
          43.67441641,
          44.02266214,
          43.33749164,
          0,
          44.0025835,
          45.49049506,
          45.06583079,
          45.62975048,
          44.02351092,
          44.93837606,
          44.41381872,
          44.71571812,
          43.19338568,
          43.34459388,
          43.3109081,
          0,
          42.83112163,
          45.43019636,
          43.00924485,
          44.97881876,
          36.12684348,
          35.51123746,
          36.07110411,
          35.59942968,
          35.68938198,
          35.15739424,
          36.40355516,
          35.80990797,
          35.97366108,
          36.28969086,
          36.26136216,
          35.42527478,
          36.48319149,
          36.55151008,
          35.9278914,
          35.49090731,
          35.81830662,
          35.95271721,
          36.17007426,
          35.97616272,
          35.60048904,
          36.14669837,
          36.05931946,
          35.19615831,
          36.38128818,
          35.15634626,
          35.99438059,
          35.20222469,
          36.27469206,
          36.17470125,
          35.38433717,
          36.21990035,
          35.17670231,
          36.52692871,
          35.20772017,
          35.19732531,
          36.44355426,
          35.58332824,
          35.65581134,
          36.33160906,
          35.80609681,
          36.28872054,
          36.03958805,
          36.36380466,
          36.04818632,
          36.45523950000001,
          35.99508821,
          36.34180170000001,
          35.75893438,
          35.21675201,
          35.52853208,
          35.13738622,
          35.73939663,
          36.53157855,
          35.61181957,
          35.12997174,
          35.45798777,
          35.618741299999996,
          35.42812616,
          35.17468549,
          35.51558739,
          35.44550387,
          36.49609412,
          35.27724699,
          36.13248031,
          36.35732446,
          0,
          36.34117832,
          35.63708728,
          36.55606529,
          35.12245443,
          36.14005459,
          35.60536161,
          35.84923189,
          36.52454807,
          35.84591405,
          36.42325673,
          35.36979721,
          35.78077323,
          35.1864775,
          36.25359775,
          36.50235092,
          36.51240691,
          36.46824103,
          35.501942,
          36.39026213,
          0,
          36.10890856,
          36.28590426,
          35.69864497,
          35.672829899999996,
          36.29472368,
          35.23868267,
          36.29896232,
          35.92929884,
          35.89099229,
          36.15496772,
          31.81534745,
          32.30468633,
          31.25457347,
          28.10556197,
          33.61569967,
          34.96507426,
          28.89333001,
          29.88548725,
          34.06854817,
          29.74619598,
          30.10370699,
          33.61640794,
          28.41761668,
          31.03736027,
          29.44928723,
          30.26640707,
          32.74363984,
          31.89978581,
          33.44626922,
          29.18757369,
          30.663644800000004,
          29.81008251,
          34.53026962,
          27.03103197,
          31.77430356,
          30.49273808,
          30.78801353,
          29.83668859,
          28.47048236,
          32.29760619,
          26.14524221,
          32.97195142,
          35.40365929,
          33.07499881,
          34.53016752,
          29.70972016,
          31.837258000000002,
          34.529304100000004,
          33.78686685,
          33.60425307,
          31.88911733,
          31.76736834,
          33.18820114,
          34.96489496,
          29.622097999999998,
          29.80811278,
          31.94854689,
          31.32635934,
          33.63979567,
          31.39078397,
          34.07783319,
          31.43052248,
          30.72367027,
          33.61431553,
          31.44506775,
          36.27787176,
          32.76670599,
          32.74255572,
          29.08101855,
          34.96522957,
          33.38570922,
          33.20521901,
          33.61616822,
          28.42270064,
          34.96517499,
          27.68184592,
          32.32743996,
          31.86898877,
          29.98202582,
          31.76980765,
          32.34894117,
          32.23602653,
          31.25350609,
          33.59564294,
          29.87788372,
          32.74281316,
          34.07227468,
          33.97308618,
          29.52704478,
          33.17653242,
          31.70422788,
          28.86751206,
          32.74055318,
          29.40167322,
          33.17969345,
          30.31824095,
          31.86942909,
          28.65696592,
          29.45634206,
          35.40081878,
          33.62744998,
          32.47940482,
          30.54579585,
          29.58165339,
          34.07044901,
          34.5307555,
          31.70470573,
          36.27743284,
          34.28944521,
          30.33364686,
          29.85864939,
          32.54935988,
          35.84008013,
          33.17823584,
          30.05669873,
          35.83764858,
          32.21128872,
          26.39418217,
          31.99045053,
          33.60771256,
          32.42990927,
          33.14875072,
          31.31925973,
          32.30621324,
          31.45628381,
          33.12351514,
          35.84006574,
          31.30375559,
          33.23377248,
          28.95472367,
          30.74685667,
          30.71490589,
          29.8832777,
          27.04453923,
          27.73103938,
          32.37877812,
          32.73997145,
          28.90705334,
          32.599141700000004,
          29.94414155,
          26.92601662,
          33.18104136,
          30.06040006,
          30.48678918,
          33.61643847,
          29.34967888,
          27.42435506,
          33.60519951,
          28.34453111,
          33.66981763,
          34.06859623,
          31.19531316,
          29.38508402,
          30.31120597,
          31.29872538,
          30.15152688,
          31.5454767,
          36.27783108,
          28.35101362,
          30.70645047,
          31.84947612,
          33.61008596,
          33.17657705,
          30.96694679,
          32.79868409,
          32.30600051,
          30.71780434,
          28.81955746,
          28.7429195,
          31.1925468,
          31.55255453,
          28.35251708,
          29.355730100000002,
          30.88990665,
          31.86904128,
          30.78581830000001,
          31.49557106,
          32.30623474,
          33.67521893,
          30.30079133,
          35.83769242,
          33.11304005,
          34.07408766,
          31.62017125,
          32.04620681,
          30.78548982,
          32.30365282,
          27.736286,
          36.27829105,
          35.40425596,
          30.11879481,
          0,
          32.75310985,
          32.163959600000005,
          32.77757172,
          34.52993409,
          30.78097267,
          30.79472531,
          35.40133773,
          29.99954402,
          32.87109387,
          34.96585996,
          31.36607041,
          29.83321503,
          33.61886692,
          31.32323325,
          28.323897600000002,
          35.83809685,
          31.02539637,
          32.89779518,
          31.8314342,
          32.10773545,
          31.34318809,
          31.39457611,
          30.57933681,
          28.00880118,
          31.1577796,
          30.89740592,
          32.74613808,
          32.73587756,
          31.79211404,
          36.27751473,
          32.37474036,
          32.22236802,
          26.56150059,
          32.73553157,
          31.82781912,
          33.17906744,
          30.49856623,
          34.53028891,
          32.77143818,
          32.30163422,
          30.22429013,
          33.17402785,
          33.17751417,
          33.21339719,
          31.40464436,
          30.33432034,
          31.0879489,
          30.77031716,
          0,
          32.73706798,
          31.36868194,
          29.35739637,
          29.89149232,
          32.56483801,
          28.79780988,
          30.73872995,
          30.01058447,
          31.50999644,
          30.21498498,
          27.7610369,
          29.27765923,
          35.40114335,
          33.98842886,
          34.07945812,
          26.47411727,
          30.64655664,
          29.1732598,
          31.85008651,
          33.21570665,
          32.78722382,
          33.17320212,
          33.17659707,
          27.00156391,
          28.86617238,
          41.52106798,
          38.35657051,
          41.52106798,
          41.72330587,
          39.64834818,
          39.37231946,
          40.88798265,
          40.99001837,
          40.29772254,
          38.99617072,
          37.85447192,
          38.98103848,
          37.85903620000001,
          39.70208397,
          37.28507306,
          39.0729209,
          41.08830262,
          0,
          38.33815254,
          41.63137678,
          40.66616532,
          37.62762978,
          39.37231946,
          38.74837146,
          38.99617072,
          37.85447192,
          40.86688146,
          40.44862644,
          40.12491499,
          40.12491499,
          0,
          40.116672200000004,
          40.33110236,
          37.28003525,
          38.32335822,
          41.27116049,
          41.27116049,
          44.03217337,
          43.03519828,
          44.46548598,
          44.46322849,
          44.72736416,
          44.85627605,
          44.797582399999996,
          44.60353043,
          44.00470222,
          44.82964024,
          0,
          43.57723578,
          0,
          44.27343241,
          42.986982,
          43.58010937,
          18.3358,
          37.76707161,
          38.02080697,
          38.814003,
          37.78636074,
          37.34081025,
          37.60308293,
          37.37569884,
          38.8767675,
          38.16404586,
          38.05852573,
          37.3080028,
          37.13128068,
          37.55531756,
          36.616302399999995,
          36.76366949,
          37.26818323,
          37.57242268,
          37.73484642,
          37.20553386,
          38.02679129,
          36.73066666,
          37.35358063,
          37.01909701,
          38.03527919,
          36.67670048,
          37.37373208,
          39.11271747,
          37.26420587,
          37.7824656,
          37.48133648,
          38.48199985,
          37.51328851,
          36.58022376,
          37.12560977,
          37.07544585,
          36.69455571,
          37.93357639,
          38.83677558,
          38.85157547,
          38.88485255,
          38.73564842,
          36.9302126,
          37.84157909,
          36.99536167,
          36.6831435,
          39.20172582,
          38.2977863,
          36.66601852,
          37.31234791,
          37.40809042,
          37.71714806,
          36.65677234,
          38.29545894,
          36.67878901,
          36.76654925,
          37.03513786,
          37.7583355,
          38.43542574,
          37.53460572,
          36.68542395,
          38.35799465,
          37.29186313,
          36.90579348,
          37.31156958,
          38.26818502,
          37.70965316,
          37.71044922,
          37.71889653,
          36.70586667,
          37.78258621,
          39.08990083,
          37.97850256,
          36.94618528,
          37.40021399,
          38.41531222,
          38.7464321,
          38.77058531,
          36.68212094,
          37.44164146,
          36.67882005,
          37.63191998,
          37.17746986,
          37.78790447,
          37.50694406,
          37.08166899,
          36.89934014,
          37.34062933,
          37.89202088,
          36.93357076,
          37.1435975,
          38.24530219,
          0,
          38.61807452,
          36.680163799999995,
          37.20530399,
          36.81980341,
          37.14259351,
          36.85914825,
          37.55016038,
          37.22554789,
          37.18497668,
          38.70916224,
          37.06474963,
          37.12222899,
          38.68295619,
          37.937575,
          37.53255773,
          37.26865804,
          37.27791025,
          37.81204314,
          38.51006137,
          36.93028320000001,
          37.2836193,
          36.71466456,
          38.85905135,
          36.84455636,
          36.72231125,
          38.18574462,
          38.41758738,
          38.15965544,
          36.70155394,
          37.11781893,
          36.92432914,
          37.12191123,
          0,
          36.73285734,
          38.90847745,
          36.72341572,
          38.06451466,
          38.11021557,
          37.28131268,
          39.17054517,
          36.9746148,
          36.91582035,
          37.24374789,
          46.98299757,
          46.18894415,
          46.23946995,
          47.87046092,
          48.04754642,
          45.77568046,
          46.29442881,
          46.19074721,
          47.7361335,
          48.471143100000006,
          46.53351425,
          46.43197502,
          47.20753737,
          47.14003705,
          48.14713305,
          47.75003077,
          47.49137892,
          47.63479026,
          47.12521214,
          45.87325839,
          46.57756476,
          47.57705241,
          47.35007586,
          48.54855019,
          0,
          46.55418369,
          48.53234021,
          47.03892768,
          48.60182783,
          48.48171488,
          46.02408726,
          48.04615983,
          47.62113146,
          48.40035475,
          46.9291895,
          0,
          46.29180039999999,
          46.23040051,
          48.82227976,
          46.90022523,
          46.45738486,
          39.1307219,
          39.46704621,
          38.01974191,
          38.70036159,
          40.27367263,
          38.42424062,
          38.84315422,
          38.46231092,
          39.27057157,
          38.02974928,
          38.9251277,
          39.10314817,
          37.9463652,
          39.32103553,
          40.51943859,
          39.00683177,
          39.2853852,
          38.84263974,
          39.30776166,
          38.33860077,
          38.9947249,
          38.172154,
          37.8299889,
          39.50984542,
          39.86064362,
          38.77071799,
          37.38002939,
          37.40481169,
          39.41561583,
          37.73048351,
          39.63218457,
          37.56274716,
          39.55439028,
          38.29617706,
          40.0955451,
          0,
          38.68314479,
          39.37091679,
          38.32758728,
          39.46770987,
          38.50782345,
          37.76936795,
          38.769899,
          39.18094587,
          38.71622686,
          37.65390597,
          39.33602617,
          39.11240885,
          39.46811972,
          0,
          38.89285061,
          38.14901357,
          38.49370949,
          39.6065771,
          39.02775007,
          39.20967886,
          37.612327,
          43.96974651,
          46.31956891,
          45.42372701,
          46.52868768,
          44.452655299999996,
          44.37835084,
          45.86303537,
          44.0816316,
          45.06939744,
          44.73483377,
          43.46492199,
          43.23870316,
          43.06601594,
          43.41576662,
          44.95856458,
          46.43222285,
          44.94562799,
          44.726614,
          45.84963535,
          43.75354908,
          45.66678019,
          42.8671731,
          42.6794956,
          43.80025981,
          43.00050278,
          46.26302338,
          44.31864893,
          43.02054068,
          43.92456975,
          42.57639354,
          44.51727459,
          43.90632465,
          42.66005229,
          45.26271619,
          45.33737523,
          44.11946801,
          44.89792533,
          45.38553432,
          43.81911946,
          45.00422544,
          43.00486062,
          43.94641218,
          45.02715345,
          45.70677897,
          0,
          44.41578887,
          43.38352225,
          44.58307413,
          44.71850291,
          45.46130348,
          44.47558711,
          45.68051754,
          42.74753117,
          43.3762778,
          42.67151616,
          45.47498854,
          43.42574087,
          45.87931905,
          44.78902246,
          43.72099677,
          45.03437474,
          45.21179252,
          44.30360275,
          0,
          43.59422667,
          46.05467334,
          42.66858202,
          45.89838588,
          43.36863664,
          43.01833055,
          44.47068056,
          44.11324419,
          44.06886922,
          44.45537896,
          41.65498705,
          44.52405055,
          44.24886082,
          41.69357844,
          42.97272268,
          44.58855102,
          43.04183996,
          42.08798185,
          43.71930657,
          44.04057166,
          41.30702520000001,
          42.26376367,
          42.96180148,
          43.05607708,
          0,
          44.52157546,
          42.13299116,
          44.79048913,
          42.76558279,
          41.65943896,
          43.93522482,
          41.2878183,
          0,
          43.90451606,
          43.83961191
         ],
         "legendgroup": "",
         "lon": [
          -86.64408227,
          -87.72207058,
          -85.3871286,
          -87.12511459999996,
          -86.56790593,
          -85.71265535,
          -86.68057478,
          -85.82630386,
          -85.39072749,
          -85.60638968,
          -86.7173256,
          -88.26564429999998,
          -87.83548597,
          -85.85836077,
          -85.52005899,
          -85.98901039,
          -87.80168544,
          -86.99320044,
          -86.24847739,
          -86.45050893,
          -86.31593104,
          -86.86888037,
          -85.61095742,
          -87.10866709999998,
          -85.80782906,
          -86.14415284,
          -87.15918694,
          -86.04051873,
          -87.73886638,
          -87.84289505,
          -85.83572839,
          -87.95684022,
          -87.63284988,
          -85.24267944,
          -85.29939599,
          -85.99750489,
          -86.89506300000002,
          -88.09668032,
          -87.65624729,
          -87.31069453,
          -85.35132246,
          -86.98310072,
          -86.65158371,
          -85.69267724,
          -86.55069633,
          -87.78796182,
          -87.88704173,
          -86.30486727,
          -88.20842409,
          -87.36995001,
          -86.20969272,
          -86.85475946,
          0,
          -87.29770589,
          -88.08818103,
          -85.9408295,
          -85.45708831,
          -85.18415324,
          -86.66232561,
          -86.31029372,
          -88.19916205,
          -86.16886178,
          -85.79833053,
          -87.52556818,
          0,
          -87.30027177,
          -88.20689944,
          -87.30891118,
          -87.37325922,
          -161.9722021,
          -174.1596,
          -149.14269860000005,
          -159.8561831,
          -156.701064,
          -156.21405890000003,
          -150.0076108,
          -158.23819419999995,
          -146.5692662,
          -135.4679843,
          -135.64244240000002,
          -134.200436,
          -151.53888840000005,
          -130.975561,
          -153.7493579,
          -163.39678830000003,
          -149.5741743,
          -164.0353804,
          -153.4836093,
          -159.7503946,
          0,
          -132.9540995,
          -133.0511621,
          -135.3206587,
          -135.33377480000001,
          -143.2127643,
          0,
          -144.7126799,
          -132.05837309999998,
          -140.36014509999998,
          -151.39073869999999,
          -170.132,
          -109.4892383,
          -109.7516088,
          -111.77071780000001,
          -110.8132779,
          -109.8882178,
          -109.2405279,
          -113.98100290000001,
          -112.49181540000001,
          -113.7577902,
          -110.3218983,
          0,
          -111.7890033,
          -111.3449483,
          -110.8479088,
          0,
          -112.5538588,
          -113.90666740000002,
          -91.37277296,
          -91.76984709999999,
          -92.33782872,
          -94.25680817,
          -93.09374925,
          -92.15980837,
          -92.49974403,
          -93.54270261,
          -91.29539209,
          -93.17484713,
          -90.4148172,
          -92.02640019,
          -92.18537045,
          -93.22642793,
          -92.70506566,
          -90.63235729,
          -94.2446814,
          -90.30839406,
          -90.77185818,
          -92.65167437,
          -91.25500948,
          -91.71777921,
          -92.33717519,
          -93.89299569,
          -91.81729127,
          -93.14921604,
          -92.42320562,
          -90.55832668,
          -93.66935133,
          -92.95396325,
          -93.9934871,
          -91.57001641,
          -91.90847954,
          -91.21494602,
          -91.92619839,
          -93.46036368,
          -93.60677071,
          -91.10867198,
          -90.78383866,
          -91.74002806,
          -94.23468591,
          -93.71951016,
          -91.88742357,
          -93.72524943,
          -92.68451899,
          -93.89285258,
          -90.05194370000002,
          -91.20540287,
          -93.65824478,
          -93.30632432,
          -93.21612969,
          -92.87795984,
          0,
          -92.94372564,
          -90.84800154,
          -93.65789349,
          -90.66268713,
          -94.22728802,
          -93.03212219,
          -91.55162157,
          -92.31355101,
          -91.02455531,
          -92.67583224,
          -94.0632176,
          -92.69936482,
          -94.27162713,
          -94.2424869,
          -91.47819342,
          -90.74828138,
          -92.15684085,
          0,
          -92.59746952,
          -92.51295036,
          -94.21800746,
          -91.74908296,
          -91.2439489,
          -93.41171338,
          -121.8929271,
          -119.82235940000001,
          -120.65696000000001,
          -121.6005252,
          -120.55291299999999,
          -122.2331726,
          -121.9289527,
          -123.89740630000001,
          -120.5233166,
          -119.6466953,
          -122.3938452,
          -123.876044,
          -115.36690420000001,
          -117.41119779999998,
          -118.72777959999999,
          -119.8159973,
          -122.75362439999999,
          -120.59350990000002,
          -118.22824109999999,
          -119.76655890000002,
          -122.72106310000001,
          -119.9073334,
          -123.39113130000001,
          -120.72090349999999,
          -120.7244817,
          -118.8872409,
          -121.24133970000001,
          -122.33283899999999,
          -120.76272809999999,
          -117.76459979999998,
          0,
          -120.72405690000001,
          -120.8395236,
          -115.9933578,
          -121.34253740000001,
          -121.069975,
          -116.1774685,
          -116.73653259999999,
          -122.43856720000001,
          -121.2730061,
          -120.4039028,
          -122.32755459999998,
          -120.0188492,
          -121.6970462,
          -122.0066524,
          -122.0396884,
          -120.52007009999998,
          -122.54074340000001,
          -121.9357113,
          -122.88625060000001,
          -120.9970722,
          -121.6945899,
          -122.23701709999999,
          -123.114713,
          -118.8020203,
          -119.95250929999999,
          0,
          -119.09106129999999,
          -121.90182879999999,
          -121.35356440000001,
          -104.3362578,
          -105.7885451,
          -104.3353617,
          -107.04768670000001,
          -102.5603223,
          -103.0720195,
          -105.3546767,
          -105.0566324,
          -106.19265729999998,
          -102.6032558,
          -105.6463118,
          -106.19174879999998,
          -105.4276548,
          -103.7844965,
          -105.3683478,
          -107.86313419999999,
          -104.87256950000001,
          -108.5211585,
          -104.930001,
          -106.6933637,
          -104.5251411,
          -104.13587209999999,
          -105.43996670000001,
          -107.902708,
          -105.5252597,
          -106.11780420000001,
          -107.0320729,
          -107.3004345,
          -104.9612585,
          -106.3408905,
          -105.2517692,
          -102.7392145,
          -102.60221990000001,
          -107.8429014,
          -106.35556969999999,
          -105.4625784,
          -104.03764579999999,
          -103.51366490000001,
          -103.110817,
          -108.469799,
          -106.92816979999999,
          -108.2070876,
          -108.59588570000001,
          -108.26390220000002,
          -103.8093302,
          -103.7173385,
          -107.7675136,
          0,
          -105.7182065,
          -102.3577703,
          -106.9310027,
          -102.3926052,
          -104.5127437,
          -108.2179009,
          -106.3847838,
          -106.9905548,
          -106.28246599999999,
          -107.67632890000002,
          -108.4020725,
          -102.3519227,
          -106.1150762,
          -105.16148929999999,
          0,
          -103.202587,
          -104.39296209999999,
          -102.4258673,
          -73.3881171,
          -72.73103891,
          -73.2451475,
          -72.53714864,
          -72.93620426,
          -72.10430976,
          0,
          -72.3308481,
          0,
          -71.98182316,
          -75.56884914,
          -75.64054974,
          0,
          -75.39031349,
          0,
          0,
          -77.01655992,
          0,
          0,
          -82.35928158,
          -82.28467476,
          -85.62122584,
          -82.16611613,
          -80.73091022,
          -80.48725556,
          -85.19394153,
          -81.92949121,
          -82.47614748,
          -81.85609986,
          -81.34687065,
          -82.62160164,
          -81.80941373,
          -83.15724673,
          -81.66976468,
          -87.37284571,
          -81.31508595,
          -84.82731662,
          -84.61915825,
          -82.79880657,
          -81.18996211,
          -85.24270990000002,
          -82.94998918,
          -81.80956574,
          -81.16469006,
          -82.42700204,
          -81.34071957,
          -82.32013172,
          -85.81319222,
          -80.60556721,
          -85.21500423,
          -83.89442308,
          -83.18166636,
          -81.7125123,
          -81.88399313,
          -84.27491114,
          -82.74007147,
          -84.8829258,
          -83.47398594,
          -82.31831044,
          -82.05803627,
          -80.43109784,
          -80.55170587,
          -81.07812416,
          -81.80297522,
          -86.59267105,
          -80.88944347,
          -81.31799498,
          -81.14882926,
          0,
          -80.46536002,
          -82.40227529,
          -82.72239666,
          -81.69732947,
          -81.74230285,
          -87.02458128,
          -82.33174248,
          -81.24060348,
          -81.43589967,
          -80.47106649,
          -82.0794267,
          -82.99099670000003,
          -83.60445406,
          0,
          -82.37497443,
          -81.18263252,
          -84.39895211,
          -86.16935664,
          -85.66002461,
          -82.28909114,
          -82.87545866,
          -82.45936528,
          -84.44218806,
          -83.24701748,
          -83.49644388,
          -83.71436292,
          -84.83887523,
          -83.22145359,
          -83.22529920000002,
          -83.70489165,
          -83.33035166,
          -81.97743999,
          -83.58303423,
          -81.44002948,
          -81.74811421,
          -81.99928721,
          -83.95435040000002,
          -84.62725131,
          -81.66601818,
          -82.07702563,
          -85.07976677,
          -85.13757014,
          -82.13951596,
          -81.12489526,
          -84.78809239,
          -85.34535662,
          -84.47431861,
          -83.37124007,
          -84.97713865,
          -84.35594188,
          -82.70432472,
          -84.5761255,
          -82.85492059999999,
          -83.7677946,
          -82.263524,
          -83.42947229,
          -84.76129976,
          -83.98061238,
          -83.76811843,
          -85.50490424,
          -84.16964071,
          -84.22396017,
          -84.57619536,
          -83.16948926,
          -83.79746561,
          -84.21722377,
          -84.77026156,
          -84.90255207,
          -82.89687287,
          -81.34280942,
          -82.83936148,
          -82.30239915,
          -81.8870105,
          -84.316964,
          -84.49089434,
          -85.21577392,
          -84.12315129999998,
          -83.23159927,
          -84.46319413,
          -84.45802506,
          -82.61297636,
          -81.53811412,
          -84.87296253,
          -84.23418364,
          -83.17139104,
          -84.02137802,
          -83.53094677,
          -83.81896936,
          -82.99766919,
          -85.21005667,
          -84.90538572,
          -82.96567682,
          -85.12886832,
          -84.14814659999998,
          -83.66879087,
          -83.27501387,
          -83.56814788,
          -83.68844964,
          -82.63724870000001,
          -82.41609057,
          -81.96040187,
          -82.66166794,
          -83.56019163,
          -84.14263877,
          -83.06472457,
          -82.92221316,
          -84.14324253,
          -81.49251135,
          -82.45024131,
          -81.74952375,
          -83.27056716,
          -84.00425681,
          -84.04234127,
          -83.21218732,
          -84.52733571,
          -82.48252774,
          -81.40163426,
          -84.68859732,
          -84.73151117,
          -84.19381821,
          -83.92097166,
          -82.53527476,
          -83.49129491,
          -84.74993177,
          -84.87142262,
          -83.84547140000002,
          -83.43679568,
          -83.08278123,
          0,
          -84.86848792,
          -83.82937,
          -84.46406611,
          -82.21598442,
          -84.38790389,
          -85.18677781,
          -83.47549959999998,
          -83.37552891,
          -85.01773177,
          -83.40304637,
          -84.75732369,
          -82.07026432,
          -84.02202167,
          -84.31258912,
          -81.60779441,
          -84.86823924,
          -84.28013991,
          -83.29405315,
          -84.83208037,
          -84.19821492,
          -84.53351366,
          -82.88136816,
          -82.05539188,
          -84.25077141,
          -82.93491155,
          -84.44069698,
          -83.91847289,
          -83.5236119,
          -82.32957247,
          -83.74107459999998,
          -82.56904553,
          -85.02812115,
          -83.62069378,
          -83.43078662,
          0,
          -83.98967069,
          -84.30024826,
          -85.30165174,
          -83.73552314,
          -82.42224148,
          -82.67795848,
          -82.79357039,
          -81.91894878,
          -84.54742852,
          -82.72574721,
          -83.74905525,
          -84.96093476,
          -83.43438555,
          -82.74286107,
          -83.17140684,
          -83.85090513,
          0,
          144.7937,
          -155.5210167,
          -157.97121819999995,
          -156.9583592,
          -159.5966786,
          -156.56890969999995,
          0,
          0,
          -116.24155159999998,
          -116.4545247,
          -112.2233311,
          -111.32892379999998,
          -116.6586851,
          -112.3978437,
          -113.9752658,
          -115.7309284,
          -116.6017932,
          -111.6161537,
          -116.4630179,
          -113.1735463,
          -114.8065892,
          -116.70954990000001,
          -111.5597683,
          -113.6012409,
          -112.35057040000001,
          -115.6622393,
          -114.2855494,
          -115.4701578,
          -111.81496659999999,
          -111.48099429999999,
          -116.398376,
          -114.81083059999999,
          -115.4634436,
          -112.3131749,
          -114.2655033,
          -116.7020872,
          -116.71136979999999,
          -113.9309747,
          -116.434146,
          -114.1358773,
          -111.65384740000002,
          -113.6357257,
          -116.75009750000001,
          -112.5407838,
          0,
          -116.16938710000001,
          -116.7647695,
          -112.83957420000002,
          -115.89167490000001,
          -111.2056773,
          -114.6685381,
          0,
          -115.5676773,
          -116.78476880000001,
          -91.18786813,
          -89.32910838,
          -89.43534887,
          -88.82345779,
          -90.75068024,
          -89.5283051,
          -90.66330078,
          -89.93395545,
          -90.24734436,
          -88.20046615,
          -89.27780482,
          -87.78705622,
          -88.48914513,
          -89.42385254,
          -88.22358557,
          -87.81658794,
          -87.75954624,
          -88.2401158,
          -88.90959682,
          -88.76958483,
          -88.21854195,
          -88.08642662,
          -87.74759563,
          -88.05720863,
          -88.58969584,
          -89.02452658,
          -88.22350769,
          -88.92567818,
          -90.20862357,
          -88.22953869,
          -90.388865,
          -88.41905692,
          -88.53883373,
          -91.16313899,
          -88.26873022,
          -90.92491462,
          -90.13296166,
          -87.82466784,
          -89.38232563,
          -88.15437049,
          -88.9240025,
          -90.35393073,
          -90.21094405,
          -88.88165419,
          -88.42861412,
          -87.86205334,
          -88.42869583,
          -90.21330340000002,
          -88.88633881,
          -88.00367925,
          -87.72884035,
          -89.29977132,
          -88.55784752,
          -89.36638784,
          -88.96342505,
          -89.92424028,
          -89.90422563,
          -88.91899208,
          -89.34510444,
          -89.91824452,
          -88.71036614,
          -90.67775541,
          -88.45248227,
          -88.84621113,
          -89.80246001,
          -90.74290052,
          -90.17761038,
          -89.47809254,
          -90.20255104,
          -88.62099969,
          -89.32184679,
          0,
          -89.76078901,
          -89.36856219,
          -88.59319339,
          -90.8877017,
          -88.56152109,
          -89.13085001,
          -89.2869272,
          -89.82512254,
          -88.08475366,
          -90.57042164,
          -88.54119706,
          -89.65872023,
          -90.61114163,
          -90.47814431,
          -88.80611122,
          -89.93063427,
          -89.79745866,
          -89.662598,
          -89.51404662,
          0,
          -89.25548938,
          -87.73384359,
          -87.84922065,
          -90.6147432,
          -89.40982703,
          -88.42586459,
          -88.17657461,
          -89.91556058,
          -87.97862712,
          -88.92994027,
          -89.16085327,
          -89.20973757,
          -84.93671406,
          -85.06800636,
          -85.89558181,
          -87.31093999,
          -85.32499702,
          -86.46841646,
          -86.22868909,
          -86.56198812,
          -86.34830753,
          -85.70510334,
          -87.11723506,
          -86.47277257,
          -86.44518825,
          -87.07185406,
          -84.99906934,
          -84.97333539,
          -85.50087166,
          -85.39732772,
          -86.87924170000002,
          -85.85875695,
          -85.17797541,
          -85.90385377,
          -87.24217689,
          -85.06062647,
          -86.26252745,
          -87.58054938,
          -85.65468702,
          -86.96223202,
          -86.05244729,
          -85.77566351,
          -86.10948271,
          -86.51037283,
          -85.39625719,
          -86.11351892,
          -85.48822092,
          -86.03851889,
          -87.11553319,
          -85.00576229,
          -85.43633383,
          -85.62710784,
          -86.10149107,
          -87.4194665,
          -85.86312322,
          -85.42674232,
          -86.74072188,
          -87.38277575,
          -86.48361629,
          -85.71964711,
          -86.13826325,
          -86.26185087,
          -86.80373186,
          -86.04525048,
          -86.52414358,
          -86.89335024,
          -86.44573375,
          -87.39635768,
          -85.41966713,
          -84.96515993,
          -86.49523093,
          0,
          -86.83900724,
          -87.20375833,
          -86.63741946,
          -87.23574907,
          -87.06848888,
          -87.86480429,
          -86.69890683,
          -86.84517605,
          -85.01139319,
          -85.26212744,
          -85.4655599,
          -85.74627859,
          -85.79158570000001,
          -87.0079644,
          -86.29040834,
          -86.64686895,
          -85.00101094,
          -87.41414469,
          -85.03022429,
          -86.89413959,
          -86.05234925,
          0,
          -84.92497066,
          -87.58763124,
          -87.46160542,
          -87.39169027,
          -85.79328272,
          -87.35602659,
          -87.2716085,
          -86.1049363,
          -85.01044989,
          -85.22132966,
          -86.86492015,
          -85.50791236,
          -94.47105874,
          -94.69932645,
          -91.37860922,
          -92.86865906,
          -94.90581859,
          -92.06463573,
          -92.30524729,
          -93.9313999,
          -92.31795937,
          -91.83510825,
          -95.15100162,
          -92.79015971,
          -94.64046046,
          -94.86032705,
          -94.92792482,
          -91.13246684,
          -93.2612239,
          -95.62389402,
          -92.31773347,
          -93.78499767,
          -95.15096481,
          -91.34133693,
          -90.53275096,
          -95.3819718,
          -94.04127625,
          -92.41005468,
          -93.78645949,
          -91.3664492,
          -91.18326592,
          -95.1510206,
          -90.88181925,
          -94.67858943,
          -91.84412309999999,
          -92.78940097,
          -93.26256925,
          -95.60129045,
          -94.39658081,
          -92.78829551,
          -94.50111014,
          -93.70197703,
          -93.73454884,
          -93.23654611,
          -95.81558439,
          -91.54436349,
          -92.31702714,
          -94.20722537,
          -95.51355387,
          -92.0643373,
          -90.57354837,
          -93.05567785,
          -91.94849466,
          -91.58754744,
          -91.13139641,
          -92.1785067,
          -94.20691791,
          -91.48183025,
          -91.59809485,
          -91.26102611,
          -93.32780803,
          -96.20926845,
          -94.01554631,
          -92.64083907,
          -93.09934783,
          -92.99908190000001,
          -95.61920963,
          -92.78887719,
          -95.95743843,
          -92.8690667,
          -95.15642896,
          -91.11216970000001,
          -95.62474482,
          -95.62422844,
          0,
          -95.1497813,
          -94.67824621,
          -96.21366621,
          -94.67862564,
          -93.57767461,
          -95.53907776,
          -92.53155731,
          -94.24368535,
          -95.10547892,
          -90.61959493,
          -95.31015553,
          -96.17675679999999,
          -93.46499005,
          -92.53266945,
          -94.69778563,
          0,
          -94.24234847,
          -91.95017958,
          -92.40954728,
          -93.56007641,
          -91.71725711,
          -93.32752197,
          -94.17987389,
          -93.73407298,
          -91.84422722,
          -96.0459439,
          -93.26087602,
          -93.73515113,
          -95.30030847,
          -95.29272815,
          -95.30870026,
          -98.68460053,
          -98.75636726,
          -94.84865997,
          -95.56421698,
          -96.83878537,
          -96.59563862,
          -96.2454192,
          -94.8462897,
          -101.7318201,
          -99.81883015,
          -97.16518128,
          -97.64925343,
          -95.73379515,
          -99.27113247,
          -96.83776647,
          -94.85245778,
          -100.45940809999999,
          -97.15532383,
          -95.14056866,
          -95.2925121,
          -99.31263309,
          -96.24369667,
          -99.31751551,
          -98.20462799,
          -100.73819379999999,
          -99.88825298,
          -95.28644341,
          -96.7577178,
          -100.4829321,
          -99.88332493,
          -101.3079758,
          -100.4369088,
          -101.8061079,
          -96.23250453,
          -101.7921066,
          -98.07578384,
          -97.42747573,
          -100.8710738,
          -99.89829881,
          -95.79356799,
          -95.38289232,
          -98.21820662,
          -94.82250877,
          -101.32168100000001,
          -98.13638678,
          -99.2856537,
          -95.29849679,
          -100.46607540000001,
          -95.03620809,
          -98.20756994,
          -94.84254089,
          -101.148475,
          -96.15275715,
          -97.09852509999999,
          -96.52278974,
          -97.64769869,
          -100.36483100000001,
          -94.83832189,
          -98.20906732,
          -95.74329258,
          -96.65128437,
          -101.79925190000002,
          -96.01392079,
          -95.30670046,
          -99.91547333,
          -99.90286639,
          -95.72707998,
          -98.76753828,
          -97.65020313,
          0,
          -99.23692334,
          -99.34668865,
          -96.34564657,
          -98.73922153,
          -101.07616170000001,
          -98.08607292,
          -97.65036709,
          -98.19992118,
          -96.73420026,
          -99.32484567,
          -99.30863983,
          -98.76254297,
          -97.65185177,
          -100.90665390000001,
          -97.4608198,
          -100.85072009999999,
          -95.75572640000001,
          -100.44182590000001,
          -101.71976240000001,
          -98.78566062,
          -98.71762001,
          -101.78435340000001,
          -101.3118967,
          -97.47721621,
          -101.0553705,
          -99.87284448,
          0,
          -96.20350509,
          -101.76388759999999,
          -97.08753229999999,
          -101.3471509,
          -95.74323255,
          -95.74006277,
          -94.76378225,
          -85.28129668,
          -86.19457544,
          -84.99171713,
          -88.99427697,
          -85.93338945,
          -83.74588932,
          -83.67766671,
          -84.72615357,
          -84.21827874,
          -82.68652187,
          -84.8633779,
          -84.08532444,
          -83.31959161,
          -86.42885017,
          -85.68955617,
          -86.68748787,
          -87.86948214,
          -88.2731593,
          -84.37875208,
          -88.96692220000001,
          -85.12601074,
          -83.05092385,
          -84.92726209,
          -87.49055367,
          -84.14615986,
          -83.712575,
          -85.13377529,
          -88.08826090000002,
          -85.39050034,
          -87.09019479999998,
          -86.23955613,
          -83.09771563,
          -83.95956369,
          -84.45576892,
          -83.69657514,
          -82.74750924,
          -84.87962551,
          -89.20140068,
          -84.8558382,
          -84.53289319,
          -84.62415957,
          -88.65143315,
          -86.34248968,
          -85.5540745,
          -82.9215658,
          -86.78280584,
          -85.96319251,
          -83.21899516,
          -84.32869741,
          -85.88461055,
          -87.57392021,
          -85.11587507,
          -88.97875928,
          -87.54670406,
          -83.99825483,
          -85.65931031,
          -84.58252003,
          -82.8264322,
          -84.53241199,
          -82.94981134,
          -83.85403396,
          -85.70138352,
          -84.11321779,
          -82.72882223,
          -83.71513901,
          -83.37999606,
          -82.85346474,
          -83.37735618,
          -84.6565327,
          -88.34797529,
          -86.877635,
          -88.07886257,
          -84.27220275,
          -83.0657714,
          -85.26898542,
          -88.32803576,
          -82.51247478,
          -83.82151043,
          -88.70445755,
          -84.48102924,
          -87.26803443,
          -86.21028219,
          -83.59985712,
          -84.87488475,
          -85.63123699,
          -85.71596443,
          -83.9145241,
          -83.25558245,
          -87.14632053,
          -85.4657193,
          -84.01889177,
          -86.85368087,
          -85.448222,
          0,
          -84.82404619,
          -83.68811419,
          -84.35599463,
          -83.22922731,
          -82.39487445,
          -83.82553961,
          -84.57629079,
          -84.05055616,
          -84.31176452,
          -83.42088935,
          -85.06070117,
          -84.5816631,
          -85.194223,
          -86.58047435,
          -85.32749335,
          -85.3329931,
          -87.17878374,
          -87.87333656,
          -85.33775972,
          0,
          -87.94300009,
          -86.42672751,
          -85.17407732,
          -84.8251971,
          -87.67989953,
          -84.14541217,
          -83.49303612,
          -84.7417556,
          -92.41419698,
          -92.82442028,
          -90.91328409999998,
          -91.06461642,
          -92.00079449,
          -93.34173616,
          -93.05398492,
          -93.60460152,
          -93.88375652,
          -93.35400434,
          -92.11752148,
          -93.19310676,
          -91.84526385,
          -92.99526883,
          -91.63814433,
          -93.74130302,
          -91.09777565,
          -91.23425694,
          -91.04976723,
          -92.39915924,
          -91.67589857,
          -92.56124347,
          -91.75871777,
          -91.3499598,
          -92.55692092,
          -90.11115756,
          -92.81210004,
          -92.15907765,
          -92.06959876,
          -90.40976986,
          -92.66597409999999,
          -90.73061664,
          -91.23973355,
          -91.80421614,
          -93.09816516,
          -89.92660315,
          -92.15704172,
          0,
          -89.60322085,
          -91.60209535,
          -92.52997303,
          -93.34213308,
          -91.76634876,
          -93.55433981,
          -89.51887093,
          -90.35555967,
          -90.71013176,
          -90.80212061,
          -90.4753503,
          -92.00135806,
          -91.61403569,
          -91.44702164,
          -89.95642711,
          -90.40664996,
          -91.32915234,
          -90.82626855,
          0,
          -92.3749373,
          -92.30292538,
          -93.18153838,
          -90.03866652,
          -93.33121835,
          -91.30989571,
          -91.461201,
          -91.41485379999999,
          -92.63789413,
          -70.20380627,
          -68.59841248,
          -70.37226999,
          -70.44381045,
          -68.38401854,
          -69.76738544,
          -69.10529169,
          -69.54227124,
          0,
          -70.75682123,
          -68.65020455,
          -69.2860223,
          -69.85074999,
          -69.95995554,
          0,
          -69.12061935,
          -67.62813524,
          -70.71052375,
          -78.69280486,
          -76.60329337,
          -76.62911955,
          -76.61151012,
          -76.56820632,
          -75.82904158,
          -77.02373735,
          -75.94627411,
          -76.98580666,
          -76.02752426,
          -77.39999394,
          -79.27355126,
          -76.30775940000002,
          -76.93126208,
          -76.04741541,
          -77.20358245,
          0,
          -76.8496441,
          -76.03530977,
          -75.75118623,
          -76.60629279999998,
          -76.10882561,
          0,
          -77.82002295,
          -75.62705831,
          -75.33200012,
          -70.28854339,
          -73.20524838,
          -71.10872211,
          -70.68763497,
          -70.68763497,
          -70.94687179,
          -72.58602547,
          -72.63235561,
          -72.65898478,
          -71.39049229,
          -70.08774729,
          -71.20530408,
          0,
          -70.80802823,
          -71.07850442,
          0,
          -71.90493363,
          -83.59507875,
          -86.60260122,
          -85.89102866,
          -83.62212411,
          -85.15503082,
          -83.89277559,
          -88.36363591,
          -85.30834519,
          -83.98731479,
          -86.01608482,
          -86.41313079999998,
          -85.05929476,
          -85.00493569,
          -85.99405727,
          -85.19614053,
          -84.50122149,
          -84.54353449,
          -84.84819859999998,
          -84.60145248,
          -84.61006219,
          -86.9080745,
          -87.86961634,
          -84.83740035,
          -84.89083249,
          0,
          -83.70589709,
          -84.38774817,
          -89.69377193,
          -85.55585247,
          -84.60505416,
          -84.59312019,
          -88.68495385,
          -83.04078453,
          -84.37472069,
          -85.07413319,
          -83.63484895,
          -88.53136251,
          -84.84664923,
          -84.42258681,
          -85.53038622,
          -85.09085699,
          -85.54934642,
          -88.41434263,
          -85.802173,
          -83.22153148,
          -85.80150326,
          -84.06603727,
          -83.91297209,
          -85.54471223,
          -85.04980537,
          -82.92752801,
          -86.05626916,
          -87.64043701,
          -86.24988902,
          -85.32463223,
          -87.55370409,
          0,
          -84.38804374,
          -85.09256478,
          -83.53749864,
          -85.15252824,
          -84.12696227,
          -86.15176712,
          -85.80070107,
          -83.38595416,
          -86.26726673,
          -84.12725175,
          -89.31390481,
          -85.32566756,
          -84.12939244,
          -84.59898295,
          -85.9969107,
          0,
          -83.91498656,
          -84.61067651,
          -84.05131209999998,
          -82.82055898,
          -86.19972234,
          -84.14585902,
          -82.67937954,
          -85.52797979,
          -83.41897025,
          0,
          -86.01939087,
          -83.83853204,
          -83.281255,
          -85.57712739,
          -93.41168259999999,
          -93.24604565,
          -95.67158144,
          -94.93732139,
          -93.99514135,
          -96.41403739,
          -94.06699781,
          -94.72562874,
          -92.67601019,
          -93.80099179999999,
          -94.32603968,
          -95.56403693,
          -92.90861945,
          -96.48761922,
          -95.37790562,
          -90.52629546,
          -95.18138802,
          -94.06755609,
          -93.06299363,
          -92.86244324,
          -95.45335469,
          -93.94787458,
          -92.08980382,
          -93.34884422,
          -92.72341949999999,
          -96.01139609,
          -93.47694895,
          -91.49143057,
          -94.91693868,
          -93.29487636,
          -93.63092229,
          -95.15398258,
          -93.29275192,
          -95.00586446,
          -96.78317184,
          -93.78352843,
          -96.17488219,
          -91.44557998,
          -94.90274472,
          -93.72844721,
          -96.26688165,
          -95.83806103,
          -95.80921485,
          -96.37017407,
          -94.55099908,
          -94.27287017,
          -94.52839455,
          -93.63236823,
          -94.27341528,
          -92.75234549,
          -95.76328482,
          -94.24710352,
          -95.75329576,
          -96.45620947,
          -92.40209944,
          -95.70835255,
          0,
          -96.0370814,
          -92.74070188,
          -96.25841142,
          -96.40134647,
          -95.44451209,
          -93.09872295,
          -96.09561104,
          -95.25207021,
          -94.94553734,
          -93.29658715,
          -96.25296832,
          -95.81079919,
          -93.53340251,
          -93.77617511,
          -94.23164924,
          -92.46879855,
          -94.61078221,
          -93.22627088,
          -96.00163705,
          -95.68264092,
          -94.89785296,
          -96.47062949,
          0,
          -92.23121312,
          -94.96968506,
          -93.58720034,
          -92.88429635,
          -94.61413846,
          -96.4684375,
          -91.78081305,
          -93.96234781,
          -95.86842453,
          -91.35326037,
          -88.57996173,
          -90.80501621,
          -89.57838564,
          -89.18945516,
          -90.87372121,
          -89.33686647,
          -89.91994479,
          -88.9481545,
          -89.24809382,
          -90.90702196,
          -88.68896219999998,
          -88.77784255,
          -90.60415045,
          -90.44565118,
          -89.55389939,
          -89.99091418,
          -89.25832496,
          -90.89672989,
          -88.64436789,
          -88.63922281,
          -89.80245083,
          -89.48851033,
          -89.12467576,
          -90.44435448,
          -90.08923538,
          -90.52252707,
          -90.97392828,
          -88.3606733,
          -88.64184064,
          -89.11786866,
          -91.03764977,
          -89.82670990000004,
          -89.16896899999998,
          -88.64105766,
          -89.48490961,
          -89.5077704,
          -88.66229662,
          -90.10841127,
          -89.52402044,
          -88.68149954,
          -90.29900733,
          -90.45391915,
          -88.44191529999998,
          -90.03513564,
          -89.8209217,
          -89.50299462,
          -88.4808438,
          -89.61729103,
          -89.11726492,
          -89.11843336,
          -88.56949061,
          -88.87905132,
          0,
          -89.95064249,
          -89.58677275,
          -88.99281835,
          -90.40392572,
          -89.03636807,
          -88.51986294,
          -90.28908,
          -89.94537876,
          -89.53789439,
          -90.81595379999999,
          -89.91716179,
          -89.50644846,
          -89.11547539,
          -90.58882684,
          -90.1729398,
          -89.94485778,
          -88.90988194,
          -88.23917219,
          -90.37481167,
          0,
          -89.00776006,
          -90.10446654,
          -90.83352619,
          -90.94196237,
          -88.69573913,
          -89.28392912,
          -91.31018819,
          -89.03391385,
          -89.70762049999998,
          -90.39656148,
          -92.60078167,
          -94.80163024,
          -95.42970639,
          -91.84242683,
          -93.82919888,
          -94.34757022,
          -94.34113157,
          -93.28756116,
          -90.02725304,
          -92.30723575,
          -94.80138942,
          -90.40421163,
          -93.98308093,
          -91.92186505,
          -92.76083747,
          -89.6843587,
          -93.50626255,
          -90.96051322,
          -94.353399,
          -93.85445441,
          -92.9629191,
          -93.18537118,
          -91.73661677,
          -94.41850862,
          -94.40465394,
          -92.27860244,
          -92.80896081,
          -91.30528104,
          -93.8503345,
          -93.02127031,
          -93.98519678,
          -94.40476508,
          -91.50790473,
          -92.49905109,
          -90.09122243,
          -91.07522826,
          -91.50847147,
          -94.40944419,
          -93.34230916,
          -93.56509276,
          -93.99222144,
          -93.79293734,
          -93.3203037,
          -95.21638879999999,
          -92.69756691,
          -91.88683935,
          -90.7735296,
          -94.34724536,
          -94.34050458,
          -90.53870896,
          -93.80691168,
          -94.5786,
          -92.14780832,
          -92.5888493,
          -93.78076396,
          -93.83293097,
          -91.72070156,
          -90.95588181,
          -93.10704106,
          -93.54645978,
          -92.56453089,
          -90.34671429999999,
          -91.92249662,
          -91.62203062,
          -94.34867205,
          -93.56829590000001,
          -92.42610898,
          -89.29505753,
          -92.57976951,
          -92.00043978,
          -91.47000721,
          -92.88791859,
          -89.66070007,
          -94.3394104,
          -94.88133008,
          -91.4033755,
          -91.8613635,
          0,
          -92.44459066,
          -89.78742322,
          -89.82741088,
          -93.28471706,
          -91.79351727,
          -91.16980779,
          -94.77068479,
          -93.39828174,
          -92.20783203,
          -93.02042674,
          -91.51838643,
          -92.49713740000001,
          -93.98905745,
          -90.97009925,
          -90.85990261,
          -93.20259964,
          -92.52311943,
          -92.14709064,
          -89.56474493,
          -91.40190382,
          -92.07634971,
          -90.66662425,
          -93.77631447,
          -90.47598685,
          -90.4458375,
          -90.24349225,
          -90.1949941,
          -89.9444155,
          -93.45256475,
          -93.11150106,
          -93.04075153,
          -91.96564727,
          0,
          -94.34127305,
          -91.16124662,
          -90.87948158,
          -90.46001416,
          -92.876329,
          -94.42328751,
          -92.46914488,
          -112.89846940000001,
          -107.492347,
          -108.9582723,
          -111.49558130000001,
          -109.0274047,
          -104.53955359999999,
          -111.3467922,
          -110.4353362,
          -105.57375259999998,
          -105.54763429999998,
          -104.89444170000002,
          -113.073353,
          -104.41835649999999,
          -109.2245206,
          -114.05205690000001,
          -111.1692571,
          -107.0002351,
          -112.9934235,
          -109.17685220000001,
          -113.4414186,
          -110.1129252,
          -112.094396,
          -110.26606880000001,
          -114.0898013,
          -112.39469799999999,
          -111.02430700000001,
          -115.4046155,
          -111.9173017,
          -105.79449939999999,
          -110.8898557,
          -115.00152390000001,
          -113.92135079999998,
          -108.39498,
          0,
          -110.52643940000002,
          -108.2508876,
          -107.9128511,
          -112.22527029999999,
          -105.636738,
          -112.93591640000001,
          -105.379384,
          -114.11891640000002,
          -104.5610786,
          -105.00792679999999,
          -106.72928799999998,
          -115.1329916,
          -104.50382900000001,
          -112.6620092,
          -109.3950061,
          -109.9425686,
          -112.24106880000001,
          -111.69424140000001,
          -107.26665159999999,
          0,
          -106.6669635,
          -109.84646359999999,
          -104.2510927,
          -108.26914860000001,
          -98.50117804,
          -98.06662829999999,
          -101.6959559,
          -103.7114332,
          -99.97677845,
          -98.06737183,
          -103.08788340000001,
          -98.76486568,
          -99.92904055,
          -99.07500296,
          -96.32605633,
          -97.13106306,
          -96.13971217,
          -97.25311951,
          -101.69780259999999,
          -101.1244332,
          -102.9941693,
          -98.05126296,
          -97.0868542,
          -96.78730772,
          -99.72805369,
          -96.56656425,
          -103.1313774,
          -99.82014609999999,
          -102.33333309999999,
          -96.86782408,
          -96.65598179,
          -96.15085305,
          -101.6876522,
          -97.59646937,
          -98.95299073,
          -100.3924658,
          -99.91247454,
          -96.68946704,
          -102.3313973,
          -98.99111827,
          -99.83020279,
          -101.740701,
          -98.52150266,
          -98.50218293,
          -98.02099117,
          -99.40438879,
          -101.0603568,
          -101.04164770000001,
          -98.78402558,
          -101.1354293,
          -98.5166499,
          -97.142601,
          -96.26522753,
          -98.94877182,
          -101.66201640000001,
          -99.71343729,
          -103.7148131,
          -97.89178836,
          -96.68777155,
          -100.74753740000001,
          -100.4817851,
          -99.45440415,
          -97.6005481,
          -101.05993620000001,
          -98.0374887,
          -103.0061405,
          -97.99327291,
          -95.85433992,
          -98.04743961,
          -96.13374142,
          0,
          -96.23705437,
          -101.6502942,
          -99.41461667,
          -97.60122773,
          -97.52144359,
          -97.56630712,
          -100.476998,
          -95.71755036,
          -99.44832069,
          -97.14085859,
          -96.11156432,
          -96.63773905,
          -103.70809859999999,
          -97.139673,
          -102.4126613,
          -98.97588642,
          -103.7576544,
          -97.19394708,
          -97.59504381,
          -100.5556632,
          -96.54157099,
          0,
          -98.98197724,
          -96.22019892,
          -97.11926964,
          -98.50019851,
          -98.52798941,
          -97.59710186,
          -119.7480219,
          -118.3394607,
          -115.0130241,
          -119.61713329999999,
          -115.3577619,
          -117.63199990000001,
          -116.26832040000001,
          -118.11094270000001,
          -117.03970749999999,
          -114.8790388,
          -119.18704790000001,
          -118.4344506,
          -116.47227020000001,
          0,
          -118.40056409999998,
          -119.5250207,
          0,
          -119.6631594,
          -114.89996599999999,
          -71.41684235,
          -71.20430216,
          -72.25311043,
          -71.30633239,
          -71.82057197,
          -71.7200253,
          -71.6811573,
          0,
          -71.12883377,
          -71.02336013,
          -72.22203125,
          0,
          -74.65848483,
          -74.07164325,
          -74.66927768,
          -74.96388753,
          -74.80170244,
          -75.10712559,
          -74.24657979,
          -75.13995546,
          -74.07515667,
          -74.91284156,
          -74.70479631,
          -74.41426991,
          -74.22240686,
          -74.54553709999998,
          -74.28089251,
          0,
          -74.29954144,
          -75.34696629999998,
          -74.61683016,
          -74.69118243,
          0,
          -74.30680092,
          -74.99556527,
          -106.6703554,
          -108.4046587,
          -104.4665365,
          -107.998876,
          -104.64726740000002,
          -103.34688759999999,
          -104.4117842,
          -106.83293870000001,
          -104.3053527,
          -108.3827845,
          -104.790669,
          -103.82209379999999,
          -108.7151824,
          -103.4123733,
          -105.4586166,
          -106.31349850000001,
          -107.75088259999998,
          -108.262245,
          -104.9497716,
          -105.7417604,
          0,
          -103.54817270000001,
          -106.69316740000001,
          -103.4799493,
          -108.32043700000001,
          -104.8163562,
          -106.86878030000001,
          -105.9774716,
          -107.1925893,
          -106.9298354,
          -105.63101979999999,
          -105.8508949,
          0,
          -103.4709624,
          -106.8103733,
          -73.97723916,
          -78.02750466,
          -73.86282755,
          -75.81326086,
          -78.67923096,
          -76.55731592,
          -79.36691763,
          -76.7638805,
          -75.60887553,
          -73.67875352,
          -73.63089095,
          -76.07048931,
          -74.96709306,
          -73.74356679,
          -78.73063652,
          -73.77297842,
          -74.29926032,
          -74.41798804,
          -78.19135193,
          -74.12384884,
          -74.49721957,
          -74.96145307,
          -75.94653457,
          -73.94935552,
          -75.44903992,
          -77.77966158,
          -75.67266639,
          -77.69322942,
          -74.44011632,
          -73.58941873,
          -73.97152637,
          -78.74777412,
          -75.43710392,
          -76.19971155,
          -77.30874425,
          -74.30240757,
          -78.2320066,
          -76.14635194,
          -75.03151402,
          0,
          -73.74965532,
          -73.81684712,
          -73.51089874,
          -74.14808598,
          -74.02560498,
          -73.86653895,
          -74.05278291,
          -74.44339029999998,
          -76.8773299,
          -76.82497064,
          -75.06550039,
          -77.3829924,
          -72.8012172,
          -74.76394559,
          -76.30835812,
          -76.47229843,
          -74.26252104,
          0,
          -73.8433699,
          -73.43043448,
          -77.02976528,
          -73.75741653,
          -78.22199579,
          -77.10369919,
          -79.39976137,
          -81.17751948,
          -81.12857041,
          -80.09953279,
          -81.49862729,
          -81.92308483,
          -76.84325809,
          -76.96545943,
          -78.56180059,
          -78.22814204,
          -82.53305,
          -81.70755735,
          -80.55267168,
          -81.54799522,
          -76.15568396,
          -76.54120135,
          -79.33353281,
          -81.2132617,
          -79.25541492,
          -84.05970864,
          -76.60118385,
          -83.74353633,
          -81.55204486,
          -78.65801424,
          -77.08398081,
          -78.82623165,
          -75.95876401,
          -75.71767334,
          -80.21256572,
          -80.54496571,
          -77.93140529,
          -78.87608331,
          -77.59436892,
          -80.25459052,
          -78.28708884,
          -81.17477045,
          -76.69749701,
          -83.83369267,
          -78.65184241,
          -77.67578087,
          -79.78824948,
          -77.6556109,
          -78.87243571,
          -82.98196486,
          -82.4766782,
          -76.98104134,
          -79.23651674,
          -76.15180542,
          -80.8743128,
          -83.14093385,
          -78.36622717,
          -77.35870791,
          -79.17569362,
          -77.64245615,
          -81.21740317,
          -83.41696617,
          -82.71346418,
          -77.10860251,
          -82.0482425,
          -80.8317671,
          -82.1582442,
          -79.90416657,
          -79.48474178,
          -77.98422508,
          -77.87075626,
          -77.39769443,
          -77.42908179,
          -79.12167935,
          0,
          -76.66559823,
          -76.25134778,
          -77.90352133,
          -76.40603143,
          -78.97217358,
          -77.37353178,
          -82.16812354,
          -79.80570339,
          -79.74491009,
          -79.10250529999998,
          -79.77504841,
          -80.52446628,
          -81.92112099,
          -78.36914061,
          -79.4757978,
          -80.25093221,
          -80.23893369,
          -80.69102283,
          -83.48748932,
          -82.79638423,
          -76.17055253,
          0,
          -80.52955873,
          -78.40670845,
          -78.65249174,
          -78.10652228,
          -76.57299037,
          -81.70033724,
          -78.00027268,
          -81.16232895,
          -77.917978,
          -80.66239436,
          -82.31237181,
          -102.5285397,
          -98.06605978,
          -99.35916363,
          -103.3762965,
          -100.8378166,
          -103.5203343,
          -102.51821170000001,
          -100.46452140000001,
          -97.24447190000001,
          -98.46685243,
          -98.50490079999999,
          -103.48736109999999,
          -102.61604679999999,
          -98.90432337,
          -100.2389766,
          -98.88279923,
          -103.8465421,
          -97.45450447,
          -101.63900129999999,
          -98.23850925,
          -102.4632417,
          -99.77507857,
          -98.53542355,
          -99.47719806,
          -100.6324822,
          -99.44145858,
          -103.395905,
          -101.3182418,
          -101.8318399,
          -101.2822377,
          -102.3555315,
          -98.19038437,
          -101.3406158,
          0,
          -97.5523809,
          -99.96407787,
          -98.72223879,
          -97.65742504,
          -101.6603912,
          -96.94852979,
          -99.84097493,
          -97.63217159,
          -100.3426391,
          -101.04401490000001,
          -103.4601547,
          -102.65763259999999,
          -97.72728747,
          -98.95637318,
          -99.24564265,
          -97.16323288,
          0,
          -97.72574783,
          -101.54367629999999,
          -99.65904998,
          -103.4793387,
          145.6739,
          -83.4718964,
          -84.10802343,
          -82.27280781,
          -80.74830218,
          -82.04278644,
          -84.22421429999999,
          -80.9924051,
          -83.86788395,
          -84.57388716,
          -81.09178213,
          -83.76875242,
          -83.78498252,
          -84.15375786,
          -83.80852286,
          -80.78094576,
          -81.91729018,
          -82.91989099,
          -81.65918339,
          -84.6194517,
          -84.49076944,
          -83.00457058,
          -82.62904521,
          -82.63088163,
          -83.4562016,
          -83.01115755,
          -84.12571393,
          -82.31647569,
          -81.17935342,
          -83.89032084,
          -81.49248905,
          -84.54502924,
          -83.66838948,
          -83.65929931,
          -81.09068544,
          -84.06830637,
          -83.60331456,
          -82.47991446,
          -81.92635677,
          -82.59867951,
          -82.61818559999998,
          -80.76259514,
          -82.42027563,
          -81.23676539,
          -82.53466552,
          -82.48185785,
          -83.76784341,
          -82.15083537,
          -83.65468618,
          -83.40178317,
          -80.77287029,
          -83.15736305,
          -81.89986209999998,
          -82.0305041,
          -84.62912742,
          -84.22871271,
          -81.08464734,
          -84.29050975,
          -81.85308173,
          -82.7892599,
          -81.94363275,
          -81.45937183,
          -83.0940185,
          0,
          -84.5801017,
          -82.23804971,
          -83.0243386,
          -83.06769584,
          -81.19735782,
          -84.64787018,
          -84.1336111,
          -82.53799609999999,
          -83.06000914,
          -83.137872,
          -82.98907345,
          -83.12783209,
          -84.20258189,
          -81.36437305,
          -81.53123079,
          -80.76109643,
          -81.47226262,
          0,
          -83.37239023,
          -84.59111700000003,
          -82.4831444,
          -84.16557457,
          -81.49121382,
          -81.88844833,
          -84.58429552,
          -83.62285108,
          -83.30734173,
          -94.65859267,
          -98.32408495,
          -96.03802487,
          -100.4758872,
          -99.68128023,
          -98.43307003,
          -96.25903472,
          -98.37534464,
          -97.98465569,
          -97.28552485,
          -94.99980896,
          -95.54771129,
          -102.5173885,
          -97.32519562,
          -96.29798747,
          -98.47195055,
          -98.37053567,
          -95.20916602,
          -96.37086028,
          -99.00170785,
          -94.80325046,
          -99.00730714,
          -99.75324573,
          -97.78265517,
          -97.30811132,
          -97.88339847,
          -97.78638765,
          -99.56056120000001,
          -99.84741652,
          -99.6679804,
          -95.11513306,
          -96.24921145,
          -99.41138784,
          -97.83182974,
          -96.66011537,
          -97.14421435,
          -97.94193268,
          -98.97720696,
          -95.25215049,
          -94.70392124,
          -96.8812462,
          -97.44352845,
          -97.23906784,
          -98.53467076,
          -96.76855464,
          -95.23175116,
          -97.44572302,
          -94.77222373,
          -95.66599306,
          -97.06826283,
          -95.37802952,
          -97.22928674,
          -95.61902331,
          -96.32639984,
          -97.40716948,
          -95.96432828,
          -96.39635704,
          -94.81011909,
          0,
          -96.70331759999999,
          -96.97584944,
          -95.75134320000001,
          -96.68337199,
          -96.94923008,
          -95.37603505,
          -99.69666167,
          -95.60406759,
          -96.61686741,
          -94.75463785,
          -97.85141892,
          -101.4889765,
          -98.92426619,
          -95.94013939,
          0,
          -95.51911308,
          -95.90514104,
          -98.99180434,
          -98.86573064,
          -99.26283045,
          -117.6749883,
          -123.4316987,
          -122.2179634,
          -123.660711,
          -123.08908980000001,
          -124.0594514,
          -120.356297,
          -124.15728200000001,
          -121.2289121,
          -123.16729099999999,
          -120.20488689999999,
          -119.0068631,
          -118.96663059999999,
          -121.65520359999998,
          -122.72893090000001,
          -121.17832,
          -123.5561938,
          -121.64964609999998,
          -120.38501629999999,
          -122.847753,
          -123.86991200000001,
          -122.53731540000001,
          -117.62273950000001,
          -122.58151170000001,
          -119.584546,
          -122.4169351,
          0,
          -123.4128888,
          -120.6827834,
          -123.712066,
          -118.7353826,
          0,
          -118.0068979,
          -117.18353799999998,
          -121.16709540000001,
          -123.0955257,
          -120.02814270000002,
          -123.3086963,
          -77.21610347,
          -79.98167747,
          -79.46290811,
          -80.34921611,
          -78.48998442,
          -75.92457766,
          -78.34917412,
          -76.51570822,
          -75.10836643,
          -79.91351055,
          -78.71377428,
          -78.20376845,
          -75.7068525,
          -77.82200624,
          -75.74768357,
          -79.42413524,
          -78.47592663,
          -77.63785995,
          -76.40565017,
          -80.10760592,
          -77.26130755,
          -76.77993242,
          -75.40243663,
          -78.64524744,
          -80.03301954,
          -79.64291195,
          -79.23229292,
          -77.72157791,
          -78.11163677,
          -80.22357106,
          -77.97673273,
          -79.08963285,
          -78.9986361,
          -77.39975129999998,
          -75.60379201,
          -76.24770128,
          -80.33393706,
          -76.45651841,
          -75.59435245,
          -75.98447579,
          -77.06629984,
          -78.56478358,
          -80.25816981,
          -77.61070738,
          -75.34031025,
          -75.36652296,
          -76.66345939,
          -75.30471829,
          -76.70798222,
          0,
          -77.26297447,
          -75.1379271,
          -75.03208106,
          -77.89559864,
          -76.2150785,
          -77.06840691,
          -79.02699593,
          -76.51246591,
          -75.80071959,
          -77.25433032,
          0,
          -77.05996014,
          -79.75845449,
          -79.26969577,
          -80.24582867,
          -75.29956506,
          -79.46615476,
          -76.01074915,
          -76.73040131,
          -66.754367,
          -67.17513100000001,
          -67.12081500000001,
          -66.126806,
          -66.264131,
          -67.120611,
          -66.675077,
          -66.056546,
          -66.56053100000001,
          -66.30963,
          -66.168435,
          -67.154391,
          -66.050779,
          -66.860206,
          -65.887612,
          -65.95683100000001,
          -66.14330600000001,
          -66.14914,
          -65.666416,
          -66.516475,
          -66.161179,
          -66.36014,
          -66.221622,
          -66.327738,
          -65.28813000000001,
          -66.278669,
          -65.666866,
          -66.560488,
          -66.91964300000001,
          -66.13390799999999,
          -66.79186,
          -66.11452299999999,
          -65.97970500000001,
          -66.79632600000001,
          -67.113972,
          -65.810174,
          -67.005093,
          -66.58878,
          -66.49458100000001,
          -65.909109,
          -67.040585,
          -66.867236,
          -66.98362,
          -65.86946800000001,
          -65.89943000000001,
          -65.72509699999999,
          -66.490461,
          -66.942126,
          -65.922235,
          -67.336525,
          -67.080952,
          -66.420383,
          -65.753897,
          -66.252703,
          -66.433604,
          0,
          -66.012242,
          -66.721572,
          -66.613748,
          -66.926113,
          -67.23174,
          -65.813742,
          -66.943758,
          -66.256592,
          -67.03858100000001,
          -66.061128,
          -65.976392,
          -66.971214,
          -66.388913,
          -66.246616,
          -66.213553,
          -65.99888399999999,
          0,
          -66.702984,
          -66.33725,
          -66.397924,
          -65.44097099999999,
          -66.473115,
          -65.896289,
          -66.858814,
          -71.28652315,
          -71.57641596,
          -71.26569799,
          0,
          -71.57753536,
          0,
          -71.61435303,
          -82.46170658,
          -81.63645384,
          -81.35321066,
          -82.63959517,
          -81.05659969,
          -81.43584352,
          -80.72619758,
          -79.94654523,
          -80.77722168,
          -79.96512315,
          -81.61828622,
          -81.1583216,
          -80.15640140000002,
          -80.21647898,
          -80.67641292,
          -79.96027485,
          -79.37741872,
          -80.40502652,
          -81.96231108,
          -81.1195624,
          -79.70189312,
          -79.33202141,
          -82.37295012,
          -82.12715789,
          -81.13845571,
          -78.99555293,
          -81.02487495,
          -80.58763164,
          -80.70513032,
          -82.00490796,
          -80.25690731,
          -81.27146426,
          -79.36400756,
          -79.67561152,
          -82.30794338,
          -81.59935761,
          -83.06742317,
          -80.79886287,
          0,
          -82.72791551,
          -80.90267209,
          -81.72713237,
          -81.99225984,
          -80.37942316,
          0,
          -81.61730349,
          -79.72767442,
          -81.18085944,
          -98.56050467,
          -98.27858469,
          -101.6665572,
          -97.88592746,
          -96.79079945,
          -98.35165355,
          -99.08118954,
          -99.20814467,
          -103.5079318,
          -100.0510181,
          -98.58856175,
          -97.72925109,
          -96.97656917,
          -97.18827677,
          -101.1970473,
          -103.45345209999999,
          -98.14458906,
          -97.60737498,
          -96.66943645,
          -100.8709139,
          -98.36978007,
          -99.21545423,
          -103.5275691,
          -99.14535601,
          -96.77002276,
          -99.18883902,
          -101.539099,
          -97.18829593,
          -99.00386459,
          -97.78715148,
          -103.4958629,
          -99.99661148,
          -97.75536441,
          -99.48572582,
          -101.6255063,
          -98.62965972,
          -100.6940008,
          -97.4913945,
          -97.12926365,
          -103.79294279999999,
          -96.72039050000001,
          -99.85201878,
          -97.59855639,
          -97.36863144,
          -99.22118798,
          -102.71627409999999,
          -100.7563186,
          -97.60992207,
          -96.7910885,
          -96.67081159,
          -102.55554980000001,
          0,
          -102.8240777,
          -102.47555859999999,
          -99.95498503,
          -96.94672673,
          -98.09098159999999,
          -98.34626602,
          -100.7349153,
          -100.1278092,
          -100.71955030000001,
          -99.8854891,
          -97.14865776,
          0,
          -96.6557828,
          -100.03075140000001,
          -97.39467635,
          -101.6654622,
          -84.19965764,
          -86.45549096,
          -88.06849355,
          -85.20611967,
          -83.92847788,
          -84.857186,
          -84.15108559999999,
          -86.05738983,
          -88.45189331,
          -82.12588974,
          -87.08903581,
          -88.6095842,
          -83.65947309,
          -85.53930419,
          -83.11828725,
          -86.07311784,
          -89.14916269,
          -84.99840585,
          -86.78646056,
          -85.83689361,
          -88.11043779,
          -87.35891709,
          -89.41542855,
          -89.41399032,
          -84.92870012,
          -86.09201039,
          -88.93358327,
          -87.03992678,
          -83.51254721,
          -82.84691273,
          -85.72142731,
          -83.26586179,
          -85.16652245,
          -83.22375847,
          -88.99161161,
          -88.18593755,
          -82.94885298,
          -89.28536625,
          -88.38600175,
          -88.30121797,
          -87.47643507,
          -87.71878828,
          -87.77992872,
          -85.67239905,
          -83.45148924,
          -81.84886538,
          -83.94635435,
          -89.48921915,
          -89.63015909999999,
          -87.39787695,
          -87.49022694,
          -86.58910106,
          -84.31145275,
          -86.00778595,
          -88.84076036,
          -85.62265895,
          -86.76420988,
          -87.07462444,
          -84.61520715,
          -88.5647812,
          -84.81482914,
          -84.24902965,
          -87.38550661,
          -86.36230578,
          -84.64880098,
          -89.14921589,
          0,
          -85.28989535,
          -87.86139634,
          -85.07763299999998,
          -84.52075859,
          -85.50646123,
          -84.93076643,
          -84.52458689,
          -86.87346725,
          -86.4107263,
          -84.50360494,
          -85.41022136,
          -83.52244332,
          -89.89692423,
          -85.95411046,
          -87.83920548,
          -82.30412917,
          -86.45917204,
          -89.73694895,
          -86.16087954,
          0,
          -82.43709629,
          -83.83651902,
          -85.45221699,
          -85.77969117,
          -82.49454720000001,
          -87.78644456,
          -88.71990865,
          -85.45591799,
          -86.89281867,
          -86.29775884,
          -95.65354823,
          -102.63765479999999,
          -94.60901487,
          -96.9995047,
          -98.68754589,
          -101.35748740000001,
          -98.52730485,
          -96.27736949,
          -102.8299707,
          -99.24598147,
          -97.31206354,
          -99.21352901,
          -97.74215593,
          -97.4785025,
          -98.52019748,
          -98.3999852,
          -101.43165090000001,
          -97.63613524,
          -94.41834132,
          -95.44563172,
          -96.30205577,
          -103.25203259999999,
          -101.2084947,
          -98.21808402,
          -98.99907113,
          -96.62158484,
          -98.181887,
          -97.61814775,
          -96.61633945,
          -99.37326312,
          -97.48140372,
          -94.97790104,
          -101.35426690000001,
          -94.34646905,
          -102.2617243,
          -94.67154501,
          -95.16559897,
          -100.2077916,
          -98.20771198,
          -102.82844990000001,
          -100.5297533,
          -99.45240766,
          -96.57264368,
          -100.27001109999999,
          -96.5273805,
          -98.27647225,
          -98.55876441,
          -99.86473038,
          -97.21240912,
          -97.79936155,
          -100.27850620000001,
          -102.5143314,
          -101.4134238,
          -101.30003640000001,
          -104.5185739,
          -102.60207249999999,
          -96.77796049999999,
          -101.94772420000001,
          -97.35681170000001,
          -102.6054267,
          -95.66921122,
          -97.11691153,
          -100.7788855,
          -99.75645095,
          -100.8140093,
          -98.50864568,
          -98.83243566,
          -102.54294279999999,
          -100.304252,
          -106.23632749999999,
          -96.79371841,
          -98.21773417,
          -96.93630086,
          -96.10751083,
          -96.92076062,
          -100.40193020000001,
          -101.3031546,
          -99.7767797,
          -95.77219463,
          -95.21917243,
          -96.15072516,
          -99.10804207,
          -102.6353295,
          -94.90469073,
          -101.2984114,
          -98.94676915,
          -101.5207776,
          -97.42760647,
          -97.49424032,
          -100.8129222,
          -96.67753461,
          -94.81591935,
          -95.98902499,
          -97.94786822,
          -101.82681140000001,
          -100.68138520000001,
          -98.11083887,
          -101.3545796,
          -99.74632408,
          -94.38931817,
          -95.39339521,
          -94.36934071,
          -102.6029022,
          -99.73037358,
          -98.02944344,
          -100.2703577,
          -95.85846587,
          -98.18299696,
          -97.13423143,
          -102.3431676,
          -97.83242024,
          -95.56351139,
          -95.42226208,
          -101.4356444,
          -105.388178,
          -96.08551032,
          -101.3546643,
          -100.982439,
          -98.17283469,
          -96.57749563,
          -94.02667579,
          -104.1399973,
          -94.16434171,
          -98.69681870000001,
          -98.0904705,
          -97.36615819,
          -99.87861576,
          -97.85960149,
          -96.28734728,
          -98.7113588,
          -97.66413984,
          -100.7780939,
          -99.34930144,
          -99.74856473,
          -100.2558057,
          -100.41866379999999,
          -97.69894948,
          -99.74229059999999,
          -99.09908775,
          -95.57404777,
          -102.35162890000001,
          -98.24206613,
          -96.93186692,
          -96.97045773,
          -95.9936328,
          -94.81205615,
          -96.58095444,
          -100.27331509999999,
          -98.1246786,
          -98.68475262,
          -103.5818571,
          -101.82047890000001,
          -101.8162849,
          -95.93003775,
          -94.35661230000001,
          -101.9513518,
          -99.22629416,
          -96.01230294,
          -100.3157686,
          -99.34682807,
          -97.20217694,
          -98.56769164,
          -99.11030298,
          -99.82047940000001,
          -102.03156820000001,
          -96.97718698,
          -98.59272068,
          -100.9212058,
          -97.72500958,
          -95.50572772,
          -101.8930281,
          -94.73255695,
          -100.77972199999999,
          -94.61803994,
          -96.47428766,
          -93.74408813,
          -100.4060208,
          -97.5433285,
          -100.8158184,
          -102.6027606,
          -93.89412775,
          0,
          -98.31319001,
          -94.30552481,
          -97.80500621,
          -102.78446679999999,
          -102.72412609999999,
          -94.82766240000001,
          -101.893964,
          -104.24080790000001,
          -95.79232691,
          -101.8971322,
          -101.52326590000001,
          -99.82018052,
          -95.04841765,
          -103.69038959999999,
          -97.15766311,
          -100.813175,
          -96.51272246,
          -96.40771592,
          -99.97616148,
          -94.76176432,
          -93.85440451,
          -94.17000399,
          -95.16260304,
          -97.51763891,
          -98.81758731,
          -100.5384842,
          -100.91626640000001,
          -99.35401337,
          -94.14550696,
          -101.8933156,
          -95.27175679999999,
          -97.77403489,
          -98.73892358,
          -98.83631615,
          -101.05007459999999,
          -100.25384009999999,
          -100.5382014,
          -101.73491740000001,
          -97.29101614,
          -99.89007449,
          -102.0766732,
          -102.3354521,
          -99.21226795,
          -94.96797273,
          -100.46244300000001,
          -97.78535620000001,
          -95.1367187,
          -94.37690895,
          0,
          -94.93999853,
          -102.0423217,
          -99.76229172,
          -101.1525205,
          -95.83766469,
          -96.96813006,
          -95.57440968,
          -95.99011759,
          -103.09279090000001,
          -96.40946246,
          -99.33237355,
          -96.22319248,
          -100.26995140000001,
          -98.70410340000001,
          -99.24178437,
          -97.61535848,
          -97.60048540000001,
          -98.08693082,
          -103.04851629999999,
          -97.65460265,
          -95.38236368,
          -102.82764329999999,
          -98.68790885,
          -99.16987152,
          -99.76050829,
          -113.08328159999999,
          -113.2342232,
          -113.08328159999999,
          -111.74436670000001,
          -110.58725120000001,
          -111.5758676,
          -109.51210929999999,
          -112.1139997,
          -110.42523700000001,
          -110.70139579999999,
          -111.4418764,
          -109.5704487,
          -113.28973810000001,
          -112.78092450000001,
          -111.88617520000001,
          -113.1020328,
          -111.5727723,
          0,
          -112.1249591,
          -111.2445105,
          -111.92160109999999,
          -109.80337140000002,
          -111.5758676,
          -111.8050275,
          -110.70139579999999,
          -111.4418764,
          -110.9535882,
          -113.12957150000001,
          -109.5174415,
          -109.5174415,
          0,
          -111.66576620000001,
          -111.1691419,
          -113.504698,
          -110.9096801,
          -111.9145117,
          -111.9145117,
          -73.14130877,
          -73.09048868,
          -72.10314651,
          -73.08359212,
          -71.73579864,
          -72.91249563,
          -73.29679772,
          -72.64356694,
          -72.37640104,
          -72.24562697,
          0,
          -73.03741676,
          0,
          -72.61604978,
          -72.71268875,
          -72.58595157,
          -64.8963,
          -75.63234615,
          -78.55481085,
          -77.08183073,
          -80.00222498,
          -77.98584649,
          -79.14548696,
          -78.81340003,
          -77.10139853,
          -79.12461614,
          -79.73912095,
          -79.5281964,
          -81.13599391,
          -79.80982182,
          -82.16359122,
          -77.8593436,
          -82.03749726,
          -78.52518834,
          -79.35296097,
          -79.09678609,
          -77.34901405,
          -80.73455942,
          -77.05634116,
          -78.66314092,
          -78.48569588,
          -76.30545744,
          -77.58680140000001,
          -77.99199425,
          -77.39609676,
          -79.98631446,
          -80.21072274,
          -77.95630870000002,
          -78.24398086,
          -79.40395668,
          -82.35124171,
          -77.63451754,
          -77.53406129,
          -76.94230311,
          -77.27565836,
          -77.29779640000002,
          -77.17560759,
          -77.80647472,
          -80.36738849,
          -78.27715475,
          -79.88023649,
          -76.93859681,
          -78.25974949,
          -77.4922454,
          -80.91703124,
          -80.70636931,
          -76.53524337,
          -77.90381514,
          -81.23215889,
          -78.46525378,
          -77.56351439,
          -78.93512622,
          -76.35879121,
          -77.49464673,
          -78.87536254,
          -77.39326555,
          -79.87634026,
          -79.56124594,
          -77.29754684,
          -76.70842863,
          -76.76950618,
          -77.15852768,
          -77.09384941,
          -76.88689628,
          -76.46400482,
          -83.12606515,
          -79.44262866,
          -77.63481877,
          -77.96274807,
          -78.24133319,
          -79.19888138,
          -78.28220331,
          -77.48509905,
          -77.44399307,
          -79.86352771,
          -76.34098896,
          -78.36131056,
          -76.55064617,
          -80.37868691,
          -78.88498513,
          -76.99828634,
          -76.51754109,
          -76.26420872,
          -75.87751591,
          -76.41949732,
          -82.62750411,
          -78.05065922,
          -78.01560400000002,
          0,
          -78.48797204,
          -80.2865648,
          -77.39368102,
          -79.39731264,
          -76.35798148,
          -76.35971629,
          -77.91267882,
          -78.43597949,
          -77.22922187,
          -77.48713689,
          -80.71229738,
          -80.56027320000003,
          -78.15826963,
          -76.72920628,
          -77.47966921,
          -80.06396753,
          -79.96189766,
          -79.44605905,
          -78.87260325,
          -82.10095486,
          -80.06219455,
          -82.60171704,
          -78.56813762,
          -81.53344948,
          -77.10642712,
          -77.655399,
          -77.45917053,
          -79.05979937,
          -76.63603554,
          -76.88450012,
          -77.25791182,
          -81.56685568,
          0,
          -76.04566934,
          -78.20280433,
          -81.95666289,
          -78.90293905,
          -76.80213247,
          -76.70905141,
          -78.17325058,
          -82.62410519,
          -81.07834059,
          -76.54412815,
          -118.56017340000001,
          -117.2022851,
          -119.51208340000001,
          -120.6173956,
          -123.92263190000001,
          -122.48292040000001,
          -117.9051983,
          -122.6782231,
          -119.69293700000001,
          -118.5154041,
          -118.9018212,
          -117.54540320000001,
          -119.4500749,
          -123.7820567,
          -122.5216407,
          -123.56097040000002,
          -121.8346131,
          -122.6436061,
          -120.67943899999999,
          -120.7913598,
          -122.39257690000001,
          -118.41943880000001,
          -123.1863685,
          -119.73872240000001,
          0,
          -123.7285716,
          -117.2741804,
          -122.14059579999999,
          -122.96745,
          -121.766131,
          -121.91644029999999,
          -121.7170703,
          -117.4046494,
          -117.8542701,
          -122.82906559999999,
          0,
          -123.4250831,
          -118.4775539,
          -121.74900179999999,
          -117.52417630000001,
          -120.73801259999999,
          -80.00350858,
          -78.02414609,
          -81.69888019,
          -80.72011184,
          -80.57915332,
          -82.23855912,
          -81.11934872,
          -81.07652217,
          -80.70671527,
          -81.08286634,
          -80.85952723,
          -79.19440518,
          -80.45335881,
          -78.60826476,
          -80.57461608,
          -78.85855301,
          -80.37919577,
          -81.68148753,
          -77.86014147,
          -81.52857054,
          -80.49988181,
          -82.07017953,
          -81.93528571,
          -80.24244659,
          -80.66591062,
          -82.02524219,
          -81.65083669,
          -81.11023142,
          -78.94104895,
          -82.13338365,
          -80.04766838,
          -80.54577965,
          -78.26311676,
          -80.79759588,
          -80.62203992,
          0,
          -79.35084086,
          -81.16771771,
          -80.00993811,
          -79.66712803,
          -81.9082131,
          -81.2456041,
          -79.87919615,
          -81.06356878,
          -81.35243568,
          -80.86009693,
          -80.0421439,
          -79.57053576,
          -80.88772676,
          0,
          -80.23689136,
          -82.42287994,
          -80.4202023,
          -80.64016540000001,
          -81.37473928,
          -81.5162836,
          -81.54511071,
          -89.76782777,
          -90.67837132,
          -91.84833627,
          -91.19716729,
          -88.00411844,
          -91.75332578,
          -92.36711412,
          -88.21780273,
          -91.28068855,
          -90.61207486,
          -89.33589004,
          -90.93073686,
          -89.41733797,
          -88.70928178,
          -87.30002707,
          -91.91595768,
          -91.8962481,
          -91.28609183,
          -88.39804137,
          -88.48885325,
          -88.77084892,
          -90.7063218,
          -89.60243287,
          -89.04679553,
          -90.13469017,
          -90.24295041,
          -90.80566792,
          -88.77529134,
          -90.11120239,
          -88.04051686,
          -87.61468386,
          -91.11451093,
          -90.1317729,
          -89.07483625,
          -89.73411273,
          -87.80928853,
          -89.75863384,
          -88.03324599999998,
          -89.40073763,
          -88.70950714,
          -87.96733172,
          -90.61881899999999,
          -88.26807503,
          -89.51944105,
          0,
          -88.46565023,
          -87.94625009,
          -91.99949611,
          -92.4224416,
          -92.44182875,
          -89.50152965,
          -90.36098879999999,
          -88.05941254,
          -90.43012729,
          -89.07147900000002,
          -91.1333012,
          -89.94966132,
          -91.14504927,
          -88.76443896,
          -87.94579284,
          -92.45000068,
          -90.5004405,
          -91.35893614,
          0,
          -90.8324691,
          -89.51719204,
          -88.54163073,
          -91.79050449,
          -88.22974712,
          -88.30431188,
          -88.96534501,
          -89.24317107,
          -88.64477096,
          -90.04158336,
          -105.72354150000001,
          -107.9960365,
          -105.54744040000001,
          -106.9326084,
          -105.5081848,
          -104.56977049999999,
          -108.6296893,
          -104.3534743,
          -108.44231740000001,
          -106.58451740000001,
          -104.6887497,
          -110.6563997,
          -106.79788500000001,
          -104.47588959999999,
          0,
          -109.58528249999999,
          -104.96633100000001,
          -106.8862389,
          -109.91309220000001,
          -108.8827882,
          -110.5890801,
          -110.54757820000002,
          0,
          -107.68018700000002,
          -104.56748809999999
         ],
         "marker": {
          "color": "#636efa"
         },
         "mode": "markers",
         "name": "",
         "showlegend": false,
         "subplot": "mapbox",
         "type": "scattermapbox"
        }
       ],
       "layout": {
        "legend": {
         "tracegroupgap": 0
        },
        "mapbox": {
         "accesstoken": "pk.eyJ1IjoiZ3BlcnJvbmUiLCJhIjoiY2s4eXA0ZWt4MDBybDNsbzVuanZwd2RtbSJ9._NuCR3BXdVzrvGtdodRjLw",
         "center": {
          "lat": 36.707212445709644,
          "lon": -88.60147445561063
         },
         "domain": {
          "x": [
           0,
           1
          ],
          "y": [
           0,
           1
          ]
         },
         "zoom": 1
        },
        "margin": {
         "t": 60
        },
        "template": {
         "data": {
          "bar": [
           {
            "error_x": {
             "color": "#2a3f5f"
            },
            "error_y": {
             "color": "#2a3f5f"
            },
            "marker": {
             "line": {
              "color": "#E5ECF6",
              "width": 0.5
             }
            },
            "type": "bar"
           }
          ],
          "barpolar": [
           {
            "marker": {
             "line": {
              "color": "#E5ECF6",
              "width": 0.5
             }
            },
            "type": "barpolar"
           }
          ],
          "carpet": [
           {
            "aaxis": {
             "endlinecolor": "#2a3f5f",
             "gridcolor": "white",
             "linecolor": "white",
             "minorgridcolor": "white",
             "startlinecolor": "#2a3f5f"
            },
            "baxis": {
             "endlinecolor": "#2a3f5f",
             "gridcolor": "white",
             "linecolor": "white",
             "minorgridcolor": "white",
             "startlinecolor": "#2a3f5f"
            },
            "type": "carpet"
           }
          ],
          "choropleth": [
           {
            "colorbar": {
             "outlinewidth": 0,
             "ticks": ""
            },
            "type": "choropleth"
           }
          ],
          "contour": [
           {
            "colorbar": {
             "outlinewidth": 0,
             "ticks": ""
            },
            "colorscale": [
             [
              0,
              "#0d0887"
             ],
             [
              0.1111111111111111,
              "#46039f"
             ],
             [
              0.2222222222222222,
              "#7201a8"
             ],
             [
              0.3333333333333333,
              "#9c179e"
             ],
             [
              0.4444444444444444,
              "#bd3786"
             ],
             [
              0.5555555555555556,
              "#d8576b"
             ],
             [
              0.6666666666666666,
              "#ed7953"
             ],
             [
              0.7777777777777778,
              "#fb9f3a"
             ],
             [
              0.8888888888888888,
              "#fdca26"
             ],
             [
              1,
              "#f0f921"
             ]
            ],
            "type": "contour"
           }
          ],
          "contourcarpet": [
           {
            "colorbar": {
             "outlinewidth": 0,
             "ticks": ""
            },
            "type": "contourcarpet"
           }
          ],
          "heatmap": [
           {
            "colorbar": {
             "outlinewidth": 0,
             "ticks": ""
            },
            "colorscale": [
             [
              0,
              "#0d0887"
             ],
             [
              0.1111111111111111,
              "#46039f"
             ],
             [
              0.2222222222222222,
              "#7201a8"
             ],
             [
              0.3333333333333333,
              "#9c179e"
             ],
             [
              0.4444444444444444,
              "#bd3786"
             ],
             [
              0.5555555555555556,
              "#d8576b"
             ],
             [
              0.6666666666666666,
              "#ed7953"
             ],
             [
              0.7777777777777778,
              "#fb9f3a"
             ],
             [
              0.8888888888888888,
              "#fdca26"
             ],
             [
              1,
              "#f0f921"
             ]
            ],
            "type": "heatmap"
           }
          ],
          "heatmapgl": [
           {
            "colorbar": {
             "outlinewidth": 0,
             "ticks": ""
            },
            "colorscale": [
             [
              0,
              "#0d0887"
             ],
             [
              0.1111111111111111,
              "#46039f"
             ],
             [
              0.2222222222222222,
              "#7201a8"
             ],
             [
              0.3333333333333333,
              "#9c179e"
             ],
             [
              0.4444444444444444,
              "#bd3786"
             ],
             [
              0.5555555555555556,
              "#d8576b"
             ],
             [
              0.6666666666666666,
              "#ed7953"
             ],
             [
              0.7777777777777778,
              "#fb9f3a"
             ],
             [
              0.8888888888888888,
              "#fdca26"
             ],
             [
              1,
              "#f0f921"
             ]
            ],
            "type": "heatmapgl"
           }
          ],
          "histogram": [
           {
            "marker": {
             "colorbar": {
              "outlinewidth": 0,
              "ticks": ""
             }
            },
            "type": "histogram"
           }
          ],
          "histogram2d": [
           {
            "colorbar": {
             "outlinewidth": 0,
             "ticks": ""
            },
            "colorscale": [
             [
              0,
              "#0d0887"
             ],
             [
              0.1111111111111111,
              "#46039f"
             ],
             [
              0.2222222222222222,
              "#7201a8"
             ],
             [
              0.3333333333333333,
              "#9c179e"
             ],
             [
              0.4444444444444444,
              "#bd3786"
             ],
             [
              0.5555555555555556,
              "#d8576b"
             ],
             [
              0.6666666666666666,
              "#ed7953"
             ],
             [
              0.7777777777777778,
              "#fb9f3a"
             ],
             [
              0.8888888888888888,
              "#fdca26"
             ],
             [
              1,
              "#f0f921"
             ]
            ],
            "type": "histogram2d"
           }
          ],
          "histogram2dcontour": [
           {
            "colorbar": {
             "outlinewidth": 0,
             "ticks": ""
            },
            "colorscale": [
             [
              0,
              "#0d0887"
             ],
             [
              0.1111111111111111,
              "#46039f"
             ],
             [
              0.2222222222222222,
              "#7201a8"
             ],
             [
              0.3333333333333333,
              "#9c179e"
             ],
             [
              0.4444444444444444,
              "#bd3786"
             ],
             [
              0.5555555555555556,
              "#d8576b"
             ],
             [
              0.6666666666666666,
              "#ed7953"
             ],
             [
              0.7777777777777778,
              "#fb9f3a"
             ],
             [
              0.8888888888888888,
              "#fdca26"
             ],
             [
              1,
              "#f0f921"
             ]
            ],
            "type": "histogram2dcontour"
           }
          ],
          "mesh3d": [
           {
            "colorbar": {
             "outlinewidth": 0,
             "ticks": ""
            },
            "type": "mesh3d"
           }
          ],
          "parcoords": [
           {
            "line": {
             "colorbar": {
              "outlinewidth": 0,
              "ticks": ""
             }
            },
            "type": "parcoords"
           }
          ],
          "pie": [
           {
            "automargin": true,
            "type": "pie"
           }
          ],
          "scatter": [
           {
            "marker": {
             "colorbar": {
              "outlinewidth": 0,
              "ticks": ""
             }
            },
            "type": "scatter"
           }
          ],
          "scatter3d": [
           {
            "line": {
             "colorbar": {
              "outlinewidth": 0,
              "ticks": ""
             }
            },
            "marker": {
             "colorbar": {
              "outlinewidth": 0,
              "ticks": ""
             }
            },
            "type": "scatter3d"
           }
          ],
          "scattercarpet": [
           {
            "marker": {
             "colorbar": {
              "outlinewidth": 0,
              "ticks": ""
             }
            },
            "type": "scattercarpet"
           }
          ],
          "scattergeo": [
           {
            "marker": {
             "colorbar": {
              "outlinewidth": 0,
              "ticks": ""
             }
            },
            "type": "scattergeo"
           }
          ],
          "scattergl": [
           {
            "marker": {
             "colorbar": {
              "outlinewidth": 0,
              "ticks": ""
             }
            },
            "type": "scattergl"
           }
          ],
          "scattermapbox": [
           {
            "marker": {
             "colorbar": {
              "outlinewidth": 0,
              "ticks": ""
             }
            },
            "type": "scattermapbox"
           }
          ],
          "scatterpolar": [
           {
            "marker": {
             "colorbar": {
              "outlinewidth": 0,
              "ticks": ""
             }
            },
            "type": "scatterpolar"
           }
          ],
          "scatterpolargl": [
           {
            "marker": {
             "colorbar": {
              "outlinewidth": 0,
              "ticks": ""
             }
            },
            "type": "scatterpolargl"
           }
          ],
          "scatterternary": [
           {
            "marker": {
             "colorbar": {
              "outlinewidth": 0,
              "ticks": ""
             }
            },
            "type": "scatterternary"
           }
          ],
          "surface": [
           {
            "colorbar": {
             "outlinewidth": 0,
             "ticks": ""
            },
            "colorscale": [
             [
              0,
              "#0d0887"
             ],
             [
              0.1111111111111111,
              "#46039f"
             ],
             [
              0.2222222222222222,
              "#7201a8"
             ],
             [
              0.3333333333333333,
              "#9c179e"
             ],
             [
              0.4444444444444444,
              "#bd3786"
             ],
             [
              0.5555555555555556,
              "#d8576b"
             ],
             [
              0.6666666666666666,
              "#ed7953"
             ],
             [
              0.7777777777777778,
              "#fb9f3a"
             ],
             [
              0.8888888888888888,
              "#fdca26"
             ],
             [
              1,
              "#f0f921"
             ]
            ],
            "type": "surface"
           }
          ],
          "table": [
           {
            "cells": {
             "fill": {
              "color": "#EBF0F8"
             },
             "line": {
              "color": "white"
             }
            },
            "header": {
             "fill": {
              "color": "#C8D4E3"
             },
             "line": {
              "color": "white"
             }
            },
            "type": "table"
           }
          ]
         },
         "layout": {
          "annotationdefaults": {
           "arrowcolor": "#2a3f5f",
           "arrowhead": 0,
           "arrowwidth": 1
          },
          "coloraxis": {
           "colorbar": {
            "outlinewidth": 0,
            "ticks": ""
           }
          },
          "colorscale": {
           "diverging": [
            [
             0,
             "#8e0152"
            ],
            [
             0.1,
             "#c51b7d"
            ],
            [
             0.2,
             "#de77ae"
            ],
            [
             0.3,
             "#f1b6da"
            ],
            [
             0.4,
             "#fde0ef"
            ],
            [
             0.5,
             "#f7f7f7"
            ],
            [
             0.6,
             "#e6f5d0"
            ],
            [
             0.7,
             "#b8e186"
            ],
            [
             0.8,
             "#7fbc41"
            ],
            [
             0.9,
             "#4d9221"
            ],
            [
             1,
             "#276419"
            ]
           ],
           "sequential": [
            [
             0,
             "#0d0887"
            ],
            [
             0.1111111111111111,
             "#46039f"
            ],
            [
             0.2222222222222222,
             "#7201a8"
            ],
            [
             0.3333333333333333,
             "#9c179e"
            ],
            [
             0.4444444444444444,
             "#bd3786"
            ],
            [
             0.5555555555555556,
             "#d8576b"
            ],
            [
             0.6666666666666666,
             "#ed7953"
            ],
            [
             0.7777777777777778,
             "#fb9f3a"
            ],
            [
             0.8888888888888888,
             "#fdca26"
            ],
            [
             1,
             "#f0f921"
            ]
           ],
           "sequentialminus": [
            [
             0,
             "#0d0887"
            ],
            [
             0.1111111111111111,
             "#46039f"
            ],
            [
             0.2222222222222222,
             "#7201a8"
            ],
            [
             0.3333333333333333,
             "#9c179e"
            ],
            [
             0.4444444444444444,
             "#bd3786"
            ],
            [
             0.5555555555555556,
             "#d8576b"
            ],
            [
             0.6666666666666666,
             "#ed7953"
            ],
            [
             0.7777777777777778,
             "#fb9f3a"
            ],
            [
             0.8888888888888888,
             "#fdca26"
            ],
            [
             1,
             "#f0f921"
            ]
           ]
          },
          "colorway": [
           "#636efa",
           "#EF553B",
           "#00cc96",
           "#ab63fa",
           "#FFA15A",
           "#19d3f3",
           "#FF6692",
           "#B6E880",
           "#FF97FF",
           "#FECB52"
          ],
          "font": {
           "color": "#2a3f5f"
          },
          "geo": {
           "bgcolor": "white",
           "lakecolor": "white",
           "landcolor": "#E5ECF6",
           "showlakes": true,
           "showland": true,
           "subunitcolor": "white"
          },
          "hoverlabel": {
           "align": "left"
          },
          "hovermode": "closest",
          "mapbox": {
           "style": "light"
          },
          "paper_bgcolor": "white",
          "plot_bgcolor": "#E5ECF6",
          "polar": {
           "angularaxis": {
            "gridcolor": "white",
            "linecolor": "white",
            "ticks": ""
           },
           "bgcolor": "#E5ECF6",
           "radialaxis": {
            "gridcolor": "white",
            "linecolor": "white",
            "ticks": ""
           }
          },
          "scene": {
           "xaxis": {
            "backgroundcolor": "#E5ECF6",
            "gridcolor": "white",
            "gridwidth": 2,
            "linecolor": "white",
            "showbackground": true,
            "ticks": "",
            "zerolinecolor": "white"
           },
           "yaxis": {
            "backgroundcolor": "#E5ECF6",
            "gridcolor": "white",
            "gridwidth": 2,
            "linecolor": "white",
            "showbackground": true,
            "ticks": "",
            "zerolinecolor": "white"
           },
           "zaxis": {
            "backgroundcolor": "#E5ECF6",
            "gridcolor": "white",
            "gridwidth": 2,
            "linecolor": "white",
            "showbackground": true,
            "ticks": "",
            "zerolinecolor": "white"
           }
          },
          "shapedefaults": {
           "line": {
            "color": "#2a3f5f"
           }
          },
          "ternary": {
           "aaxis": {
            "gridcolor": "white",
            "linecolor": "white",
            "ticks": ""
           },
           "baxis": {
            "gridcolor": "white",
            "linecolor": "white",
            "ticks": ""
           },
           "bgcolor": "#E5ECF6",
           "caxis": {
            "gridcolor": "white",
            "linecolor": "white",
            "ticks": ""
           }
          },
          "title": {
           "x": 0.05
          },
          "xaxis": {
           "automargin": true,
           "gridcolor": "white",
           "linecolor": "white",
           "ticks": "",
           "title": {
            "standoff": 15
           },
           "zerolinecolor": "white",
           "zerolinewidth": 2
          },
          "yaxis": {
           "automargin": true,
           "gridcolor": "white",
           "linecolor": "white",
           "ticks": "",
           "title": {
            "standoff": 15
           },
           "zerolinecolor": "white",
           "zerolinewidth": 2
          }
         }
        }
       }
      },
      "text/html": [
       "<div>                            <div id=\"9b594a1d-2a8d-48f0-99cf-1cb3f03d3c09\" class=\"plotly-graph-div\" style=\"height:525px; width:100%;\"></div>            <script type=\"text/javascript\">                require([\"plotly\"], function(Plotly) {                    window.PLOTLYENV=window.PLOTLYENV || {};                                    if (document.getElementById(\"9b594a1d-2a8d-48f0-99cf-1cb3f03d3c09\")) {                    Plotly.newPlot(                        \"9b594a1d-2a8d-48f0-99cf-1cb3f03d3c09\",                        [{\"hovertemplate\": \"Lat=%{lat}<br>Long_=%{lon}<extra></extra>\", \"lat\": [32.53952745, 30.72774991, 31.868263, 32.99642064, 33.98210918, 32.10030533, 31.75300095, 33.77483727, 32.91360079, 34.17805983, 32.85044126, 32.02227341, 31.68099859, 33.26984193, 33.67679204, 31.39932826, 34.69847452, 31.43401703, 32.93690146, 31.247785399999998, 31.72941803, 34.13020303, 31.43037123, 32.32688101, 34.45946862, 32.59785413, 31.1256789, 34.04567266, 33.72076938, 34.44235334, 31.09389027, 32.85504247, 32.76039258, 31.51148016, 31.15197924, 34.78144169, 33.55554728, 33.77995024, 34.90171875, 34.52041498, 32.60154883, 34.81185586, 32.1597283, 32.38759944, 34.76327133, 32.24767634, 34.13697363, 34.36975964, 30.78472347, 31.56729412, 32.2206831, 34.45500589, 0.0, 32.64048341, 33.28094866, 31.80396383, 33.29526734, 32.28725256, 33.26879845, 33.71902176, 32.59117397, 33.37823223, 32.86698258, 33.28726072, 0.0, 33.80270512, 31.4092794, 31.98773215, 34.15030532, 55.32222414, 52.3233, 61.14998174, 60.90980451, 58.74513976, 58.62403337, 63.67264044, 59.79603738, 64.80726247, 59.09893571, 58.29307365, 58.45031811, 60.24429722, 55.57445008, 57.65529415, 62.15429159999999, 62.31305045, 64.90320724, 69.31479216, 67.04919196, 0.0, 57.13978948, 55.76261984, 57.24124555, 59.56149996, 63.87692095, 0.0, 61.47502768, 56.3202004, 59.890980799999994, 65.50815459, -14.270999999999999, 35.39465006, 31.87934684, 35.83883429, 33.80190085, 32.93166885, 33.21498827, 33.72854224, 33.34835867, 35.70471703, 35.3997715, 0.0, 32.0971334, 32.90525627, 31.52508998, 0.0, 34.59933926, 32.76895712, 34.29145151, 33.19153461, 36.28784385, 36.33644656, 36.3084504, 33.46755808, 33.55598792, 36.34038560000001, 33.26458973, 34.04613432, 36.36826212, 35.53864922, 33.89723187, 33.21230701, 35.26205537, 35.83018283, 35.58928601, 35.21247318, 35.29631396, 33.97042763, 33.83011025, 33.59035001, 35.14719007, 35.51202821, 36.38177105, 34.57692074, 34.29017991, 36.11735460000001, 33.73325583, 34.31709259, 34.09007427, 35.74242707, 36.09604046, 35.59802983, 34.26767081, 35.56759135, 33.24116713, 36.04188196, 34.78498904, 33.95317155, 33.70375665, 35.21413234, 34.75392199, 36.01038185, 36.26844485, 33.31403423, 35.76271485, 34.6815935, 34.53704874, 33.66340119, 35.91947491, 33.58839816, 0.0, 34.945915299999996, 34.43268455, 34.16250414, 35.57433534, 34.48254879, 35.44871474, 34.83624419, 34.77054088, 36.3415714, 34.64916145, 34.85588887, 35.9109364, 35.19605503, 33.99780401, 36.16258158, 35.02201976, 35.86251946, 0.0, 33.16887091, 35.58095779, 35.976844, 35.25688493, 35.18902527, 35.00292371, 37.64629437, 38.59678594, 38.44583082, 39.66727762, 38.20537103, 39.17881957, 37.91923498, 41.74228275, 38.77965956, 36.75733899, 39.59875897, 40.69923009, 33.0393082, 36.51112084, 35.34329425, 36.07409056, 39.10124298, 40.67311306, 34.30828379, 37.21513971, 38.07122463, 37.57978556, 39.4381191, 37.18922369, 41.58965602, 37.93899289, 36.21862405, 38.50735751, 39.30394768, 33.70147516, 0.0, 39.06167234, 40.00355989, 33.74314981, 38.45106826, 36.60308176, 34.84060306, 33.03484597, 37.75215114, 37.93433732, 35.38822029, 37.422880799999994, 34.65329488, 37.23104908, 37.05580291, 40.76391419, 39.57713498, 41.59198861, 38.26827353, 38.52746429, 37.55862499, 39.03417539, 40.12570935, 40.64917670000001, 36.22026558, 38.02644018, 0.0, 34.44465746, 38.68278902, 39.26255932, 39.87432092, 37.57250606, 39.64977461, 37.19474156, 37.31940883, 37.95474293, 40.09313619, 39.95998787, 38.74745778, 38.82777431, 39.68864463, 37.201606, 37.27732493, 38.32608609, 38.10883162, 38.86246243, 39.76018276, 37.75208676, 39.33133796, 39.62754308, 38.83240149, 39.28656773, 38.47362326, 39.59921777, 39.85646523, 40.10603347, 38.66611652, 37.82247444, 37.68473101, 40.66593870000001, 39.58635604, 38.43260896, 39.30497777, 37.28632032, 39.20278823, 40.66671597, 37.3153406, 38.98749519, 40.7249637, 39.01787888, 37.66954283, 40.61810999, 37.33859579, 38.40214114, 40.26279810000001, 37.9014485, 38.14717457, 0.0, 39.120926000000004, 40.59414277, 39.21720112, 37.95544985, 38.17359144, 39.97913541, 37.5836865, 40.48596505, 38.08054629, 37.76248981, 38.00450883, 40.87595412, 39.63803232, 38.88133511, 0.0, 39.97015535, 40.55499405, 40.00346839, 41.26809896, 41.80283011, 41.7937534, 41.45949668, 41.408032500000004, 41.48896435, 0.0, 41.85853803, 0.0, 41.82972709, 39.08646628, 39.57992638, 0.0, 38.66143781, 0.0, 0.0, 38.90417773, 0.0, 0.0, 29.67866525, 30.33060121, 30.26548745, 29.95079741, 28.29409504, 26.15184651, 30.40666734, 26.90131002, 28.84804315, 29.98319144, 26.11091986, 30.22509788, 27.18677893, 29.60631086, 30.33225875, 30.67652764, 29.45933576, 29.83791238, 30.57796289, 29.72856978, 26.95635849, 29.93543004, 30.49673973, 27.49293939, 26.55386945, 28.55364461, 27.34254618, 27.9276559, 30.86747479, 27.69308961, 30.795459700000002, 30.43669112, 29.98484137, 28.76202069, 26.58410348, 30.45955727, 29.31829741, 30.23766008, 30.44396917, 27.47196942, 29.21227113, 27.0772071, 25.6112362, 25.20904673, 30.61037141, 30.69143028, 27.386336199999995, 28.51367621, 28.06312234, 0.0, 26.64676272, 28.30810945, 27.93130349, 27.95027105, 29.60779729, 30.69341450000001, 27.18546175, 28.7158582, 29.90096506, 27.37763908, 28.70181754, 30.19746066, 30.04848048, 0.0, 30.04412971, 29.05858895, 30.16548905, 30.64204028, 30.61359259, 31.74847232, 31.29633502, 31.55456473, 31.32669878, 33.06882326, 34.35607081, 33.99148694, 34.23732119, 31.76095874, 31.27590016, 32.80904227, 32.43829035, 31.19576557, 30.83922642, 32.00979311, 32.39577406, 33.05917989, 33.283094500000004, 31.53169785, 30.92951916, 32.40209349, 33.58138199, 34.89872298, 30.78371028, 32.00043026, 32.34341231, 34.47197698, 34.24393976, 33.95436462, 31.62221166, 33.54187245, 30.91395822, 33.94243204, 31.54892966, 31.18810588, 33.54534185, 31.16068491, 33.35334302, 32.71391813, 31.92289565, 34.854916700000004, 34.44244079, 33.76944049, 30.87967778, 32.17265114, 32.15630737, 31.53328528, 33.70291126, 31.32155345, 30.71101099, 32.36616021, 34.11302332, 32.59221302, 32.15328841, 34.86430205, 33.41357794, 34.26268279, 34.22604035, 34.37525597, 33.79216944, 34.69316688, 33.22879932, 31.23279254, 34.50487351, 30.87454847, 33.5769205, 33.96044201, 34.63331566, 34.32207823, 33.2721566, 33.79602175, 32.73709786, 34.34626973, 33.29686567, 33.4533428, 32.45802497, 31.60213036, 34.13794553, 33.31535543, 31.80405727, 33.05867328, 32.79248718, 32.70211082, 33.02512137, 33.07841647, 31.03828570000001, 32.46325233, 31.779330600000005, 31.82588896, 33.79201475, 31.75218791, 30.83568832, 34.57286511, 32.35207048, 34.12920917, 32.3483402, 33.47851918, 31.49683595, 33.04163534, 31.16568912, 31.22483255, 33.014289, 32.17201038, 33.59232073, 34.78897608, 32.50931999, 33.55514538, 33.83749973, 33.878629600000004, 0.0, 33.91969522, 32.56934316, 34.46589159, 31.35928155, 33.09310242, 34.00267074, 32.23334561, 33.32056115, 31.86728114, 34.88389445, 31.76622818, 33.35777107, 33.65145002, 32.2654021, 32.74976524, 30.93464824, 33.26310031, 34.55151201, 32.07996777, 32.03650571, 32.69642758, 33.56543317, 32.04785085, 32.55792548, 31.92829517, 31.77527543, 30.86392347, 31.45743864, 32.12059861, 34.91369188, 32.40422134, 33.03349196, 31.71612656, 32.67435595, 0.0, 34.82995757, 32.87920671, 34.73376362, 33.78017694, 31.05449097, 33.41146451, 32.96711864, 31.5521809, 32.04066113, 32.12009104, 34.64624278, 34.80987459, 31.97496928, 33.78290391, 32.80291082, 31.55162306, 0.0, 13.4443, 19.60121157, 21.45803166, 21.17882515, 22.03935037, 20.86399628, 0.0, 0.0, 43.4526575, 44.89333571, 42.67002716, 42.28269683, 47.21754179, 43.21672879999999, 43.4085812, 43.98829931, 48.29996017, 43.38713372, 48.76684761, 43.72592209, 43.46665742, 43.61970148, 42.77149116, 42.28347888, 44.28496071, 46.67459924, 44.24186819, 43.3507101, 42.18332217, 44.22800938, 44.06482372, 42.96927962, 45.84721541, 43.82078483, 42.68891267, 47.67282258, 46.81587887, 44.9438088, 46.23315327, 43.0012336, 43.78141028, 42.85518524, 46.32638236, 42.19494279999999, 0.0, 42.58016894, 44.00545243, 42.69254894, 47.35364087, 43.75303583, 42.35440512, 0.0, 44.76728382, 44.45275475, 39.98815591, 37.18049267, 38.88829622, 42.32359279, 39.96209138, 41.40385234, 39.16840183, 42.06823429, 39.96991073, 40.13919438, 39.54581621, 39.33425789, 38.75388572, 38.60704876, 39.51949084, 41.84144849, 39.0032229, 39.27432424, 40.17514519, 41.89373302, 39.76768052, 41.85116968, 39.6809186, 38.41353228, 39.05935711, 39.00072038, 40.59706922, 37.99189086, 40.47289135, 37.76430935, 39.35907414, 41.28569601, 38.08163641, 40.40423981, 37.51810645, 40.81908672, 41.3533994, 40.74717633, 37.78595185, 39.01054275, 38.29980057, 39.08869046, 42.36542373, 37.45939802, 41.93842729, 41.13746989, 41.59081014, 40.93148779, 41.34426129999999, 42.3224907, 38.71987914, 41.74583951, 40.89188292, 40.12581572, 39.86064913, 39.26119767, 38.83042506, 38.64963204, 41.0327901, 40.23917274, 37.22078441, 40.45674722, 42.32451172, 40.48996987, 40.02742725, 41.20596782, 38.27594376, 39.23198845, 39.71654544, 39.64187451, 42.04165196, 0.0, 40.78702156, 38.08510853, 40.01360584, 39.62265059, 37.41391284, 37.22631423, 41.2013541, 38.05095369, 38.71240969, 41.46613806, 37.75332999, 39.75836914, 40.157179799999994, 39.642916899999996, 39.39133527, 38.46996033, 41.09309773, 42.35129217, 40.50716185, 0.0, 37.47119609, 40.18417171, 38.44272901, 40.84925021, 38.35309213, 38.42955355, 38.08706198, 41.75509713, 41.44619267, 37.73033511, 42.33641854, 40.78579374, 40.7457653, 41.09194313, 39.20744865, 40.60626947, 40.47388153, 40.0509304, 39.19605589, 40.580783200000006, 40.76135835, 38.48015445, 39.39561833, 40.30319754, 38.28814402, 38.70186039, 41.39804622, 39.14647946, 39.30712658, 40.22787247, 38.36597551, 41.59761169, 39.63684962, 38.32117957, 40.12361933, 39.4142482, 41.0469907, 38.30393723, 40.51587228, 39.03630547, 40.07306535, 39.82304555, 38.19467379, 39.76719009, 39.93029017, 40.48527731, 40.82907273, 38.90915820000001, 41.02078733, 40.43781032, 38.78576239, 38.99588883, 39.48994426, 38.68861576, 41.24521668, 41.64232188, 41.54366008, 41.41874274, 38.84112637, 40.16143691, 39.78163624, 41.32467367, 38.7099921, 40.76940965, 39.16130004, 40.04034823, 39.47899078, 40.95610449, 41.39672484, 38.955304999999996, 38.54118920000001, 0.0, 39.31145587, 39.77202286, 38.07809328, 38.40112197, 41.45986947, 38.02097333, 41.04166107, 39.66437981, 40.15734772, 39.10235626, 39.62002287, 38.68672078, 39.52305623, 38.01519732, 41.61756781, 41.27890281, 41.64423868, 39.08952258, 38.82767338, 40.38872739, 40.31123252, 0.0, 39.62550777, 38.02658833, 39.8523352, 39.42944561, 40.84704239, 40.34728141, 38.08922676, 38.60219804, 39.863344399999995, 40.72934187, 40.74911165, 41.13863784, 41.33075609, 41.02903567, 43.28383218, 40.74324454, 41.6844628, 42.08011739, 42.4704581, 42.03657094, 42.77461496, 42.4709188, 42.73545875, 42.73172833, 42.38521079, 42.03617207, 41.33149454, 41.77233777, 43.08177563, 42.73538914, 43.06001295, 41.02868181, 43.08247182, 42.84443388, 41.89981633, 42.03718237, 41.68560356, 40.74773536, 40.73742757, 42.47104597, 40.92012606, 43.37787725, 42.46815349, 43.37782951, 42.86271799, 43.06000529999999, 42.73270384, 40.74542720000001, 42.03614551, 42.40183723, 41.68378965, 42.38382428, 43.08178477, 42.38353877, 41.68330137, 40.98767962, 43.35671042, 42.7764426, 42.38696136, 41.68630265, 42.17178824, 41.68576082, 41.03192394, 41.67169354, 42.12118609, 41.33649833, 43.20405458, 40.64181461, 42.07923082, 41.21842119, 41.02958964, 43.38107862, 41.33081904, 41.33521503, 41.33445101, 42.03586837, 41.03299766, 43.35638371, 42.05220391, 41.02988815, 41.03018714, 41.48370744, 43.08310673, 43.37824276, 0.0, 40.7393172, 43.08193849, 42.737633, 42.73420133, 41.68679484, 41.33640314, 41.68625425, 40.73518949, 42.38624071, 41.63935978, 41.6850066, 43.08221074, 42.03621213, 42.07991767, 40.73710579, 0.0, 41.0277278, 40.75326764, 41.03064984, 41.33559454, 41.33577126, 40.73969028, 42.42853483, 43.37751174, 43.29094334, 42.38979414, 43.37750768, 42.73305373, 37.88582951, 38.21413251, 39.53185661, 37.2288586, 38.47889676, 37.85508555, 39.82652589, 37.78134351, 38.30292938, 37.14994405, 37.16928494, 39.78580976, 37.23577007, 39.34948772, 39.48028352, 38.2365018, 37.19114520000001, 37.23781842, 37.50675523, 39.78468441, 38.86600962, 39.79067154, 38.88503636, 37.88735543, 37.45338105, 38.91458712, 38.69677695, 38.04340344, 37.69200114, 38.56443815, 38.99871131, 38.91588178, 39.34987223, 37.56227336, 37.73836671, 38.4808095, 37.8774388, 37.99978709, 37.19175361, 38.04293782, 37.562039399999996, 38.08780079, 39.41673394, 39.2347941, 39.78470589, 38.88548175, 38.00017981, 37.55909527, 37.55848695, 37.19113093, 38.48119447, 39.20183497, 39.04549684, 38.21267844, 38.91735806, 38.45576156, 38.35855394, 39.78359669, 38.39184858, 37.23859987, 38.56383358, 39.39331582, 37.19236568, 38.68827511, 37.19141121, 39.78345387, 37.55862897, 38.47974157, 39.78443827, 38.65235984, 39.3503437, 39.13237408, 0.0, 38.18108732, 39.78465501, 39.37925655, 37.64780729, 39.78525843, 37.95230263, 39.82799632, 38.34616184, 39.28935726, 39.35022773, 38.52275276, 38.91462787, 38.78369175, 38.48222076, 37.6842718, 37.19324632, 39.04100763, 39.35018161, 39.35147699, 39.78516566, 38.03100851, 37.56304714, 37.1923008, 37.23682549, 39.35107575, 38.91467218, 0.0, 38.95471985, 38.91686134, 39.78420784, 38.48178252, 37.55937174, 37.8865336, 39.11727348, 37.10459774, 36.75197631, 38.00671029, 37.05842757, 36.96469836, 38.14735938, 36.73355174, 38.97065142, 38.2054607, 38.36176608, 37.62680923, 38.69158994, 37.52333168, 37.77377239, 37.97162523, 37.20946153, 37.14749129, 36.62093411, 38.94384345, 36.85372876, 38.66599534, 38.31690743, 37.32533118, 36.89267803, 37.9689263, 37.16451126, 36.72581156, 37.35839237, 36.78926125, 37.73028906, 37.21218923, 38.11624059, 37.69241417, 38.0368225, 38.36758311, 37.56213922, 38.2379395, 36.55238827, 38.75398691, 37.638866799999995, 38.64962758, 36.72292505, 37.46231118, 37.26484328, 38.54332505, 37.83766422, 37.6976111, 36.85699301, 38.44188174, 37.29943898, 37.79344553, 38.44942688, 36.67948079999999, 37.30939025, 37.41866422, 38.18664655, 37.87119786, 37.85106355, 38.93950319, 37.35388197, 36.89225732, 37.54567114, 37.10975748, 38.07136018, 37.59645942, 37.09246661, 37.12306748, 38.53184419, 37.45475628, 37.21137452, 36.85949479, 37.02080035, 37.71659336, 37.70820545, 37.55218078, 36.88007070000001, 37.79990579, 38.59471935, 37.05350953, 36.73874143, 37.5301951, 37.96163597, 37.94090733, 37.81474237, 36.99459295, 36.71225341, 38.03253032, 37.92465657, 37.21425819, 37.80335779, 38.33342292, 37.47751843, 38.39791089, 0.0, 38.51679143, 37.42823949, 38.69607718, 37.25023553, 37.47088263, 37.83218794, 37.10466131, 38.51923469, 37.36642393, 38.19484205, 36.99308373, 38.29622293, 38.21476019, 36.74058474, 38.03223971, 37.3677562, 36.8381152, 36.80767017, 38.61056487, 0.0, 37.66166713, 36.99903045, 37.75599461, 36.80310688, 37.52168356, 36.75700531, 37.73941626, 38.04178222, 30.295064899999996, 30.65385745, 30.20406249, 29.89946234, 31.07796211, 30.64836518, 32.34569994, 32.67932307, 32.57991587, 30.22931235, 32.0902519, 29.87592238, 31.66778967, 32.82308512, 31.44817835, 32.05457447, 30.53842039, 32.73926954, 30.84425359, 30.72985248, 32.13675181, 31.59882456, 29.86803617, 30.25734305, 32.30251776, 29.74075478, 30.26896765, 31.67884782, 30.2049055, 29.52470226, 32.6003154, 30.44143993, 32.36918118, 32.81686191, 31.72321584, 30.06971951, 32.47645559, 0.0, 29.42245447, 30.71409502, 31.19778499, 32.09530039, 32.41391005, 31.56388699, 29.87761636, 29.90709658, 30.82210324, 30.02531716, 30.12597499, 30.59724262, 30.13112107, 29.69262097, 30.40942847, 30.62888673, 32.00760749, 29.37343766, 0.0, 32.83121059, 29.83517605, 31.10884837, 30.85288548, 32.70847669, 30.46058217, 32.78550125, 30.87882871, 31.94449367, 44.1664747, 46.65926321, 43.8370751, 44.97330019, 44.59816444, 44.40759555, 44.11486325, 44.05996956, 0.0, 44.49952995, 45.40194593, 45.83839062, 43.95415864, 45.51229767, 0.0, 44.4858305, 45.01607142, 43.47808377, 39.62357628, 39.00670238, 39.45784712, 39.30211911, 38.53961642, 38.87172293, 39.56453592, 39.56647682, 38.51092331, 38.45413522, 39.47296601, 39.52786077, 39.55010644, 39.25305293, 39.24976208, 39.13676329, 0.0, 38.83070039, 39.06198912, 38.1163542, 38.30058422, 38.76618159, 0.0, 39.60835778, 38.37301947, 38.21274277, 41.72980578, 42.37428441, 41.79228404, 41.40674725, 41.40674725, 42.6687626, 42.58119713, 42.13440424, 42.33997957, 42.48607732, 41.2942019, 42.16073095, 0.0, 41.94070556, 42.327951399999996, 0.0, 42.35026951, 44.6846864, 46.41292944, 42.59147037, 45.03477666, 44.99690221, 44.0636262, 46.6720582, 42.59513984, 43.70639106, 44.63899297, 41.95447397, 41.91600556, 42.24633834, 41.91522292, 45.37790017, 45.44787015, 46.29552653, 43.98794227, 42.94400871, 44.68255561, 45.90484910000001, 46.00999672, 42.59599185, 45.52625509, 0.0, 43.02244215, 43.98901072, 46.40862701, 44.69565625, 43.29265605, 41.88753639, 46.89988536, 43.83353985, 42.59716886, 42.94502238, 44.35486835, 46.20974132, 43.64060976, 42.24807035, 42.24542231, 44.68512729, 43.03197711, 47.63197653, 43.99050893, 43.09052506, 44.94430054, 41.89475156, 42.60302282, 46.47227431, 46.07028979, 42.69158356, 44.33352407, 46.4338914, 43.99509218, 43.64064262, 45.58038692, 0.0, 43.64330771, 44.33772443, 41.92734151, 43.31082541, 45.0275929, 43.29123859, 43.554373999999996, 42.66090111, 43.64124435, 44.33481032, 46.665226200000006, 43.98992088, 44.68192279, 45.02085831, 42.95996803, 0.0, 45.34018577, 44.33473082, 43.33433923, 43.42406072, 46.19235734, 42.95392800000001, 42.92655373, 41.91441767, 43.46606813, 0.0, 42.25190229, 42.253105, 42.28098405, 44.33853602, 46.60962049, 45.27476015, 46.93479392, 47.97373527, 45.69804958, 45.42712824, 44.03554215, 44.24205652, 46.59180601, 44.82017001, 46.95043611, 45.02343421, 45.5021011, 46.89289518, 47.57992111, 47.90504893, 44.00715262, 46.48096553, 44.67172617, 44.02238415, 45.93348491, 43.67381499, 43.67394126, 43.67385583, 44.40849741, 45.93424769, 45.00761521, 43.67129565, 47.10778564, 45.56181234, 47.51009045, 43.67423373, 45.9459309, 45.1526059, 48.77754106, 48.24539665, 44.9973857, 47.64270764, 48.77217001, 44.37136597, 44.41311883, 44.41327865, 47.32557075, 48.35825983, 43.67429718, 44.82367677, 45.12328869, 45.93705297, 46.01265363, 43.67142874, 44.02216709, 44.35291112, 43.67434621, 47.32628443, 44.00374114, 46.40846929, 0.0, 48.06642577, 46.12105238, 44.02301619, 47.77372465, 45.58606667, 45.01625271, 47.87197525, 44.40555844, 44.72836381, 44.3543376, 43.67482683, 48.77501878, 44.6490231, 45.44447208, 44.5796592, 47.604840700000004, 45.55192576, 44.02240351, 45.58613007, 45.2829032, 46.06996226, 45.77298854, 0.0, 44.28424356, 46.58589171, 44.02211116, 45.03864533, 43.97823903, 46.35721532, 43.98772283, 45.17297924, 44.71710183, 31.47669768, 34.88084463, 31.17467303, 33.08658803, 34.81681228, 33.79696941, 33.93683395, 33.44834567, 33.91983202, 33.34598242, 31.97061673, 32.04158545, 33.65358105, 34.22772299, 31.86977774, 31.63225413, 34.87625235, 31.18961454, 31.47786634, 30.86259065, 31.21444233, 33.77036166, 30.41830223, 30.51359752, 32.2656285, 33.12345854, 33.12825718, 32.72531359, 34.27993475, 30.54020656, 32.01922104, 31.73397872, 31.56884708, 31.62257767, 32.75462946, 34.35687874, 31.20572971, 32.40419769, 31.55147224, 32.7536828, 34.291877500000005, 33.55545125, 31.53288662, 33.47386518, 32.63389156, 31.23132643, 34.76216286, 33.89236763, 33.49419589, 32.75339664, 32.40021118, 33.11009499, 33.42491685, 0.0, 34.36398677, 30.77090935, 31.17161885, 31.17507789, 34.226046000000004, 34.61810501, 34.25157572, 32.26469147, 32.406704100000006, 32.88149103, 31.91282117, 32.01744532, 30.79187949, 33.60192578, 33.95339918, 34.65133709, 34.76872156, 34.74023475, 34.64967704, 0.0, 34.49162015, 31.14971548, 32.35810271, 33.28392041, 31.64135687, 33.61300486, 31.16078225, 33.08747908, 34.02824175, 32.77890365, 40.19058551, 39.98492163, 40.43238737, 39.215877, 36.70978521, 37.50207671, 38.25271289, 38.29503305, 37.32449052, 38.99186229, 39.65816401, 36.71462476, 39.65620858, 38.83674754, 38.02199522, 37.38489388, 39.42762566, 36.94160441, 38.64789422, 37.72391475, 39.51499357, 36.9711783, 40.41040752, 39.31132056, 39.6013098, 38.50455671, 38.844478, 37.97663738, 37.431814, 37.681135499999996, 39.96145298, 39.89201062, 37.60663134, 36.9325593, 36.27167174, 38.41127108, 38.43947277, 40.21097916, 37.2575872, 40.11406587, 40.35570088, 38.38482826, 37.94163617, 40.09799248, 39.1435761, 36.77383887, 37.55487945, 39.01002188, 37.20351921, 38.25926778, 38.74719601, 39.0997, 40.12699751, 37.65896829, 39.06986886, 37.10626634, 40.09673161, 39.05345619, 39.87001769, 39.78110272, 39.83049768, 37.47865134, 38.16193985, 39.80601912, 36.62869595, 40.42212303, 38.21450288, 36.82516239, 38.63571781, 39.49593978, 38.94022054, 38.4181765, 36.59666326, 36.90519407, 40.36079813, 36.68710164, 38.46036182, 0.0, 36.64916339, 36.2130572, 37.70660776, 38.72798918, 37.87736118, 39.34310674, 39.38154439, 37.616229600000004, 37.82462075, 40.47942497, 39.52817427, 39.44007257, 39.353746799999996, 37.36085952, 36.65460667, 39.13734288, 40.46921489, 40.45214695, 37.05588075, 37.15772072, 39.79742518, 38.77875681, 38.03699437, 37.81214171, 38.63770039999999, 38.63555736, 37.89090059, 36.85571651, 36.75000327, 40.2099105, 36.65465345, 37.31728859, 0.0, 37.8457799, 38.76529479, 37.96130078, 37.11303869, 37.2813734, 40.47945588, 37.27029221, 45.13434354, 45.42335905, 48.43175214, 46.33277565, 45.22850116, 45.5197966, 47.30797024, 47.88084126, 46.25319932, 48.78420029, 47.26584855, 46.05953325, 46.33478338, 47.26331584, 48.29575866, 45.54486106, 47.27545948, 48.70513576, 46.3816474, 46.40605220000001, 48.62879827, 46.14907081, 47.04581276, 47.64514965, 47.12610041, 48.56084317, 48.54265777, 45.30080065, 47.64469406, 46.59907074, 47.15283992, 47.03728583, 46.49684637, 0.0, 45.48965095, 47.118246299999996, 48.25936577, 48.22773388, 45.39617714, 46.85538891, 46.86048047, 46.08520862, 47.78668011, 48.29607488, 46.23397237, 47.67657534, 48.72085833, 45.90018933, 45.67071407, 45.81367654, 47.83741052, 48.65577551, 46.20973220000001, 0.0, 48.36435097, 46.46652491, 46.95925154, 45.93955949, 40.52449420000001, 42.17695516, 41.56896142, 41.54634427, 41.91311716, 41.70759415, 42.22079243, 42.899727399999996, 42.43018907, 40.85486962, 41.85056773, 41.22703692, 40.90899107, 42.598885100000004, 40.523719799999995, 42.54502621, 41.21999357, 40.52439441, 41.57486951, 41.91637624, 41.39374521, 42.39040144, 42.71985036, 40.87028216, 41.11168186, 42.49188363, 41.58071748, 41.29518299, 40.17638677, 40.52458567, 40.17636348, 40.52993007, 40.17642064, 40.26186809, 41.61703149, 41.91428955, 40.51481965, 41.91528587, 41.56742671, 40.87257079, 40.87349452, 40.17658508, 40.52451972, 40.17609175, 42.45522056, 41.91586243, 41.2200529, 40.17584531, 40.39257596, 40.50663314, 41.19930341, 42.87990694, 41.19774275, 42.63758421, 40.78416049, 41.04658298, 41.56650314, 41.91371961, 41.91676024, 41.56797682, 41.16624273, 41.71711774, 41.39750195, 40.38514847, 40.17637905, 40.64843556, 0.0, 40.13141096, 40.85082525, 40.51156033, 42.26434853, 41.57246836, 41.18813488, 40.17556879999999, 40.1247415, 42.42252217, 40.52418865, 41.11314181, 41.227810299999994, 41.85070896, 40.87241834, 42.50284406, 41.22045983, 42.48932059, 41.9169835, 40.17626377, 41.91358968, 42.15725356, 0.0, 41.56730777, 41.52815707, 42.20934475, 40.17642643, 41.91482725, 40.87272618, 39.15509045, 39.58105744, 36.21458855, 38.912862, 41.14531606, 37.78436681, 39.98100864, 41.40692186, 39.933223299999995, 37.64268459, 39.01777974, 38.53841696, 38.04264256, 0.0, 40.44003782, 39.44875482, 0.0, 40.66562265, 39.44157041, 43.51637314, 43.87498583, 42.92015988, 44.69063265, 43.93779815, 42.91537785, 43.29662971, 0.0, 42.98499744, 43.291833000000004, 43.36094111, 0.0, 39.47538693, 40.96010917, 39.87681124, 39.80343818, 39.15008829, 39.37199394, 40.78681335, 39.71581067, 40.73766234, 40.56335249, 40.28047017, 40.43629879, 40.26549699, 40.86095313, 39.8895449, 0.0, 41.03238628, 39.58719656, 40.56465737, 41.13891592, 0.0, 40.65835409, 40.85951833, 35.05163625, 33.91514144, 33.36406072, 34.91131525, 36.60569702, 34.57421077, 34.34274529, 32.35275771, 32.47167456, 32.73911281, 34.86319296, 35.85751555, 31.91383467, 32.79215361, 33.74526079, 35.86631386, 32.18179341, 35.58007720000001, 36.01095101, 32.61348406, 0.0, 35.10403332, 36.51072137, 34.02097406, 36.50838318, 35.48014807, 35.68862401, 35.50708973, 33.13028233, 34.00715494, 36.58006022, 34.64048375, 0.0, 36.48126404, 34.71669834, 42.60060306, 42.25748406, 40.85209301, 42.15903158, 42.24778241, 42.91261714, 42.22769210000001, 42.13891056, 42.49430041, 44.74530905, 42.24819348, 42.59509207, 42.19837623, 41.76486060000001, 42.76249024, 44.11630765, 44.59040891, 43.11363907, 43.0022601, 42.275797, 43.66146647, 43.42034246, 44.04200959, 40.636182500000004, 43.784415700000004, 42.72596275, 42.91653905, 43.14638895, 42.90123494, 40.74066522, 40.76727260000001, 43.19898042, 43.24375382, 43.00491923, 42.85145728, 41.40337468, 43.2516977, 43.42778894, 42.63492579, 0.0, 41.42630093, 40.71088124, 42.71348136, 40.58582155, 41.15027894, 43.10904162, 42.81668777, 42.58831742, 42.39184015, 42.78081007, 44.4976179, 42.2689144, 40.88320119, 41.71579493, 42.16852837, 42.44945765, 41.89027881, 0.0, 43.56173026, 43.31153794, 43.15494365, 41.16278376, 42.70145109, 42.63505484, 36.0434701, 35.922379600000006, 36.49360862, 34.97403241, 36.43296207, 36.07569796, 35.48531943, 36.0688473, 34.61296243, 34.070565, 35.61113393, 35.74989637, 35.3877799, 35.95204977, 36.33804939, 34.8932941, 36.39312665, 35.66211129, 35.70394416, 35.1349263, 36.12908077, 35.05704275, 35.33553364, 34.26744084, 35.11833364, 35.04762133, 36.36123664, 35.66520691, 35.79115496, 35.93099927, 34.93449805, 36.03638492, 35.91230639, 36.12859861, 36.081519, 35.29373559, 36.44667547, 35.3506925, 36.30337451, 35.48544173, 36.07959451, 36.25669272, 35.36731853, 35.55269063, 35.33788927, 36.3607755, 35.01888303, 35.42017674, 35.80950511, 35.28814273, 35.51745004, 35.02254606, 35.47623147, 35.24032589999999, 35.48508185, 35.14867843, 35.85402722, 35.84326734, 35.67736232, 35.24469268, 36.01059309, 35.33155144, 35.30885257, 35.96575634, 34.25758282, 36.41736238, 34.72607366, 36.06092947, 0.0, 35.15253315, 36.26723798, 34.52265624, 36.17847453, 36.38989032, 35.59535426, 35.27820615, 35.71015088, 35.00417719, 34.64244496, 36.39593137, 35.64003916, 35.40114178, 34.98820368, 34.8386299, 35.31647813, 36.4017975, 36.41689489, 35.48665845, 35.20383864, 35.87147226, 0.0, 34.98960527, 36.36880673, 35.78879266, 36.39728256, 35.83810081, 36.23103603, 35.36438125, 36.2084135, 35.70625477, 36.16222629, 35.90079156, 46.09686891, 46.93579637, 48.0683985, 47.02366884, 48.79106111, 46.11285362, 48.79094471, 46.97847375, 46.93201724, 48.77286211, 46.11017712, 48.814938700000006, 47.35423935, 47.71701474, 46.28398398, 47.457108399999996, 46.94022281, 47.92093639, 46.35821257, 47.45785838, 46.43375068, 46.97830064, 46.45681054, 46.45729487, 48.23104458, 46.11182017, 47.74133370000001, 47.60766714, 47.31213126, 46.71681782, 48.20197971, 47.9226426, 47.11530482, 0.0, 48.76623521, 48.24977025, 48.26886249, 46.45621782, 48.71982533, 46.26440649, 48.77245354, 46.10830372, 47.57700669, 46.11323337, 46.44737738, 46.80851182, 47.45611548, 46.97962541, 48.68565745, 47.45367788, 0.0, 48.36876964, 48.22390169, 47.58614526, 48.34522353, 15.0979, 38.84541072, 40.77285242, 40.84772277, 41.70860332, 39.33425634, 40.55998859, 40.01625942, 38.93416837, 39.44012838, 40.578968599999996, 40.13923427, 39.91592258, 39.04847534, 39.41485808, 40.76932373, 40.30096166, 40.85065156, 41.424119, 40.13412966, 41.32398837, 40.27942393, 41.36796058, 39.75107189, 39.56021306, 39.96995815, 41.60213491, 38.82708533, 41.49952319, 39.69116283, 40.05026529, 39.19673558, 41.00250487, 40.66015414, 40.29380509, 41.333964200000004, 39.1839264, 39.49537927, 40.56163713, 41.14651175, 39.01914254, 40.38614126, 40.39830217, 41.69710807, 38.59743452, 40.09136236, 40.38996525, 41.29553751, 41.62101218, 39.89381073, 41.01631101, 40.58610662, 41.11770589, 39.09224872, 40.54043046, 40.0543329, 39.72984936, 39.75394919, 39.62081738, 40.52363560000001, 39.96575964, 39.76818851, 41.53781826, 0.0, 41.11676341, 39.73508655, 39.64170392, 39.07634001, 41.16793482, 39.7420247, 41.02094889, 40.77180308, 39.33705391, 41.35624126, 38.80270163, 41.12351311, 40.33163494, 40.81482476, 41.12464734, 41.31735028, 40.44214695, 0.0, 40.30016061, 40.8554138, 39.25208988, 39.42581994, 39.45690571, 40.82925852, 41.56052014, 41.36224827, 40.84339621, 35.88494195, 36.73090616, 34.37366573, 36.7496847, 35.26862449, 35.87518314, 33.96472458, 35.17364557, 35.5426055, 34.25103751, 35.90692775, 34.02807439, 36.74817177, 35.20413532, 34.58840127, 34.65973764, 34.28845626, 36.76268118, 35.90230551, 35.63853802, 36.40823634, 35.98772922, 36.218019399999996, 36.3791334, 34.70418038, 35.0167709, 36.796296999999996, 34.93535801, 34.7440135, 36.78836519, 35.22257600000001, 35.04912569, 34.58781741, 34.11130184, 34.31440473, 36.81799745, 35.94530008, 34.91671958, 34.87844729, 34.89851864, 35.70270942, 35.91899576, 33.95273467, 36.31149996, 34.02311222, 36.30179091, 35.01123903, 34.11664328, 35.37235506, 34.48116015, 35.61318461, 36.38953329, 36.79843529, 35.46485198, 35.55140095, 35.64661916, 36.62888819, 36.83532655, 0.0, 36.31743373, 36.07695283, 34.92065823, 34.72959848, 35.20614018, 34.41635232, 35.68711719, 36.37004357, 35.16478725, 35.49447108, 34.48556989, 36.74777635, 34.37288446, 36.11939621, 0.0, 35.96024096, 36.71380786, 35.29071824, 36.76705782, 36.42316318, 44.70915557, 44.49167306, 45.18787398, 45.99712889, 45.94464254, 43.17406868, 44.14230227, 42.45911325, 43.91570171, 43.27941273, 45.37160076, 44.49024544, 43.06422669, 45.51872811, 42.43201126, 44.62806839, 42.3665549, 42.68762984, 42.79246693, 43.93727035, 44.64252874, 44.48899494, 43.1937027, 44.90287942, 45.41846568, 45.54747959, 0.0, 44.90322804, 45.41501554, 45.46248721, 45.59073056, 0.0, 45.30915495, 45.57894064, 45.16292781, 45.55972701, 44.72698162, 45.23330449, 39.87140411, 40.46809875, 40.81665618, 40.6825484, 40.00522157, 40.41570541, 40.47961444, 41.78869215, 40.33682119, 40.91152759, 40.49527404, 41.43625568, 40.91545395, 40.92058903, 39.97291773, 41.19265812, 41.00110782, 41.23255967, 41.04821986, 41.68447709, 40.1625372, 40.41377078, 39.91680171, 41.42822061, 41.99253829, 39.92041012, 41.51095103, 39.92956518, 39.92913544, 39.85746531, 40.42162652, 40.65241041, 41.12913106, 40.53358749, 41.43564672, 40.03904563, 40.99206278, 40.36680311, 40.6154815, 41.17823008, 41.34310539, 41.80938602, 41.30248872, 40.61116939, 41.05934058, 40.21053671, 41.03023987, 40.75182733, 40.84785433, 0.0, 40.40206612, 40.00338507, 41.33155042, 41.74471626, 40.70497338, 40.77129231, 39.97172723, 41.44634738, 41.82147784, 41.77255149, 0.0, 40.96188846, 41.40323442, 41.81304978, 40.19208869, 41.64938475, 40.31377979999999, 41.51955538, 39.9210089, 18.180117000000006, 18.360255, 18.459681, 18.251619, 18.131361, 18.287985, 18.406631, 17.998457000000005, 18.445532999999998, 18.201592, 18.34946, 18.040993, 18.211615, 18.418578, 18.328802, 18.374986, 18.437269, 18.102851, 18.251818, 18.28885, 18.173559, 18.097597, 18.224687, 18.304264, 18.31586, 18.436115, 18.318373, 18.373715, 17.982429, 18.007516, 18.039942, 18.345114000000002, 18.266461, 18.410928, 18.134532, 18.145211, 18.44981, 18.211446, 18.050764, 18.223793, 18.011661, 18.269035000000002, 18.23679, 18.187527, 18.425688, 18.342114000000002, 18.420473, 18.171795, 18.017889, 18.175457, 18.377805, 18.316963, 18.230636999999998, 18.288019, 18.215046, 0.0, 18.03174, 18.059645, 18.059498, 18.439692, 18.335442999999998, 18.346329, 18.08282, 18.010386999999994, 18.111484, 18.386933, 18.147987, 18.328646, 17.994525, 18.362406, 18.431445999999998, 18.336159, 0.0, 18.271214, 18.409346, 18.428262, 18.123276, 18.127951, 18.070399, 18.080374, 41.71018079, 41.67106337, 41.5642026, 0.0, 41.87064746, 0.0, 41.45961631, 34.22333378, 33.54338026, 32.98837386, 34.51828081, 33.21927586, 33.26679302, 32.39226291, 33.20222596, 33.66926881, 32.82487866, 35.05122251, 34.69249168, 34.64137396, 33.66610974, 32.87582989, 34.33358335, 34.39007791, 33.0794369, 33.77221995, 34.39287073, 34.02361754, 33.43443342, 34.89502264, 34.15272415, 32.77419582, 33.9212828, 32.43171982, 34.33988254, 34.68270843, 34.48244419, 34.16393091, 33.89665987, 34.07859748, 34.59905577, 33.90161443, 34.28629098, 34.75225169, 33.4391073, 0.0, 34.88807695, 34.01791263, 34.00795823, 34.92960077, 33.91826534, 0.0, 34.68835752, 33.62190129, 34.97281497, 43.71757685, 44.41464384, 43.19486375, 42.98914167, 44.36974375, 45.58994323, 43.71756379, 44.07657829, 44.90608745, 45.77074915, 43.20660134, 44.85834507, 42.91296147, 44.97788119, 45.70889983, 43.67741105, 43.67490933, 45.367281, 44.75994309, 45.15639647, 43.38520741, 45.41846445, 43.23929297, 45.07082625, 45.1723937, 43.19419064, 44.29299053, 44.67385954, 44.54708407, 43.6746384, 45.58015551, 44.39091534, 43.33449012, 44.54747703, 43.69318385, 44.06637798, 43.96278565, 44.36956169, 44.02193107, 44.35919441, 43.27841182, 43.89522709, 45.75870838, 43.6742571, 45.76626028, 44.56676791, 43.58078848, 44.02197882, 43.67441641, 44.02266214, 43.33749164, 0.0, 44.0025835, 45.49049506, 45.06583079, 45.62975048, 44.02351092, 44.93837606, 44.41381872, 44.71571812, 43.19338568, 43.34459388, 43.3109081, 0.0, 42.83112163, 45.43019636, 43.00924485, 44.97881876, 36.12684348, 35.51123746, 36.07110411, 35.59942968, 35.68938198, 35.15739424, 36.40355516, 35.80990797, 35.97366108, 36.28969086, 36.26136216, 35.42527478, 36.48319149, 36.55151008, 35.9278914, 35.49090731, 35.81830662, 35.95271721, 36.17007426, 35.97616272, 35.60048904, 36.14669837, 36.05931946, 35.19615831, 36.38128818, 35.15634626, 35.99438059, 35.20222469, 36.27469206, 36.17470125, 35.38433717, 36.21990035, 35.17670231, 36.52692871, 35.20772017, 35.19732531, 36.44355426, 35.58332824, 35.65581134, 36.33160906, 35.80609681, 36.28872054, 36.03958805, 36.36380466, 36.04818632, 36.45523950000001, 35.99508821, 36.34180170000001, 35.75893438, 35.21675201, 35.52853208, 35.13738622, 35.73939663, 36.53157855, 35.61181957, 35.12997174, 35.45798777, 35.618741299999996, 35.42812616, 35.17468549, 35.51558739, 35.44550387, 36.49609412, 35.27724699, 36.13248031, 36.35732446, 0.0, 36.34117832, 35.63708728, 36.55606529, 35.12245443, 36.14005459, 35.60536161, 35.84923189, 36.52454807, 35.84591405, 36.42325673, 35.36979721, 35.78077323, 35.1864775, 36.25359775, 36.50235092, 36.51240691, 36.46824103, 35.501942, 36.39026213, 0.0, 36.10890856, 36.28590426, 35.69864497, 35.672829899999996, 36.29472368, 35.23868267, 36.29896232, 35.92929884, 35.89099229, 36.15496772, 31.81534745, 32.30468633, 31.25457347, 28.10556197, 33.61569967, 34.96507426, 28.89333001, 29.88548725, 34.06854817, 29.74619598, 30.10370699, 33.61640794, 28.41761668, 31.03736027, 29.44928723, 30.26640707, 32.74363984, 31.89978581, 33.44626922, 29.18757369, 30.663644800000004, 29.81008251, 34.53026962, 27.03103197, 31.77430356, 30.49273808, 30.78801353, 29.83668859, 28.47048236, 32.29760619, 26.14524221, 32.97195142, 35.40365929, 33.07499881, 34.53016752, 29.70972016, 31.837258000000002, 34.529304100000004, 33.78686685, 33.60425307, 31.88911733, 31.76736834, 33.18820114, 34.96489496, 29.622097999999998, 29.80811278, 31.94854689, 31.32635934, 33.63979567, 31.39078397, 34.07783319, 31.43052248, 30.72367027, 33.61431553, 31.44506775, 36.27787176, 32.76670599, 32.74255572, 29.08101855, 34.96522957, 33.38570922, 33.20521901, 33.61616822, 28.42270064, 34.96517499, 27.68184592, 32.32743996, 31.86898877, 29.98202582, 31.76980765, 32.34894117, 32.23602653, 31.25350609, 33.59564294, 29.87788372, 32.74281316, 34.07227468, 33.97308618, 29.52704478, 33.17653242, 31.70422788, 28.86751206, 32.74055318, 29.40167322, 33.17969345, 30.31824095, 31.86942909, 28.65696592, 29.45634206, 35.40081878, 33.62744998, 32.47940482, 30.54579585, 29.58165339, 34.07044901, 34.5307555, 31.70470573, 36.27743284, 34.28944521, 30.33364686, 29.85864939, 32.54935988, 35.84008013, 33.17823584, 30.05669873, 35.83764858, 32.21128872, 26.39418217, 31.99045053, 33.60771256, 32.42990927, 33.14875072, 31.31925973, 32.30621324, 31.45628381, 33.12351514, 35.84006574, 31.30375559, 33.23377248, 28.95472367, 30.74685667, 30.71490589, 29.8832777, 27.04453923, 27.73103938, 32.37877812, 32.73997145, 28.90705334, 32.599141700000004, 29.94414155, 26.92601662, 33.18104136, 30.06040006, 30.48678918, 33.61643847, 29.34967888, 27.42435506, 33.60519951, 28.34453111, 33.66981763, 34.06859623, 31.19531316, 29.38508402, 30.31120597, 31.29872538, 30.15152688, 31.5454767, 36.27783108, 28.35101362, 30.70645047, 31.84947612, 33.61008596, 33.17657705, 30.96694679, 32.79868409, 32.30600051, 30.71780434, 28.81955746, 28.7429195, 31.1925468, 31.55255453, 28.35251708, 29.355730100000002, 30.88990665, 31.86904128, 30.78581830000001, 31.49557106, 32.30623474, 33.67521893, 30.30079133, 35.83769242, 33.11304005, 34.07408766, 31.62017125, 32.04620681, 30.78548982, 32.30365282, 27.736286, 36.27829105, 35.40425596, 30.11879481, 0.0, 32.75310985, 32.163959600000005, 32.77757172, 34.52993409, 30.78097267, 30.79472531, 35.40133773, 29.99954402, 32.87109387, 34.96585996, 31.36607041, 29.83321503, 33.61886692, 31.32323325, 28.323897600000002, 35.83809685, 31.02539637, 32.89779518, 31.8314342, 32.10773545, 31.34318809, 31.39457611, 30.57933681, 28.00880118, 31.1577796, 30.89740592, 32.74613808, 32.73587756, 31.79211404, 36.27751473, 32.37474036, 32.22236802, 26.56150059, 32.73553157, 31.82781912, 33.17906744, 30.49856623, 34.53028891, 32.77143818, 32.30163422, 30.22429013, 33.17402785, 33.17751417, 33.21339719, 31.40464436, 30.33432034, 31.0879489, 30.77031716, 0.0, 32.73706798, 31.36868194, 29.35739637, 29.89149232, 32.56483801, 28.79780988, 30.73872995, 30.01058447, 31.50999644, 30.21498498, 27.7610369, 29.27765923, 35.40114335, 33.98842886, 34.07945812, 26.47411727, 30.64655664, 29.1732598, 31.85008651, 33.21570665, 32.78722382, 33.17320212, 33.17659707, 27.00156391, 28.86617238, 41.52106798, 38.35657051, 41.52106798, 41.72330587, 39.64834818, 39.37231946, 40.88798265, 40.99001837, 40.29772254, 38.99617072, 37.85447192, 38.98103848, 37.85903620000001, 39.70208397, 37.28507306, 39.0729209, 41.08830262, 0.0, 38.33815254, 41.63137678, 40.66616532, 37.62762978, 39.37231946, 38.74837146, 38.99617072, 37.85447192, 40.86688146, 40.44862644, 40.12491499, 40.12491499, 0.0, 40.116672200000004, 40.33110236, 37.28003525, 38.32335822, 41.27116049, 41.27116049, 44.03217337, 43.03519828, 44.46548598, 44.46322849, 44.72736416, 44.85627605, 44.797582399999996, 44.60353043, 44.00470222, 44.82964024, 0.0, 43.57723578, 0.0, 44.27343241, 42.986982, 43.58010937, 18.3358, 37.76707161, 38.02080697, 38.814003, 37.78636074, 37.34081025, 37.60308293, 37.37569884, 38.8767675, 38.16404586, 38.05852573, 37.3080028, 37.13128068, 37.55531756, 36.616302399999995, 36.76366949, 37.26818323, 37.57242268, 37.73484642, 37.20553386, 38.02679129, 36.73066666, 37.35358063, 37.01909701, 38.03527919, 36.67670048, 37.37373208, 39.11271747, 37.26420587, 37.7824656, 37.48133648, 38.48199985, 37.51328851, 36.58022376, 37.12560977, 37.07544585, 36.69455571, 37.93357639, 38.83677558, 38.85157547, 38.88485255, 38.73564842, 36.9302126, 37.84157909, 36.99536167, 36.6831435, 39.20172582, 38.2977863, 36.66601852, 37.31234791, 37.40809042, 37.71714806, 36.65677234, 38.29545894, 36.67878901, 36.76654925, 37.03513786, 37.7583355, 38.43542574, 37.53460572, 36.68542395, 38.35799465, 37.29186313, 36.90579348, 37.31156958, 38.26818502, 37.70965316, 37.71044922, 37.71889653, 36.70586667, 37.78258621, 39.08990083, 37.97850256, 36.94618528, 37.40021399, 38.41531222, 38.7464321, 38.77058531, 36.68212094, 37.44164146, 36.67882005, 37.63191998, 37.17746986, 37.78790447, 37.50694406, 37.08166899, 36.89934014, 37.34062933, 37.89202088, 36.93357076, 37.1435975, 38.24530219, 0.0, 38.61807452, 36.680163799999995, 37.20530399, 36.81980341, 37.14259351, 36.85914825, 37.55016038, 37.22554789, 37.18497668, 38.70916224, 37.06474963, 37.12222899, 38.68295619, 37.937575, 37.53255773, 37.26865804, 37.27791025, 37.81204314, 38.51006137, 36.93028320000001, 37.2836193, 36.71466456, 38.85905135, 36.84455636, 36.72231125, 38.18574462, 38.41758738, 38.15965544, 36.70155394, 37.11781893, 36.92432914, 37.12191123, 0.0, 36.73285734, 38.90847745, 36.72341572, 38.06451466, 38.11021557, 37.28131268, 39.17054517, 36.9746148, 36.91582035, 37.24374789, 46.98299757, 46.18894415, 46.23946995, 47.87046092, 48.04754642, 45.77568046, 46.29442881, 46.19074721, 47.7361335, 48.471143100000006, 46.53351425, 46.43197502, 47.20753737, 47.14003705, 48.14713305, 47.75003077, 47.49137892, 47.63479026, 47.12521214, 45.87325839, 46.57756476, 47.57705241, 47.35007586, 48.54855019, 0.0, 46.55418369, 48.53234021, 47.03892768, 48.60182783, 48.48171488, 46.02408726, 48.04615983, 47.62113146, 48.40035475, 46.9291895, 0.0, 46.29180039999999, 46.23040051, 48.82227976, 46.90022523, 46.45738486, 39.1307219, 39.46704621, 38.01974191, 38.70036159, 40.27367263, 38.42424062, 38.84315422, 38.46231092, 39.27057157, 38.02974928, 38.9251277, 39.10314817, 37.9463652, 39.32103553, 40.51943859, 39.00683177, 39.2853852, 38.84263974, 39.30776166, 38.33860077, 38.9947249, 38.172154, 37.8299889, 39.50984542, 39.86064362, 38.77071799, 37.38002939, 37.40481169, 39.41561583, 37.73048351, 39.63218457, 37.56274716, 39.55439028, 38.29617706, 40.0955451, 0.0, 38.68314479, 39.37091679, 38.32758728, 39.46770987, 38.50782345, 37.76936795, 38.769899, 39.18094587, 38.71622686, 37.65390597, 39.33602617, 39.11240885, 39.46811972, 0.0, 38.89285061, 38.14901357, 38.49370949, 39.6065771, 39.02775007, 39.20967886, 37.612327, 43.96974651, 46.31956891, 45.42372701, 46.52868768, 44.452655299999996, 44.37835084, 45.86303537, 44.0816316, 45.06939744, 44.73483377, 43.46492199, 43.23870316, 43.06601594, 43.41576662, 44.95856458, 46.43222285, 44.94562799, 44.726614, 45.84963535, 43.75354908, 45.66678019, 42.8671731, 42.6794956, 43.80025981, 43.00050278, 46.26302338, 44.31864893, 43.02054068, 43.92456975, 42.57639354, 44.51727459, 43.90632465, 42.66005229, 45.26271619, 45.33737523, 44.11946801, 44.89792533, 45.38553432, 43.81911946, 45.00422544, 43.00486062, 43.94641218, 45.02715345, 45.70677897, 0.0, 44.41578887, 43.38352225, 44.58307413, 44.71850291, 45.46130348, 44.47558711, 45.68051754, 42.74753117, 43.3762778, 42.67151616, 45.47498854, 43.42574087, 45.87931905, 44.78902246, 43.72099677, 45.03437474, 45.21179252, 44.30360275, 0.0, 43.59422667, 46.05467334, 42.66858202, 45.89838588, 43.36863664, 43.01833055, 44.47068056, 44.11324419, 44.06886922, 44.45537896, 41.65498705, 44.52405055, 44.24886082, 41.69357844, 42.97272268, 44.58855102, 43.04183996, 42.08798185, 43.71930657, 44.04057166, 41.30702520000001, 42.26376367, 42.96180148, 43.05607708, 0.0, 44.52157546, 42.13299116, 44.79048913, 42.76558279, 41.65943896, 43.93522482, 41.2878183, 0.0, 43.90451606, 43.83961191], \"legendgroup\": \"\", \"lon\": [-86.64408227, -87.72207058, -85.3871286, -87.12511459999996, -86.56790593, -85.71265535, -86.68057478, -85.82630386, -85.39072749, -85.60638968, -86.7173256, -88.26564429999998, -87.83548597, -85.85836077, -85.52005899, -85.98901039, -87.80168544, -86.99320044, -86.24847739, -86.45050893, -86.31593104, -86.86888037, -85.61095742, -87.10866709999998, -85.80782906, -86.14415284, -87.15918694, -86.04051873, -87.73886638, -87.84289505, -85.83572839, -87.95684022, -87.63284988, -85.24267944, -85.29939599, -85.99750489, -86.89506300000002, -88.09668032, -87.65624729, -87.31069453, -85.35132246, -86.98310072, -86.65158371, -85.69267724, -86.55069633, -87.78796182, -87.88704173, -86.30486727, -88.20842409, -87.36995001, -86.20969272, -86.85475946, 0.0, -87.29770589, -88.08818103, -85.9408295, -85.45708831, -85.18415324, -86.66232561, -86.31029372, -88.19916205, -86.16886178, -85.79833053, -87.52556818, 0.0, -87.30027177, -88.20689944, -87.30891118, -87.37325922, -161.9722021, -174.1596, -149.14269860000005, -159.8561831, -156.701064, -156.21405890000003, -150.0076108, -158.23819419999995, -146.5692662, -135.4679843, -135.64244240000002, -134.200436, -151.53888840000005, -130.975561, -153.7493579, -163.39678830000003, -149.5741743, -164.0353804, -153.4836093, -159.7503946, 0.0, -132.9540995, -133.0511621, -135.3206587, -135.33377480000001, -143.2127643, 0.0, -144.7126799, -132.05837309999998, -140.36014509999998, -151.39073869999999, -170.132, -109.4892383, -109.7516088, -111.77071780000001, -110.8132779, -109.8882178, -109.2405279, -113.98100290000001, -112.49181540000001, -113.7577902, -110.3218983, 0.0, -111.7890033, -111.3449483, -110.8479088, 0.0, -112.5538588, -113.90666740000002, -91.37277296, -91.76984709999999, -92.33782872, -94.25680817, -93.09374925, -92.15980837, -92.49974403, -93.54270261, -91.29539209, -93.17484713, -90.4148172, -92.02640019, -92.18537045, -93.22642793, -92.70506566, -90.63235729, -94.2446814, -90.30839406, -90.77185818, -92.65167437, -91.25500948, -91.71777921, -92.33717519, -93.89299569, -91.81729127, -93.14921604, -92.42320562, -90.55832668, -93.66935133, -92.95396325, -93.9934871, -91.57001641, -91.90847954, -91.21494602, -91.92619839, -93.46036368, -93.60677071, -91.10867198, -90.78383866, -91.74002806, -94.23468591, -93.71951016, -91.88742357, -93.72524943, -92.68451899, -93.89285258, -90.05194370000002, -91.20540287, -93.65824478, -93.30632432, -93.21612969, -92.87795984, 0.0, -92.94372564, -90.84800154, -93.65789349, -90.66268713, -94.22728802, -93.03212219, -91.55162157, -92.31355101, -91.02455531, -92.67583224, -94.0632176, -92.69936482, -94.27162713, -94.2424869, -91.47819342, -90.74828138, -92.15684085, 0.0, -92.59746952, -92.51295036, -94.21800746, -91.74908296, -91.2439489, -93.41171338, -121.8929271, -119.82235940000001, -120.65696000000001, -121.6005252, -120.55291299999999, -122.2331726, -121.9289527, -123.89740630000001, -120.5233166, -119.6466953, -122.3938452, -123.876044, -115.36690420000001, -117.41119779999998, -118.72777959999999, -119.8159973, -122.75362439999999, -120.59350990000002, -118.22824109999999, -119.76655890000002, -122.72106310000001, -119.9073334, -123.39113130000001, -120.72090349999999, -120.7244817, -118.8872409, -121.24133970000001, -122.33283899999999, -120.76272809999999, -117.76459979999998, 0.0, -120.72405690000001, -120.8395236, -115.9933578, -121.34253740000001, -121.069975, -116.1774685, -116.73653259999999, -122.43856720000001, -121.2730061, -120.4039028, -122.32755459999998, -120.0188492, -121.6970462, -122.0066524, -122.0396884, -120.52007009999998, -122.54074340000001, -121.9357113, -122.88625060000001, -120.9970722, -121.6945899, -122.23701709999999, -123.114713, -118.8020203, -119.95250929999999, 0.0, -119.09106129999999, -121.90182879999999, -121.35356440000001, -104.3362578, -105.7885451, -104.3353617, -107.04768670000001, -102.5603223, -103.0720195, -105.3546767, -105.0566324, -106.19265729999998, -102.6032558, -105.6463118, -106.19174879999998, -105.4276548, -103.7844965, -105.3683478, -107.86313419999999, -104.87256950000001, -108.5211585, -104.930001, -106.6933637, -104.5251411, -104.13587209999999, -105.43996670000001, -107.902708, -105.5252597, -106.11780420000001, -107.0320729, -107.3004345, -104.9612585, -106.3408905, -105.2517692, -102.7392145, -102.60221990000001, -107.8429014, -106.35556969999999, -105.4625784, -104.03764579999999, -103.51366490000001, -103.110817, -108.469799, -106.92816979999999, -108.2070876, -108.59588570000001, -108.26390220000002, -103.8093302, -103.7173385, -107.7675136, 0.0, -105.7182065, -102.3577703, -106.9310027, -102.3926052, -104.5127437, -108.2179009, -106.3847838, -106.9905548, -106.28246599999999, -107.67632890000002, -108.4020725, -102.3519227, -106.1150762, -105.16148929999999, 0.0, -103.202587, -104.39296209999999, -102.4258673, -73.3881171, -72.73103891, -73.2451475, -72.53714864, -72.93620426, -72.10430976, 0.0, -72.3308481, 0.0, -71.98182316, -75.56884914, -75.64054974, 0.0, -75.39031349, 0.0, 0.0, -77.01655992, 0.0, 0.0, -82.35928158, -82.28467476, -85.62122584, -82.16611613, -80.73091022, -80.48725556, -85.19394153, -81.92949121, -82.47614748, -81.85609986, -81.34687065, -82.62160164, -81.80941373, -83.15724673, -81.66976468, -87.37284571, -81.31508595, -84.82731662, -84.61915825, -82.79880657, -81.18996211, -85.24270990000002, -82.94998918, -81.80956574, -81.16469006, -82.42700204, -81.34071957, -82.32013172, -85.81319222, -80.60556721, -85.21500423, -83.89442308, -83.18166636, -81.7125123, -81.88399313, -84.27491114, -82.74007147, -84.8829258, -83.47398594, -82.31831044, -82.05803627, -80.43109784, -80.55170587, -81.07812416, -81.80297522, -86.59267105, -80.88944347, -81.31799498, -81.14882926, 0.0, -80.46536002, -82.40227529, -82.72239666, -81.69732947, -81.74230285, -87.02458128, -82.33174248, -81.24060348, -81.43589967, -80.47106649, -82.0794267, -82.99099670000003, -83.60445406, 0.0, -82.37497443, -81.18263252, -84.39895211, -86.16935664, -85.66002461, -82.28909114, -82.87545866, -82.45936528, -84.44218806, -83.24701748, -83.49644388, -83.71436292, -84.83887523, -83.22145359, -83.22529920000002, -83.70489165, -83.33035166, -81.97743999, -83.58303423, -81.44002948, -81.74811421, -81.99928721, -83.95435040000002, -84.62725131, -81.66601818, -82.07702563, -85.07976677, -85.13757014, -82.13951596, -81.12489526, -84.78809239, -85.34535662, -84.47431861, -83.37124007, -84.97713865, -84.35594188, -82.70432472, -84.5761255, -82.85492059999999, -83.7677946, -82.263524, -83.42947229, -84.76129976, -83.98061238, -83.76811843, -85.50490424, -84.16964071, -84.22396017, -84.57619536, -83.16948926, -83.79746561, -84.21722377, -84.77026156, -84.90255207, -82.89687287, -81.34280942, -82.83936148, -82.30239915, -81.8870105, -84.316964, -84.49089434, -85.21577392, -84.12315129999998, -83.23159927, -84.46319413, -84.45802506, -82.61297636, -81.53811412, -84.87296253, -84.23418364, -83.17139104, -84.02137802, -83.53094677, -83.81896936, -82.99766919, -85.21005667, -84.90538572, -82.96567682, -85.12886832, -84.14814659999998, -83.66879087, -83.27501387, -83.56814788, -83.68844964, -82.63724870000001, -82.41609057, -81.96040187, -82.66166794, -83.56019163, -84.14263877, -83.06472457, -82.92221316, -84.14324253, -81.49251135, -82.45024131, -81.74952375, -83.27056716, -84.00425681, -84.04234127, -83.21218732, -84.52733571, -82.48252774, -81.40163426, -84.68859732, -84.73151117, -84.19381821, -83.92097166, -82.53527476, -83.49129491, -84.74993177, -84.87142262, -83.84547140000002, -83.43679568, -83.08278123, 0.0, -84.86848792, -83.82937, -84.46406611, -82.21598442, -84.38790389, -85.18677781, -83.47549959999998, -83.37552891, -85.01773177, -83.40304637, -84.75732369, -82.07026432, -84.02202167, -84.31258912, -81.60779441, -84.86823924, -84.28013991, -83.29405315, -84.83208037, -84.19821492, -84.53351366, -82.88136816, -82.05539188, -84.25077141, -82.93491155, -84.44069698, -83.91847289, -83.5236119, -82.32957247, -83.74107459999998, -82.56904553, -85.02812115, -83.62069378, -83.43078662, 0.0, -83.98967069, -84.30024826, -85.30165174, -83.73552314, -82.42224148, -82.67795848, -82.79357039, -81.91894878, -84.54742852, -82.72574721, -83.74905525, -84.96093476, -83.43438555, -82.74286107, -83.17140684, -83.85090513, 0.0, 144.7937, -155.5210167, -157.97121819999995, -156.9583592, -159.5966786, -156.56890969999995, 0.0, 0.0, -116.24155159999998, -116.4545247, -112.2233311, -111.32892379999998, -116.6586851, -112.3978437, -113.9752658, -115.7309284, -116.6017932, -111.6161537, -116.4630179, -113.1735463, -114.8065892, -116.70954990000001, -111.5597683, -113.6012409, -112.35057040000001, -115.6622393, -114.2855494, -115.4701578, -111.81496659999999, -111.48099429999999, -116.398376, -114.81083059999999, -115.4634436, -112.3131749, -114.2655033, -116.7020872, -116.71136979999999, -113.9309747, -116.434146, -114.1358773, -111.65384740000002, -113.6357257, -116.75009750000001, -112.5407838, 0.0, -116.16938710000001, -116.7647695, -112.83957420000002, -115.89167490000001, -111.2056773, -114.6685381, 0.0, -115.5676773, -116.78476880000001, -91.18786813, -89.32910838, -89.43534887, -88.82345779, -90.75068024, -89.5283051, -90.66330078, -89.93395545, -90.24734436, -88.20046615, -89.27780482, -87.78705622, -88.48914513, -89.42385254, -88.22358557, -87.81658794, -87.75954624, -88.2401158, -88.90959682, -88.76958483, -88.21854195, -88.08642662, -87.74759563, -88.05720863, -88.58969584, -89.02452658, -88.22350769, -88.92567818, -90.20862357, -88.22953869, -90.388865, -88.41905692, -88.53883373, -91.16313899, -88.26873022, -90.92491462, -90.13296166, -87.82466784, -89.38232563, -88.15437049, -88.9240025, -90.35393073, -90.21094405, -88.88165419, -88.42861412, -87.86205334, -88.42869583, -90.21330340000002, -88.88633881, -88.00367925, -87.72884035, -89.29977132, -88.55784752, -89.36638784, -88.96342505, -89.92424028, -89.90422563, -88.91899208, -89.34510444, -89.91824452, -88.71036614, -90.67775541, -88.45248227, -88.84621113, -89.80246001, -90.74290052, -90.17761038, -89.47809254, -90.20255104, -88.62099969, -89.32184679, 0.0, -89.76078901, -89.36856219, -88.59319339, -90.8877017, -88.56152109, -89.13085001, -89.2869272, -89.82512254, -88.08475366, -90.57042164, -88.54119706, -89.65872023, -90.61114163, -90.47814431, -88.80611122, -89.93063427, -89.79745866, -89.662598, -89.51404662, 0.0, -89.25548938, -87.73384359, -87.84922065, -90.6147432, -89.40982703, -88.42586459, -88.17657461, -89.91556058, -87.97862712, -88.92994027, -89.16085327, -89.20973757, -84.93671406, -85.06800636, -85.89558181, -87.31093999, -85.32499702, -86.46841646, -86.22868909, -86.56198812, -86.34830753, -85.70510334, -87.11723506, -86.47277257, -86.44518825, -87.07185406, -84.99906934, -84.97333539, -85.50087166, -85.39732772, -86.87924170000002, -85.85875695, -85.17797541, -85.90385377, -87.24217689, -85.06062647, -86.26252745, -87.58054938, -85.65468702, -86.96223202, -86.05244729, -85.77566351, -86.10948271, -86.51037283, -85.39625719, -86.11351892, -85.48822092, -86.03851889, -87.11553319, -85.00576229, -85.43633383, -85.62710784, -86.10149107, -87.4194665, -85.86312322, -85.42674232, -86.74072188, -87.38277575, -86.48361629, -85.71964711, -86.13826325, -86.26185087, -86.80373186, -86.04525048, -86.52414358, -86.89335024, -86.44573375, -87.39635768, -85.41966713, -84.96515993, -86.49523093, 0.0, -86.83900724, -87.20375833, -86.63741946, -87.23574907, -87.06848888, -87.86480429, -86.69890683, -86.84517605, -85.01139319, -85.26212744, -85.4655599, -85.74627859, -85.79158570000001, -87.0079644, -86.29040834, -86.64686895, -85.00101094, -87.41414469, -85.03022429, -86.89413959, -86.05234925, 0.0, -84.92497066, -87.58763124, -87.46160542, -87.39169027, -85.79328272, -87.35602659, -87.2716085, -86.1049363, -85.01044989, -85.22132966, -86.86492015, -85.50791236, -94.47105874, -94.69932645, -91.37860922, -92.86865906, -94.90581859, -92.06463573, -92.30524729, -93.9313999, -92.31795937, -91.83510825, -95.15100162, -92.79015971, -94.64046046, -94.86032705, -94.92792482, -91.13246684, -93.2612239, -95.62389402, -92.31773347, -93.78499767, -95.15096481, -91.34133693, -90.53275096, -95.3819718, -94.04127625, -92.41005468, -93.78645949, -91.3664492, -91.18326592, -95.1510206, -90.88181925, -94.67858943, -91.84412309999999, -92.78940097, -93.26256925, -95.60129045, -94.39658081, -92.78829551, -94.50111014, -93.70197703, -93.73454884, -93.23654611, -95.81558439, -91.54436349, -92.31702714, -94.20722537, -95.51355387, -92.0643373, -90.57354837, -93.05567785, -91.94849466, -91.58754744, -91.13139641, -92.1785067, -94.20691791, -91.48183025, -91.59809485, -91.26102611, -93.32780803, -96.20926845, -94.01554631, -92.64083907, -93.09934783, -92.99908190000001, -95.61920963, -92.78887719, -95.95743843, -92.8690667, -95.15642896, -91.11216970000001, -95.62474482, -95.62422844, 0.0, -95.1497813, -94.67824621, -96.21366621, -94.67862564, -93.57767461, -95.53907776, -92.53155731, -94.24368535, -95.10547892, -90.61959493, -95.31015553, -96.17675679999999, -93.46499005, -92.53266945, -94.69778563, 0.0, -94.24234847, -91.95017958, -92.40954728, -93.56007641, -91.71725711, -93.32752197, -94.17987389, -93.73407298, -91.84422722, -96.0459439, -93.26087602, -93.73515113, -95.30030847, -95.29272815, -95.30870026, -98.68460053, -98.75636726, -94.84865997, -95.56421698, -96.83878537, -96.59563862, -96.2454192, -94.8462897, -101.7318201, -99.81883015, -97.16518128, -97.64925343, -95.73379515, -99.27113247, -96.83776647, -94.85245778, -100.45940809999999, -97.15532383, -95.14056866, -95.2925121, -99.31263309, -96.24369667, -99.31751551, -98.20462799, -100.73819379999999, -99.88825298, -95.28644341, -96.7577178, -100.4829321, -99.88332493, -101.3079758, -100.4369088, -101.8061079, -96.23250453, -101.7921066, -98.07578384, -97.42747573, -100.8710738, -99.89829881, -95.79356799, -95.38289232, -98.21820662, -94.82250877, -101.32168100000001, -98.13638678, -99.2856537, -95.29849679, -100.46607540000001, -95.03620809, -98.20756994, -94.84254089, -101.148475, -96.15275715, -97.09852509999999, -96.52278974, -97.64769869, -100.36483100000001, -94.83832189, -98.20906732, -95.74329258, -96.65128437, -101.79925190000002, -96.01392079, -95.30670046, -99.91547333, -99.90286639, -95.72707998, -98.76753828, -97.65020313, 0.0, -99.23692334, -99.34668865, -96.34564657, -98.73922153, -101.07616170000001, -98.08607292, -97.65036709, -98.19992118, -96.73420026, -99.32484567, -99.30863983, -98.76254297, -97.65185177, -100.90665390000001, -97.4608198, -100.85072009999999, -95.75572640000001, -100.44182590000001, -101.71976240000001, -98.78566062, -98.71762001, -101.78435340000001, -101.3118967, -97.47721621, -101.0553705, -99.87284448, 0.0, -96.20350509, -101.76388759999999, -97.08753229999999, -101.3471509, -95.74323255, -95.74006277, -94.76378225, -85.28129668, -86.19457544, -84.99171713, -88.99427697, -85.93338945, -83.74588932, -83.67766671, -84.72615357, -84.21827874, -82.68652187, -84.8633779, -84.08532444, -83.31959161, -86.42885017, -85.68955617, -86.68748787, -87.86948214, -88.2731593, -84.37875208, -88.96692220000001, -85.12601074, -83.05092385, -84.92726209, -87.49055367, -84.14615986, -83.712575, -85.13377529, -88.08826090000002, -85.39050034, -87.09019479999998, -86.23955613, -83.09771563, -83.95956369, -84.45576892, -83.69657514, -82.74750924, -84.87962551, -89.20140068, -84.8558382, -84.53289319, -84.62415957, -88.65143315, -86.34248968, -85.5540745, -82.9215658, -86.78280584, -85.96319251, -83.21899516, -84.32869741, -85.88461055, -87.57392021, -85.11587507, -88.97875928, -87.54670406, -83.99825483, -85.65931031, -84.58252003, -82.8264322, -84.53241199, -82.94981134, -83.85403396, -85.70138352, -84.11321779, -82.72882223, -83.71513901, -83.37999606, -82.85346474, -83.37735618, -84.6565327, -88.34797529, -86.877635, -88.07886257, -84.27220275, -83.0657714, -85.26898542, -88.32803576, -82.51247478, -83.82151043, -88.70445755, -84.48102924, -87.26803443, -86.21028219, -83.59985712, -84.87488475, -85.63123699, -85.71596443, -83.9145241, -83.25558245, -87.14632053, -85.4657193, -84.01889177, -86.85368087, -85.448222, 0.0, -84.82404619, -83.68811419, -84.35599463, -83.22922731, -82.39487445, -83.82553961, -84.57629079, -84.05055616, -84.31176452, -83.42088935, -85.06070117, -84.5816631, -85.194223, -86.58047435, -85.32749335, -85.3329931, -87.17878374, -87.87333656, -85.33775972, 0.0, -87.94300009, -86.42672751, -85.17407732, -84.8251971, -87.67989953, -84.14541217, -83.49303612, -84.7417556, -92.41419698, -92.82442028, -90.91328409999998, -91.06461642, -92.00079449, -93.34173616, -93.05398492, -93.60460152, -93.88375652, -93.35400434, -92.11752148, -93.19310676, -91.84526385, -92.99526883, -91.63814433, -93.74130302, -91.09777565, -91.23425694, -91.04976723, -92.39915924, -91.67589857, -92.56124347, -91.75871777, -91.3499598, -92.55692092, -90.11115756, -92.81210004, -92.15907765, -92.06959876, -90.40976986, -92.66597409999999, -90.73061664, -91.23973355, -91.80421614, -93.09816516, -89.92660315, -92.15704172, 0.0, -89.60322085, -91.60209535, -92.52997303, -93.34213308, -91.76634876, -93.55433981, -89.51887093, -90.35555967, -90.71013176, -90.80212061, -90.4753503, -92.00135806, -91.61403569, -91.44702164, -89.95642711, -90.40664996, -91.32915234, -90.82626855, 0.0, -92.3749373, -92.30292538, -93.18153838, -90.03866652, -93.33121835, -91.30989571, -91.461201, -91.41485379999999, -92.63789413, -70.20380627, -68.59841248, -70.37226999, -70.44381045, -68.38401854, -69.76738544, -69.10529169, -69.54227124, 0.0, -70.75682123, -68.65020455, -69.2860223, -69.85074999, -69.95995554, 0.0, -69.12061935, -67.62813524, -70.71052375, -78.69280486, -76.60329337, -76.62911955, -76.61151012, -76.56820632, -75.82904158, -77.02373735, -75.94627411, -76.98580666, -76.02752426, -77.39999394, -79.27355126, -76.30775940000002, -76.93126208, -76.04741541, -77.20358245, 0.0, -76.8496441, -76.03530977, -75.75118623, -76.60629279999998, -76.10882561, 0.0, -77.82002295, -75.62705831, -75.33200012, -70.28854339, -73.20524838, -71.10872211, -70.68763497, -70.68763497, -70.94687179, -72.58602547, -72.63235561, -72.65898478, -71.39049229, -70.08774729, -71.20530408, 0.0, -70.80802823, -71.07850442, 0.0, -71.90493363, -83.59507875, -86.60260122, -85.89102866, -83.62212411, -85.15503082, -83.89277559, -88.36363591, -85.30834519, -83.98731479, -86.01608482, -86.41313079999998, -85.05929476, -85.00493569, -85.99405727, -85.19614053, -84.50122149, -84.54353449, -84.84819859999998, -84.60145248, -84.61006219, -86.9080745, -87.86961634, -84.83740035, -84.89083249, 0.0, -83.70589709, -84.38774817, -89.69377193, -85.55585247, -84.60505416, -84.59312019, -88.68495385, -83.04078453, -84.37472069, -85.07413319, -83.63484895, -88.53136251, -84.84664923, -84.42258681, -85.53038622, -85.09085699, -85.54934642, -88.41434263, -85.802173, -83.22153148, -85.80150326, -84.06603727, -83.91297209, -85.54471223, -85.04980537, -82.92752801, -86.05626916, -87.64043701, -86.24988902, -85.32463223, -87.55370409, 0.0, -84.38804374, -85.09256478, -83.53749864, -85.15252824, -84.12696227, -86.15176712, -85.80070107, -83.38595416, -86.26726673, -84.12725175, -89.31390481, -85.32566756, -84.12939244, -84.59898295, -85.9969107, 0.0, -83.91498656, -84.61067651, -84.05131209999998, -82.82055898, -86.19972234, -84.14585902, -82.67937954, -85.52797979, -83.41897025, 0.0, -86.01939087, -83.83853204, -83.281255, -85.57712739, -93.41168259999999, -93.24604565, -95.67158144, -94.93732139, -93.99514135, -96.41403739, -94.06699781, -94.72562874, -92.67601019, -93.80099179999999, -94.32603968, -95.56403693, -92.90861945, -96.48761922, -95.37790562, -90.52629546, -95.18138802, -94.06755609, -93.06299363, -92.86244324, -95.45335469, -93.94787458, -92.08980382, -93.34884422, -92.72341949999999, -96.01139609, -93.47694895, -91.49143057, -94.91693868, -93.29487636, -93.63092229, -95.15398258, -93.29275192, -95.00586446, -96.78317184, -93.78352843, -96.17488219, -91.44557998, -94.90274472, -93.72844721, -96.26688165, -95.83806103, -95.80921485, -96.37017407, -94.55099908, -94.27287017, -94.52839455, -93.63236823, -94.27341528, -92.75234549, -95.76328482, -94.24710352, -95.75329576, -96.45620947, -92.40209944, -95.70835255, 0.0, -96.0370814, -92.74070188, -96.25841142, -96.40134647, -95.44451209, -93.09872295, -96.09561104, -95.25207021, -94.94553734, -93.29658715, -96.25296832, -95.81079919, -93.53340251, -93.77617511, -94.23164924, -92.46879855, -94.61078221, -93.22627088, -96.00163705, -95.68264092, -94.89785296, -96.47062949, 0.0, -92.23121312, -94.96968506, -93.58720034, -92.88429635, -94.61413846, -96.4684375, -91.78081305, -93.96234781, -95.86842453, -91.35326037, -88.57996173, -90.80501621, -89.57838564, -89.18945516, -90.87372121, -89.33686647, -89.91994479, -88.9481545, -89.24809382, -90.90702196, -88.68896219999998, -88.77784255, -90.60415045, -90.44565118, -89.55389939, -89.99091418, -89.25832496, -90.89672989, -88.64436789, -88.63922281, -89.80245083, -89.48851033, -89.12467576, -90.44435448, -90.08923538, -90.52252707, -90.97392828, -88.3606733, -88.64184064, -89.11786866, -91.03764977, -89.82670990000004, -89.16896899999998, -88.64105766, -89.48490961, -89.5077704, -88.66229662, -90.10841127, -89.52402044, -88.68149954, -90.29900733, -90.45391915, -88.44191529999998, -90.03513564, -89.8209217, -89.50299462, -88.4808438, -89.61729103, -89.11726492, -89.11843336, -88.56949061, -88.87905132, 0.0, -89.95064249, -89.58677275, -88.99281835, -90.40392572, -89.03636807, -88.51986294, -90.28908, -89.94537876, -89.53789439, -90.81595379999999, -89.91716179, -89.50644846, -89.11547539, -90.58882684, -90.1729398, -89.94485778, -88.90988194, -88.23917219, -90.37481167, 0.0, -89.00776006, -90.10446654, -90.83352619, -90.94196237, -88.69573913, -89.28392912, -91.31018819, -89.03391385, -89.70762049999998, -90.39656148, -92.60078167, -94.80163024, -95.42970639, -91.84242683, -93.82919888, -94.34757022, -94.34113157, -93.28756116, -90.02725304, -92.30723575, -94.80138942, -90.40421163, -93.98308093, -91.92186505, -92.76083747, -89.6843587, -93.50626255, -90.96051322, -94.353399, -93.85445441, -92.9629191, -93.18537118, -91.73661677, -94.41850862, -94.40465394, -92.27860244, -92.80896081, -91.30528104, -93.8503345, -93.02127031, -93.98519678, -94.40476508, -91.50790473, -92.49905109, -90.09122243, -91.07522826, -91.50847147, -94.40944419, -93.34230916, -93.56509276, -93.99222144, -93.79293734, -93.3203037, -95.21638879999999, -92.69756691, -91.88683935, -90.7735296, -94.34724536, -94.34050458, -90.53870896, -93.80691168, -94.5786, -92.14780832, -92.5888493, -93.78076396, -93.83293097, -91.72070156, -90.95588181, -93.10704106, -93.54645978, -92.56453089, -90.34671429999999, -91.92249662, -91.62203062, -94.34867205, -93.56829590000001, -92.42610898, -89.29505753, -92.57976951, -92.00043978, -91.47000721, -92.88791859, -89.66070007, -94.3394104, -94.88133008, -91.4033755, -91.8613635, 0.0, -92.44459066, -89.78742322, -89.82741088, -93.28471706, -91.79351727, -91.16980779, -94.77068479, -93.39828174, -92.20783203, -93.02042674, -91.51838643, -92.49713740000001, -93.98905745, -90.97009925, -90.85990261, -93.20259964, -92.52311943, -92.14709064, -89.56474493, -91.40190382, -92.07634971, -90.66662425, -93.77631447, -90.47598685, -90.4458375, -90.24349225, -90.1949941, -89.9444155, -93.45256475, -93.11150106, -93.04075153, -91.96564727, 0.0, -94.34127305, -91.16124662, -90.87948158, -90.46001416, -92.876329, -94.42328751, -92.46914488, -112.89846940000001, -107.492347, -108.9582723, -111.49558130000001, -109.0274047, -104.53955359999999, -111.3467922, -110.4353362, -105.57375259999998, -105.54763429999998, -104.89444170000002, -113.073353, -104.41835649999999, -109.2245206, -114.05205690000001, -111.1692571, -107.0002351, -112.9934235, -109.17685220000001, -113.4414186, -110.1129252, -112.094396, -110.26606880000001, -114.0898013, -112.39469799999999, -111.02430700000001, -115.4046155, -111.9173017, -105.79449939999999, -110.8898557, -115.00152390000001, -113.92135079999998, -108.39498, 0.0, -110.52643940000002, -108.2508876, -107.9128511, -112.22527029999999, -105.636738, -112.93591640000001, -105.379384, -114.11891640000002, -104.5610786, -105.00792679999999, -106.72928799999998, -115.1329916, -104.50382900000001, -112.6620092, -109.3950061, -109.9425686, -112.24106880000001, -111.69424140000001, -107.26665159999999, 0.0, -106.6669635, -109.84646359999999, -104.2510927, -108.26914860000001, -98.50117804, -98.06662829999999, -101.6959559, -103.7114332, -99.97677845, -98.06737183, -103.08788340000001, -98.76486568, -99.92904055, -99.07500296, -96.32605633, -97.13106306, -96.13971217, -97.25311951, -101.69780259999999, -101.1244332, -102.9941693, -98.05126296, -97.0868542, -96.78730772, -99.72805369, -96.56656425, -103.1313774, -99.82014609999999, -102.33333309999999, -96.86782408, -96.65598179, -96.15085305, -101.6876522, -97.59646937, -98.95299073, -100.3924658, -99.91247454, -96.68946704, -102.3313973, -98.99111827, -99.83020279, -101.740701, -98.52150266, -98.50218293, -98.02099117, -99.40438879, -101.0603568, -101.04164770000001, -98.78402558, -101.1354293, -98.5166499, -97.142601, -96.26522753, -98.94877182, -101.66201640000001, -99.71343729, -103.7148131, -97.89178836, -96.68777155, -100.74753740000001, -100.4817851, -99.45440415, -97.6005481, -101.05993620000001, -98.0374887, -103.0061405, -97.99327291, -95.85433992, -98.04743961, -96.13374142, 0.0, -96.23705437, -101.6502942, -99.41461667, -97.60122773, -97.52144359, -97.56630712, -100.476998, -95.71755036, -99.44832069, -97.14085859, -96.11156432, -96.63773905, -103.70809859999999, -97.139673, -102.4126613, -98.97588642, -103.7576544, -97.19394708, -97.59504381, -100.5556632, -96.54157099, 0.0, -98.98197724, -96.22019892, -97.11926964, -98.50019851, -98.52798941, -97.59710186, -119.7480219, -118.3394607, -115.0130241, -119.61713329999999, -115.3577619, -117.63199990000001, -116.26832040000001, -118.11094270000001, -117.03970749999999, -114.8790388, -119.18704790000001, -118.4344506, -116.47227020000001, 0.0, -118.40056409999998, -119.5250207, 0.0, -119.6631594, -114.89996599999999, -71.41684235, -71.20430216, -72.25311043, -71.30633239, -71.82057197, -71.7200253, -71.6811573, 0.0, -71.12883377, -71.02336013, -72.22203125, 0.0, -74.65848483, -74.07164325, -74.66927768, -74.96388753, -74.80170244, -75.10712559, -74.24657979, -75.13995546, -74.07515667, -74.91284156, -74.70479631, -74.41426991, -74.22240686, -74.54553709999998, -74.28089251, 0.0, -74.29954144, -75.34696629999998, -74.61683016, -74.69118243, 0.0, -74.30680092, -74.99556527, -106.6703554, -108.4046587, -104.4665365, -107.998876, -104.64726740000002, -103.34688759999999, -104.4117842, -106.83293870000001, -104.3053527, -108.3827845, -104.790669, -103.82209379999999, -108.7151824, -103.4123733, -105.4586166, -106.31349850000001, -107.75088259999998, -108.262245, -104.9497716, -105.7417604, 0.0, -103.54817270000001, -106.69316740000001, -103.4799493, -108.32043700000001, -104.8163562, -106.86878030000001, -105.9774716, -107.1925893, -106.9298354, -105.63101979999999, -105.8508949, 0.0, -103.4709624, -106.8103733, -73.97723916, -78.02750466, -73.86282755, -75.81326086, -78.67923096, -76.55731592, -79.36691763, -76.7638805, -75.60887553, -73.67875352, -73.63089095, -76.07048931, -74.96709306, -73.74356679, -78.73063652, -73.77297842, -74.29926032, -74.41798804, -78.19135193, -74.12384884, -74.49721957, -74.96145307, -75.94653457, -73.94935552, -75.44903992, -77.77966158, -75.67266639, -77.69322942, -74.44011632, -73.58941873, -73.97152637, -78.74777412, -75.43710392, -76.19971155, -77.30874425, -74.30240757, -78.2320066, -76.14635194, -75.03151402, 0.0, -73.74965532, -73.81684712, -73.51089874, -74.14808598, -74.02560498, -73.86653895, -74.05278291, -74.44339029999998, -76.8773299, -76.82497064, -75.06550039, -77.3829924, -72.8012172, -74.76394559, -76.30835812, -76.47229843, -74.26252104, 0.0, -73.8433699, -73.43043448, -77.02976528, -73.75741653, -78.22199579, -77.10369919, -79.39976137, -81.17751948, -81.12857041, -80.09953279, -81.49862729, -81.92308483, -76.84325809, -76.96545943, -78.56180059, -78.22814204, -82.53305, -81.70755735, -80.55267168, -81.54799522, -76.15568396, -76.54120135, -79.33353281, -81.2132617, -79.25541492, -84.05970864, -76.60118385, -83.74353633, -81.55204486, -78.65801424, -77.08398081, -78.82623165, -75.95876401, -75.71767334, -80.21256572, -80.54496571, -77.93140529, -78.87608331, -77.59436892, -80.25459052, -78.28708884, -81.17477045, -76.69749701, -83.83369267, -78.65184241, -77.67578087, -79.78824948, -77.6556109, -78.87243571, -82.98196486, -82.4766782, -76.98104134, -79.23651674, -76.15180542, -80.8743128, -83.14093385, -78.36622717, -77.35870791, -79.17569362, -77.64245615, -81.21740317, -83.41696617, -82.71346418, -77.10860251, -82.0482425, -80.8317671, -82.1582442, -79.90416657, -79.48474178, -77.98422508, -77.87075626, -77.39769443, -77.42908179, -79.12167935, 0.0, -76.66559823, -76.25134778, -77.90352133, -76.40603143, -78.97217358, -77.37353178, -82.16812354, -79.80570339, -79.74491009, -79.10250529999998, -79.77504841, -80.52446628, -81.92112099, -78.36914061, -79.4757978, -80.25093221, -80.23893369, -80.69102283, -83.48748932, -82.79638423, -76.17055253, 0.0, -80.52955873, -78.40670845, -78.65249174, -78.10652228, -76.57299037, -81.70033724, -78.00027268, -81.16232895, -77.917978, -80.66239436, -82.31237181, -102.5285397, -98.06605978, -99.35916363, -103.3762965, -100.8378166, -103.5203343, -102.51821170000001, -100.46452140000001, -97.24447190000001, -98.46685243, -98.50490079999999, -103.48736109999999, -102.61604679999999, -98.90432337, -100.2389766, -98.88279923, -103.8465421, -97.45450447, -101.63900129999999, -98.23850925, -102.4632417, -99.77507857, -98.53542355, -99.47719806, -100.6324822, -99.44145858, -103.395905, -101.3182418, -101.8318399, -101.2822377, -102.3555315, -98.19038437, -101.3406158, 0.0, -97.5523809, -99.96407787, -98.72223879, -97.65742504, -101.6603912, -96.94852979, -99.84097493, -97.63217159, -100.3426391, -101.04401490000001, -103.4601547, -102.65763259999999, -97.72728747, -98.95637318, -99.24564265, -97.16323288, 0.0, -97.72574783, -101.54367629999999, -99.65904998, -103.4793387, 145.6739, -83.4718964, -84.10802343, -82.27280781, -80.74830218, -82.04278644, -84.22421429999999, -80.9924051, -83.86788395, -84.57388716, -81.09178213, -83.76875242, -83.78498252, -84.15375786, -83.80852286, -80.78094576, -81.91729018, -82.91989099, -81.65918339, -84.6194517, -84.49076944, -83.00457058, -82.62904521, -82.63088163, -83.4562016, -83.01115755, -84.12571393, -82.31647569, -81.17935342, -83.89032084, -81.49248905, -84.54502924, -83.66838948, -83.65929931, -81.09068544, -84.06830637, -83.60331456, -82.47991446, -81.92635677, -82.59867951, -82.61818559999998, -80.76259514, -82.42027563, -81.23676539, -82.53466552, -82.48185785, -83.76784341, -82.15083537, -83.65468618, -83.40178317, -80.77287029, -83.15736305, -81.89986209999998, -82.0305041, -84.62912742, -84.22871271, -81.08464734, -84.29050975, -81.85308173, -82.7892599, -81.94363275, -81.45937183, -83.0940185, 0.0, -84.5801017, -82.23804971, -83.0243386, -83.06769584, -81.19735782, -84.64787018, -84.1336111, -82.53799609999999, -83.06000914, -83.137872, -82.98907345, -83.12783209, -84.20258189, -81.36437305, -81.53123079, -80.76109643, -81.47226262, 0.0, -83.37239023, -84.59111700000003, -82.4831444, -84.16557457, -81.49121382, -81.88844833, -84.58429552, -83.62285108, -83.30734173, -94.65859267, -98.32408495, -96.03802487, -100.4758872, -99.68128023, -98.43307003, -96.25903472, -98.37534464, -97.98465569, -97.28552485, -94.99980896, -95.54771129, -102.5173885, -97.32519562, -96.29798747, -98.47195055, -98.37053567, -95.20916602, -96.37086028, -99.00170785, -94.80325046, -99.00730714, -99.75324573, -97.78265517, -97.30811132, -97.88339847, -97.78638765, -99.56056120000001, -99.84741652, -99.6679804, -95.11513306, -96.24921145, -99.41138784, -97.83182974, -96.66011537, -97.14421435, -97.94193268, -98.97720696, -95.25215049, -94.70392124, -96.8812462, -97.44352845, -97.23906784, -98.53467076, -96.76855464, -95.23175116, -97.44572302, -94.77222373, -95.66599306, -97.06826283, -95.37802952, -97.22928674, -95.61902331, -96.32639984, -97.40716948, -95.96432828, -96.39635704, -94.81011909, 0.0, -96.70331759999999, -96.97584944, -95.75134320000001, -96.68337199, -96.94923008, -95.37603505, -99.69666167, -95.60406759, -96.61686741, -94.75463785, -97.85141892, -101.4889765, -98.92426619, -95.94013939, 0.0, -95.51911308, -95.90514104, -98.99180434, -98.86573064, -99.26283045, -117.6749883, -123.4316987, -122.2179634, -123.660711, -123.08908980000001, -124.0594514, -120.356297, -124.15728200000001, -121.2289121, -123.16729099999999, -120.20488689999999, -119.0068631, -118.96663059999999, -121.65520359999998, -122.72893090000001, -121.17832, -123.5561938, -121.64964609999998, -120.38501629999999, -122.847753, -123.86991200000001, -122.53731540000001, -117.62273950000001, -122.58151170000001, -119.584546, -122.4169351, 0.0, -123.4128888, -120.6827834, -123.712066, -118.7353826, 0.0, -118.0068979, -117.18353799999998, -121.16709540000001, -123.0955257, -120.02814270000002, -123.3086963, -77.21610347, -79.98167747, -79.46290811, -80.34921611, -78.48998442, -75.92457766, -78.34917412, -76.51570822, -75.10836643, -79.91351055, -78.71377428, -78.20376845, -75.7068525, -77.82200624, -75.74768357, -79.42413524, -78.47592663, -77.63785995, -76.40565017, -80.10760592, -77.26130755, -76.77993242, -75.40243663, -78.64524744, -80.03301954, -79.64291195, -79.23229292, -77.72157791, -78.11163677, -80.22357106, -77.97673273, -79.08963285, -78.9986361, -77.39975129999998, -75.60379201, -76.24770128, -80.33393706, -76.45651841, -75.59435245, -75.98447579, -77.06629984, -78.56478358, -80.25816981, -77.61070738, -75.34031025, -75.36652296, -76.66345939, -75.30471829, -76.70798222, 0.0, -77.26297447, -75.1379271, -75.03208106, -77.89559864, -76.2150785, -77.06840691, -79.02699593, -76.51246591, -75.80071959, -77.25433032, 0.0, -77.05996014, -79.75845449, -79.26969577, -80.24582867, -75.29956506, -79.46615476, -76.01074915, -76.73040131, -66.754367, -67.17513100000001, -67.12081500000001, -66.126806, -66.264131, -67.120611, -66.675077, -66.056546, -66.56053100000001, -66.30963, -66.168435, -67.154391, -66.050779, -66.860206, -65.887612, -65.95683100000001, -66.14330600000001, -66.14914, -65.666416, -66.516475, -66.161179, -66.36014, -66.221622, -66.327738, -65.28813000000001, -66.278669, -65.666866, -66.560488, -66.91964300000001, -66.13390799999999, -66.79186, -66.11452299999999, -65.97970500000001, -66.79632600000001, -67.113972, -65.810174, -67.005093, -66.58878, -66.49458100000001, -65.909109, -67.040585, -66.867236, -66.98362, -65.86946800000001, -65.89943000000001, -65.72509699999999, -66.490461, -66.942126, -65.922235, -67.336525, -67.080952, -66.420383, -65.753897, -66.252703, -66.433604, 0.0, -66.012242, -66.721572, -66.613748, -66.926113, -67.23174, -65.813742, -66.943758, -66.256592, -67.03858100000001, -66.061128, -65.976392, -66.971214, -66.388913, -66.246616, -66.213553, -65.99888399999999, 0.0, -66.702984, -66.33725, -66.397924, -65.44097099999999, -66.473115, -65.896289, -66.858814, -71.28652315, -71.57641596, -71.26569799, 0.0, -71.57753536, 0.0, -71.61435303, -82.46170658, -81.63645384, -81.35321066, -82.63959517, -81.05659969, -81.43584352, -80.72619758, -79.94654523, -80.77722168, -79.96512315, -81.61828622, -81.1583216, -80.15640140000002, -80.21647898, -80.67641292, -79.96027485, -79.37741872, -80.40502652, -81.96231108, -81.1195624, -79.70189312, -79.33202141, -82.37295012, -82.12715789, -81.13845571, -78.99555293, -81.02487495, -80.58763164, -80.70513032, -82.00490796, -80.25690731, -81.27146426, -79.36400756, -79.67561152, -82.30794338, -81.59935761, -83.06742317, -80.79886287, 0.0, -82.72791551, -80.90267209, -81.72713237, -81.99225984, -80.37942316, 0.0, -81.61730349, -79.72767442, -81.18085944, -98.56050467, -98.27858469, -101.6665572, -97.88592746, -96.79079945, -98.35165355, -99.08118954, -99.20814467, -103.5079318, -100.0510181, -98.58856175, -97.72925109, -96.97656917, -97.18827677, -101.1970473, -103.45345209999999, -98.14458906, -97.60737498, -96.66943645, -100.8709139, -98.36978007, -99.21545423, -103.5275691, -99.14535601, -96.77002276, -99.18883902, -101.539099, -97.18829593, -99.00386459, -97.78715148, -103.4958629, -99.99661148, -97.75536441, -99.48572582, -101.6255063, -98.62965972, -100.6940008, -97.4913945, -97.12926365, -103.79294279999999, -96.72039050000001, -99.85201878, -97.59855639, -97.36863144, -99.22118798, -102.71627409999999, -100.7563186, -97.60992207, -96.7910885, -96.67081159, -102.55554980000001, 0.0, -102.8240777, -102.47555859999999, -99.95498503, -96.94672673, -98.09098159999999, -98.34626602, -100.7349153, -100.1278092, -100.71955030000001, -99.8854891, -97.14865776, 0.0, -96.6557828, -100.03075140000001, -97.39467635, -101.6654622, -84.19965764, -86.45549096, -88.06849355, -85.20611967, -83.92847788, -84.857186, -84.15108559999999, -86.05738983, -88.45189331, -82.12588974, -87.08903581, -88.6095842, -83.65947309, -85.53930419, -83.11828725, -86.07311784, -89.14916269, -84.99840585, -86.78646056, -85.83689361, -88.11043779, -87.35891709, -89.41542855, -89.41399032, -84.92870012, -86.09201039, -88.93358327, -87.03992678, -83.51254721, -82.84691273, -85.72142731, -83.26586179, -85.16652245, -83.22375847, -88.99161161, -88.18593755, -82.94885298, -89.28536625, -88.38600175, -88.30121797, -87.47643507, -87.71878828, -87.77992872, -85.67239905, -83.45148924, -81.84886538, -83.94635435, -89.48921915, -89.63015909999999, -87.39787695, -87.49022694, -86.58910106, -84.31145275, -86.00778595, -88.84076036, -85.62265895, -86.76420988, -87.07462444, -84.61520715, -88.5647812, -84.81482914, -84.24902965, -87.38550661, -86.36230578, -84.64880098, -89.14921589, 0.0, -85.28989535, -87.86139634, -85.07763299999998, -84.52075859, -85.50646123, -84.93076643, -84.52458689, -86.87346725, -86.4107263, -84.50360494, -85.41022136, -83.52244332, -89.89692423, -85.95411046, -87.83920548, -82.30412917, -86.45917204, -89.73694895, -86.16087954, 0.0, -82.43709629, -83.83651902, -85.45221699, -85.77969117, -82.49454720000001, -87.78644456, -88.71990865, -85.45591799, -86.89281867, -86.29775884, -95.65354823, -102.63765479999999, -94.60901487, -96.9995047, -98.68754589, -101.35748740000001, -98.52730485, -96.27736949, -102.8299707, -99.24598147, -97.31206354, -99.21352901, -97.74215593, -97.4785025, -98.52019748, -98.3999852, -101.43165090000001, -97.63613524, -94.41834132, -95.44563172, -96.30205577, -103.25203259999999, -101.2084947, -98.21808402, -98.99907113, -96.62158484, -98.181887, -97.61814775, -96.61633945, -99.37326312, -97.48140372, -94.97790104, -101.35426690000001, -94.34646905, -102.2617243, -94.67154501, -95.16559897, -100.2077916, -98.20771198, -102.82844990000001, -100.5297533, -99.45240766, -96.57264368, -100.27001109999999, -96.5273805, -98.27647225, -98.55876441, -99.86473038, -97.21240912, -97.79936155, -100.27850620000001, -102.5143314, -101.4134238, -101.30003640000001, -104.5185739, -102.60207249999999, -96.77796049999999, -101.94772420000001, -97.35681170000001, -102.6054267, -95.66921122, -97.11691153, -100.7788855, -99.75645095, -100.8140093, -98.50864568, -98.83243566, -102.54294279999999, -100.304252, -106.23632749999999, -96.79371841, -98.21773417, -96.93630086, -96.10751083, -96.92076062, -100.40193020000001, -101.3031546, -99.7767797, -95.77219463, -95.21917243, -96.15072516, -99.10804207, -102.6353295, -94.90469073, -101.2984114, -98.94676915, -101.5207776, -97.42760647, -97.49424032, -100.8129222, -96.67753461, -94.81591935, -95.98902499, -97.94786822, -101.82681140000001, -100.68138520000001, -98.11083887, -101.3545796, -99.74632408, -94.38931817, -95.39339521, -94.36934071, -102.6029022, -99.73037358, -98.02944344, -100.2703577, -95.85846587, -98.18299696, -97.13423143, -102.3431676, -97.83242024, -95.56351139, -95.42226208, -101.4356444, -105.388178, -96.08551032, -101.3546643, -100.982439, -98.17283469, -96.57749563, -94.02667579, -104.1399973, -94.16434171, -98.69681870000001, -98.0904705, -97.36615819, -99.87861576, -97.85960149, -96.28734728, -98.7113588, -97.66413984, -100.7780939, -99.34930144, -99.74856473, -100.2558057, -100.41866379999999, -97.69894948, -99.74229059999999, -99.09908775, -95.57404777, -102.35162890000001, -98.24206613, -96.93186692, -96.97045773, -95.9936328, -94.81205615, -96.58095444, -100.27331509999999, -98.1246786, -98.68475262, -103.5818571, -101.82047890000001, -101.8162849, -95.93003775, -94.35661230000001, -101.9513518, -99.22629416, -96.01230294, -100.3157686, -99.34682807, -97.20217694, -98.56769164, -99.11030298, -99.82047940000001, -102.03156820000001, -96.97718698, -98.59272068, -100.9212058, -97.72500958, -95.50572772, -101.8930281, -94.73255695, -100.77972199999999, -94.61803994, -96.47428766, -93.74408813, -100.4060208, -97.5433285, -100.8158184, -102.6027606, -93.89412775, 0.0, -98.31319001, -94.30552481, -97.80500621, -102.78446679999999, -102.72412609999999, -94.82766240000001, -101.893964, -104.24080790000001, -95.79232691, -101.8971322, -101.52326590000001, -99.82018052, -95.04841765, -103.69038959999999, -97.15766311, -100.813175, -96.51272246, -96.40771592, -99.97616148, -94.76176432, -93.85440451, -94.17000399, -95.16260304, -97.51763891, -98.81758731, -100.5384842, -100.91626640000001, -99.35401337, -94.14550696, -101.8933156, -95.27175679999999, -97.77403489, -98.73892358, -98.83631615, -101.05007459999999, -100.25384009999999, -100.5382014, -101.73491740000001, -97.29101614, -99.89007449, -102.0766732, -102.3354521, -99.21226795, -94.96797273, -100.46244300000001, -97.78535620000001, -95.1367187, -94.37690895, 0.0, -94.93999853, -102.0423217, -99.76229172, -101.1525205, -95.83766469, -96.96813006, -95.57440968, -95.99011759, -103.09279090000001, -96.40946246, -99.33237355, -96.22319248, -100.26995140000001, -98.70410340000001, -99.24178437, -97.61535848, -97.60048540000001, -98.08693082, -103.04851629999999, -97.65460265, -95.38236368, -102.82764329999999, -98.68790885, -99.16987152, -99.76050829, -113.08328159999999, -113.2342232, -113.08328159999999, -111.74436670000001, -110.58725120000001, -111.5758676, -109.51210929999999, -112.1139997, -110.42523700000001, -110.70139579999999, -111.4418764, -109.5704487, -113.28973810000001, -112.78092450000001, -111.88617520000001, -113.1020328, -111.5727723, 0.0, -112.1249591, -111.2445105, -111.92160109999999, -109.80337140000002, -111.5758676, -111.8050275, -110.70139579999999, -111.4418764, -110.9535882, -113.12957150000001, -109.5174415, -109.5174415, 0.0, -111.66576620000001, -111.1691419, -113.504698, -110.9096801, -111.9145117, -111.9145117, -73.14130877, -73.09048868, -72.10314651, -73.08359212, -71.73579864, -72.91249563, -73.29679772, -72.64356694, -72.37640104, -72.24562697, 0.0, -73.03741676, 0.0, -72.61604978, -72.71268875, -72.58595157, -64.8963, -75.63234615, -78.55481085, -77.08183073, -80.00222498, -77.98584649, -79.14548696, -78.81340003, -77.10139853, -79.12461614, -79.73912095, -79.5281964, -81.13599391, -79.80982182, -82.16359122, -77.8593436, -82.03749726, -78.52518834, -79.35296097, -79.09678609, -77.34901405, -80.73455942, -77.05634116, -78.66314092, -78.48569588, -76.30545744, -77.58680140000001, -77.99199425, -77.39609676, -79.98631446, -80.21072274, -77.95630870000002, -78.24398086, -79.40395668, -82.35124171, -77.63451754, -77.53406129, -76.94230311, -77.27565836, -77.29779640000002, -77.17560759, -77.80647472, -80.36738849, -78.27715475, -79.88023649, -76.93859681, -78.25974949, -77.4922454, -80.91703124, -80.70636931, -76.53524337, -77.90381514, -81.23215889, -78.46525378, -77.56351439, -78.93512622, -76.35879121, -77.49464673, -78.87536254, -77.39326555, -79.87634026, -79.56124594, -77.29754684, -76.70842863, -76.76950618, -77.15852768, -77.09384941, -76.88689628, -76.46400482, -83.12606515, -79.44262866, -77.63481877, -77.96274807, -78.24133319, -79.19888138, -78.28220331, -77.48509905, -77.44399307, -79.86352771, -76.34098896, -78.36131056, -76.55064617, -80.37868691, -78.88498513, -76.99828634, -76.51754109, -76.26420872, -75.87751591, -76.41949732, -82.62750411, -78.05065922, -78.01560400000002, 0.0, -78.48797204, -80.2865648, -77.39368102, -79.39731264, -76.35798148, -76.35971629, -77.91267882, -78.43597949, -77.22922187, -77.48713689, -80.71229738, -80.56027320000003, -78.15826963, -76.72920628, -77.47966921, -80.06396753, -79.96189766, -79.44605905, -78.87260325, -82.10095486, -80.06219455, -82.60171704, -78.56813762, -81.53344948, -77.10642712, -77.655399, -77.45917053, -79.05979937, -76.63603554, -76.88450012, -77.25791182, -81.56685568, 0.0, -76.04566934, -78.20280433, -81.95666289, -78.90293905, -76.80213247, -76.70905141, -78.17325058, -82.62410519, -81.07834059, -76.54412815, -118.56017340000001, -117.2022851, -119.51208340000001, -120.6173956, -123.92263190000001, -122.48292040000001, -117.9051983, -122.6782231, -119.69293700000001, -118.5154041, -118.9018212, -117.54540320000001, -119.4500749, -123.7820567, -122.5216407, -123.56097040000002, -121.8346131, -122.6436061, -120.67943899999999, -120.7913598, -122.39257690000001, -118.41943880000001, -123.1863685, -119.73872240000001, 0.0, -123.7285716, -117.2741804, -122.14059579999999, -122.96745, -121.766131, -121.91644029999999, -121.7170703, -117.4046494, -117.8542701, -122.82906559999999, 0.0, -123.4250831, -118.4775539, -121.74900179999999, -117.52417630000001, -120.73801259999999, -80.00350858, -78.02414609, -81.69888019, -80.72011184, -80.57915332, -82.23855912, -81.11934872, -81.07652217, -80.70671527, -81.08286634, -80.85952723, -79.19440518, -80.45335881, -78.60826476, -80.57461608, -78.85855301, -80.37919577, -81.68148753, -77.86014147, -81.52857054, -80.49988181, -82.07017953, -81.93528571, -80.24244659, -80.66591062, -82.02524219, -81.65083669, -81.11023142, -78.94104895, -82.13338365, -80.04766838, -80.54577965, -78.26311676, -80.79759588, -80.62203992, 0.0, -79.35084086, -81.16771771, -80.00993811, -79.66712803, -81.9082131, -81.2456041, -79.87919615, -81.06356878, -81.35243568, -80.86009693, -80.0421439, -79.57053576, -80.88772676, 0.0, -80.23689136, -82.42287994, -80.4202023, -80.64016540000001, -81.37473928, -81.5162836, -81.54511071, -89.76782777, -90.67837132, -91.84833627, -91.19716729, -88.00411844, -91.75332578, -92.36711412, -88.21780273, -91.28068855, -90.61207486, -89.33589004, -90.93073686, -89.41733797, -88.70928178, -87.30002707, -91.91595768, -91.8962481, -91.28609183, -88.39804137, -88.48885325, -88.77084892, -90.7063218, -89.60243287, -89.04679553, -90.13469017, -90.24295041, -90.80566792, -88.77529134, -90.11120239, -88.04051686, -87.61468386, -91.11451093, -90.1317729, -89.07483625, -89.73411273, -87.80928853, -89.75863384, -88.03324599999998, -89.40073763, -88.70950714, -87.96733172, -90.61881899999999, -88.26807503, -89.51944105, 0.0, -88.46565023, -87.94625009, -91.99949611, -92.4224416, -92.44182875, -89.50152965, -90.36098879999999, -88.05941254, -90.43012729, -89.07147900000002, -91.1333012, -89.94966132, -91.14504927, -88.76443896, -87.94579284, -92.45000068, -90.5004405, -91.35893614, 0.0, -90.8324691, -89.51719204, -88.54163073, -91.79050449, -88.22974712, -88.30431188, -88.96534501, -89.24317107, -88.64477096, -90.04158336, -105.72354150000001, -107.9960365, -105.54744040000001, -106.9326084, -105.5081848, -104.56977049999999, -108.6296893, -104.3534743, -108.44231740000001, -106.58451740000001, -104.6887497, -110.6563997, -106.79788500000001, -104.47588959999999, 0.0, -109.58528249999999, -104.96633100000001, -106.8862389, -109.91309220000001, -108.8827882, -110.5890801, -110.54757820000002, 0.0, -107.68018700000002, -104.56748809999999], \"marker\": {\"color\": \"#636efa\"}, \"mode\": \"markers\", \"name\": \"\", \"showlegend\": false, \"subplot\": \"mapbox\", \"type\": \"scattermapbox\"}],                        {\"legend\": {\"tracegroupgap\": 0}, \"mapbox\": {\"accesstoken\": \"pk.eyJ1IjoiZ3BlcnJvbmUiLCJhIjoiY2s4eXA0ZWt4MDBybDNsbzVuanZwd2RtbSJ9._NuCR3BXdVzrvGtdodRjLw\", \"center\": {\"lat\": 36.707212445709644, \"lon\": -88.60147445561063}, \"domain\": {\"x\": [0.0, 1.0], \"y\": [0.0, 1.0]}, \"zoom\": 1}, \"margin\": {\"t\": 60}, \"template\": {\"data\": {\"bar\": [{\"error_x\": {\"color\": \"#2a3f5f\"}, \"error_y\": {\"color\": \"#2a3f5f\"}, \"marker\": {\"line\": {\"color\": \"#E5ECF6\", \"width\": 0.5}}, \"type\": \"bar\"}], \"barpolar\": [{\"marker\": {\"line\": {\"color\": \"#E5ECF6\", \"width\": 0.5}}, \"type\": \"barpolar\"}], \"carpet\": [{\"aaxis\": {\"endlinecolor\": \"#2a3f5f\", \"gridcolor\": \"white\", \"linecolor\": \"white\", \"minorgridcolor\": \"white\", \"startlinecolor\": \"#2a3f5f\"}, \"baxis\": {\"endlinecolor\": \"#2a3f5f\", \"gridcolor\": \"white\", \"linecolor\": \"white\", \"minorgridcolor\": \"white\", \"startlinecolor\": \"#2a3f5f\"}, \"type\": \"carpet\"}], \"choropleth\": [{\"colorbar\": {\"outlinewidth\": 0, \"ticks\": \"\"}, \"type\": \"choropleth\"}], \"contour\": [{\"colorbar\": {\"outlinewidth\": 0, \"ticks\": \"\"}, \"colorscale\": [[0.0, \"#0d0887\"], [0.1111111111111111, \"#46039f\"], [0.2222222222222222, \"#7201a8\"], [0.3333333333333333, \"#9c179e\"], [0.4444444444444444, \"#bd3786\"], [0.5555555555555556, \"#d8576b\"], [0.6666666666666666, \"#ed7953\"], [0.7777777777777778, \"#fb9f3a\"], [0.8888888888888888, \"#fdca26\"], [1.0, \"#f0f921\"]], \"type\": \"contour\"}], \"contourcarpet\": [{\"colorbar\": {\"outlinewidth\": 0, \"ticks\": \"\"}, \"type\": \"contourcarpet\"}], \"heatmap\": [{\"colorbar\": {\"outlinewidth\": 0, \"ticks\": \"\"}, \"colorscale\": [[0.0, \"#0d0887\"], [0.1111111111111111, \"#46039f\"], [0.2222222222222222, \"#7201a8\"], [0.3333333333333333, \"#9c179e\"], [0.4444444444444444, \"#bd3786\"], [0.5555555555555556, \"#d8576b\"], [0.6666666666666666, \"#ed7953\"], [0.7777777777777778, \"#fb9f3a\"], [0.8888888888888888, \"#fdca26\"], [1.0, \"#f0f921\"]], \"type\": \"heatmap\"}], \"heatmapgl\": [{\"colorbar\": {\"outlinewidth\": 0, \"ticks\": \"\"}, \"colorscale\": [[0.0, \"#0d0887\"], [0.1111111111111111, \"#46039f\"], [0.2222222222222222, \"#7201a8\"], [0.3333333333333333, \"#9c179e\"], [0.4444444444444444, \"#bd3786\"], [0.5555555555555556, \"#d8576b\"], [0.6666666666666666, \"#ed7953\"], [0.7777777777777778, \"#fb9f3a\"], [0.8888888888888888, \"#fdca26\"], [1.0, \"#f0f921\"]], \"type\": \"heatmapgl\"}], \"histogram\": [{\"marker\": {\"colorbar\": {\"outlinewidth\": 0, \"ticks\": \"\"}}, \"type\": \"histogram\"}], \"histogram2d\": [{\"colorbar\": {\"outlinewidth\": 0, \"ticks\": \"\"}, \"colorscale\": [[0.0, \"#0d0887\"], [0.1111111111111111, \"#46039f\"], [0.2222222222222222, \"#7201a8\"], [0.3333333333333333, \"#9c179e\"], [0.4444444444444444, \"#bd3786\"], [0.5555555555555556, \"#d8576b\"], [0.6666666666666666, \"#ed7953\"], [0.7777777777777778, \"#fb9f3a\"], [0.8888888888888888, \"#fdca26\"], [1.0, \"#f0f921\"]], \"type\": \"histogram2d\"}], \"histogram2dcontour\": [{\"colorbar\": {\"outlinewidth\": 0, \"ticks\": \"\"}, \"colorscale\": [[0.0, \"#0d0887\"], [0.1111111111111111, \"#46039f\"], [0.2222222222222222, \"#7201a8\"], [0.3333333333333333, \"#9c179e\"], [0.4444444444444444, \"#bd3786\"], [0.5555555555555556, \"#d8576b\"], [0.6666666666666666, \"#ed7953\"], [0.7777777777777778, \"#fb9f3a\"], [0.8888888888888888, \"#fdca26\"], [1.0, \"#f0f921\"]], \"type\": \"histogram2dcontour\"}], \"mesh3d\": [{\"colorbar\": {\"outlinewidth\": 0, \"ticks\": \"\"}, \"type\": \"mesh3d\"}], \"parcoords\": [{\"line\": {\"colorbar\": {\"outlinewidth\": 0, \"ticks\": \"\"}}, \"type\": \"parcoords\"}], \"pie\": [{\"automargin\": true, \"type\": \"pie\"}], \"scatter\": [{\"marker\": {\"colorbar\": {\"outlinewidth\": 0, \"ticks\": \"\"}}, \"type\": \"scatter\"}], \"scatter3d\": [{\"line\": {\"colorbar\": {\"outlinewidth\": 0, \"ticks\": \"\"}}, \"marker\": {\"colorbar\": {\"outlinewidth\": 0, \"ticks\": \"\"}}, \"type\": \"scatter3d\"}], \"scattercarpet\": [{\"marker\": {\"colorbar\": {\"outlinewidth\": 0, \"ticks\": \"\"}}, \"type\": \"scattercarpet\"}], \"scattergeo\": [{\"marker\": {\"colorbar\": {\"outlinewidth\": 0, \"ticks\": \"\"}}, \"type\": \"scattergeo\"}], \"scattergl\": [{\"marker\": {\"colorbar\": {\"outlinewidth\": 0, \"ticks\": \"\"}}, \"type\": \"scattergl\"}], \"scattermapbox\": [{\"marker\": {\"colorbar\": {\"outlinewidth\": 0, \"ticks\": \"\"}}, \"type\": \"scattermapbox\"}], \"scatterpolar\": [{\"marker\": {\"colorbar\": {\"outlinewidth\": 0, \"ticks\": \"\"}}, \"type\": \"scatterpolar\"}], \"scatterpolargl\": [{\"marker\": {\"colorbar\": {\"outlinewidth\": 0, \"ticks\": \"\"}}, \"type\": \"scatterpolargl\"}], \"scatterternary\": [{\"marker\": {\"colorbar\": {\"outlinewidth\": 0, \"ticks\": \"\"}}, \"type\": \"scatterternary\"}], \"surface\": [{\"colorbar\": {\"outlinewidth\": 0, \"ticks\": \"\"}, \"colorscale\": [[0.0, \"#0d0887\"], [0.1111111111111111, \"#46039f\"], [0.2222222222222222, \"#7201a8\"], [0.3333333333333333, \"#9c179e\"], [0.4444444444444444, \"#bd3786\"], [0.5555555555555556, \"#d8576b\"], [0.6666666666666666, \"#ed7953\"], [0.7777777777777778, \"#fb9f3a\"], [0.8888888888888888, \"#fdca26\"], [1.0, \"#f0f921\"]], \"type\": \"surface\"}], \"table\": [{\"cells\": {\"fill\": {\"color\": \"#EBF0F8\"}, \"line\": {\"color\": \"white\"}}, \"header\": {\"fill\": {\"color\": \"#C8D4E3\"}, \"line\": {\"color\": \"white\"}}, \"type\": \"table\"}]}, \"layout\": {\"annotationdefaults\": {\"arrowcolor\": \"#2a3f5f\", \"arrowhead\": 0, \"arrowwidth\": 1}, \"coloraxis\": {\"colorbar\": {\"outlinewidth\": 0, \"ticks\": \"\"}}, \"colorscale\": {\"diverging\": [[0, \"#8e0152\"], [0.1, \"#c51b7d\"], [0.2, \"#de77ae\"], [0.3, \"#f1b6da\"], [0.4, \"#fde0ef\"], [0.5, \"#f7f7f7\"], [0.6, \"#e6f5d0\"], [0.7, \"#b8e186\"], [0.8, \"#7fbc41\"], [0.9, \"#4d9221\"], [1, \"#276419\"]], \"sequential\": [[0.0, \"#0d0887\"], [0.1111111111111111, \"#46039f\"], [0.2222222222222222, \"#7201a8\"], [0.3333333333333333, \"#9c179e\"], [0.4444444444444444, \"#bd3786\"], [0.5555555555555556, \"#d8576b\"], [0.6666666666666666, \"#ed7953\"], [0.7777777777777778, \"#fb9f3a\"], [0.8888888888888888, \"#fdca26\"], [1.0, \"#f0f921\"]], \"sequentialminus\": [[0.0, \"#0d0887\"], [0.1111111111111111, \"#46039f\"], [0.2222222222222222, \"#7201a8\"], [0.3333333333333333, \"#9c179e\"], [0.4444444444444444, \"#bd3786\"], [0.5555555555555556, \"#d8576b\"], [0.6666666666666666, \"#ed7953\"], [0.7777777777777778, \"#fb9f3a\"], [0.8888888888888888, \"#fdca26\"], [1.0, \"#f0f921\"]]}, \"colorway\": [\"#636efa\", \"#EF553B\", \"#00cc96\", \"#ab63fa\", \"#FFA15A\", \"#19d3f3\", \"#FF6692\", \"#B6E880\", \"#FF97FF\", \"#FECB52\"], \"font\": {\"color\": \"#2a3f5f\"}, \"geo\": {\"bgcolor\": \"white\", \"lakecolor\": \"white\", \"landcolor\": \"#E5ECF6\", \"showlakes\": true, \"showland\": true, \"subunitcolor\": \"white\"}, \"hoverlabel\": {\"align\": \"left\"}, \"hovermode\": \"closest\", \"mapbox\": {\"style\": \"light\"}, \"paper_bgcolor\": \"white\", \"plot_bgcolor\": \"#E5ECF6\", \"polar\": {\"angularaxis\": {\"gridcolor\": \"white\", \"linecolor\": \"white\", \"ticks\": \"\"}, \"bgcolor\": \"#E5ECF6\", \"radialaxis\": {\"gridcolor\": \"white\", \"linecolor\": \"white\", \"ticks\": \"\"}}, \"scene\": {\"xaxis\": {\"backgroundcolor\": \"#E5ECF6\", \"gridcolor\": \"white\", \"gridwidth\": 2, \"linecolor\": \"white\", \"showbackground\": true, \"ticks\": \"\", \"zerolinecolor\": \"white\"}, \"yaxis\": {\"backgroundcolor\": \"#E5ECF6\", \"gridcolor\": \"white\", \"gridwidth\": 2, \"linecolor\": \"white\", \"showbackground\": true, \"ticks\": \"\", \"zerolinecolor\": \"white\"}, \"zaxis\": {\"backgroundcolor\": \"#E5ECF6\", \"gridcolor\": \"white\", \"gridwidth\": 2, \"linecolor\": \"white\", \"showbackground\": true, \"ticks\": \"\", \"zerolinecolor\": \"white\"}}, \"shapedefaults\": {\"line\": {\"color\": \"#2a3f5f\"}}, \"ternary\": {\"aaxis\": {\"gridcolor\": \"white\", \"linecolor\": \"white\", \"ticks\": \"\"}, \"baxis\": {\"gridcolor\": \"white\", \"linecolor\": \"white\", \"ticks\": \"\"}, \"bgcolor\": \"#E5ECF6\", \"caxis\": {\"gridcolor\": \"white\", \"linecolor\": \"white\", \"ticks\": \"\"}}, \"title\": {\"x\": 0.05}, \"xaxis\": {\"automargin\": true, \"gridcolor\": \"white\", \"linecolor\": \"white\", \"ticks\": \"\", \"title\": {\"standoff\": 15}, \"zerolinecolor\": \"white\", \"zerolinewidth\": 2}, \"yaxis\": {\"automargin\": true, \"gridcolor\": \"white\", \"linecolor\": \"white\", \"ticks\": \"\", \"title\": {\"standoff\": 15}, \"zerolinecolor\": \"white\", \"zerolinewidth\": 2}}}},                        {\"responsive\": true}                    ).then(function(){\n",
       "                            \n",
       "var gd = document.getElementById('9b594a1d-2a8d-48f0-99cf-1cb3f03d3c09');\n",
       "var x = new MutationObserver(function (mutations, observer) {{\n",
       "        var display = window.getComputedStyle(gd).display;\n",
       "        if (!display || display === 'none') {{\n",
       "            console.log([gd, 'removed!']);\n",
       "            Plotly.purge(gd);\n",
       "            observer.disconnect();\n",
       "        }}\n",
       "}});\n",
       "\n",
       "// Listen for the removal of the full notebook cells\n",
       "var notebookContainer = gd.closest('#notebook-container');\n",
       "if (notebookContainer) {{\n",
       "    x.observe(notebookContainer, {childList: true});\n",
       "}}\n",
       "\n",
       "// Listen for the clearing of the current output cell\n",
       "var outputEl = gd.closest('.output');\n",
       "if (outputEl) {{\n",
       "    x.observe(outputEl, {childList: true});\n",
       "}}\n",
       "\n",
       "                        })                };                });            </script>        </div>"
      ]
     },
     "metadata": {},
     "output_type": "display_data"
    }
   ],
   "source": [
    "fig"
   ]
  },
  {
   "cell_type": "code",
   "execution_count": 113,
   "metadata": {},
   "outputs": [],
   "source": [
    "with open(\"geojson_states.json\") as f:\n",
    "    states_geojson = json.load(f)"
   ]
  },
  {
   "cell_type": "code",
   "execution_count": 114,
   "metadata": {},
   "outputs": [
    {
     "data": {
      "text/plain": [
       "51"
      ]
     },
     "execution_count": 114,
     "metadata": {},
     "output_type": "execute_result"
    }
   ],
   "source": [
    "len(states_geojson[\"features\"])"
   ]
  },
  {
   "cell_type": "code",
   "execution_count": 115,
   "metadata": {
    "scrolled": true
   },
   "outputs": [
    {
     "data": {
      "text/plain": [
       "['Alabama',\n",
       " 'Alaska',\n",
       " 'Arizona',\n",
       " 'Arkansas',\n",
       " 'California',\n",
       " 'Colorado',\n",
       " 'Connecticut',\n",
       " 'Delaware',\n",
       " 'District of Columbia',\n",
       " 'Florida',\n",
       " 'Georgia',\n",
       " 'Hawaii',\n",
       " 'Idaho',\n",
       " 'Illinois',\n",
       " 'Indiana',\n",
       " 'Iowa',\n",
       " 'Kansas',\n",
       " 'Kentucky',\n",
       " 'Louisiana',\n",
       " 'Maine',\n",
       " 'Maryland',\n",
       " 'Massachusetts',\n",
       " 'Michigan',\n",
       " 'Minnesota',\n",
       " 'Mississippi',\n",
       " 'Missouri',\n",
       " 'Montana',\n",
       " 'Nebraska',\n",
       " 'Nevada',\n",
       " 'New Hampshire',\n",
       " 'New Jersey',\n",
       " 'New Mexico',\n",
       " 'New York',\n",
       " 'North Carolina',\n",
       " 'North Dakota',\n",
       " 'Ohio',\n",
       " 'Oklahoma',\n",
       " 'Oregon',\n",
       " 'Pennsylvania',\n",
       " 'Rhode Island',\n",
       " 'South Carolina',\n",
       " 'South Dakota',\n",
       " 'Tennessee',\n",
       " 'Texas',\n",
       " 'Utah',\n",
       " 'Vermont',\n",
       " 'Virginia',\n",
       " 'Washington',\n",
       " 'West Virginia',\n",
       " 'Wisconsin',\n",
       " 'Wyoming']"
      ]
     },
     "execution_count": 115,
     "metadata": {},
     "output_type": "execute_result"
    }
   ],
   "source": [
    "list(map(lambda x: x[\"properties\"][\"name\"], states_geojson[\"features\"]))"
   ]
  },
  {
   "cell_type": "code",
   "execution_count": 116,
   "metadata": {},
   "outputs": [],
   "source": [
    "states = df_usa.groupby(\"Province_State\").sum()"
   ]
  },
  {
   "cell_type": "code",
   "execution_count": 117,
   "metadata": {},
   "outputs": [],
   "source": [
    "states = states.drop([\"American Samoa\", \"Diamond Princess\", \"Grand Princess\", \"Guam\", \"Puerto Rico\", \"Northern Mariana Islands\", \"Virgin Islands\"])"
   ]
  },
  {
   "cell_type": "code",
   "execution_count": 118,
   "metadata": {},
   "outputs": [
    {
     "data": {
      "text/html": [
       "<div>\n",
       "<style scoped>\n",
       "    .dataframe tbody tr th:only-of-type {\n",
       "        vertical-align: middle;\n",
       "    }\n",
       "\n",
       "    .dataframe tbody tr th {\n",
       "        vertical-align: top;\n",
       "    }\n",
       "\n",
       "    .dataframe thead th {\n",
       "        text-align: right;\n",
       "    }\n",
       "</style>\n",
       "<table border=\"1\" class=\"dataframe\">\n",
       "  <thead>\n",
       "    <tr style=\"text-align: right;\">\n",
       "      <th></th>\n",
       "      <th>name</th>\n",
       "      <th>UID</th>\n",
       "      <th>code3</th>\n",
       "      <th>FIPS</th>\n",
       "      <th>Lat</th>\n",
       "      <th>Long_</th>\n",
       "      <th>1/22/20</th>\n",
       "      <th>1/23/20</th>\n",
       "      <th>1/24/20</th>\n",
       "      <th>1/25/20</th>\n",
       "      <th>...</th>\n",
       "      <th>11/27/20</th>\n",
       "      <th>11/28/20</th>\n",
       "      <th>11/29/20</th>\n",
       "      <th>11/30/20</th>\n",
       "      <th>12/1/20</th>\n",
       "      <th>12/2/20</th>\n",
       "      <th>12/3/20</th>\n",
       "      <th>12/4/20</th>\n",
       "      <th>12/5/20</th>\n",
       "      <th>12/6/20</th>\n",
       "    </tr>\n",
       "  </thead>\n",
       "  <tbody>\n",
       "    <tr>\n",
       "      <th>0</th>\n",
       "      <td>Alabama</td>\n",
       "      <td>5796241491</td>\n",
       "      <td>57960</td>\n",
       "      <td>241491.0</td>\n",
       "      <td>2203.246784</td>\n",
       "      <td>-5809.578199</td>\n",
       "      <td>0</td>\n",
       "      <td>0</td>\n",
       "      <td>0</td>\n",
       "      <td>0</td>\n",
       "      <td>...</td>\n",
       "      <td>242874</td>\n",
       "      <td>244993</td>\n",
       "      <td>247229</td>\n",
       "      <td>249524</td>\n",
       "      <td>252900</td>\n",
       "      <td>256828</td>\n",
       "      <td>260359</td>\n",
       "      <td>264199</td>\n",
       "      <td>267589</td>\n",
       "      <td>269877</td>\n",
       "    </tr>\n",
       "    <tr>\n",
       "      <th>1</th>\n",
       "      <td>Alaska</td>\n",
       "      <td>2604232344</td>\n",
       "      <td>26040</td>\n",
       "      <td>232344.0</td>\n",
       "      <td>1747.177765</td>\n",
       "      <td>-4293.070291</td>\n",
       "      <td>0</td>\n",
       "      <td>0</td>\n",
       "      <td>0</td>\n",
       "      <td>0</td>\n",
       "      <td>...</td>\n",
       "      <td>30776</td>\n",
       "      <td>31444</td>\n",
       "      <td>32065</td>\n",
       "      <td>32576</td>\n",
       "      <td>33115</td>\n",
       "      <td>33802</td>\n",
       "      <td>34563</td>\n",
       "      <td>35325</td>\n",
       "      <td>36271</td>\n",
       "      <td>37036</td>\n",
       "    </tr>\n",
       "    <tr>\n",
       "      <th>2</th>\n",
       "      <td>Arizona</td>\n",
       "      <td>1428230216</td>\n",
       "      <td>14280</td>\n",
       "      <td>230216.0</td>\n",
       "      <td>505.138555</td>\n",
       "      <td>-1671.948482</td>\n",
       "      <td>0</td>\n",
       "      <td>0</td>\n",
       "      <td>0</td>\n",
       "      <td>0</td>\n",
       "      <td>...</td>\n",
       "      <td>318638</td>\n",
       "      <td>322774</td>\n",
       "      <td>325995</td>\n",
       "      <td>326817</td>\n",
       "      <td>337139</td>\n",
       "      <td>340979</td>\n",
       "      <td>346421</td>\n",
       "      <td>352101</td>\n",
       "      <td>358900</td>\n",
       "      <td>364276</td>\n",
       "    </tr>\n",
       "    <tr>\n",
       "      <th>3</th>\n",
       "      <td>Arkansas</td>\n",
       "      <td>6468550635</td>\n",
       "      <td>64680</td>\n",
       "      <td>550635.0</td>\n",
       "      <td>2618.391704</td>\n",
       "      <td>-6932.548370</td>\n",
       "      <td>0</td>\n",
       "      <td>0</td>\n",
       "      <td>0</td>\n",
       "      <td>0</td>\n",
       "      <td>...</td>\n",
       "      <td>153677</td>\n",
       "      <td>155026</td>\n",
       "      <td>156247</td>\n",
       "      <td>157359</td>\n",
       "      <td>159309</td>\n",
       "      <td>161521</td>\n",
       "      <td>164310</td>\n",
       "      <td>167137</td>\n",
       "      <td>169382</td>\n",
       "      <td>170924</td>\n",
       "    </tr>\n",
       "    <tr>\n",
       "      <th>4</th>\n",
       "      <td>California</td>\n",
       "      <td>5040521376</td>\n",
       "      <td>50400</td>\n",
       "      <td>521376.0</td>\n",
       "      <td>2194.949775</td>\n",
       "      <td>-7002.258461</td>\n",
       "      <td>0</td>\n",
       "      <td>0</td>\n",
       "      <td>0</td>\n",
       "      <td>0</td>\n",
       "      <td>...</td>\n",
       "      <td>1185576</td>\n",
       "      <td>1200624</td>\n",
       "      <td>1215455</td>\n",
       "      <td>1230264</td>\n",
       "      <td>1246042</td>\n",
       "      <td>1265182</td>\n",
       "      <td>1286550</td>\n",
       "      <td>1310307</td>\n",
       "      <td>1337941</td>\n",
       "      <td>1366673</td>\n",
       "    </tr>\n",
       "    <tr>\n",
       "      <th>5</th>\n",
       "      <td>Colorado</td>\n",
       "      <td>5544685999</td>\n",
       "      <td>55440</td>\n",
       "      <td>685999.0</td>\n",
       "      <td>2491.870366</td>\n",
       "      <td>-6751.119357</td>\n",
       "      <td>0</td>\n",
       "      <td>0</td>\n",
       "      <td>0</td>\n",
       "      <td>0</td>\n",
       "      <td>...</td>\n",
       "      <td>220953</td>\n",
       "      <td>225283</td>\n",
       "      <td>228772</td>\n",
       "      <td>232905</td>\n",
       "      <td>237310</td>\n",
       "      <td>241172</td>\n",
       "      <td>247209</td>\n",
       "      <td>252222</td>\n",
       "      <td>257347</td>\n",
       "      <td>260581</td>\n",
       "    </tr>\n",
       "    <tr>\n",
       "      <th>6</th>\n",
       "      <td>Connecticut</td>\n",
       "      <td>840242082</td>\n",
       "      <td>8400</td>\n",
       "      <td>242082.0</td>\n",
       "      <td>332.909441</td>\n",
       "      <td>-581.254637</td>\n",
       "      <td>0</td>\n",
       "      <td>0</td>\n",
       "      <td>0</td>\n",
       "      <td>0</td>\n",
       "      <td>...</td>\n",
       "      <td>112581</td>\n",
       "      <td>112581</td>\n",
       "      <td>112581</td>\n",
       "      <td>117295</td>\n",
       "      <td>118754</td>\n",
       "      <td>121426</td>\n",
       "      <td>126177</td>\n",
       "      <td>127715</td>\n",
       "      <td>127715</td>\n",
       "      <td>127715</td>\n",
       "    </tr>\n",
       "    <tr>\n",
       "      <th>7</th>\n",
       "      <td>Delaware</td>\n",
       "      <td>420200029</td>\n",
       "      <td>4200</td>\n",
       "      <td>200029.0</td>\n",
       "      <td>117.327830</td>\n",
       "      <td>-226.599712</td>\n",
       "      <td>0</td>\n",
       "      <td>0</td>\n",
       "      <td>0</td>\n",
       "      <td>0</td>\n",
       "      <td>...</td>\n",
       "      <td>34170</td>\n",
       "      <td>34670</td>\n",
       "      <td>35251</td>\n",
       "      <td>35654</td>\n",
       "      <td>36343</td>\n",
       "      <td>36698</td>\n",
       "      <td>37456</td>\n",
       "      <td>38398</td>\n",
       "      <td>39096</td>\n",
       "      <td>39912</td>\n",
       "    </tr>\n",
       "    <tr>\n",
       "      <th>8</th>\n",
       "      <td>District of Columbia</td>\n",
       "      <td>252181023</td>\n",
       "      <td>2520</td>\n",
       "      <td>181023.0</td>\n",
       "      <td>38.904178</td>\n",
       "      <td>-77.016560</td>\n",
       "      <td>0</td>\n",
       "      <td>0</td>\n",
       "      <td>0</td>\n",
       "      <td>0</td>\n",
       "      <td>...</td>\n",
       "      <td>20937</td>\n",
       "      <td>21308</td>\n",
       "      <td>21448</td>\n",
       "      <td>21552</td>\n",
       "      <td>21685</td>\n",
       "      <td>21842</td>\n",
       "      <td>22164</td>\n",
       "      <td>22480</td>\n",
       "      <td>22872</td>\n",
       "      <td>23136</td>\n",
       "    </tr>\n",
       "    <tr>\n",
       "      <th>9</th>\n",
       "      <td>Florida</td>\n",
       "      <td>5796978574</td>\n",
       "      <td>57960</td>\n",
       "      <td>978574.0</td>\n",
       "      <td>1939.030577</td>\n",
       "      <td>-5540.949842</td>\n",
       "      <td>0</td>\n",
       "      <td>0</td>\n",
       "      <td>0</td>\n",
       "      <td>0</td>\n",
       "      <td>...</td>\n",
       "      <td>979020</td>\n",
       "      <td>985297</td>\n",
       "      <td>992660</td>\n",
       "      <td>999319</td>\n",
       "      <td>1008166</td>\n",
       "      <td>1018160</td>\n",
       "      <td>1029030</td>\n",
       "      <td>1039207</td>\n",
       "      <td>1049638</td>\n",
       "      <td>1058074</td>\n",
       "    </tr>\n",
       "    <tr>\n",
       "      <th>10</th>\n",
       "      <td>Georgia</td>\n",
       "      <td>13526262703</td>\n",
       "      <td>135240</td>\n",
       "      <td>2262703.0</td>\n",
       "      <td>5216.556611</td>\n",
       "      <td>-13288.811358</td>\n",
       "      <td>0</td>\n",
       "      <td>0</td>\n",
       "      <td>0</td>\n",
       "      <td>0</td>\n",
       "      <td>...</td>\n",
       "      <td>464526</td>\n",
       "      <td>467564</td>\n",
       "      <td>469516</td>\n",
       "      <td>471563</td>\n",
       "      <td>476405</td>\n",
       "      <td>482139</td>\n",
       "      <td>487978</td>\n",
       "      <td>494354</td>\n",
       "      <td>499371</td>\n",
       "      <td>501405</td>\n",
       "    </tr>\n",
       "    <tr>\n",
       "      <th>11</th>\n",
       "      <td>Hawaii</td>\n",
       "      <td>588245055</td>\n",
       "      <td>5880</td>\n",
       "      <td>245055.0</td>\n",
       "      <td>105.141415</td>\n",
       "      <td>-786.616182</td>\n",
       "      <td>0</td>\n",
       "      <td>0</td>\n",
       "      <td>0</td>\n",
       "      <td>0</td>\n",
       "      <td>...</td>\n",
       "      <td>18006</td>\n",
       "      <td>18082</td>\n",
       "      <td>18138</td>\n",
       "      <td>18223</td>\n",
       "      <td>18266</td>\n",
       "      <td>18342</td>\n",
       "      <td>18484</td>\n",
       "      <td>18605</td>\n",
       "      <td>18738</td>\n",
       "      <td>18842</td>\n",
       "    </tr>\n",
       "    <tr>\n",
       "      <th>12</th>\n",
       "      <td>Idaho</td>\n",
       "      <td>3864875968</td>\n",
       "      <td>38640</td>\n",
       "      <td>875968.0</td>\n",
       "      <td>1947.589655</td>\n",
       "      <td>-5036.245496</td>\n",
       "      <td>0</td>\n",
       "      <td>0</td>\n",
       "      <td>0</td>\n",
       "      <td>0</td>\n",
       "      <td>...</td>\n",
       "      <td>98500</td>\n",
       "      <td>99660</td>\n",
       "      <td>100484</td>\n",
       "      <td>101698</td>\n",
       "      <td>103305</td>\n",
       "      <td>104734</td>\n",
       "      <td>106455</td>\n",
       "      <td>108366</td>\n",
       "      <td>109705</td>\n",
       "      <td>110510</td>\n",
       "    </tr>\n",
       "    <tr>\n",
       "      <th>13</th>\n",
       "      <td>Illinois</td>\n",
       "      <td>8737914438</td>\n",
       "      <td>87360</td>\n",
       "      <td>1914438.0</td>\n",
       "      <td>4064.049006</td>\n",
       "      <td>-9096.189667</td>\n",
       "      <td>0</td>\n",
       "      <td>0</td>\n",
       "      <td>1</td>\n",
       "      <td>1</td>\n",
       "      <td>...</td>\n",
       "      <td>705063</td>\n",
       "      <td>712936</td>\n",
       "      <td>720114</td>\n",
       "      <td>726304</td>\n",
       "      <td>738846</td>\n",
       "      <td>748603</td>\n",
       "      <td>759562</td>\n",
       "      <td>770088</td>\n",
       "      <td>779975</td>\n",
       "      <td>787573</td>\n",
       "    </tr>\n",
       "    <tr>\n",
       "      <th>14</th>\n",
       "      <td>Indiana</td>\n",
       "      <td>7897834500</td>\n",
       "      <td>78960</td>\n",
       "      <td>1834500.0</td>\n",
       "      <td>3665.036491</td>\n",
       "      <td>-7932.108297</td>\n",
       "      <td>0</td>\n",
       "      <td>0</td>\n",
       "      <td>0</td>\n",
       "      <td>0</td>\n",
       "      <td>...</td>\n",
       "      <td>324537</td>\n",
       "      <td>329008</td>\n",
       "      <td>333312</td>\n",
       "      <td>338977</td>\n",
       "      <td>344373</td>\n",
       "      <td>350970</td>\n",
       "      <td>359430</td>\n",
       "      <td>367329</td>\n",
       "      <td>375019</td>\n",
       "      <td>381617</td>\n",
       "    </tr>\n",
       "    <tr>\n",
       "      <th>15</th>\n",
       "      <td>Iowa</td>\n",
       "      <td>8486060839</td>\n",
       "      <td>84840</td>\n",
       "      <td>2060839.0</td>\n",
       "      <td>4160.961092</td>\n",
       "      <td>-9253.086423</td>\n",
       "      <td>0</td>\n",
       "      <td>0</td>\n",
       "      <td>0</td>\n",
       "      <td>0</td>\n",
       "      <td>...</td>\n",
       "      <td>225056</td>\n",
       "      <td>227179</td>\n",
       "      <td>228690</td>\n",
       "      <td>230631</td>\n",
       "      <td>233062</td>\n",
       "      <td>236159</td>\n",
       "      <td>238724</td>\n",
       "      <td>241531</td>\n",
       "      <td>243385</td>\n",
       "      <td>244691</td>\n",
       "    </tr>\n",
       "    <tr>\n",
       "      <th>16</th>\n",
       "      <td>Kansas</td>\n",
       "      <td>8990281065</td>\n",
       "      <td>89880</td>\n",
       "      <td>2281065.0</td>\n",
       "      <td>4040.964784</td>\n",
       "      <td>-10298.877911</td>\n",
       "      <td>0</td>\n",
       "      <td>0</td>\n",
       "      <td>0</td>\n",
       "      <td>0</td>\n",
       "      <td>...</td>\n",
       "      <td>155411</td>\n",
       "      <td>155500</td>\n",
       "      <td>155500</td>\n",
       "      <td>159915</td>\n",
       "      <td>160233</td>\n",
       "      <td>164855</td>\n",
       "      <td>165156</td>\n",
       "      <td>171146</td>\n",
       "      <td>171363</td>\n",
       "      <td>171364</td>\n",
       "    </tr>\n",
       "    <tr>\n",
       "      <th>17</th>\n",
       "      <td>Kentucky</td>\n",
       "      <td>10250704442</td>\n",
       "      <td>102480</td>\n",
       "      <td>2704442.0</td>\n",
       "      <td>4514.657262</td>\n",
       "      <td>-10223.986874</td>\n",
       "      <td>0</td>\n",
       "      <td>0</td>\n",
       "      <td>0</td>\n",
       "      <td>0</td>\n",
       "      <td>...</td>\n",
       "      <td>171755</td>\n",
       "      <td>174182</td>\n",
       "      <td>176925</td>\n",
       "      <td>179041</td>\n",
       "      <td>183164</td>\n",
       "      <td>186765</td>\n",
       "      <td>190600</td>\n",
       "      <td>194192</td>\n",
       "      <td>198064</td>\n",
       "      <td>200631</td>\n",
       "    </tr>\n",
       "    <tr>\n",
       "      <th>18</th>\n",
       "      <td>Louisiana</td>\n",
       "      <td>5545582140</td>\n",
       "      <td>55440</td>\n",
       "      <td>1582140.0</td>\n",
       "      <td>1989.915353</td>\n",
       "      <td>-5876.747946</td>\n",
       "      <td>0</td>\n",
       "      <td>0</td>\n",
       "      <td>0</td>\n",
       "      <td>0</td>\n",
       "      <td>...</td>\n",
       "      <td>230602</td>\n",
       "      <td>230602</td>\n",
       "      <td>232245</td>\n",
       "      <td>232414</td>\n",
       "      <td>237740</td>\n",
       "      <td>241335</td>\n",
       "      <td>244078</td>\n",
       "      <td>247177</td>\n",
       "      <td>247177</td>\n",
       "      <td>251123</td>\n",
       "    </tr>\n",
       "    <tr>\n",
       "      <th>19</th>\n",
       "      <td>Maine</td>\n",
       "      <td>1512538302</td>\n",
       "      <td>15120</td>\n",
       "      <td>538302.0</td>\n",
       "      <td>715.003014</td>\n",
       "      <td>-1112.380298</td>\n",
       "      <td>0</td>\n",
       "      <td>0</td>\n",
       "      <td>0</td>\n",
       "      <td>0</td>\n",
       "      <td>...</td>\n",
       "      <td>11265</td>\n",
       "      <td>11288</td>\n",
       "      <td>11508</td>\n",
       "      <td>11757</td>\n",
       "      <td>11981</td>\n",
       "      <td>12208</td>\n",
       "      <td>12554</td>\n",
       "      <td>12844</td>\n",
       "      <td>13127</td>\n",
       "      <td>13348</td>\n",
       "    </tr>\n",
       "    <tr>\n",
       "      <th>20</th>\n",
       "      <td>Maryland</td>\n",
       "      <td>2184747127</td>\n",
       "      <td>21840</td>\n",
       "      <td>747127.0</td>\n",
       "      <td>936.358097</td>\n",
       "      <td>-1840.211223</td>\n",
       "      <td>0</td>\n",
       "      <td>0</td>\n",
       "      <td>0</td>\n",
       "      <td>0</td>\n",
       "      <td>...</td>\n",
       "      <td>192858</td>\n",
       "      <td>194448</td>\n",
       "      <td>196447</td>\n",
       "      <td>198370</td>\n",
       "      <td>201135</td>\n",
       "      <td>203355</td>\n",
       "      <td>205399</td>\n",
       "      <td>209191</td>\n",
       "      <td>212384</td>\n",
       "      <td>215027</td>\n",
       "    </tr>\n",
       "    <tr>\n",
       "      <th>21</th>\n",
       "      <td>Massachusetts</td>\n",
       "      <td>1428590248</td>\n",
       "      <td>14280</td>\n",
       "      <td>520246.0</td>\n",
       "      <td>630.994149</td>\n",
       "      <td>-1071.277031</td>\n",
       "      <td>0</td>\n",
       "      <td>0</td>\n",
       "      <td>0</td>\n",
       "      <td>0</td>\n",
       "      <td>...</td>\n",
       "      <td>219252</td>\n",
       "      <td>222469</td>\n",
       "      <td>224964</td>\n",
       "      <td>226132</td>\n",
       "      <td>229205</td>\n",
       "      <td>234232</td>\n",
       "      <td>240907</td>\n",
       "      <td>246398</td>\n",
       "      <td>252017</td>\n",
       "      <td>256844</td>\n",
       "    </tr>\n",
       "    <tr>\n",
       "      <th>22</th>\n",
       "      <td>Michigan</td>\n",
       "      <td>7310474950</td>\n",
       "      <td>73080</td>\n",
       "      <td>2334941.0</td>\n",
       "      <td>3655.620467</td>\n",
       "      <td>-7070.080729</td>\n",
       "      <td>0</td>\n",
       "      <td>0</td>\n",
       "      <td>0</td>\n",
       "      <td>0</td>\n",
       "      <td>...</td>\n",
       "      <td>369801</td>\n",
       "      <td>378152</td>\n",
       "      <td>378152</td>\n",
       "      <td>388942</td>\n",
       "      <td>395453</td>\n",
       "      <td>402886</td>\n",
       "      <td>410843</td>\n",
       "      <td>420268</td>\n",
       "      <td>426576</td>\n",
       "      <td>426576</td>\n",
       "    </tr>\n",
       "    <tr>\n",
       "      <th>23</th>\n",
       "      <td>Minnesota</td>\n",
       "      <td>7478526623</td>\n",
       "      <td>74760</td>\n",
       "      <td>2526623.0</td>\n",
       "      <td>3963.025129</td>\n",
       "      <td>-8215.492913</td>\n",
       "      <td>0</td>\n",
       "      <td>0</td>\n",
       "      <td>0</td>\n",
       "      <td>0</td>\n",
       "      <td>...</td>\n",
       "      <td>295001</td>\n",
       "      <td>304023</td>\n",
       "      <td>312969</td>\n",
       "      <td>318763</td>\n",
       "      <td>322312</td>\n",
       "      <td>327477</td>\n",
       "      <td>333626</td>\n",
       "      <td>338973</td>\n",
       "      <td>345281</td>\n",
       "      <td>350862</td>\n",
       "    </tr>\n",
       "    <tr>\n",
       "      <th>24</th>\n",
       "      <td>Mississippi</td>\n",
       "      <td>7058472780</td>\n",
       "      <td>70560</td>\n",
       "      <td>2472780.0</td>\n",
       "      <td>2689.003578</td>\n",
       "      <td>-7350.949516</td>\n",
       "      <td>0</td>\n",
       "      <td>0</td>\n",
       "      <td>0</td>\n",
       "      <td>0</td>\n",
       "      <td>...</td>\n",
       "      <td>148387</td>\n",
       "      <td>149940</td>\n",
       "      <td>151785</td>\n",
       "      <td>153270</td>\n",
       "      <td>154411</td>\n",
       "      <td>156868</td>\n",
       "      <td>159036</td>\n",
       "      <td>161516</td>\n",
       "      <td>163458</td>\n",
       "      <td>164931</td>\n",
       "    </tr>\n",
       "    <tr>\n",
       "      <th>25</th>\n",
       "      <td>Missouri</td>\n",
       "      <td>9915588598</td>\n",
       "      <td>99120</td>\n",
       "      <td>3518595.0</td>\n",
       "      <td>4460.984726</td>\n",
       "      <td>-10729.940479</td>\n",
       "      <td>0</td>\n",
       "      <td>0</td>\n",
       "      <td>0</td>\n",
       "      <td>0</td>\n",
       "      <td>...</td>\n",
       "      <td>296665</td>\n",
       "      <td>299095</td>\n",
       "      <td>302409</td>\n",
       "      <td>306206</td>\n",
       "      <td>309169</td>\n",
       "      <td>312046</td>\n",
       "      <td>316235</td>\n",
       "      <td>320472</td>\n",
       "      <td>325588</td>\n",
       "      <td>329420</td>\n",
       "    </tr>\n",
       "    <tr>\n",
       "      <th>26</th>\n",
       "      <td>Montana</td>\n",
       "      <td>4873853196</td>\n",
       "      <td>48720</td>\n",
       "      <td>1853196.0</td>\n",
       "      <td>2630.582703</td>\n",
       "      <td>-6143.222113</td>\n",
       "      <td>0</td>\n",
       "      <td>0</td>\n",
       "      <td>0</td>\n",
       "      <td>0</td>\n",
       "      <td>...</td>\n",
       "      <td>59796</td>\n",
       "      <td>60845</td>\n",
       "      <td>61801</td>\n",
       "      <td>62198</td>\n",
       "      <td>63205</td>\n",
       "      <td>64340</td>\n",
       "      <td>65122</td>\n",
       "      <td>66436</td>\n",
       "      <td>67069</td>\n",
       "      <td>67875</td>\n",
       "    </tr>\n",
       "    <tr>\n",
       "      <th>27</th>\n",
       "      <td>Nebraska</td>\n",
       "      <td>7983061711</td>\n",
       "      <td>79800</td>\n",
       "      <td>3061711.0</td>\n",
       "      <td>3842.926930</td>\n",
       "      <td>-9210.628137</td>\n",
       "      <td>0</td>\n",
       "      <td>0</td>\n",
       "      <td>0</td>\n",
       "      <td>0</td>\n",
       "      <td>...</td>\n",
       "      <td>124066</td>\n",
       "      <td>125323</td>\n",
       "      <td>126466</td>\n",
       "      <td>128407</td>\n",
       "      <td>130194</td>\n",
       "      <td>132530</td>\n",
       "      <td>134710</td>\n",
       "      <td>136325</td>\n",
       "      <td>138568</td>\n",
       "      <td>139834</td>\n",
       "    </tr>\n",
       "    <tr>\n",
       "      <th>28</th>\n",
       "      <td>Nevada</td>\n",
       "      <td>1596714838</td>\n",
       "      <td>15960</td>\n",
       "      <td>714838.0</td>\n",
       "      <td>667.351945</td>\n",
       "      <td>-1998.587890</td>\n",
       "      <td>0</td>\n",
       "      <td>0</td>\n",
       "      <td>0</td>\n",
       "      <td>0</td>\n",
       "      <td>...</td>\n",
       "      <td>146317</td>\n",
       "      <td>149229</td>\n",
       "      <td>150527</td>\n",
       "      <td>152171</td>\n",
       "      <td>154842</td>\n",
       "      <td>156997</td>\n",
       "      <td>159532</td>\n",
       "      <td>162434</td>\n",
       "      <td>165628</td>\n",
       "      <td>168140</td>\n",
       "    </tr>\n",
       "    <tr>\n",
       "      <th>29</th>\n",
       "      <td>New Hampshire</td>\n",
       "      <td>1008500166</td>\n",
       "      <td>10080</td>\n",
       "      <td>500166.0</td>\n",
       "      <td>434.789729</td>\n",
       "      <td>-715.776567</td>\n",
       "      <td>0</td>\n",
       "      <td>0</td>\n",
       "      <td>0</td>\n",
       "      <td>0</td>\n",
       "      <td>...</td>\n",
       "      <td>19323</td>\n",
       "      <td>20025</td>\n",
       "      <td>20516</td>\n",
       "      <td>21030</td>\n",
       "      <td>21802</td>\n",
       "      <td>22368</td>\n",
       "      <td>22993</td>\n",
       "      <td>23775</td>\n",
       "      <td>24232</td>\n",
       "      <td>24888</td>\n",
       "    </tr>\n",
       "    <tr>\n",
       "      <th>30</th>\n",
       "      <td>New Jersey</td>\n",
       "      <td>1932884509</td>\n",
       "      <td>19320</td>\n",
       "      <td>884509.0</td>\n",
       "      <td>846.015259</td>\n",
       "      <td>-1567.071444</td>\n",
       "      <td>0</td>\n",
       "      <td>0</td>\n",
       "      <td>0</td>\n",
       "      <td>0</td>\n",
       "      <td>...</td>\n",
       "      <td>326473</td>\n",
       "      <td>329553</td>\n",
       "      <td>334114</td>\n",
       "      <td>337304</td>\n",
       "      <td>341910</td>\n",
       "      <td>346206</td>\n",
       "      <td>350999</td>\n",
       "      <td>356662</td>\n",
       "      <td>361986</td>\n",
       "      <td>368016</td>\n",
       "    </tr>\n",
       "    <tr>\n",
       "      <th>31</th>\n",
       "      <td>New Mexico</td>\n",
       "      <td>2941326065</td>\n",
       "      <td>29400</td>\n",
       "      <td>1326065.0</td>\n",
       "      <td>1140.128846</td>\n",
       "      <td>-3494.274545</td>\n",
       "      <td>0</td>\n",
       "      <td>0</td>\n",
       "      <td>0</td>\n",
       "      <td>0</td>\n",
       "      <td>...</td>\n",
       "      <td>91852</td>\n",
       "      <td>93982</td>\n",
       "      <td>95417</td>\n",
       "      <td>97095</td>\n",
       "      <td>99419</td>\n",
       "      <td>100963</td>\n",
       "      <td>102862</td>\n",
       "      <td>104935</td>\n",
       "      <td>106856</td>\n",
       "      <td>108088</td>\n",
       "    </tr>\n",
       "    <tr>\n",
       "      <th>32</th>\n",
       "      <td>New York</td>\n",
       "      <td>5378405916</td>\n",
       "      <td>53760</td>\n",
       "      <td>2405916.0</td>\n",
       "      <td>2637.737383</td>\n",
       "      <td>-4679.399365</td>\n",
       "      <td>0</td>\n",
       "      <td>0</td>\n",
       "      <td>0</td>\n",
       "      <td>0</td>\n",
       "      <td>...</td>\n",
       "      <td>628375</td>\n",
       "      <td>634438</td>\n",
       "      <td>641161</td>\n",
       "      <td>647980</td>\n",
       "      <td>655265</td>\n",
       "      <td>664238</td>\n",
       "      <td>674093</td>\n",
       "      <td>685364</td>\n",
       "      <td>696125</td>\n",
       "      <td>705827</td>\n",
       "    </tr>\n",
       "    <tr>\n",
       "      <th>33</th>\n",
       "      <td>North Carolina</td>\n",
       "      <td>8571880074</td>\n",
       "      <td>85680</td>\n",
       "      <td>3880074.0</td>\n",
       "      <td>3562.420971</td>\n",
       "      <td>-7950.109874</td>\n",
       "      <td>0</td>\n",
       "      <td>0</td>\n",
       "      <td>0</td>\n",
       "      <td>0</td>\n",
       "      <td>...</td>\n",
       "      <td>354514</td>\n",
       "      <td>357958</td>\n",
       "      <td>361778</td>\n",
       "      <td>364512</td>\n",
       "      <td>367395</td>\n",
       "      <td>371594</td>\n",
       "      <td>377231</td>\n",
       "      <td>382534</td>\n",
       "      <td>388552</td>\n",
       "      <td>394990</td>\n",
       "    </tr>\n",
       "    <tr>\n",
       "      <th>34</th>\n",
       "      <td>North Dakota</td>\n",
       "      <td>4622186885</td>\n",
       "      <td>46200</td>\n",
       "      <td>2186885.0</td>\n",
       "      <td>2511.855857</td>\n",
       "      <td>-5313.217852</td>\n",
       "      <td>0</td>\n",
       "      <td>0</td>\n",
       "      <td>0</td>\n",
       "      <td>0</td>\n",
       "      <td>...</td>\n",
       "      <td>77232</td>\n",
       "      <td>77935</td>\n",
       "      <td>78658</td>\n",
       "      <td>79252</td>\n",
       "      <td>79655</td>\n",
       "      <td>80135</td>\n",
       "      <td>81105</td>\n",
       "      <td>81949</td>\n",
       "      <td>82504</td>\n",
       "      <td>82981</td>\n",
       "    </tr>\n",
       "    <tr>\n",
       "      <th>35</th>\n",
       "      <td>Ohio</td>\n",
       "      <td>7563609822</td>\n",
       "      <td>75600</td>\n",
       "      <td>3609822.0</td>\n",
       "      <td>3547.338944</td>\n",
       "      <td>-7289.515905</td>\n",
       "      <td>0</td>\n",
       "      <td>0</td>\n",
       "      <td>0</td>\n",
       "      <td>0</td>\n",
       "      <td>...</td>\n",
       "      <td>399808</td>\n",
       "      <td>406703</td>\n",
       "      <td>414432</td>\n",
       "      <td>421063</td>\n",
       "      <td>430093</td>\n",
       "      <td>437928</td>\n",
       "      <td>446849</td>\n",
       "      <td>456963</td>\n",
       "      <td>467432</td>\n",
       "      <td>475024</td>\n",
       "    </tr>\n",
       "    <tr>\n",
       "      <th>36</th>\n",
       "      <td>Oklahoma</td>\n",
       "      <td>6639256009</td>\n",
       "      <td>66360</td>\n",
       "      <td>3256009.0</td>\n",
       "      <td>2733.647411</td>\n",
       "      <td>-7488.357767</td>\n",
       "      <td>0</td>\n",
       "      <td>0</td>\n",
       "      <td>0</td>\n",
       "      <td>0</td>\n",
       "      <td>...</td>\n",
       "      <td>187567</td>\n",
       "      <td>193824</td>\n",
       "      <td>195545</td>\n",
       "      <td>197745</td>\n",
       "      <td>199482</td>\n",
       "      <td>202341</td>\n",
       "      <td>204048</td>\n",
       "      <td>208875</td>\n",
       "      <td>213245</td>\n",
       "      <td>216486</td>\n",
       "    </tr>\n",
       "    <tr>\n",
       "      <th>37</th>\n",
       "      <td>Oregon</td>\n",
       "      <td>3193647378</td>\n",
       "      <td>31920</td>\n",
       "      <td>1647378.0</td>\n",
       "      <td>1601.726424</td>\n",
       "      <td>-4373.169106</td>\n",
       "      <td>0</td>\n",
       "      <td>0</td>\n",
       "      <td>0</td>\n",
       "      <td>0</td>\n",
       "      <td>...</td>\n",
       "      <td>70832</td>\n",
       "      <td>72506</td>\n",
       "      <td>74119</td>\n",
       "      <td>75431</td>\n",
       "      <td>76654</td>\n",
       "      <td>78160</td>\n",
       "      <td>79293</td>\n",
       "      <td>81437</td>\n",
       "      <td>83243</td>\n",
       "      <td>84496</td>\n",
       "    </tr>\n",
       "    <tr>\n",
       "      <th>38</th>\n",
       "      <td>Pennsylvania</td>\n",
       "      <td>5798988573</td>\n",
       "      <td>57960</td>\n",
       "      <td>2988573.0</td>\n",
       "      <td>2734.811250</td>\n",
       "      <td>-5200.226295</td>\n",
       "      <td>0</td>\n",
       "      <td>0</td>\n",
       "      <td>0</td>\n",
       "      <td>0</td>\n",
       "      <td>...</td>\n",
       "      <td>349238</td>\n",
       "      <td>355945</td>\n",
       "      <td>360944</td>\n",
       "      <td>366835</td>\n",
       "      <td>372530</td>\n",
       "      <td>380951</td>\n",
       "      <td>392434</td>\n",
       "      <td>404521</td>\n",
       "      <td>415635</td>\n",
       "      <td>423100</td>\n",
       "    </tr>\n",
       "    <tr>\n",
       "      <th>39</th>\n",
       "      <td>Rhode Island</td>\n",
       "      <td>588390113</td>\n",
       "      <td>5880</td>\n",
       "      <td>390113.0</td>\n",
       "      <td>208.275711</td>\n",
       "      <td>-357.320525</td>\n",
       "      <td>0</td>\n",
       "      <td>0</td>\n",
       "      <td>0</td>\n",
       "      <td>0</td>\n",
       "      <td>...</td>\n",
       "      <td>53954</td>\n",
       "      <td>53954</td>\n",
       "      <td>53954</td>\n",
       "      <td>56723</td>\n",
       "      <td>57906</td>\n",
       "      <td>59005</td>\n",
       "      <td>60722</td>\n",
       "      <td>62137</td>\n",
       "      <td>62137</td>\n",
       "      <td>62137</td>\n",
       "    </tr>\n",
       "    <tr>\n",
       "      <th>40</th>\n",
       "      <td>South Carolina</td>\n",
       "      <td>4034242206</td>\n",
       "      <td>40320</td>\n",
       "      <td>2242206.0</td>\n",
       "      <td>1562.043718</td>\n",
       "      <td>-3725.236386</td>\n",
       "      <td>0</td>\n",
       "      <td>0</td>\n",
       "      <td>0</td>\n",
       "      <td>0</td>\n",
       "      <td>...</td>\n",
       "      <td>213120</td>\n",
       "      <td>214911</td>\n",
       "      <td>216129</td>\n",
       "      <td>217487</td>\n",
       "      <td>218912</td>\n",
       "      <td>220835</td>\n",
       "      <td>223063</td>\n",
       "      <td>226013</td>\n",
       "      <td>229235</td>\n",
       "      <td>232099</td>\n",
       "    </tr>\n",
       "    <tr>\n",
       "      <th>41</th>\n",
       "      <td>South Dakota</td>\n",
       "      <td>5715210577</td>\n",
       "      <td>57120</td>\n",
       "      <td>3210577.0</td>\n",
       "      <td>2921.997865</td>\n",
       "      <td>-6554.501988</td>\n",
       "      <td>0</td>\n",
       "      <td>0</td>\n",
       "      <td>0</td>\n",
       "      <td>0</td>\n",
       "      <td>...</td>\n",
       "      <td>78280</td>\n",
       "      <td>79099</td>\n",
       "      <td>79900</td>\n",
       "      <td>80464</td>\n",
       "      <td>80912</td>\n",
       "      <td>82203</td>\n",
       "      <td>83348</td>\n",
       "      <td>84398</td>\n",
       "      <td>85304</td>\n",
       "      <td>85991</td>\n",
       "    </tr>\n",
       "    <tr>\n",
       "      <th>42</th>\n",
       "      <td>Tennessee</td>\n",
       "      <td>8152644119</td>\n",
       "      <td>81480</td>\n",
       "      <td>4644119.0</td>\n",
       "      <td>3409.084710</td>\n",
       "      <td>-8180.328684</td>\n",
       "      <td>0</td>\n",
       "      <td>0</td>\n",
       "      <td>0</td>\n",
       "      <td>0</td>\n",
       "      <td>...</td>\n",
       "      <td>356716</td>\n",
       "      <td>363466</td>\n",
       "      <td>366518</td>\n",
       "      <td>374493</td>\n",
       "      <td>380186</td>\n",
       "      <td>384285</td>\n",
       "      <td>388252</td>\n",
       "      <td>392608</td>\n",
       "      <td>397522</td>\n",
       "      <td>400594</td>\n",
       "    </tr>\n",
       "    <tr>\n",
       "      <th>43</th>\n",
       "      <td>Texas</td>\n",
       "      <td>21516426612</td>\n",
       "      <td>215040</td>\n",
       "      <td>12426612.0</td>\n",
       "      <td>8041.803434</td>\n",
       "      <td>-25057.879425</td>\n",
       "      <td>0</td>\n",
       "      <td>0</td>\n",
       "      <td>0</td>\n",
       "      <td>0</td>\n",
       "      <td>...</td>\n",
       "      <td>1207243</td>\n",
       "      <td>1213577</td>\n",
       "      <td>1225118</td>\n",
       "      <td>1238752</td>\n",
       "      <td>1250934</td>\n",
       "      <td>1268946</td>\n",
       "      <td>1286369</td>\n",
       "      <td>1299469</td>\n",
       "      <td>1311643</td>\n",
       "      <td>1322738</td>\n",
       "    </tr>\n",
       "    <tr>\n",
       "      <th>44</th>\n",
       "      <td>Utah</td>\n",
       "      <td>3110012044</td>\n",
       "      <td>31080</td>\n",
       "      <td>1591939.0</td>\n",
       "      <td>1388.550986</td>\n",
       "      <td>-3904.519943</td>\n",
       "      <td>0</td>\n",
       "      <td>0</td>\n",
       "      <td>0</td>\n",
       "      <td>0</td>\n",
       "      <td>...</td>\n",
       "      <td>190044</td>\n",
       "      <td>192087</td>\n",
       "      <td>193809</td>\n",
       "      <td>195706</td>\n",
       "      <td>198216</td>\n",
       "      <td>202220</td>\n",
       "      <td>206165</td>\n",
       "      <td>209170</td>\n",
       "      <td>212844</td>\n",
       "      <td>215407</td>\n",
       "    </tr>\n",
       "    <tr>\n",
       "      <th>45</th>\n",
       "      <td>Vermont</td>\n",
       "      <td>1344870296</td>\n",
       "      <td>13440</td>\n",
       "      <td>870296.0</td>\n",
       "      <td>618.232941</td>\n",
       "      <td>-1017.581330</td>\n",
       "      <td>0</td>\n",
       "      <td>0</td>\n",
       "      <td>0</td>\n",
       "      <td>0</td>\n",
       "      <td>...</td>\n",
       "      <td>4005</td>\n",
       "      <td>4033</td>\n",
       "      <td>4100</td>\n",
       "      <td>4172</td>\n",
       "      <td>4239</td>\n",
       "      <td>4461</td>\n",
       "      <td>4642</td>\n",
       "      <td>4763</td>\n",
       "      <td>4894</td>\n",
       "      <td>5015</td>\n",
       "    </tr>\n",
       "    <tr>\n",
       "      <th>46</th>\n",
       "      <td>Virginia</td>\n",
       "      <td>11346988213</td>\n",
       "      <td>113400</td>\n",
       "      <td>6988213.0</td>\n",
       "      <td>4996.297993</td>\n",
       "      <td>-10442.323661</td>\n",
       "      <td>0</td>\n",
       "      <td>0</td>\n",
       "      <td>0</td>\n",
       "      <td>0</td>\n",
       "      <td>...</td>\n",
       "      <td>230444</td>\n",
       "      <td>233617</td>\n",
       "      <td>235942</td>\n",
       "      <td>237835</td>\n",
       "      <td>240063</td>\n",
       "      <td>242480</td>\n",
       "      <td>244503</td>\n",
       "      <td>247380</td>\n",
       "      <td>251173</td>\n",
       "      <td>255053</td>\n",
       "    </tr>\n",
       "    <tr>\n",
       "      <th>47</th>\n",
       "      <td>Washington</td>\n",
       "      <td>3446238627</td>\n",
       "      <td>34440</td>\n",
       "      <td>2238627.0</td>\n",
       "      <td>1842.117670</td>\n",
       "      <td>-4708.049596</td>\n",
       "      <td>1</td>\n",
       "      <td>1</td>\n",
       "      <td>1</td>\n",
       "      <td>1</td>\n",
       "      <td>...</td>\n",
       "      <td>158167</td>\n",
       "      <td>160634</td>\n",
       "      <td>162700</td>\n",
       "      <td>165019</td>\n",
       "      <td>167216</td>\n",
       "      <td>170342</td>\n",
       "      <td>172437</td>\n",
       "      <td>174290</td>\n",
       "      <td>175793</td>\n",
       "      <td>177447</td>\n",
       "    </tr>\n",
       "    <tr>\n",
       "      <th>48</th>\n",
       "      <td>West Virginia</td>\n",
       "      <td>4791143133</td>\n",
       "      <td>47880</td>\n",
       "      <td>3143133.0</td>\n",
       "      <td>2134.783954</td>\n",
       "      <td>-4433.959998</td>\n",
       "      <td>0</td>\n",
       "      <td>0</td>\n",
       "      <td>0</td>\n",
       "      <td>0</td>\n",
       "      <td>...</td>\n",
       "      <td>45046</td>\n",
       "      <td>45845</td>\n",
       "      <td>46997</td>\n",
       "      <td>47842</td>\n",
       "      <td>48818</td>\n",
       "      <td>49905</td>\n",
       "      <td>51025</td>\n",
       "      <td>52172</td>\n",
       "      <td>53572</td>\n",
       "      <td>54997</td>\n",
       "    </tr>\n",
       "    <tr>\n",
       "      <th>49</th>\n",
       "      <td>Wisconsin</td>\n",
       "      <td>6220135229</td>\n",
       "      <td>62160</td>\n",
       "      <td>4135229.0</td>\n",
       "      <td>3196.450332</td>\n",
       "      <td>-6465.454559</td>\n",
       "      <td>0</td>\n",
       "      <td>0</td>\n",
       "      <td>0</td>\n",
       "      <td>0</td>\n",
       "      <td>...</td>\n",
       "      <td>399526</td>\n",
       "      <td>404999</td>\n",
       "      <td>409054</td>\n",
       "      <td>411730</td>\n",
       "      <td>416365</td>\n",
       "      <td>420930</td>\n",
       "      <td>426534</td>\n",
       "      <td>432207</td>\n",
       "      <td>437918</td>\n",
       "      <td>441067</td>\n",
       "    </tr>\n",
       "    <tr>\n",
       "      <th>50</th>\n",
       "      <td>Wyoming</td>\n",
       "      <td>2101458641</td>\n",
       "      <td>21000</td>\n",
       "      <td>1458641.0</td>\n",
       "      <td>990.998367</td>\n",
       "      <td>-2464.524571</td>\n",
       "      <td>0</td>\n",
       "      <td>0</td>\n",
       "      <td>0</td>\n",
       "      <td>0</td>\n",
       "      <td>...</td>\n",
       "      <td>31773</td>\n",
       "      <td>31928</td>\n",
       "      <td>32489</td>\n",
       "      <td>33305</td>\n",
       "      <td>33805</td>\n",
       "      <td>34491</td>\n",
       "      <td>35046</td>\n",
       "      <td>35677</td>\n",
       "      <td>35866</td>\n",
       "      <td>36218</td>\n",
       "    </tr>\n",
       "  </tbody>\n",
       "</table>\n",
       "<p>51 rows × 326 columns</p>\n",
       "</div>"
      ],
      "text/plain": [
       "                    name          UID   code3        FIPS          Lat  \\\n",
       "0                Alabama   5796241491   57960    241491.0  2203.246784   \n",
       "1                 Alaska   2604232344   26040    232344.0  1747.177765   \n",
       "2                Arizona   1428230216   14280    230216.0   505.138555   \n",
       "3               Arkansas   6468550635   64680    550635.0  2618.391704   \n",
       "4             California   5040521376   50400    521376.0  2194.949775   \n",
       "5               Colorado   5544685999   55440    685999.0  2491.870366   \n",
       "6            Connecticut    840242082    8400    242082.0   332.909441   \n",
       "7               Delaware    420200029    4200    200029.0   117.327830   \n",
       "8   District of Columbia    252181023    2520    181023.0    38.904178   \n",
       "9                Florida   5796978574   57960    978574.0  1939.030577   \n",
       "10               Georgia  13526262703  135240   2262703.0  5216.556611   \n",
       "11                Hawaii    588245055    5880    245055.0   105.141415   \n",
       "12                 Idaho   3864875968   38640    875968.0  1947.589655   \n",
       "13              Illinois   8737914438   87360   1914438.0  4064.049006   \n",
       "14               Indiana   7897834500   78960   1834500.0  3665.036491   \n",
       "15                  Iowa   8486060839   84840   2060839.0  4160.961092   \n",
       "16                Kansas   8990281065   89880   2281065.0  4040.964784   \n",
       "17              Kentucky  10250704442  102480   2704442.0  4514.657262   \n",
       "18             Louisiana   5545582140   55440   1582140.0  1989.915353   \n",
       "19                 Maine   1512538302   15120    538302.0   715.003014   \n",
       "20              Maryland   2184747127   21840    747127.0   936.358097   \n",
       "21         Massachusetts   1428590248   14280    520246.0   630.994149   \n",
       "22              Michigan   7310474950   73080   2334941.0  3655.620467   \n",
       "23             Minnesota   7478526623   74760   2526623.0  3963.025129   \n",
       "24           Mississippi   7058472780   70560   2472780.0  2689.003578   \n",
       "25              Missouri   9915588598   99120   3518595.0  4460.984726   \n",
       "26               Montana   4873853196   48720   1853196.0  2630.582703   \n",
       "27              Nebraska   7983061711   79800   3061711.0  3842.926930   \n",
       "28                Nevada   1596714838   15960    714838.0   667.351945   \n",
       "29         New Hampshire   1008500166   10080    500166.0   434.789729   \n",
       "30            New Jersey   1932884509   19320    884509.0   846.015259   \n",
       "31            New Mexico   2941326065   29400   1326065.0  1140.128846   \n",
       "32              New York   5378405916   53760   2405916.0  2637.737383   \n",
       "33        North Carolina   8571880074   85680   3880074.0  3562.420971   \n",
       "34          North Dakota   4622186885   46200   2186885.0  2511.855857   \n",
       "35                  Ohio   7563609822   75600   3609822.0  3547.338944   \n",
       "36              Oklahoma   6639256009   66360   3256009.0  2733.647411   \n",
       "37                Oregon   3193647378   31920   1647378.0  1601.726424   \n",
       "38          Pennsylvania   5798988573   57960   2988573.0  2734.811250   \n",
       "39          Rhode Island    588390113    5880    390113.0   208.275711   \n",
       "40        South Carolina   4034242206   40320   2242206.0  1562.043718   \n",
       "41          South Dakota   5715210577   57120   3210577.0  2921.997865   \n",
       "42             Tennessee   8152644119   81480   4644119.0  3409.084710   \n",
       "43                 Texas  21516426612  215040  12426612.0  8041.803434   \n",
       "44                  Utah   3110012044   31080   1591939.0  1388.550986   \n",
       "45               Vermont   1344870296   13440    870296.0   618.232941   \n",
       "46              Virginia  11346988213  113400   6988213.0  4996.297993   \n",
       "47            Washington   3446238627   34440   2238627.0  1842.117670   \n",
       "48         West Virginia   4791143133   47880   3143133.0  2134.783954   \n",
       "49             Wisconsin   6220135229   62160   4135229.0  3196.450332   \n",
       "50               Wyoming   2101458641   21000   1458641.0   990.998367   \n",
       "\n",
       "           Long_  1/22/20  1/23/20  1/24/20  1/25/20  ...  11/27/20  11/28/20  \\\n",
       "0   -5809.578199        0        0        0        0  ...    242874    244993   \n",
       "1   -4293.070291        0        0        0        0  ...     30776     31444   \n",
       "2   -1671.948482        0        0        0        0  ...    318638    322774   \n",
       "3   -6932.548370        0        0        0        0  ...    153677    155026   \n",
       "4   -7002.258461        0        0        0        0  ...   1185576   1200624   \n",
       "5   -6751.119357        0        0        0        0  ...    220953    225283   \n",
       "6    -581.254637        0        0        0        0  ...    112581    112581   \n",
       "7    -226.599712        0        0        0        0  ...     34170     34670   \n",
       "8     -77.016560        0        0        0        0  ...     20937     21308   \n",
       "9   -5540.949842        0        0        0        0  ...    979020    985297   \n",
       "10 -13288.811358        0        0        0        0  ...    464526    467564   \n",
       "11   -786.616182        0        0        0        0  ...     18006     18082   \n",
       "12  -5036.245496        0        0        0        0  ...     98500     99660   \n",
       "13  -9096.189667        0        0        1        1  ...    705063    712936   \n",
       "14  -7932.108297        0        0        0        0  ...    324537    329008   \n",
       "15  -9253.086423        0        0        0        0  ...    225056    227179   \n",
       "16 -10298.877911        0        0        0        0  ...    155411    155500   \n",
       "17 -10223.986874        0        0        0        0  ...    171755    174182   \n",
       "18  -5876.747946        0        0        0        0  ...    230602    230602   \n",
       "19  -1112.380298        0        0        0        0  ...     11265     11288   \n",
       "20  -1840.211223        0        0        0        0  ...    192858    194448   \n",
       "21  -1071.277031        0        0        0        0  ...    219252    222469   \n",
       "22  -7070.080729        0        0        0        0  ...    369801    378152   \n",
       "23  -8215.492913        0        0        0        0  ...    295001    304023   \n",
       "24  -7350.949516        0        0        0        0  ...    148387    149940   \n",
       "25 -10729.940479        0        0        0        0  ...    296665    299095   \n",
       "26  -6143.222113        0        0        0        0  ...     59796     60845   \n",
       "27  -9210.628137        0        0        0        0  ...    124066    125323   \n",
       "28  -1998.587890        0        0        0        0  ...    146317    149229   \n",
       "29   -715.776567        0        0        0        0  ...     19323     20025   \n",
       "30  -1567.071444        0        0        0        0  ...    326473    329553   \n",
       "31  -3494.274545        0        0        0        0  ...     91852     93982   \n",
       "32  -4679.399365        0        0        0        0  ...    628375    634438   \n",
       "33  -7950.109874        0        0        0        0  ...    354514    357958   \n",
       "34  -5313.217852        0        0        0        0  ...     77232     77935   \n",
       "35  -7289.515905        0        0        0        0  ...    399808    406703   \n",
       "36  -7488.357767        0        0        0        0  ...    187567    193824   \n",
       "37  -4373.169106        0        0        0        0  ...     70832     72506   \n",
       "38  -5200.226295        0        0        0        0  ...    349238    355945   \n",
       "39   -357.320525        0        0        0        0  ...     53954     53954   \n",
       "40  -3725.236386        0        0        0        0  ...    213120    214911   \n",
       "41  -6554.501988        0        0        0        0  ...     78280     79099   \n",
       "42  -8180.328684        0        0        0        0  ...    356716    363466   \n",
       "43 -25057.879425        0        0        0        0  ...   1207243   1213577   \n",
       "44  -3904.519943        0        0        0        0  ...    190044    192087   \n",
       "45  -1017.581330        0        0        0        0  ...      4005      4033   \n",
       "46 -10442.323661        0        0        0        0  ...    230444    233617   \n",
       "47  -4708.049596        1        1        1        1  ...    158167    160634   \n",
       "48  -4433.959998        0        0        0        0  ...     45046     45845   \n",
       "49  -6465.454559        0        0        0        0  ...    399526    404999   \n",
       "50  -2464.524571        0        0        0        0  ...     31773     31928   \n",
       "\n",
       "    11/29/20  11/30/20  12/1/20  12/2/20  12/3/20  12/4/20  12/5/20  12/6/20  \n",
       "0     247229    249524   252900   256828   260359   264199   267589   269877  \n",
       "1      32065     32576    33115    33802    34563    35325    36271    37036  \n",
       "2     325995    326817   337139   340979   346421   352101   358900   364276  \n",
       "3     156247    157359   159309   161521   164310   167137   169382   170924  \n",
       "4    1215455   1230264  1246042  1265182  1286550  1310307  1337941  1366673  \n",
       "5     228772    232905   237310   241172   247209   252222   257347   260581  \n",
       "6     112581    117295   118754   121426   126177   127715   127715   127715  \n",
       "7      35251     35654    36343    36698    37456    38398    39096    39912  \n",
       "8      21448     21552    21685    21842    22164    22480    22872    23136  \n",
       "9     992660    999319  1008166  1018160  1029030  1039207  1049638  1058074  \n",
       "10    469516    471563   476405   482139   487978   494354   499371   501405  \n",
       "11     18138     18223    18266    18342    18484    18605    18738    18842  \n",
       "12    100484    101698   103305   104734   106455   108366   109705   110510  \n",
       "13    720114    726304   738846   748603   759562   770088   779975   787573  \n",
       "14    333312    338977   344373   350970   359430   367329   375019   381617  \n",
       "15    228690    230631   233062   236159   238724   241531   243385   244691  \n",
       "16    155500    159915   160233   164855   165156   171146   171363   171364  \n",
       "17    176925    179041   183164   186765   190600   194192   198064   200631  \n",
       "18    232245    232414   237740   241335   244078   247177   247177   251123  \n",
       "19     11508     11757    11981    12208    12554    12844    13127    13348  \n",
       "20    196447    198370   201135   203355   205399   209191   212384   215027  \n",
       "21    224964    226132   229205   234232   240907   246398   252017   256844  \n",
       "22    378152    388942   395453   402886   410843   420268   426576   426576  \n",
       "23    312969    318763   322312   327477   333626   338973   345281   350862  \n",
       "24    151785    153270   154411   156868   159036   161516   163458   164931  \n",
       "25    302409    306206   309169   312046   316235   320472   325588   329420  \n",
       "26     61801     62198    63205    64340    65122    66436    67069    67875  \n",
       "27    126466    128407   130194   132530   134710   136325   138568   139834  \n",
       "28    150527    152171   154842   156997   159532   162434   165628   168140  \n",
       "29     20516     21030    21802    22368    22993    23775    24232    24888  \n",
       "30    334114    337304   341910   346206   350999   356662   361986   368016  \n",
       "31     95417     97095    99419   100963   102862   104935   106856   108088  \n",
       "32    641161    647980   655265   664238   674093   685364   696125   705827  \n",
       "33    361778    364512   367395   371594   377231   382534   388552   394990  \n",
       "34     78658     79252    79655    80135    81105    81949    82504    82981  \n",
       "35    414432    421063   430093   437928   446849   456963   467432   475024  \n",
       "36    195545    197745   199482   202341   204048   208875   213245   216486  \n",
       "37     74119     75431    76654    78160    79293    81437    83243    84496  \n",
       "38    360944    366835   372530   380951   392434   404521   415635   423100  \n",
       "39     53954     56723    57906    59005    60722    62137    62137    62137  \n",
       "40    216129    217487   218912   220835   223063   226013   229235   232099  \n",
       "41     79900     80464    80912    82203    83348    84398    85304    85991  \n",
       "42    366518    374493   380186   384285   388252   392608   397522   400594  \n",
       "43   1225118   1238752  1250934  1268946  1286369  1299469  1311643  1322738  \n",
       "44    193809    195706   198216   202220   206165   209170   212844   215407  \n",
       "45      4100      4172     4239     4461     4642     4763     4894     5015  \n",
       "46    235942    237835   240063   242480   244503   247380   251173   255053  \n",
       "47    162700    165019   167216   170342   172437   174290   175793   177447  \n",
       "48     46997     47842    48818    49905    51025    52172    53572    54997  \n",
       "49    409054    411730   416365   420930   426534   432207   437918   441067  \n",
       "50     32489     33305    33805    34491    35046    35677    35866    36218  \n",
       "\n",
       "[51 rows x 326 columns]"
      ]
     },
     "execution_count": 118,
     "metadata": {},
     "output_type": "execute_result"
    }
   ],
   "source": [
    "states = states.reset_index().rename(columns={\"Province_State\": \"name\"})\n",
    "states"
   ]
  },
  {
   "cell_type": "code",
   "execution_count": 119,
   "metadata": {},
   "outputs": [
    {
     "data": {
      "application/vnd.plotly.v1+json": {
       "config": {
        "plotlyServerURL": "https://plot.ly"
       },
       "data": [
        {
         "coloraxis": "coloraxis",
         "featureidkey": "properties.name",
         "geojson": {
          "features": [
           {
            "geometry": {
             "coordinates": [
              [
               [
                -87.359296,
                35.00118
               ],
               [
                -85.606675,
                34.984749
               ],
               [
                -85.431413,
                34.124869
               ],
               [
                -85.184951,
                32.859696
               ],
               [
                -85.069935,
                32.580372
               ],
               [
                -84.960397,
                32.421541
               ],
               [
                -85.004212,
                32.322956
               ],
               [
                -84.889196,
                32.262709
               ],
               [
                -85.058981,
                32.13674
               ],
               [
                -85.053504,
                32.01077
               ],
               [
                -85.141136,
                31.840985
               ],
               [
                -85.042551,
                31.539753
               ],
               [
                -85.113751,
                31.27686
               ],
               [
                -85.004212,
                31.003013
               ],
               [
                -85.497137,
                30.997536
               ],
               [
                -87.600282,
                30.997536
               ],
               [
                -87.633143,
                30.86609
               ],
               [
                -87.408589,
                30.674397
               ],
               [
                -87.446927,
                30.510088
               ],
               [
                -87.37025,
                30.427934
               ],
               [
                -87.518128,
                30.280057
               ],
               [
                -87.655051,
                30.247195
               ],
               [
                -87.90699,
                30.411504
               ],
               [
                -87.934375,
                30.657966
               ],
               [
                -88.011052,
                30.685351
               ],
               [
                -88.10416,
                30.499135
               ],
               [
                -88.137022,
                30.318396
               ],
               [
                -88.394438,
                30.367688
               ],
               [
                -88.471115,
                31.895754
               ],
               [
                -88.241084,
                33.796253
               ],
               [
                -88.098683,
                34.891641
               ],
               [
                -88.202745,
                34.995703
               ],
               [
                -87.359296,
                35.00118
               ]
              ]
             ],
             "type": "Polygon"
            },
            "id": "01",
            "properties": {
             "density": 94.65,
             "name": "Alabama"
            },
            "type": "Feature"
           },
           {
            "geometry": {
             "coordinates": [
              [
               [
                [
                 -131.602021,
                 55.117982
                ],
                [
                 -131.569159,
                 55.28229
                ],
                [
                 -131.355558,
                 55.183705
                ],
                [
                 -131.38842,
                 55.01392
                ],
                [
                 -131.645836,
                 55.035827
                ],
                [
                 -131.602021,
                 55.117982
                ]
               ]
              ],
              [
               [
                [
                 -131.832052,
                 55.42469
                ],
                [
                 -131.645836,
                 55.304197
                ],
                [
                 -131.749898,
                 55.128935
                ],
                [
                 -131.832052,
                 55.189182
                ],
                [
                 -131.832052,
                 55.42469
                ]
               ]
              ],
              [
               [
                [
                 -132.976733,
                 56.437924
                ],
                [
                 -132.735747,
                 56.459832
                ],
                [
                 -132.631685,
                 56.421493
                ],
                [
                 -132.664547,
                 56.273616
                ],
                [
                 -132.878148,
                 56.240754
                ],
                [
                 -133.069841,
                 56.333862
                ],
                [
                 -132.976733,
                 56.437924
                ]
               ]
              ],
              [
               [
                [
                 -133.595627,
                 56.350293
                ],
                [
                 -133.162949,
                 56.317431
                ],
                [
                 -133.05341,
                 56.125739
                ],
                [
                 -132.620732,
                 55.912138
                ],
                [
                 -132.472854,
                 55.780691
                ],
                [
                 -132.4619,
                 55.671152
                ],
                [
                 -132.357838,
                 55.649245
                ],
                [
                 -132.341408,
                 55.506844
                ],
                [
                 -132.166146,
                 55.364444
                ],
                [
                 -132.144238,
                 55.238474
                ],
                [
                 -132.029222,
                 55.276813
                ],
                [
                 -131.97993,
                 55.178228
                ],
                [
                 -131.958022,
                 54.789365
                ],
                [
                 -132.029222,
                 54.701734
                ],
                [
                 -132.308546,
                 54.718165
                ],
                [
                 -132.385223,
                 54.915335
                ],
                [
                 -132.483808,
                 54.898904
                ],
                [
                 -132.686455,
                 55.046781
                ],
                [
                 -132.746701,
                 54.997489
                ],
                [
                 -132.916486,
                 55.046781
                ],
                [
                 -132.889102,
                 54.898904
                ],
                [
                 -132.73027,
                 54.937242
                ],
                [
                 -132.626209,
                 54.882473
                ],
                [
                 -132.675501,
                 54.679826
                ],
                [
                 -132.867194,
                 54.701734
                ],
                [
                 -133.157472,
                 54.95915
                ],
                [
                 -133.239626,
                 55.090597
                ],
                [
                 -133.223195,
                 55.22752
                ],
                [
                 -133.453227,
                 55.216566
                ],
                [
                 -133.453227,
                 55.320628
                ],
                [
                 -133.277964,
                 55.331582
                ],
                [
                 -133.102702,
                 55.42469
                ],
                [
                 -133.17938,
                 55.588998
                ],
                [
                 -133.387503,
                 55.62186
                ],
                [
                 -133.420365,
                 55.884753
                ],
                [
                 -133.497042,
                 56.0162
                ],
                [
                 -133.639442,
                 55.923092
                ],
                [
                 -133.694212,
                 56.070969
                ],
                [
                 -133.546335,
                 56.142169
                ],
                [
                 -133.666827,
                 56.311955
                ],
                [
                 -133.595627,
                 56.350293
                ]
               ]
              ],
              [
               [
                [
                 -133.738027,
                 55.556137
                ],
                [
                 -133.546335,
                 55.490413
                ],
                [
                 -133.414888,
                 55.572568
                ],
                [
                 -133.283441,
                 55.534229
                ],
                [
                 -133.420365,
                 55.386352
                ],
                [
                 -133.633966,
                 55.430167
                ],
                [
                 -133.738027,
                 55.556137
                ]
               ]
              ],
              [
               [
                [
                 -133.907813,
                 56.930849
                ],
                [
                 -134.050213,
                 57.029434
                ],
                [
                 -133.885905,
                 57.095157
                ],
                [
                 -133.343688,
                 57.002049
                ],
                [
                 -133.102702,
                 57.007526
                ],
                [
                 -132.932917,
                 56.82131
                ],
                [
                 -132.620732,
                 56.667956
                ],
                [
                 -132.653593,
                 56.55294
                ],
                [
                 -132.817901,
                 56.492694
                ],
                [
                 -133.042456,
                 56.520078
                ],
                [
                 -133.201287,
                 56.448878
                ],
                [
                 -133.420365,
                 56.492694
                ],
                [
                 -133.66135,
                 56.448878
                ],
                [
                 -133.710643,
                 56.684386
                ],
                [
                 -133.688735,
                 56.837741
                ],
                [
                 -133.869474,
                 56.843218
                ],
                [
                 -133.907813,
                 56.930849
                ]
               ]
              ],
              [
               [
                [
                 -134.115936,
                 56.48174
                ],
                [
                 -134.25286,
                 56.558417
                ],
                [
                 -134.400737,
                 56.722725
                ],
                [
                 -134.417168,
                 56.848695
                ],
                [
                 -134.296675,
                 56.908941
                ],
                [
                 -134.170706,
                 56.848695
                ],
                [
                 -134.143321,
                 56.952757
                ],
                [
                 -133.748981,
                 56.772017
                ],
                [
                 -133.710643,
                 56.596755
                ],
                [
                 -133.847566,
                 56.574848
                ],
                [
                 -133.935197,
                 56.377678
                ],
                [
                 -133.836612,
                 56.322908
                ],
                [
                 -133.957105,
                 56.092877
                ],
                [
                 -134.110459,
                 56.142169
                ],
                [
                 -134.132367,
                 55.999769
                ],
                [
                 -134.230952,
                 56.070969
                ],
                [
                 -134.291198,
                 56.350293
                ],
                [
                 -134.115936,
                 56.48174
                ]
               ]
              ],
              [
               [
                [
                 -134.636246,
                 56.28457
                ],
                [
                 -134.669107,
                 56.169554
                ],
                [
                 -134.806031,
                 56.235277
                ],
                [
                 -135.178463,
                 56.67891
                ],
                [
                 -135.413971,
                 56.810356
                ],
                [
                 -135.331817,
                 56.914418
                ],
                [
                 -135.424925,
                 57.166357
                ],
                [
                 -135.687818,
                 57.369004
                ],
                [
                 -135.419448,
                 57.566174
                ],
                [
                 -135.298955,
                 57.48402
                ],
                [
                 -135.063447,
                 57.418296
                ],
                [
                 -134.849846,
                 57.407343
                ],
                [
                 -134.844369,
                 57.248511
                ],
                [
                 -134.636246,
                 56.728202
                ],
                [
                 -134.636246,
                 56.28457
                ]
               ]
              ],
              [
               [
                [
                 -134.712923,
                 58.223407
                ],
                [
                 -134.373353,
                 58.14673
                ],
                [
                 -134.176183,
                 58.157683
                ],
                [
                 -134.187137,
                 58.081006
                ],
                [
                 -133.902336,
                 57.807159
                ],
                [
                 -134.099505,
                 57.850975
                ],
                [
                 -134.148798,
                 57.757867
                ],
                [
                 -133.935197,
                 57.615466
                ],
                [
                 -133.869474,
                 57.363527
                ],
                [
                 -134.083075,
                 57.297804
                ],
                [
                 -134.154275,
                 57.210173
                ],
                [
                 -134.499322,
                 57.029434
                ],
                [
                 -134.603384,
                 57.034911
                ],
                [
                 -134.6472,
                 57.226604
                ],
                [
                 -134.575999,
                 57.341619
                ],
                [
                 -134.608861,
                 57.511404
                ],
                [
                 -134.729354,
                 57.719528
                ],
                [
                 -134.707446,
                 57.829067
                ],
                [
                 -134.784123,
                 58.097437
                ],
                [
                 -134.91557,
                 58.212453
                ],
                [
                 -134.953908,
                 58.409623
                ],
                [
                 -134.712923,
                 58.223407
                ]
               ]
              ],
              [
               [
                [
                 -135.857603,
                 57.330665
                ],
                [
                 -135.715203,
                 57.330665
                ],
                [
                 -135.567326,
                 57.149926
                ],
                [
                 -135.633049,
                 57.023957
                ],
                [
                 -135.857603,
                 56.996572
                ],
                [
                 -135.824742,
                 57.193742
                ],
                [
                 -135.857603,
                 57.330665
                ]
               ]
              ],
              [
               [
                [
                 -136.279328,
                 58.206976
                ],
                [
                 -135.978096,
                 58.201499
                ],
                [
                 -135.780926,
                 58.28913
                ],
                [
                 -135.496125,
                 58.168637
                ],
                [
                 -135.64948,
                 58.037191
                ],
                [
                 -135.59471,
                 57.987898
                ],
                [
                 -135.45231,
                 58.135776
                ],
                [
                 -135.107263,
                 58.086483
                ],
                [
                 -134.91557,
                 57.976944
                ],
                [
                 -135.025108,
                 57.779775
                ],
                [
                 -134.937477,
                 57.763344
                ],
                [
                 -134.822462,
                 57.500451
                ],
                [
                 -135.085355,
                 57.462112
                ],
                [
                 -135.572802,
                 57.675713
                ],
                [
                 -135.556372,
                 57.456635
                ],
                [
                 -135.709726,
                 57.369004
                ],
                [
                 -135.890465,
                 57.407343
                ],
                [
                 -136.000004,
                 57.544266
                ],
                [
                 -136.208128,
                 57.637374
                ],
                [
                 -136.366959,
                 57.829067
                ],
                [
                 -136.569606,
                 57.916698
                ],
                [
                 -136.558652,
                 58.075529
                ],
                [
                 -136.421728,
                 58.130299
                ],
                [
                 -136.377913,
                 58.267222
                ],
                [
                 -136.279328,
                 58.206976
                ]
               ]
              ],
              [
               [
                [
                 -147.079854,
                 60.200582
                ],
                [
                 -147.501579,
                 59.948643
                ],
                [
                 -147.53444,
                 59.850058
                ],
                [
                 -147.874011,
                 59.784335
                ],
                [
                 -147.80281,
                 59.937689
                ],
                [
                 -147.435855,
                 60.09652
                ],
                [
                 -147.205824,
                 60.271782
                ],
                [
                 -147.079854,
                 60.200582
                ]
               ]
              ],
              [
               [
                [
                 -147.561825,
                 60.578491
                ],
                [
                 -147.616594,
                 60.370367
                ],
                [
                 -147.758995,
                 60.156767
                ],
                [
                 -147.956165,
                 60.227967
                ],
                [
                 -147.791856,
                 60.474429
                ],
                [
                 -147.561825,
                 60.578491
                ]
               ]
              ],
              [
               [
                [
                 -147.786379,
                 70.245291
                ],
                [
                 -147.682318,
                 70.201475
                ],
                [
                 -147.162008,
                 70.15766
                ],
                [
                 -146.888161,
                 70.185044
                ],
                [
                 -146.510252,
                 70.185044
                ],
                [
                 -146.099482,
                 70.146706
                ],
                [
                 -145.858496,
                 70.168614
                ],
                [
                 -145.622988,
                 70.08646
                ],
                [
                 -145.195787,
                 69.993352
                ],
                [
                 -144.620708,
                 69.971444
                ],
                [
                 -144.461877,
                 70.026213
                ],
                [
                 -144.078491,
                 70.059075
                ],
                [
                 -143.914183,
                 70.130275
                ],
                [
                 -143.497935,
                 70.141229
                ],
                [
                 -143.503412,
                 70.091936
                ],
                [
                 -143.25695,
                 70.119321
                ],
                [
                 -142.747594,
                 70.042644
                ],
                [
                 -142.402547,
                 69.916674
                ],
                [
                 -142.079408,
                 69.856428
                ],
                [
                 -142.008207,
                 69.801659
                ],
                [
                 -141.712453,
                 69.790705
                ],
                [
                 -141.433129,
                 69.697597
                ],
                [
                 -141.378359,
                 69.63735
                ],
                [
                 -141.208574,
                 69.686643
                ],
                [
                 -141.00045,
                 69.648304
                ],
                [
                 -141.00045,
                 60.304644
                ],
                [
                 -140.53491,
                 60.22249
                ],
                [
                 -140.474664,
                 60.310121
                ],
                [
                 -139.987216,
                 60.184151
                ],
                [
                 -139.696939,
                 60.342983
                ],
                [
                 -139.088998,
                 60.359413
                ],
                [
                 -139.198537,
                 60.091043
                ],
                [
                 -139.045183,
                 59.997935
                ],
                [
                 -138.700135,
                 59.910304
                ],
                [
                 -138.623458,
                 59.767904
                ],
                [
                 -137.604747,
                 59.242118
                ],
                [
                 -137.445916,
                 58.908024
                ],
                [
                 -137.265177,
                 59.001132
                ],
                [
                 -136.827022,
                 59.159963
                ],
                [
                 -136.580559,
                 59.16544
                ],
                [
                 -136.465544,
                 59.285933
                ],
                [
                 -136.476498,
                 59.466672
                ],
                [
                 -136.301236,
                 59.466672
                ],
                [
                 -136.25742,
                 59.625503
                ],
                [
                 -135.945234,
                 59.663842
                ],
                [
                 -135.479694,
                 59.800766
                ],
                [
                 -135.025108,
                 59.565257
                ],
                [
                 -135.068924,
                 59.422857
                ],
                [
                 -134.959385,
                 59.280456
                ],
                [
                 -134.701969,
                 59.247595
                ],
                [
                 -134.378829,
                 59.033994
                ],
                [
                 -134.400737,
                 58.973748
                ],
                [
                 -134.25286,
                 58.858732
                ],
                [
                 -133.842089,
                 58.727285
                ],
                [
                 -133.173903,
                 58.152206
                ],
                [
                 -133.075318,
                 57.998852
                ],
                [
                 -132.867194,
                 57.845498
                ],
                [
                 -132.560485,
                 57.505928
                ],
                [
                 -132.253777,
                 57.21565
                ],
                [
                 -132.368792,
                 57.095157
                ],
                [
                 -132.05113,
                 57.051341
                ],
                [
                 -132.127807,
                 56.876079
                ],
                [
                 -131.870391,
                 56.804879
                ],
                [
                 -131.837529,
                 56.602232
                ],
                [
                 -131.580113,
                 56.613186
                ],
                [
                 -131.087188,
                 56.405062
                ],
                [
                 -130.78048,
                 56.366724
                ],
                [
                 -130.621648,
                 56.268139
                ],
                [
                 -130.468294,
                 56.240754
                ],
                [
                 -130.424478,
                 56.142169
                ],
                [
                 -130.101339,
                 56.114785
                ],
                [
                 -130.002754,
                 55.994292
                ],
                [
                 -130.150631,
                 55.769737
                ],
                [
                 -130.128724,
                 55.583521
                ],
                [
                 -129.986323,
                 55.276813
                ],
                [
                 -130.095862,
                 55.200136
                ],
                [
                 -130.336847,
                 54.920812
                ],
                [
                 -130.687372,
                 54.718165
                ],
                [
                 -130.785957,
                 54.822227
                ],
                [
                 -130.917403,
                 54.789365
                ],
                [
                 -131.010511,
                 54.997489
                ],
                [
                 -130.983126,
                 55.08512
                ],
                [
                 -131.092665,
                 55.189182
                ],
                [
                 -130.862634,
                 55.298721
                ],
                [
                 -130.928357,
                 55.337059
                ],
                [
                 -131.158389,
                 55.200136
                ],
                [
                 -131.284358,
                 55.287767
                ],
                [
                 -131.426759,
                 55.238474
                ],
                [
                 -131.843006,
                 55.457552
                ],
                [
                 -131.700606,
                 55.698537
                ],
                [
                 -131.963499,
                 55.616383
                ],
                [
                 -131.974453,
                 55.49589
                ],
                [
                 -132.182576,
                 55.588998
                ],
                [
                 -132.226392,
                 55.704014
                ],
                [
                 -132.083991,
                 55.829984
                ],
                [
                 -132.127807,
                 55.955953
                ],
                [
                 -132.324977,
                 55.851892
                ],
                [
                 -132.522147,
                 56.076446
                ],
                [
                 -132.642639,
                 56.032631
                ],
                [
                 -132.719317,
                 56.218847
                ],
                [
                 -132.527624,
                 56.339339
                ],
                [
                 -132.341408,
                 56.339339
                ],
                [
                 -132.396177,
                 56.487217
                ],
                [
                 -132.297592,
                 56.67891
                ],
                [
                 -132.450946,
                 56.673433
                ],
                [
                 -132.768609,
                 56.837741
                ],
                [
                 -132.993164,
                 57.034911
                ],
                [
                 -133.51895,
                 57.177311
                ],
                [
                 -133.507996,
                 57.577128
                ],
                [
                 -133.677781,
                 57.62642
                ],
                [
                 -133.639442,
                 57.790728
                ],
                [
                 -133.814705,
                 57.834544
                ],
                [
                 -134.072121,
                 58.053622
                ],
                [
                 -134.143321,
                 58.168637
                ],
                [
                 -134.586953,
                 58.206976
                ],
                [
                 -135.074401,
                 58.502731
                ],
                [
                 -135.282525,
                 59.192825
                ],
                [
                 -135.38111,
                 59.033994
                ],
                [
                 -135.337294,
                 58.891593
                ],
                [
                 -135.140124,
                 58.617746
                ],
                [
                 -135.189417,
                 58.573931
                ],
                [
                 -135.05797,
                 58.349376
                ],
                [
                 -135.085355,
                 58.201499
                ],
                [
                 -135.277048,
                 58.234361
                ],
                [
                 -135.430402,
                 58.398669
                ],
                [
                 -135.633049,
                 58.426053
                ],
                [
                 -135.91785,
                 58.382238
                ],
                [
                 -135.912373,
                 58.617746
                ],
                [
                 -136.087635,
                 58.814916
                ],
                [
                 -136.246466,
                 58.75467
                ],
                [
                 -136.876314,
                 58.962794
                ],
                [
                 -136.931084,
                 58.902547
                ],
                [
                 -136.586036,
                 58.836824
                ],
                [
                 -136.317666,
                 58.672516
                ],
                [
                 -136.213604,
                 58.667039
                ],
                [
                 -136.180743,
                 58.535592
                ],
                [
                 -136.043819,
                 58.382238
                ],
                [
                 -136.388867,
                 58.294607
                ],
                [
                 -136.591513,
                 58.349376
                ],
                [
                 -136.59699,
                 58.212453
                ],
                [
                 -136.859883,
                 58.316515
                ],
                [
                 -136.947514,
                 58.393192
                ],
                [
                 -137.111823,
                 58.393192
                ],
                [
                 -137.566409,
                 58.590362
                ],
                [
                 -137.900502,
                 58.765624
                ],
                [
                 -137.933364,
                 58.869686
                ],
                [
                 -138.11958,
                 59.02304
                ],
                [
                 -138.634412,
                 59.132579
                ],
                [
                 -138.919213,
                 59.247595
                ],
                [
                 -139.417615,
                 59.379041
                ],
                [
                 -139.746231,
                 59.505011
                ],
                [
                 -139.718846,
                 59.641934
                ],
                [
                 -139.625738,
                 59.598119
                ],
                [
                 -139.5162,
                 59.68575
                ],
                [
                 -139.625738,
                 59.88292
                ],
                [
                 -139.488815,
                 59.992458
                ],
                [
                 -139.554538,
                 60.041751
                ],
                [
                 -139.801,
                 59.833627
                ],
                [
                 -140.315833,
                 59.696704
                ],
                [
                 -140.92925,
                 59.745996
                ],
                [
                 -141.444083,
                 59.871966
                ],
                [
                 -141.46599,
                 59.970551
                ],
                [
                 -141.706976,
                 59.948643
                ],
                [
                 -141.964392,
                 60.019843
                ],
                [
                 -142.539471,
                 60.085566
                ],
                [
                 -142.873564,
                 60.091043
                ],
                [
                 -143.623905,
                 60.036274
                ],
                [
                 -143.892275,
                 59.997935
                ],
                [
                 -144.231845,
                 60.140336
                ],
                [
                 -144.65357,
                 60.206059
                ],
                [
                 -144.785016,
                 60.29369
                ],
                [
                 -144.834309,
                 60.441568
                ],
                [
                 -145.124586,
                 60.430614
                ],
                [
                 -145.223171,
                 60.299167
                ],
                [
                 -145.738004,
                 60.474429
                ],
                [
                 -145.820158,
                 60.551106
                ],
                [
                 -146.351421,
                 60.408706
                ],
                [
                 -146.608837,
                 60.238921
                ],
                [
                 -146.718376,
                 60.397752
                ],
                [
                 -146.608837,
                 60.485383
                ],
                [
                 -146.455483,
                 60.463475
                ],
                [
                 -145.951604,
                 60.578491
                ],
                [
                 -146.017328,
                 60.666122
                ],
                [
                 -146.252836,
                 60.622307
                ],
                [
                 -146.345944,
                 60.737322
                ],
                [
                 -146.565022,
                 60.753753
                ],
                [
                 -146.784099,
                 61.044031
                ],
                [
                 -146.866253,
                 60.972831
                ],
                [
                 -147.172962,
                 60.934492
                ],
                [
                 -147.271547,
                 60.972831
                ],
                [
                 -147.375609,
                 60.879723
                ],
                [
                 -147.758995,
                 60.912584
                ],
                [
                 -147.775426,
                 60.808523
                ],
                [
                 -148.032842,
                 60.781138
                ],
                [
                 -148.153334,
                 60.819476
                ],
                [
                 -148.065703,
                 61.005692
                ],
                [
                 -148.175242,
                 61.000215
                ],
                [
                 -148.350504,
                 60.803046
                ],
                [
                 -148.109519,
                 60.737322
                ],
                [
                 -148.087611,
                 60.594922
                ],
                [
                 -147.939734,
                 60.441568
                ],
                [
                 -148.027365,
                 60.277259
                ],
                [
                 -148.219058,
                 60.332029
                ],
                [
                 -148.273827,
                 60.249875
                ],
                [
                 -148.087611,
                 60.217013
                ],
                [
                 -147.983549,
                 59.997935
                ],
                [
                 -148.251919,
                 59.95412
                ],
                [
                 -148.399797,
                 59.997935
                ],
                [
                 -148.635305,
                 59.937689
                ],
                [
                 -148.755798,
                 59.986981
                ],
                [
                 -149.067984,
                 59.981505
                ],
                [
                 -149.05703,
                 60.063659
                ],
                [
                 -149.204907,
                 60.008889
                ],
                [
                 -149.287061,
                 59.904827
                ],
                [
                 -149.418508,
                 59.997935
                ],
                [
                 -149.582816,
                 59.866489
                ],
                [
                 -149.511616,
                 59.806242
                ],
                [
                 -149.741647,
                 59.729565
                ],
                [
                 -149.949771,
                 59.718611
                ],
                [
                 -150.031925,
                 59.61455
                ],
                [
                 -150.25648,
                 59.521442
                ],
                [
                 -150.409834,
                 59.554303
                ],
                [
                 -150.579619,
                 59.444764
                ],
                [
                 -150.716543,
                 59.450241
                ],
                [
                 -151.001343,
                 59.225687
                ],
                [
                 -151.308052,
                 59.209256
                ],
                [
                 -151.406637,
                 59.280456
                ],
                [
                 -151.592853,
                 59.159963
                ],
                [
                 -151.976239,
                 59.253071
                ],
                [
                 -151.888608,
                 59.422857
                ],
                [
                 -151.636669,
                 59.483103
                ],
                [
                 -151.47236,
                 59.472149
                ],
                [
                 -151.423068,
                 59.537872
                ],
                [
                 -151.127313,
                 59.669319
                ],
                [
                 -151.116359,
                 59.778858
                ],
                [
                 -151.505222,
                 59.63098
                ],
                [
                 -151.828361,
                 59.718611
                ],
                [
                 -151.8667,
                 59.778858
                ],
                [
                 -151.702392,
                 60.030797
                ],
                [
                 -151.423068,
                 60.211536
                ],
                [
                 -151.379252,
                 60.359413
                ],
                [
                 -151.297098,
                 60.386798
                ],
                [
                 -151.264237,
                 60.545629
                ],
                [
                 -151.406637,
                 60.720892
                ],
                [
                 -151.06159,
                 60.786615
                ],
                [
                 -150.404357,
                 61.038554
                ],
                [
                 -150.245526,
                 60.939969
                ],
                [
                 -150.042879,
                 60.912584
                ],
                [
                 -149.741647,
                 61.016646
                ],
                [
                 -150.075741,
                 61.15357
                ],
                [
                 -150.207187,
                 61.257632
                ],
                [
                 -150.47008,
                 61.246678
                ],
                [
                 -150.656296,
                 61.29597
                ],
                [
                 -150.711066,
                 61.252155
                ],
                [
                 -151.023251,
                 61.180954
                ],
                [
                 -151.165652,
                 61.044031
                ],
                [
                 -151.477837,
                 61.011169
                ],
                [
                 -151.800977,
                 60.852338
                ],
                [
                 -151.833838,
                 60.748276
                ],
                [
                 -152.080301,
                 60.693507
                ],
                [
                 -152.13507,
                 60.578491
                ],
                [
                 -152.310332,
                 60.507291
                ],
                [
                 -152.392486,
                 60.304644
                ],
                [
                 -152.732057,
                 60.173197
                ],
                [
                 -152.567748,
                 60.069136
                ],
                [
                 -152.704672,
                 59.915781
                ],
                [
                 -153.022334,
                 59.888397
                ],
                [
                 -153.049719,
                 59.691227
                ],
                [
                 -153.345474,
                 59.620026
                ],
                [
                 -153.438582,
                 59.702181
                ],
                [
                 -153.586459,
                 59.548826
                ],
                [
                 -153.761721,
                 59.543349
                ],
                [
                 -153.72886,
                 59.433811
                ],
                [
                 -154.117723,
                 59.368087
                ],
                [
                 -154.1944,
                 59.066856
                ],
                [
                 -153.750768,
                 59.050425
                ],
                [
                 -153.400243,
                 58.968271
                ],
                [
                 -153.301658,
                 58.869686
                ],
                [
                 -153.444059,
                 58.710854
                ],
                [
                 -153.679567,
                 58.612269
                ],
                [
                 -153.898645,
                 58.606793
                ],
                [
                 -153.920553,
                 58.519161
                ],
                [
                 -154.062953,
                 58.4863
                ],
                [
                 -153.99723,
                 58.376761
                ],
                [
                 -154.145107,
                 58.212453
                ],
                [
                 -154.46277,
                 58.059098
                ],
                [
                 -154.643509,
                 58.059098
                ],
                [
                 -154.818771,
                 58.004329
                ],
                [
                 -154.988556,
                 58.015283
                ],
                [
                 -155.120003,
                 57.955037
                ],
                [
                 -155.081664,
                 57.872883
                ],
                [
                 -155.328126,
                 57.829067
                ],
                [
                 -155.377419,
                 57.708574
                ],
                [
                 -155.547204,
                 57.785251
                ],
                [
                 -155.73342,
                 57.549743
                ],
                [
                 -156.045606,
                 57.566174
                ],
                [
                 -156.023698,
                 57.440204
                ],
                [
                 -156.209914,
                 57.473066
                ],
                [
                 -156.34136,
                 57.418296
                ],
                [
                 -156.34136,
                 57.248511
                ],
                [
                 -156.549484,
                 56.985618
                ],
                [
                 -156.883577,
                 56.952757
                ],
                [
                 -157.157424,
                 56.832264
                ],
                [
                 -157.20124,
                 56.766541
                ],
                [
                 -157.376502,
                 56.859649
                ],
                [
                 -157.672257,
                 56.607709
                ],
                [
                 -157.754411,
                 56.67891
                ],
                [
                 -157.918719,
                 56.657002
                ],
                [
                 -157.957058,
                 56.514601
                ],
                [
                 -158.126843,
                 56.459832
                ],
                [
                 -158.32949,
                 56.48174
                ],
                [
                 -158.488321,
                 56.339339
                ],
                [
                 -158.208997,
                 56.295524
                ],
                [
                 -158.510229,
                 55.977861
                ],
                [
                 -159.375585,
                 55.873799
                ],
                [
                 -159.616571,
                 55.594475
                ],
                [
                 -159.676817,
                 55.654722
                ],
                [
                 -159.643955,
                 55.829984
                ],
                [
                 -159.813741,
                 55.857368
                ],
                [
                 -160.027341,
                 55.791645
                ],
                [
                 -160.060203,
                 55.720445
                ],
                [
                 -160.394296,
                 55.605429
                ],
                [
                 -160.536697,
                 55.473983
                ],
                [
                 -160.580512,
                 55.567091
                ],
                [
                 -160.668143,
                 55.457552
                ],
                [
                 -160.865313,
                 55.528752
                ],
                [
                 -161.232268,
                 55.358967
                ],
                [
                 -161.506115,
                 55.364444
                ],
                [
                 -161.467776,
                 55.49589
                ],
                [
                 -161.588269,
                 55.62186
                ],
                [
                 -161.697808,
                 55.517798
                ],
                [
                 -161.686854,
                 55.408259
                ],
                [
                 -162.053809,
                 55.074166
                ],
                [
                 -162.179779,
                 55.15632
                ],
                [
                 -162.218117,
                 55.03035
                ],
                [
                 -162.470057,
                 55.052258
                ],
                [
                 -162.508395,
                 55.249428
                ],
                [
                 -162.661749,
                 55.293244
                ],
                [
                 -162.716519,
                 55.222043
                ],
                [
                 -162.579595,
                 55.134412
                ],
                [
                 -162.645319,
                 54.997489
                ],
                [
                 -162.847965,
                 54.926289
                ],
                [
                 -163.00132,
                 55.079643
                ],
                [
                 -163.187536,
                 55.090597
                ],
                [
                 -163.220397,
                 55.03035
                ],
                [
                 -163.034181,
                 54.942719
                ],
                [
                 -163.373752,
                 54.800319
                ],
                [
                 -163.14372,
                 54.76198
                ],
                [
                 -163.138243,
                 54.696257
                ],
                [
                 -163.329936,
                 54.74555
                ],
                [
                 -163.587352,
                 54.614103
                ],
                [
                 -164.085754,
                 54.61958
                ],
                [
                 -164.332216,
                 54.531949
                ],
                [
                 -164.354124,
                 54.466226
                ],
                [
                 -164.638925,
                 54.389548
                ],
                [
                 -164.847049,
                 54.416933
                ],
                [
                 -164.918249,
                 54.603149
                ],
                [
                 -164.710125,
                 54.663395
                ],
                [
                 -164.551294,
                 54.88795
                ],
                [
                 -164.34317,
                 54.893427
                ],
                [
                 -163.894061,
                 55.041304
                ],
                [
                 -163.532583,
                 55.046781
                ],
                [
                 -163.39566,
                 54.904381
                ],
                [
                 -163.291598,
                 55.008443
                ],
                [
                 -163.313505,
                 55.128935
                ],
                [
                 -163.105382,
                 55.183705
                ],
                [
                 -162.880827,
                 55.183705
                ],
                [
                 -162.579595,
                 55.446598
                ],
                [
                 -162.245502,
                 55.682106
                ],
                [
                 -161.807347,
                 55.89023
                ],
                [
                 -161.292514,
                 55.983338
                ],
                [
                 -161.078914,
                 55.939523
                ],
                [
                 -160.87079,
                 55.999769
                ],
                [
                 -160.816021,
                 55.912138
                ],
                [
                 -160.931036,
                 55.813553
                ],
                [
                 -160.805067,
                 55.736876
                ],
                [
                 -160.766728,
                 55.857368
                ],
                [
                 -160.509312,
                 55.868322
                ],
                [
                 -160.438112,
                 55.791645
                ],
                [
                 -160.27928,
                 55.76426
                ],
                [
                 -160.273803,
                 55.857368
                ],
                [
                 -160.536697,
                 55.939523
                ],
                [
                 -160.558604,
                 55.994292
                ],
                [
                 -160.383342,
                 56.251708
                ],
                [
                 -160.147834,
                 56.399586
                ],
                [
                 -159.830171,
                 56.541986
                ],
                [
                 -159.326293,
                 56.667956
                ],
                [
                 -158.959338,
                 56.848695
                ],
                [
                 -158.784076,
                 56.782971
                ],
                [
                 -158.641675,
                 56.810356
                ],
                [
                 -158.701922,
                 56.925372
                ],
                [
                 -158.658106,
                 57.034911
                ],
                [
                 -158.378782,
                 57.264942
                ],
                [
                 -157.995396,
                 57.41282
                ],
                [
                 -157.688688,
                 57.609989
                ],
                [
                 -157.705118,
                 57.719528
                ],
                [
                 -157.458656,
                 58.497254
                ],
                [
                 -157.07527,
                 58.705377
                ],
                [
                 -157.119086,
                 58.869686
                ],
                [
                 -158.039212,
                 58.634177
                ],
                [
                 -158.32949,
                 58.661562
                ],
                [
                 -158.40069,
                 58.760147
                ],
                [
                 -158.564998,
                 58.803962
                ],
                [
                 -158.619768,
                 58.913501
                ],
                [
                 -158.767645,
                 58.864209
                ],
                [
                 -158.860753,
                 58.694424
                ],
                [
                 -158.701922,
                 58.480823
                ],
                [
                 -158.893615,
                 58.387715
                ],
                [
                 -159.0634,
                 58.420577
                ],
                [
                 -159.392016,
                 58.760147
                ],
                [
                 -159.616571,
                 58.929932
                ],
                [
                 -159.731586,
                 58.929932
                ],
                [
                 -159.808264,
                 58.803962
                ],
                [
                 -159.906848,
                 58.782055
                ],
                [
                 -160.054726,
                 58.886116
                ],
                [
                 -160.235465,
                 58.902547
                ],
                [
                 -160.317619,
                 59.072332
                ],
                [
                 -160.854359,
                 58.88064
                ],
                [
                 -161.33633,
                 58.743716
                ],
                [
                 -161.374669,
                 58.667039
                ],
                [
                 -161.752577,
                 58.552023
                ],
                [
                 -161.938793,
                 58.656085
                ],
                [
                 -161.769008,
                 58.776578
                ],
                [
                 -161.829255,
                 59.061379
                ],
                [
                 -161.955224,
                 59.36261
                ],
                [
                 -161.703285,
                 59.48858
                ],
                [
                 -161.911409,
                 59.740519
                ],
                [
                 -162.092148,
                 59.88292
                ],
                [
                 -162.234548,
                 60.091043
                ],
                [
                 -162.448149,
                 60.178674
                ],
                [
                 -162.502918,
                 59.997935
                ],
                [
                 -162.760334,
                 59.959597
                ],
                [
                 -163.171105,
                 59.844581
                ],
                [
                 -163.66403,
                 59.795289
                ],
                [
                 -163.9324,
                 59.806242
                ],
                [
                 -164.162431,
                 59.866489
                ],
                [
                 -164.189816,
                 60.02532
                ],
                [
                 -164.386986,
                 60.074613
                ],
                [
                 -164.699171,
                 60.29369
                ],
                [
                 -164.962064,
                 60.337506
                ],
                [
                 -165.268773,
                 60.578491
                ],
                [
                 -165.060649,
                 60.68803
                ],
                [
                 -165.016834,
                 60.890677
                ],
                [
                 -165.175665,
                 60.846861
                ],
                [
                 -165.197573,
                 60.972831
                ],
                [
                 -165.120896,
                 61.076893
                ],
                [
                 -165.323543,
                 61.170001
                ],
                [
                 -165.34545,
                 61.071416
                ],
                [
                 -165.591913,
                 61.109754
                ],
                [
                 -165.624774,
                 61.279539
                ],
                [
                 -165.816467,
                 61.301447
                ],
                [
                 -165.920529,
                 61.416463
                ],
                [
                 -165.915052,
                 61.558863
                ],
                [
                 -166.106745,
                 61.49314
                ],
                [
                 -166.139607,
                 61.630064
                ],
                [
                 -165.904098,
                 61.662925
                ],
                [
                 -166.095791,
                 61.81628
                ],
                [
                 -165.756221,
                 61.827233
                ],
                [
                 -165.756221,
                 62.013449
                ],
                [
                 -165.674067,
                 62.139419
                ],
                [
                 -165.044219,
                 62.539236
                ],
                [
                 -164.912772,
                 62.659728
                ],
                [
                 -164.819664,
                 62.637821
                ],
                [
                 -164.874433,
                 62.807606
                ],
                [
                 -164.633448,
                 63.097884
                ],
                [
                 -164.425324,
                 63.212899
                ],
                [
                 -164.036462,
                 63.262192
                ],
                [
                 -163.73523,
                 63.212899
                ],
                [
                 -163.313505,
                 63.037637
                ],
                [
                 -163.039658,
                 63.059545
                ],
                [
                 -162.661749,
                 63.22933
                ],
                [
                 -162.272887,
                 63.486746
                ],
                [
                 -162.075717,
                 63.514131
                ],
                [
                 -162.026424,
                 63.448408
                ],
                [
                 -161.555408,
                 63.448408
                ],
                [
                 -161.13916,
                 63.503177
                ],
                [
                 -160.766728,
                 63.771547
                ],
                [
                 -160.766728,
                 63.837271
                ],
                [
                 -160.952944,
                 64.08921
                ],
                [
                 -160.974852,
                 64.237087
                ],
                [
                 -161.26513,
                 64.395918
                ],
                [
                 -161.374669,
                 64.532842
                ],
                [
                 -161.078914,
                 64.494503
                ],
                [
                 -160.79959,
                 64.609519
                ],
                [
                 -160.783159,
                 64.719058
                ],
                [
                 -161.144637,
                 64.921705
                ],
                [
                 -161.413007,
                 64.762873
                ],
                [
                 -161.664946,
                 64.790258
                ],
                [
                 -161.900455,
                 64.702627
                ],
                [
                 -162.168825,
                 64.680719
                ],
                [
                 -162.234548,
                 64.620473
                ],
                [
                 -162.541257,
                 64.532842
                ],
                [
                 -162.634365,
                 64.384965
                ],
                [
                 -162.787719,
                 64.324718
                ],
                [
                 -162.858919,
                 64.49998
                ],
                [
                 -163.045135,
                 64.538319
                ],
                [
                 -163.176582,
                 64.401395
                ],
                [
                 -163.253259,
                 64.467119
                ],
                [
                 -163.598306,
                 64.565704
                ],
                [
                 -164.304832,
                 64.560227
                ],
                [
                 -164.80871,
                 64.450688
                ],
                [
                 -165.000403,
                 64.434257
                ],
                [
                 -165.411174,
                 64.49998
                ],
                [
                 -166.188899,
                 64.576658
                ],
                [
                 -166.391546,
                 64.636904
                ],
                [
                 -166.484654,
                 64.735489
                ],
                [
                 -166.413454,
                 64.872412
                ],
                [
                 -166.692778,
                 64.987428
                ],
                [
                 -166.638008,
                 65.113398
                ],
                [
                 -166.462746,
                 65.179121
                ],
                [
                 -166.517516,
                 65.337952
                ],
                [
                 -166.796839,
                 65.337952
                ],
                [
                 -167.026871,
                 65.381768
                ],
                [
                 -167.47598,
                 65.414629
                ],
                [
                 -167.711489,
                 65.496784
                ],
                [
                 -168.072967,
                 65.578938
                ],
                [
                 -168.105828,
                 65.682999
                ],
                [
                 -167.541703,
                 65.819923
                ],
                [
                 -166.829701,
                 66.049954
                ],
                [
                 -166.3313,
                 66.186878
                ],
                [
                 -166.046499,
                 66.110201
                ],
                [
                 -165.756221,
                 66.09377
                ],
                [
                 -165.690498,
                 66.203309
                ],
                [
                 -165.86576,
                 66.21974
                ],
                [
                 -165.88219,
                 66.312848
                ],
                [
                 -165.186619,
                 66.466202
                ],
                [
                 -164.403417,
                 66.581218
                ],
                [
                 -163.981692,
                 66.592172
                ],
                [
                 -163.751661,
                 66.553833
                ],
                [
                 -163.872153,
                 66.389525
                ],
                [
                 -163.828338,
                 66.274509
                ],
                [
                 -163.915969,
                 66.192355
                ],
                [
                 -163.768091,
                 66.060908
                ],
                [
                 -163.494244,
                 66.082816
                ],
                [
                 -163.149197,
                 66.060908
                ],
                [
                 -162.749381,
                 66.088293
                ],
                [
                 -162.634365,
                 66.039001
                ],
                [
                 -162.371472,
                 66.028047
                ],
                [
                 -162.14144,
                 66.077339
                ],
                [
                 -161.840208,
                 66.02257
                ],
                [
                 -161.549931,
                 66.241647
                ],
                [
                 -161.341807,
                 66.252601
                ],
                [
                 -161.199406,
                 66.208786
                ],
                [
                 -161.128206,
                 66.334755
                ],
                [
                 -161.528023,
                 66.395002
                ],
                [
                 -161.911409,
                 66.345709
                ],
                [
                 -161.87307,
                 66.510017
                ],
                [
                 -162.174302,
                 66.68528
                ],
                [
                 -162.502918,
                 66.740049
                ],
                [
                 -162.601503,
                 66.89888
                ],
                [
                 -162.344087,
                 66.937219
                ],
                [
                 -162.015471,
                 66.778388
                ],
                [
                 -162.075717,
                 66.652418
                ],
                [
                 -161.916886,
                 66.553833
                ],
                [
                 -161.571838,
                 66.438817
                ],
                [
                 -161.489684,
                 66.55931
                ],
                [
                 -161.884024,
                 66.718141
                ],
                [
                 -161.714239,
                 67.002942
                ],
                [
                 -161.851162,
                 67.052235
                ],
                [
                 -162.240025,
                 66.991988
                ],
                [
                 -162.639842,
                 67.008419
                ],
                [
                 -162.700088,
                 67.057712
                ],
                [
                 -162.902735,
                 67.008419
                ],
                [
                 -163.740707,
                 67.128912
                ],
                [
                 -163.757138,
                 67.254881
                ],
                [
                 -164.009077,
                 67.534205
                ],
                [
                 -164.211724,
                 67.638267
                ],
                [
                 -164.534863,
                 67.725898
                ],
                [
                 -165.192096,
                 67.966884
                ],
                [
                 -165.493328,
                 68.059992
                ],
                [
                 -165.794559,
                 68.081899
                ],
                [
                 -166.243668,
                 68.246208
                ],
                [
                 -166.681824,
                 68.339316
                ],
                [
                 -166.703731,
                 68.372177
                ],
                [
                 -166.375115,
                 68.42147
                ],
                [
                 -166.227238,
                 68.574824
                ],
                [
                 -166.216284,
                 68.881533
                ],
                [
                 -165.329019,
                 68.859625
                ],
                [
                 -164.255539,
                 68.930825
                ],
                [
                 -163.976215,
                 68.985595
                ],
                [
                 -163.532583,
                 69.138949
                ],
                [
                 -163.110859,
                 69.374457
                ],
                [
                 -163.023228,
                 69.609966
                ],
                [
                 -162.842489,
                 69.812613
                ],
                [
                 -162.470057,
                 69.982398
                ],
                [
                 -162.311225,
                 70.108367
                ],
                [
                 -161.851162,
                 70.311014
                ],
                [
                 -161.779962,
                 70.256245
                ],
                [
                 -161.396576,
                 70.239814
                ],
                [
                 -160.837928,
                 70.343876
                ],
                [
                 -160.487404,
                 70.453415
                ],
                [
                 -159.649432,
                 70.792985
                ],
                [
                 -159.33177,
                 70.809416
                ],
                [
                 -159.298908,
                 70.760123
                ],
                [
                 -158.975769,
                 70.798462
                ],
                [
                 -158.658106,
                 70.787508
                ],
                [
                 -158.033735,
                 70.831323
                ],
                [
                 -157.420318,
                 70.979201
                ],
                [
                 -156.812377,
                 71.285909
                ],
                [
                 -156.565915,
                 71.351633
                ],
                [
                 -156.522099,
                 71.296863
                ],
                [
                 -155.585543,
                 71.170894
                ],
                [
                 -155.508865,
                 71.083263
                ],
                [
                 -155.832005,
                 70.968247
                ],
                [
                 -155.979882,
                 70.96277
                ],
                [
                 -155.974405,
                 70.809416
                ],
                [
                 -155.503388,
                 70.858708
                ],
                [
                 -155.476004,
                 70.940862
                ],
                [
                 -155.262403,
                 71.017539
                ],
                [
                 -155.191203,
                 70.973724
                ],
                [
                 -155.032372,
                 71.148986
                ],
                [
                 -154.566832,
                 70.990155
                ],
                [
                 -154.643509,
                 70.869662
                ],
                [
                 -154.353231,
                 70.8368
                ],
                [
                 -154.183446,
                 70.7656
                ],
                [
                 -153.931507,
                 70.880616
                ],
                [
                 -153.487874,
                 70.886093
                ],
                [
                 -153.235935,
                 70.924431
                ],
                [
                 -152.589656,
                 70.886093
                ],
                [
                 -152.26104,
                 70.842277
                ],
                [
                 -152.419871,
                 70.606769
                ],
                [
                 -151.817408,
                 70.546523
                ],
                [
                 -151.773592,
                 70.486276
                ],
                [
                 -151.187559,
                 70.382214
                ],
                [
                 -151.182082,
                 70.431507
                ],
                [
                 -150.760358,
                 70.49723
                ],
                [
                 -150.355064,
                 70.491753
                ],
                [
                 -150.349588,
                 70.436984
                ],
                [
                 -150.114079,
                 70.431507
                ],
                [
                 -149.867617,
                 70.508184
                ],
                [
                 -149.462323,
                 70.519138
                ],
                [
                 -149.177522,
                 70.486276
                ],
                [
                 -148.78866,
                 70.404122
                ],
                [
                 -148.607921,
                 70.420553
                ],
                [
                 -148.350504,
                 70.305537
                ],
                [
                 -148.202627,
                 70.349353
                ],
                [
                 -147.961642,
                 70.316491
                ],
                [
                 -147.786379,
                 70.245291
                ]
               ]
              ],
              [
               [
                [
                 -152.94018,
                 58.026237
                ],
                [
                 -152.945657,
                 57.982421
                ],
                [
                 -153.290705,
                 58.048145
                ],
                [
                 -153.044242,
                 58.305561
                ],
                [
                 -152.819688,
                 58.327469
                ],
                [
                 -152.666333,
                 58.562977
                ],
                [
                 -152.496548,
                 58.354853
                ],
                [
                 -152.354148,
                 58.426053
                ],
                [
                 -152.080301,
                 58.311038
                ],
                [
                 -152.080301,
                 58.152206
                ],
                [
                 -152.480117,
                 58.130299
                ],
                [
                 -152.655379,
                 58.059098
                ],
                [
                 -152.94018,
                 58.026237
                ]
               ]
              ],
              [
               [
                [
                 -153.958891,
                 57.538789
                ],
                [
                 -153.67409,
                 57.670236
                ],
                [
                 -153.931507,
                 57.69762
                ],
                [
                 -153.936983,
                 57.812636
                ],
                [
                 -153.723383,
                 57.889313
                ],
                [
                 -153.570028,
                 57.834544
                ],
                [
                 -153.548121,
                 57.719528
                ],
                [
                 -153.46049,
                 57.796205
                ],
                [
                 -153.455013,
                 57.96599
                ],
                [
                 -153.268797,
                 57.889313
                ],
                [
                 -153.235935,
                 57.998852
                ],
                [
                 -153.071627,
                 57.933129
                ],
                [
                 -152.874457,
                 57.933129
                ],
                [
                 -152.721103,
                 57.993375
                ],
                [
                 -152.469163,
                 57.889313
                ],
                [
                 -152.469163,
                 57.599035
                ],
                [
                 -152.151501,
                 57.620943
                ],
                [
                 -152.359625,
                 57.42925
                ],
                [
                 -152.74301,
                 57.505928
                ],
                [
                 -152.60061,
                 57.379958
                ],
                [
                 -152.710149,
                 57.275896
                ],
                [
                 -152.907319,
                 57.325188
                ],
                [
                 -152.912796,
                 57.128019
                ],
                [
                 -153.214027,
                 57.073249
                ],
                [
                 -153.312612,
                 56.991095
                ],
                [
                 -153.498828,
                 57.067772
                ],
                [
                 -153.695998,
                 56.859649
                ],
                [
                 -153.849352,
                 56.837741
                ],
                [
                 -154.013661,
                 56.744633
                ],
                [
                 -154.073907,
                 56.969187
                ],
                [
                 -154.303938,
                 56.848695
                ],
                [
                 -154.314892,
                 56.919895
                ],
                [
                 -154.523016,
                 56.991095
                ],
                [
                 -154.539447,
                 57.193742
                ],
                [
                 -154.742094,
                 57.275896
                ],
                [
                 -154.627078,
                 57.511404
                ],
                [
                 -154.227261,
                 57.659282
                ],
                [
                 -153.980799,
                 57.648328
                ],
                [
                 -153.958891,
                 57.538789
                ]
               ]
              ],
              [
               [
                [
                 -154.53397,
                 56.602232
                ],
                [
                 -154.742094,
                 56.399586
                ],
                [
                 -154.807817,
                 56.432447
                ],
                [
                 -154.53397,
                 56.602232
                ]
               ]
              ],
              [
               [
                [
                 -155.634835,
                 55.923092
                ],
                [
                 -155.476004,
                 55.912138
                ],
                [
                 -155.530773,
                 55.704014
                ],
                [
                 -155.793666,
                 55.731399
                ],
                [
                 -155.837482,
                 55.802599
                ],
                [
                 -155.634835,
                 55.923092
                ]
               ]
              ],
              [
               [
                [
                 -159.890418,
                 55.28229
                ],
                [
                 -159.950664,
                 55.068689
                ],
                [
                 -160.257373,
                 54.893427
                ],
                [
                 -160.109495,
                 55.161797
                ],
                [
                 -160.005433,
                 55.134412
                ],
                [
                 -159.890418,
                 55.28229
                ]
               ]
              ],
              [
               [
                [
                 -160.520266,
                 55.358967
                ],
                [
                 -160.33405,
                 55.358967
                ],
                [
                 -160.339527,
                 55.249428
                ],
                [
                 -160.525743,
                 55.128935
                ],
                [
                 -160.690051,
                 55.211089
                ],
                [
                 -160.794113,
                 55.134412
                ],
                [
                 -160.854359,
                 55.320628
                ],
                [
                 -160.79959,
                 55.380875
                ],
                [
                 -160.520266,
                 55.358967
                ]
               ]
              ],
              [
               [
                [
                 -162.256456,
                 54.981058
                ],
                [
                 -162.234548,
                 54.893427
                ],
                [
                 -162.349564,
                 54.838658
                ],
                [
                 -162.437195,
                 54.931766
                ],
                [
                 -162.256456,
                 54.981058
                ]
               ]
              ],
              [
               [
                [
                 -162.415287,
                 63.634624
                ],
                [
                 -162.563165,
                 63.536039
                ],
                [
                 -162.612457,
                 63.62367
                ],
                [
                 -162.415287,
                 63.634624
                ]
               ]
              ],
              [
               [
                [
                 -162.80415,
                 54.488133
                ],
                [
                 -162.590549,
                 54.449795
                ],
                [
                 -162.612457,
                 54.367641
                ],
                [
                 -162.782242,
                 54.373118
                ],
                [
                 -162.80415,
                 54.488133
                ]
               ]
              ],
              [
               [
                [
                 -165.548097,
                 54.29644
                ],
                [
                 -165.476897,
                 54.181425
                ],
                [
                 -165.630251,
                 54.132132
                ],
                [
                 -165.685021,
                 54.252625
                ],
                [
                 -165.548097,
                 54.29644
                ]
               ]
              ],
              [
               [
                [
                 -165.73979,
                 54.15404
                ],
                [
                 -166.046499,
                 54.044501
                ],
                [
                 -166.112222,
                 54.121178
                ],
                [
                 -165.980775,
                 54.219763
                ],
                [
                 -165.73979,
                 54.15404
                ]
               ]
              ],
              [
               [
                [
                 -166.364161,
                 60.359413
                ],
                [
                 -166.13413,
                 60.397752
                ],
                [
                 -166.084837,
                 60.326552
                ],
                [
                 -165.88219,
                 60.342983
                ],
                [
                 -165.685021,
                 60.277259
                ],
                [
                 -165.646682,
                 59.992458
                ],
                [
                 -165.750744,
                 59.89935
                ],
                [
                 -166.00816,
                 59.844581
                ],
                [
                 -166.062929,
                 59.745996
                ],
                [
                 -166.440838,
                 59.855535
                ],
                [
                 -166.6161,
                 59.850058
                ],
                [
                 -166.994009,
                 59.992458
                ],
                [
                 -167.125456,
                 59.992458
                ],
                [
                 -167.344534,
                 60.074613
                ],
                [
                 -167.421211,
                 60.206059
                ],
                [
                 -167.311672,
                 60.238921
                ],
                [
                 -166.93924,
                 60.206059
                ],
                [
                 -166.763978,
                 60.310121
                ],
                [
                 -166.577762,
                 60.321075
                ],
                [
                 -166.495608,
                 60.392275
                ],
                [
                 -166.364161,
                 60.359413
                ]
               ]
              ],
              [
               [
                [
                 -166.375115,
                 54.01164
                ],
                [
                 -166.210807,
                 53.934962
                ],
                [
                 -166.5449,
                 53.748746
                ],
                [
                 -166.539423,
                 53.715885
                ],
                [
                 -166.117699,
                 53.852808
                ],
                [
                 -166.112222,
                 53.776131
                ],
                [
                 -166.282007,
                 53.683023
                ],
                [
                 -166.555854,
                 53.622777
                ],
                [
                 -166.583239,
                 53.529669
                ],
                [
                 -166.878994,
                 53.431084
                ],
                [
                 -167.13641,
                 53.425607
                ],
                [
                 -167.306195,
                 53.332499
                ],
                [
                 -167.623857,
                 53.250345
                ],
                [
                 -167.793643,
                 53.337976
                ],
                [
                 -167.459549,
                 53.442038
                ],
                [
                 -167.355487,
                 53.425607
                ],
                [
                 -167.103548,
                 53.513238
                ],
                [
                 -167.163794,
                 53.611823
                ],
                [
                 -167.021394,
                 53.715885
                ],
                [
                 -166.807793,
                 53.666592
                ],
                [
                 -166.785886,
                 53.732316
                ],
                [
                 -167.015917,
                 53.754223
                ],
                [
                 -167.141887,
                 53.825424
                ],
                [
                 -167.032348,
                 53.945916
                ],
                [
                 -166.643485,
                 54.017116
                ],
                [
                 -166.561331,
                 53.880193
                ],
                [
                 -166.375115,
                 54.01164
                ]
               ]
              ],
              [
               [
                [
                 -168.790446,
                 53.157237
                ],
                [
                 -168.40706,
                 53.34893
                ],
                [
                 -168.385152,
                 53.431084
                ],
                [
                 -168.237275,
                 53.524192
                ],
                [
                 -168.007243,
                 53.568007
                ],
                [
                 -167.886751,
                 53.518715
                ],
                [
                 -167.842935,
                 53.387268
                ],
                [
                 -168.270136,
                 53.244868
                ],
                [
                 -168.500168,
                 53.036744
                ],
                [
                 -168.686384,
                 52.965544
                ],
                [
                 -168.790446,
                 53.157237
                ]
               ]
              ],
              [
               [
                [
                 -169.74891,
                 52.894344
                ],
                [
                 -169.705095,
                 52.795759
                ],
                [
                 -169.962511,
                 52.790282
                ],
                [
                 -169.989896,
                 52.856005
                ],
                [
                 -169.74891,
                 52.894344
                ]
               ]
              ],
              [
               [
                [
                 -170.148727,
                 57.221127
                ],
                [
                 -170.28565,
                 57.128019
                ],
                [
                 -170.313035,
                 57.221127
                ],
                [
                 -170.148727,
                 57.221127
                ]
               ]
              ],
              [
               [
                [
                 -170.669036,
                 52.697174
                ],
                [
                 -170.603313,
                 52.604066
                ],
                [
                 -170.789529,
                 52.538343
                ],
                [
                 -170.816914,
                 52.636928
                ],
                [
                 -170.669036,
                 52.697174
                ]
               ]
              ],
              [
               [
                [
                 -171.742517,
                 63.716778
                ],
                [
                 -170.94836,
                 63.5689
                ],
                [
                 -170.488297,
                 63.69487
                ],
                [
                 -170.280174,
                 63.683916
                ],
                [
                 -170.093958,
                 63.612716
                ],
                [
                 -170.044665,
                 63.492223
                ],
                [
                 -169.644848,
                 63.4265
                ],
                [
                 -169.518879,
                 63.366254
                ],
                [
                 -168.99857,
                 63.338869
                ],
                [
                 -168.686384,
                 63.295053
                ],
                [
                 -168.856169,
                 63.147176
                ],
                [
                 -169.108108,
                 63.180038
                ],
                [
                 -169.376478,
                 63.152653
                ],
                [
                 -169.513402,
                 63.08693
                ],
                [
                 -169.639372,
                 62.939052
                ],
                [
                 -169.831064,
                 63.075976
                ],
                [
                 -170.055619,
                 63.169084
                ],
                [
                 -170.263743,
                 63.180038
                ],
                [
                 -170.362328,
                 63.2841
                ],
                [
                 -170.866206,
                 63.415546
                ],
                [
                 -171.101715,
                 63.421023
                ],
                [
                 -171.463193,
                 63.306007
                ],
                [
                 -171.73704,
                 63.366254
                ],
                [
                 -171.852055,
                 63.486746
                ],
                [
                 -171.742517,
                 63.716778
                ]
               ]
              ],
              [
               [
                [
                 -172.432611,
                 52.390465
                ],
                [
                 -172.41618,
                 52.275449
                ],
                [
                 -172.607873,
                 52.253542
                ],
                [
                 -172.569535,
                 52.352127
                ],
                [
                 -172.432611,
                 52.390465
                ]
               ]
              ],
              [
               [
                [
                 -173.626584,
                 52.14948
                ],
                [
                 -173.495138,
                 52.105664
                ],
                [
                 -173.122706,
                 52.111141
                ],
                [
                 -173.106275,
                 52.07828
                ],
                [
                 -173.549907,
                 52.028987
                ],
                [
                 -173.626584,
                 52.14948
                ]
               ]
              ],
              [
               [
                [
                 -174.322156,
                 52.280926
                ],
                [
                 -174.327632,
                 52.379511
                ],
                [
                 -174.185232,
                 52.41785
                ],
                [
                 -173.982585,
                 52.319265
                ],
                [
                 -174.059262,
                 52.226157
                ],
                [
                 -174.179755,
                 52.231634
                ],
                [
                 -174.141417,
                 52.127572
                ],
                [
                 -174.333109,
                 52.116618
                ],
                [
                 -174.738403,
                 52.007079
                ],
                [
                 -174.968435,
                 52.039941
                ],
                [
                 -174.902711,
                 52.116618
                ],
                [
                 -174.656249,
                 52.105664
                ],
                [
                 -174.322156,
                 52.280926
                ]
               ]
              ],
              [
               [
                [
                 -176.469116,
                 51.853725
                ],
                [
                 -176.288377,
                 51.870156
                ],
                [
                 -176.288377,
                 51.744186
                ],
                [
                 -176.518409,
                 51.760617
                ],
                [
                 -176.80321,
                 51.61274
                ],
                [
                 -176.912748,
                 51.80991
                ],
                [
                 -176.792256,
                 51.815386
                ],
                [
                 -176.775825,
                 51.963264
                ],
                [
                 -176.627947,
                 51.968741
                ],
                [
                 -176.627947,
                 51.859202
                ],
                [
                 -176.469116,
                 51.853725
                ]
               ]
              ],
              [
               [
                [
                 -177.153734,
                 51.946833
                ],
                [
                 -177.044195,
                 51.897541
                ],
                [
                 -177.120872,
                 51.727755
                ],
                [
                 -177.274226,
                 51.678463
                ],
                [
                 -177.279703,
                 51.782525
                ],
                [
                 -177.153734,
                 51.946833
                ]
               ]
              ],
              [
               [
                [
                 -178.123152,
                 51.919448
                ],
                [
                 -177.953367,
                 51.913971
                ],
                [
                 -177.800013,
                 51.793479
                ],
                [
                 -177.964321,
                 51.651078
                ],
                [
                 -178.123152,
                 51.919448
                ]
               ]
              ],
              [
               [
                [
                 -187.107557,
                 52.992929
                ],
                [
                 -187.293773,
                 52.927205
                ],
                [
                 -187.304726,
                 52.823143
                ],
                [
                 -188.90491,
                 52.762897
                ],
                [
                 -188.642017,
                 52.927205
                ],
                [
                 -188.642017,
                 53.003883
                ],
                [
                 -187.107557,
                 52.992929
                ]
               ]
              ]
             ],
             "type": "MultiPolygon"
            },
            "id": "02",
            "properties": {
             "density": 1.264,
             "name": "Alaska"
            },
            "type": "Feature"
           },
           {
            "geometry": {
             "coordinates": [
              [
               [
                -109.042503,
                37.000263
               ],
               [
                -109.04798,
                31.331629
               ],
               [
                -111.074448,
                31.331629
               ],
               [
                -112.246513,
                31.704061
               ],
               [
                -114.815198,
                32.492741
               ],
               [
                -114.72209,
                32.717295
               ],
               [
                -114.524921,
                32.755634
               ],
               [
                -114.470151,
                32.843265
               ],
               [
                -114.524921,
                33.029481
               ],
               [
                -114.661844,
                33.034958
               ],
               [
                -114.727567,
                33.40739
               ],
               [
                -114.524921,
                33.54979
               ],
               [
                -114.497536,
                33.697668
               ],
               [
                -114.535874,
                33.933176
               ],
               [
                -114.415382,
                34.108438
               ],
               [
                -114.256551,
                34.174162
               ],
               [
                -114.136058,
                34.305608
               ],
               [
                -114.333228,
                34.448009
               ],
               [
                -114.470151,
                34.710902
               ],
               [
                -114.634459,
                34.87521
               ],
               [
                -114.634459,
                35.00118
               ],
               [
                -114.574213,
                35.138103
               ],
               [
                -114.596121,
                35.324319
               ],
               [
                -114.678275,
                35.516012
               ],
               [
                -114.738521,
                36.102045
               ],
               [
                -114.371566,
                36.140383
               ],
               [
                -114.251074,
                36.01989
               ],
               [
                -114.152489,
                36.025367
               ],
               [
                -114.048427,
                36.195153
               ],
               [
                -114.048427,
                37.000263
               ],
               [
                -110.499369,
                37.00574
               ],
               [
                -109.042503,
                37.000263
               ]
              ]
             ],
             "type": "Polygon"
            },
            "id": "04",
            "properties": {
             "density": 57.05,
             "name": "Arizona"
            },
            "type": "Feature"
           },
           {
            "geometry": {
             "coordinates": [
              [
               [
                -94.473842,
                36.501861
               ],
               [
                -90.152536,
                36.496384
               ],
               [
                -90.064905,
                36.304691
               ],
               [
                -90.218259,
                36.184199
               ],
               [
                -90.377091,
                35.997983
               ],
               [
                -89.730812,
                35.997983
               ],
               [
                -89.763673,
                35.811767
               ],
               [
                -89.911551,
                35.756997
               ],
               [
                -89.944412,
                35.603643
               ],
               [
                -90.130628,
                35.439335
               ],
               [
                -90.114197,
                35.198349
               ],
               [
                -90.212782,
                35.023087
               ],
               [
                -90.311367,
                34.995703
               ],
               [
                -90.251121,
                34.908072
               ],
               [
                -90.409952,
                34.831394
               ],
               [
                -90.481152,
                34.661609
               ],
               [
                -90.585214,
                34.617794
               ],
               [
                -90.568783,
                34.420624
               ],
               [
                -90.749522,
                34.365854
               ],
               [
                -90.744046,
                34.300131
               ],
               [
                -90.952169,
                34.135823
               ],
               [
                -90.891923,
                34.026284
               ],
               [
                -91.072662,
                33.867453
               ],
               [
                -91.231493,
                33.560744
               ],
               [
                -91.056231,
                33.429298
               ],
               [
                -91.143862,
                33.347144
               ],
               [
                -91.089093,
                33.13902
               ],
               [
                -91.16577,
                33.002096
               ],
               [
                -93.608485,
                33.018527
               ],
               [
                -94.041164,
                33.018527
               ],
               [
                -94.041164,
                33.54979
               ],
               [
                -94.183564,
                33.593606
               ],
               [
                -94.380734,
                33.544313
               ],
               [
                -94.484796,
                33.637421
               ],
               [
                -94.430026,
                35.395519
               ],
               [
                -94.616242,
                36.501861
               ],
               [
                -94.473842,
                36.501861
               ]
              ]
             ],
             "type": "Polygon"
            },
            "id": "05",
            "properties": {
             "density": 56.43,
             "name": "Arkansas"
            },
            "type": "Feature"
           },
           {
            "geometry": {
             "coordinates": [
              [
               [
                -123.233256,
                42.006186
               ],
               [
                -122.378853,
                42.011663
               ],
               [
                -121.037003,
                41.995232
               ],
               [
                -120.001861,
                41.995232
               ],
               [
                -119.996384,
                40.264519
               ],
               [
                -120.001861,
                38.999346
               ],
               [
                -118.71478,
                38.101128
               ],
               [
                -117.498899,
                37.21934
               ],
               [
                -116.540435,
                36.501861
               ],
               [
                -115.85034,
                35.970598
               ],
               [
                -114.634459,
                35.00118
               ],
               [
                -114.634459,
                34.87521
               ],
               [
                -114.470151,
                34.710902
               ],
               [
                -114.333228,
                34.448009
               ],
               [
                -114.136058,
                34.305608
               ],
               [
                -114.256551,
                34.174162
               ],
               [
                -114.415382,
                34.108438
               ],
               [
                -114.535874,
                33.933176
               ],
               [
                -114.497536,
                33.697668
               ],
               [
                -114.524921,
                33.54979
               ],
               [
                -114.727567,
                33.40739
               ],
               [
                -114.661844,
                33.034958
               ],
               [
                -114.524921,
                33.029481
               ],
               [
                -114.470151,
                32.843265
               ],
               [
                -114.524921,
                32.755634
               ],
               [
                -114.72209,
                32.717295
               ],
               [
                -116.04751,
                32.624187
               ],
               [
                -117.126467,
                32.536556
               ],
               [
                -117.24696,
                32.668003
               ],
               [
                -117.252437,
                32.876127
               ],
               [
                -117.329114,
                33.122589
               ],
               [
                -117.471515,
                33.297851
               ],
               [
                -117.7837,
                33.538836
               ],
               [
                -118.183517,
                33.763391
               ],
               [
                -118.260194,
                33.703145
               ],
               [
                -118.413548,
                33.741483
               ],
               [
                -118.391641,
                33.840068
               ],
               [
                -118.566903,
                34.042715
               ],
               [
                -118.802411,
                33.998899
               ],
               [
                -119.218659,
                34.146777
               ],
               [
                -119.278905,
                34.26727
               ],
               [
                -119.558229,
                34.415147
               ],
               [
                -119.875891,
                34.40967
               ],
               [
                -120.138784,
                34.475393
               ],
               [
                -120.472878,
                34.448009
               ],
               [
                -120.64814,
                34.579455
               ],
               [
                -120.609801,
                34.858779
               ],
               [
                -120.670048,
                34.902595
               ],
               [
                -120.631709,
                35.099764
               ],
               [
                -120.894602,
                35.247642
               ],
               [
                -120.905556,
                35.450289
               ],
               [
                -121.004141,
                35.461243
               ],
               [
                -121.168449,
                35.636505
               ],
               [
                -121.283465,
                35.674843
               ],
               [
                -121.332757,
                35.784382
               ],
               [
                -121.716143,
                36.195153
               ],
               [
                -121.896882,
                36.315645
               ],
               [
                -121.935221,
                36.638785
               ],
               [
                -121.858544,
                36.6114
               ],
               [
                -121.787344,
                36.803093
               ],
               [
                -121.929744,
                36.978355
               ],
               [
                -122.105006,
                36.956447
               ],
               [
                -122.335038,
                37.115279
               ],
               [
                -122.417192,
                37.241248
               ],
               [
                -122.400761,
                37.361741
               ],
               [
                -122.515777,
                37.520572
               ],
               [
                -122.515777,
                37.783465
               ],
               [
                -122.329561,
                37.783465
               ],
               [
                -122.406238,
                38.15042
               ],
               [
                -122.488392,
                38.112082
               ],
               [
                -122.504823,
                37.931343
               ],
               [
                -122.701993,
                37.893004
               ],
               [
                -122.937501,
                38.029928
               ],
               [
                -122.97584,
                38.265436
               ],
               [
                -123.129194,
                38.451652
               ],
               [
                -123.331841,
                38.566668
               ],
               [
                -123.44138,
                38.698114
               ],
               [
                -123.737134,
                38.95553
               ],
               [
                -123.687842,
                39.032208
               ],
               [
                -123.824765,
                39.366301
               ],
               [
                -123.764519,
                39.552517
               ],
               [
                -123.85215,
                39.831841
               ],
               [
                -124.109566,
                40.105688
               ],
               [
                -124.361506,
                40.259042
               ],
               [
                -124.410798,
                40.439781
               ],
               [
                -124.158859,
                40.877937
               ],
               [
                -124.109566,
                41.025814
               ],
               [
                -124.158859,
                41.14083
               ],
               [
                -124.065751,
                41.442061
               ],
               [
                -124.147905,
                41.715908
               ],
               [
                -124.257444,
                41.781632
               ],
               [
                -124.213628,
                42.000709
               ],
               [
                -123.233256,
                42.006186
               ]
              ]
             ],
             "type": "Polygon"
            },
            "id": "06",
            "properties": {
             "density": 241.7,
             "name": "California"
            },
            "type": "Feature"
           },
           {
            "geometry": {
             "coordinates": [
              [
               [
                -107.919731,
                41.003906
               ],
               [
                -105.728954,
                40.998429
               ],
               [
                -104.053011,
                41.003906
               ],
               [
                -102.053927,
                41.003906
               ],
               [
                -102.053927,
                40.001626
               ],
               [
                -102.042974,
                36.994786
               ],
               [
                -103.001438,
                37.000263
               ],
               [
                -104.337812,
                36.994786
               ],
               [
                -106.868158,
                36.994786
               ],
               [
                -107.421329,
                37.000263
               ],
               [
                -109.042503,
                37.000263
               ],
               [
                -109.042503,
                38.166851
               ],
               [
                -109.058934,
                38.27639
               ],
               [
                -109.053457,
                39.125316
               ],
               [
                -109.04798,
                40.998429
               ],
               [
                -107.919731,
                41.003906
               ]
              ]
             ],
             "type": "Polygon"
            },
            "id": "08",
            "properties": {
             "density": 49.33,
             "name": "Colorado"
            },
            "type": "Feature"
           },
           {
            "geometry": {
             "coordinates": [
              [
               [
                -73.053528,
                42.039048
               ],
               [
                -71.799309,
                42.022617
               ],
               [
                -71.799309,
                42.006186
               ],
               [
                -71.799309,
                41.414677
               ],
               [
                -71.859555,
                41.321569
               ],
               [
                -71.947186,
                41.338
               ],
               [
                -72.385341,
                41.261322
               ],
               [
                -72.905651,
                41.28323
               ],
               [
                -73.130205,
                41.146307
               ],
               [
                -73.371191,
                41.102491
               ],
               [
                -73.655992,
                40.987475
               ],
               [
                -73.727192,
                41.102491
               ],
               [
                -73.48073,
                41.21203
               ],
               [
                -73.55193,
                41.294184
               ],
               [
                -73.486206,
                42.050002
               ],
               [
                -73.053528,
                42.039048
               ]
              ]
             ],
             "type": "Polygon"
            },
            "id": "09",
            "properties": {
             "density": 739.1,
             "name": "Connecticut"
            },
            "type": "Feature"
           },
           {
            "geometry": {
             "coordinates": [
              [
               [
                -75.414089,
                39.804456
               ],
               [
                -75.507197,
                39.683964
               ],
               [
                -75.611259,
                39.61824
               ],
               [
                -75.589352,
                39.459409
               ],
               [
                -75.441474,
                39.311532
               ],
               [
                -75.403136,
                39.065069
               ],
               [
                -75.189535,
                38.807653
               ],
               [
                -75.09095,
                38.796699
               ],
               [
                -75.047134,
                38.451652
               ],
               [
                -75.693413,
                38.462606
               ],
               [
                -75.786521,
                39.722302
               ],
               [
                -75.616736,
                39.831841
               ],
               [
                -75.414089,
                39.804456
               ]
              ]
             ],
             "type": "Polygon"
            },
            "id": "10",
            "properties": {
             "density": 464.3,
             "name": "Delaware"
            },
            "type": "Feature"
           },
           {
            "geometry": {
             "coordinates": [
              [
               [
                -77.035264,
                38.993869
               ],
               [
                -76.909294,
                38.895284
               ],
               [
                -77.040741,
                38.791222
               ],
               [
                -77.117418,
                38.933623
               ],
               [
                -77.035264,
                38.993869
               ]
              ]
             ],
             "type": "Polygon"
            },
            "id": "11",
            "properties": {
             "density": 10065,
             "name": "District of Columbia"
            },
            "type": "Feature"
           },
           {
            "geometry": {
             "coordinates": [
              [
               [
                -85.497137,
                30.997536
               ],
               [
                -85.004212,
                31.003013
               ],
               [
                -84.867289,
                30.712735
               ],
               [
                -83.498053,
                30.647012
               ],
               [
                -82.216449,
                30.570335
               ],
               [
                -82.167157,
                30.356734
               ],
               [
                -82.046664,
                30.362211
               ],
               [
                -82.002849,
                30.564858
               ],
               [
                -82.041187,
                30.751074
               ],
               [
                -81.948079,
                30.827751
               ],
               [
                -81.718048,
                30.745597
               ],
               [
                -81.444201,
                30.707258
               ],
               [
                -81.383954,
                30.27458
               ],
               [
                -81.257985,
                29.787132
               ],
               [
                -80.967707,
                29.14633
               ],
               [
                -80.524075,
                28.461713
               ],
               [
                -80.589798,
                28.41242
               ],
               [
                -80.56789,
                28.094758
               ],
               [
                -80.381674,
                27.738757
               ],
               [
                -80.091397,
                27.021277
               ],
               [
                -80.03115,
                26.796723
               ],
               [
                -80.036627,
                26.566691
               ],
               [
                -80.146166,
                25.739673
               ],
               [
                -80.239274,
                25.723243
               ],
               [
                -80.337859,
                25.465826
               ],
               [
                -80.304997,
                25.383672
               ],
               [
                -80.49669,
                25.197456
               ],
               [
                -80.573367,
                25.241272
               ],
               [
                -80.759583,
                25.164595
               ],
               [
                -81.077246,
                25.120779
               ],
               [
                -81.170354,
                25.224841
               ],
               [
                -81.126538,
                25.378195
               ],
               [
                -81.351093,
                25.821827
               ],
               [
                -81.526355,
                25.903982
               ],
               [
                -81.679709,
                25.843735
               ],
               [
                -81.800202,
                26.090198
               ],
               [
                -81.833064,
                26.292844
               ],
               [
                -82.041187,
                26.517399
               ],
               [
                -82.09048,
                26.665276
               ],
               [
                -82.057618,
                26.878877
               ],
               [
                -82.172634,
                26.917216
               ],
               [
                -82.145249,
                26.791246
               ],
               [
                -82.249311,
                26.758384
               ],
               [
                -82.566974,
                27.300601
               ],
               [
                -82.692943,
                27.437525
               ],
               [
                -82.391711,
                27.837342
               ],
               [
                -82.588881,
                27.815434
               ],
               [
                -82.720328,
                27.689464
               ],
               [
                -82.851774,
                27.886634
               ],
               [
                -82.676512,
                28.434328
               ],
               [
                -82.643651,
                28.888914
               ],
               [
                -82.764143,
                28.998453
               ],
               [
                -82.802482,
                29.14633
               ],
               [
                -82.994175,
                29.179192
               ],
               [
                -83.218729,
                29.420177
               ],
               [
                -83.399469,
                29.518762
               ],
               [
                -83.410422,
                29.66664
               ],
               [
                -83.536392,
                29.721409
               ],
               [
                -83.640454,
                29.885717
               ],
               [
                -84.02384,
                30.104795
               ],
               [
                -84.357933,
                30.055502
               ],
               [
                -84.341502,
                29.902148
               ],
               [
                -84.451041,
                29.929533
               ],
               [
                -84.867289,
                29.743317
               ],
               [
                -85.310921,
                29.699501
               ],
               [
                -85.299967,
                29.80904
               ],
               [
                -85.404029,
                29.940487
               ],
               [
                -85.924338,
                30.236241
               ],
               [
                -86.29677,
                30.362211
               ],
               [
                -86.630863,
                30.395073
               ],
               [
                -86.910187,
                30.373165
               ],
               [
                -87.518128,
                30.280057
               ],
               [
                -87.37025,
                30.427934
               ],
               [
                -87.446927,
                30.510088
               ],
               [
                -87.408589,
                30.674397
               ],
               [
                -87.633143,
                30.86609
               ],
               [
                -87.600282,
                30.997536
               ],
               [
                -85.497137,
                30.997536
               ]
              ]
             ],
             "type": "Polygon"
            },
            "id": "12",
            "properties": {
             "density": 353.4,
             "name": "Florida"
            },
            "type": "Feature"
           },
           {
            "geometry": {
             "coordinates": [
              [
               [
                -83.109191,
                35.00118
               ],
               [
                -83.322791,
                34.787579
               ],
               [
                -83.339222,
                34.683517
               ],
               [
                -83.005129,
                34.469916
               ],
               [
                -82.901067,
                34.486347
               ],
               [
                -82.747713,
                34.26727
               ],
               [
                -82.714851,
                34.152254
               ],
               [
                -82.55602,
                33.94413
               ],
               [
                -82.325988,
                33.81816
               ],
               [
                -82.194542,
                33.631944
               ],
               [
                -81.926172,
                33.462159
               ],
               [
                -81.937125,
                33.347144
               ],
               [
                -81.761863,
                33.160928
               ],
               [
                -81.493493,
                33.007573
               ],
               [
                -81.42777,
                32.843265
               ],
               [
                -81.416816,
                32.629664
               ],
               [
                -81.279893,
                32.558464
               ],
               [
                -81.121061,
                32.290094
               ],
               [
                -81.115584,
                32.120309
               ],
               [
                -80.885553,
                32.032678
               ],
               [
                -81.132015,
                31.693108
               ],
               [
                -81.175831,
                31.517845
               ],
               [
                -81.279893,
                31.364491
               ],
               [
                -81.290846,
                31.20566
               ],
               [
                -81.400385,
                31.13446
               ],
               [
                -81.444201,
                30.707258
               ],
               [
                -81.718048,
                30.745597
               ],
               [
                -81.948079,
                30.827751
               ],
               [
                -82.041187,
                30.751074
               ],
               [
                -82.002849,
                30.564858
               ],
               [
                -82.046664,
                30.362211
               ],
               [
                -82.167157,
                30.356734
               ],
               [
                -82.216449,
                30.570335
               ],
               [
                -83.498053,
                30.647012
               ],
               [
                -84.867289,
                30.712735
               ],
               [
                -85.004212,
                31.003013
               ],
               [
                -85.113751,
                31.27686
               ],
               [
                -85.042551,
                31.539753
               ],
               [
                -85.141136,
                31.840985
               ],
               [
                -85.053504,
                32.01077
               ],
               [
                -85.058981,
                32.13674
               ],
               [
                -84.889196,
                32.262709
               ],
               [
                -85.004212,
                32.322956
               ],
               [
                -84.960397,
                32.421541
               ],
               [
                -85.069935,
                32.580372
               ],
               [
                -85.184951,
                32.859696
               ],
               [
                -85.431413,
                34.124869
               ],
               [
                -85.606675,
                34.984749
               ],
               [
                -84.319594,
                34.990226
               ],
               [
                -83.618546,
                34.984749
               ],
               [
                -83.109191,
                35.00118
               ]
              ]
             ],
             "type": "Polygon"
            },
            "id": "13",
            "properties": {
             "density": 169.5,
             "name": "Georgia"
            },
            "type": "Feature"
           },
           {
            "geometry": {
             "coordinates": [
              [
               [
                [
                 -155.634835,
                 18.948267
                ],
                [
                 -155.881297,
                 19.035898
                ],
                [
                 -155.919636,
                 19.123529
                ],
                [
                 -155.886774,
                 19.348084
                ],
                [
                 -156.062036,
                 19.73147
                ],
                [
                 -155.925113,
                 19.857439
                ],
                [
                 -155.826528,
                 20.032702
                ],
                [
                 -155.897728,
                 20.147717
                ],
                [
                 -155.87582,
                 20.26821
                ],
                [
                 -155.596496,
                 20.12581
                ],
                [
                 -155.284311,
                 20.021748
                ],
                [
                 -155.092618,
                 19.868393
                ],
                [
                 -155.092618,
                 19.736947
                ],
                [
                 -154.807817,
                 19.523346
                ],
                [
                 -154.983079,
                 19.348084
                ],
                [
                 -155.295265,
                 19.26593
                ],
                [
                 -155.514342,
                 19.134483
                ],
                [
                 -155.634835,
                 18.948267
                ]
               ]
              ],
              [
               [
                [
                 -156.587823,
                 21.029505
                ],
                [
                 -156.472807,
                 20.892581
                ],
                [
                 -156.324929,
                 20.952827
                ],
                [
                 -156.00179,
                 20.793996
                ],
                [
                 -156.051082,
                 20.651596
                ],
                [
                 -156.379699,
                 20.580396
                ],
                [
                 -156.445422,
                 20.60778
                ],
                [
                 -156.461853,
                 20.783042
                ],
                [
                 -156.631638,
                 20.821381
                ],
                [
                 -156.697361,
                 20.919966
                ],
                [
                 -156.587823,
                 21.029505
                ]
               ]
              ],
              [
               [
                [
                 -156.982162,
                 21.210244
                ],
                [
                 -157.080747,
                 21.106182
                ],
                [
                 -157.310779,
                 21.106182
                ],
                [
                 -157.239579,
                 21.221198
                ],
                [
                 -156.982162,
                 21.210244
                ]
               ]
              ],
              [
               [
                [
                 -157.951581,
                 21.697691
                ],
                [
                 -157.842042,
                 21.462183
                ],
                [
                 -157.896811,
                 21.325259
                ],
                [
                 -158.110412,
                 21.303352
                ],
                [
                 -158.252813,
                 21.582676
                ],
                [
                 -158.126843,
                 21.588153
                ],
                [
                 -157.951581,
                 21.697691
                ]
               ]
              ],
              [
               [
                [
                 -159.468693,
                 22.228955
                ],
                [
                 -159.353678,
                 22.218001
                ],
                [
                 -159.298908,
                 22.113939
                ],
                [
                 -159.33177,
                 21.966061
                ],
                [
                 -159.446786,
                 21.872953
                ],
                [
                 -159.764448,
                 21.987969
                ],
                [
                 -159.726109,
                 22.152277
                ],
                [
                 -159.468693,
                 22.228955
                ]
               ]
              ]
             ],
             "type": "MultiPolygon"
            },
            "id": "15",
            "properties": {
             "density": 214.1,
             "name": "Hawaii"
            },
            "type": "Feature"
           },
           {
            "geometry": {
             "coordinates": [
              [
               [
                -116.04751,
                49.000239
               ],
               [
                -116.04751,
                47.976051
               ],
               [
                -115.724371,
                47.696727
               ],
               [
                -115.718894,
                47.42288
               ],
               [
                -115.527201,
                47.302388
               ],
               [
                -115.324554,
                47.258572
               ],
               [
                -115.302646,
                47.187372
               ],
               [
                -114.930214,
                46.919002
               ],
               [
                -114.886399,
                46.809463
               ],
               [
                -114.623506,
                46.705401
               ],
               [
                -114.612552,
                46.639678
               ],
               [
                -114.322274,
                46.645155
               ],
               [
                -114.464674,
                46.272723
               ],
               [
                -114.492059,
                46.037214
               ],
               [
                -114.387997,
                45.88386
               ],
               [
                -114.568736,
                45.774321
               ],
               [
                -114.497536,
                45.670259
               ],
               [
                -114.546828,
                45.560721
               ],
               [
                -114.333228,
                45.456659
               ],
               [
                -114.086765,
                45.593582
               ],
               [
                -113.98818,
                45.703121
               ],
               [
                -113.807441,
                45.604536
               ],
               [
                -113.834826,
                45.522382
               ],
               [
                -113.736241,
                45.330689
               ],
               [
                -113.571933,
                45.128042
               ],
               [
                -113.45144,
                45.056842
               ],
               [
                -113.456917,
                44.865149
               ],
               [
                -113.341901,
                44.782995
               ],
               [
                -113.133778,
                44.772041
               ],
               [
                -113.002331,
                44.448902
               ],
               [
                -112.887315,
                44.394132
               ],
               [
                -112.783254,
                44.48724
               ],
               [
                -112.471068,
                44.481763
               ],
               [
                -112.241036,
                44.569394
               ],
               [
                -112.104113,
                44.520102
               ],
               [
                -111.868605,
                44.563917
               ],
               [
                -111.819312,
                44.509148
               ],
               [
                -111.616665,
                44.547487
               ],
               [
                -111.386634,
                44.75561
               ],
               [
                -111.227803,
                44.580348
               ],
               [
                -111.047063,
                44.476286
               ],
               [
                -111.047063,
                42.000709
               ],
               [
                -112.164359,
                41.995232
               ],
               [
                -114.04295,
                41.995232
               ],
               [
                -117.027882,
                42.000709
               ],
               [
                -117.027882,
                43.830007
               ],
               [
                -116.896436,
                44.158624
               ],
               [
                -116.97859,
                44.240778
               ],
               [
                -117.170283,
                44.257209
               ],
               [
                -117.241483,
                44.394132
               ],
               [
                -117.038836,
                44.750133
               ],
               [
                -116.934774,
                44.782995
               ],
               [
                -116.830713,
                44.930872
               ],
               [
                -116.847143,
                45.02398
               ],
               [
                -116.732128,
                45.144473
               ],
               [
                -116.671881,
                45.319735
               ],
               [
                -116.463758,
                45.61549
               ],
               [
                -116.545912,
                45.752413
               ],
               [
                -116.78142,
                45.823614
               ],
               [
                -116.918344,
                45.993399
               ],
               [
                -116.92382,
                46.168661
               ],
               [
                -117.055267,
                46.343923
               ],
               [
                -117.038836,
                46.426077
               ],
               [
                -117.044313,
                47.762451
               ],
               [
                -117.033359,
                49.000239
               ],
               [
                -116.04751,
                49.000239
               ]
              ]
             ],
             "type": "Polygon"
            },
            "id": "16",
            "properties": {
             "density": 19.15,
             "name": "Idaho"
            },
            "type": "Feature"
           },
           {
            "geometry": {
             "coordinates": [
              [
               [
                -90.639984,
                42.510065
               ],
               [
                -88.788778,
                42.493634
               ],
               [
                -87.802929,
                42.493634
               ],
               [
                -87.83579,
                42.301941
               ],
               [
                -87.682436,
                42.077386
               ],
               [
                -87.523605,
                41.710431
               ],
               [
                -87.529082,
                39.34987
               ],
               [
                -87.63862,
                39.169131
               ],
               [
                -87.512651,
                38.95553
               ],
               [
                -87.49622,
                38.780268
               ],
               [
                -87.62219,
                38.637868
               ],
               [
                -87.655051,
                38.506421
               ],
               [
                -87.83579,
                38.292821
               ],
               [
                -87.950806,
                38.27639
               ],
               [
                -87.923421,
                38.15042
               ],
               [
                -88.000098,
                38.101128
               ],
               [
                -88.060345,
                37.865619
               ],
               [
                -88.027483,
                37.799896
               ],
               [
                -88.15893,
                37.657496
               ],
               [
                -88.065822,
                37.482234
               ],
               [
                -88.476592,
                37.389126
               ],
               [
                -88.514931,
                37.285064
               ],
               [
                -88.421823,
                37.153617
               ],
               [
                -88.547792,
                37.071463
               ],
               [
                -88.914747,
                37.224817
               ],
               [
                -89.029763,
                37.213863
               ],
               [
                -89.183118,
                37.038601
               ],
               [
                -89.133825,
                36.983832
               ],
               [
                -89.292656,
                36.994786
               ],
               [
                -89.517211,
                37.279587
               ],
               [
                -89.435057,
                37.34531
               ],
               [
                -89.517211,
                37.537003
               ],
               [
                -89.517211,
                37.690357
               ],
               [
                -89.84035,
                37.903958
               ],
               [
                -89.949889,
                37.88205
               ],
               [
                -90.059428,
                38.013497
               ],
               [
                -90.355183,
                38.216144
               ],
               [
                -90.349706,
                38.374975
               ],
               [
                -90.179921,
                38.632391
               ],
               [
                -90.207305,
                38.725499
               ],
               [
                -90.10872,
                38.845992
               ],
               [
                -90.251121,
                38.917192
               ],
               [
                -90.470199,
                38.961007
               ],
               [
                -90.585214,
                38.867899
               ],
               [
                -90.661891,
                38.928146
               ],
               [
                -90.727615,
                39.256762
               ],
               [
                -91.061708,
                39.470363
               ],
               [
                -91.368417,
                39.727779
               ],
               [
                -91.494386,
                40.034488
               ],
               [
                -91.50534,
                40.237135
               ],
               [
                -91.417709,
                40.379535
               ],
               [
                -91.401278,
                40.560274
               ],
               [
                -91.121954,
                40.669813
               ],
               [
                -91.09457,
                40.823167
               ],
               [
                -90.963123,
                40.921752
               ],
               [
                -90.946692,
                41.097014
               ],
               [
                -91.111001,
                41.239415
               ],
               [
                -91.045277,
                41.414677
               ],
               [
                -90.656414,
                41.463969
               ],
               [
                -90.344229,
                41.589939
               ],
               [
                -90.311367,
                41.743293
               ],
               [
                -90.179921,
                41.809016
               ],
               [
                -90.141582,
                42.000709
               ],
               [
                -90.168967,
                42.126679
               ],
               [
                -90.393521,
                42.225264
               ],
               [
                -90.420906,
                42.329326
               ],
               [
                -90.639984,
                42.510065
               ]
              ]
             ],
             "type": "Polygon"
            },
            "id": "17",
            "properties": {
             "density": 231.5,
             "name": "Illinois"
            },
            "type": "Feature"
           },
           {
            "geometry": {
             "coordinates": [
              [
               [
                -85.990061,
                41.759724
               ],
               [
                -84.807042,
                41.759724
               ],
               [
                -84.807042,
                41.694001
               ],
               [
                -84.801565,
                40.500028
               ],
               [
                -84.817996,
                39.103408
               ],
               [
                -84.894673,
                39.059592
               ],
               [
                -84.812519,
                38.785745
               ],
               [
                -84.987781,
                38.780268
               ],
               [
                -85.173997,
                38.68716
               ],
               [
                -85.431413,
                38.730976
               ],
               [
                -85.42046,
                38.533806
               ],
               [
                -85.590245,
                38.451652
               ],
               [
                -85.655968,
                38.325682
               ],
               [
                -85.83123,
                38.27639
               ],
               [
                -85.924338,
                38.024451
               ],
               [
                -86.039354,
                37.958727
               ],
               [
                -86.263908,
                38.051835
               ],
               [
                -86.302247,
                38.166851
               ],
               [
                -86.521325,
                38.040881
               ],
               [
                -86.504894,
                37.931343
               ],
               [
                -86.729448,
                37.893004
               ],
               [
                -86.795172,
                37.991589
               ],
               [
                -87.047111,
                37.893004
               ],
               [
                -87.129265,
                37.788942
               ],
               [
                -87.381204,
                37.93682
               ],
               [
                -87.512651,
                37.903958
               ],
               [
                -87.600282,
                37.975158
               ],
               [
                -87.682436,
                37.903958
               ],
               [
                -87.934375,
                37.893004
               ],
               [
                -88.027483,
                37.799896
               ],
               [
                -88.060345,
                37.865619
               ],
               [
                -88.000098,
                38.101128
               ],
               [
                -87.923421,
                38.15042
               ],
               [
                -87.950806,
                38.27639
               ],
               [
                -87.83579,
                38.292821
               ],
               [
                -87.655051,
                38.506421
               ],
               [
                -87.62219,
                38.637868
               ],
               [
                -87.49622,
                38.780268
               ],
               [
                -87.512651,
                38.95553
               ],
               [
                -87.63862,
                39.169131
               ],
               [
                -87.529082,
                39.34987
               ],
               [
                -87.523605,
                41.710431
               ],
               [
                -87.42502,
                41.644708
               ],
               [
                -87.118311,
                41.644708
               ],
               [
                -86.822556,
                41.759724
               ],
               [
                -85.990061,
                41.759724
               ]
              ]
             ],
             "type": "Polygon"
            },
            "id": "18",
            "properties": {
             "density": 181.7,
             "name": "Indiana"
            },
            "type": "Feature"
           },
           {
            "geometry": {
             "coordinates": [
              [
               [
                -91.368417,
                43.501391
               ],
               [
                -91.215062,
                43.501391
               ],
               [
                -91.204109,
                43.353514
               ],
               [
                -91.056231,
                43.254929
               ],
               [
                -91.176724,
                43.134436
               ],
               [
                -91.143862,
                42.909881
               ],
               [
                -91.067185,
                42.75105
               ],
               [
                -90.711184,
                42.636034
               ],
               [
                -90.639984,
                42.510065
               ],
               [
                -90.420906,
                42.329326
               ],
               [
                -90.393521,
                42.225264
               ],
               [
                -90.168967,
                42.126679
               ],
               [
                -90.141582,
                42.000709
               ],
               [
                -90.179921,
                41.809016
               ],
               [
                -90.311367,
                41.743293
               ],
               [
                -90.344229,
                41.589939
               ],
               [
                -90.656414,
                41.463969
               ],
               [
                -91.045277,
                41.414677
               ],
               [
                -91.111001,
                41.239415
               ],
               [
                -90.946692,
                41.097014
               ],
               [
                -90.963123,
                40.921752
               ],
               [
                -91.09457,
                40.823167
               ],
               [
                -91.121954,
                40.669813
               ],
               [
                -91.401278,
                40.560274
               ],
               [
                -91.417709,
                40.379535
               ],
               [
                -91.527248,
                40.412397
               ],
               [
                -91.729895,
                40.615043
               ],
               [
                -91.833957,
                40.609566
               ],
               [
                -93.257961,
                40.582182
               ],
               [
                -94.632673,
                40.571228
               ],
               [
                -95.7664,
                40.587659
               ],
               [
                -95.881416,
                40.719105
               ],
               [
                -95.826646,
                40.976521
               ],
               [
                -95.925231,
                41.201076
               ],
               [
                -95.919754,
                41.453015
               ],
               [
                -96.095016,
                41.540646
               ],
               [
                -96.122401,
                41.67757
               ],
               [
                -96.062155,
                41.798063
               ],
               [
                -96.127878,
                41.973325
               ],
               [
                -96.264801,
                42.039048
               ],
               [
                -96.44554,
                42.488157
               ],
               [
                -96.631756,
                42.707235
               ],
               [
                -96.544125,
                42.855112
               ],
               [
                -96.511264,
                43.052282
               ],
               [
                -96.434587,
                43.123482
               ],
               [
                -96.560556,
                43.222067
               ],
               [
                -96.527695,
                43.397329
               ],
               [
                -96.582464,
                43.479483
               ],
               [
                -96.451017,
                43.501391
               ],
               [
                -91.368417,
                43.501391
               ]
              ]
             ],
             "type": "Polygon"
            },
            "id": "19",
            "properties": {
             "density": 54.81,
             "name": "Iowa"
            },
            "type": "Feature"
           },
           {
            "geometry": {
             "coordinates": [
              [
               [
                -101.90605,
                40.001626
               ],
               [
                -95.306337,
                40.001626
               ],
               [
                -95.207752,
                39.908518
               ],
               [
                -94.884612,
                39.831841
               ],
               [
                -95.109167,
                39.541563
               ],
               [
                -94.983197,
                39.442978
               ],
               [
                -94.824366,
                39.20747
               ],
               [
                -94.610765,
                39.158177
               ],
               [
                -94.616242,
                37.000263
               ],
               [
                -100.087706,
                37.000263
               ],
               [
                -102.042974,
                36.994786
               ],
               [
                -102.053927,
                40.001626
               ],
               [
                -101.90605,
                40.001626
               ]
              ]
             ],
             "type": "Polygon"
            },
            "id": "20",
            "properties": {
             "density": 35.09,
             "name": "Kansas"
            },
            "type": "Feature"
           },
           {
            "geometry": {
             "coordinates": [
              [
               [
                -83.903347,
                38.769315
               ],
               [
                -83.678792,
                38.632391
               ],
               [
                -83.519961,
                38.703591
               ],
               [
                -83.142052,
                38.626914
               ],
               [
                -83.032514,
                38.725499
               ],
               [
                -82.890113,
                38.758361
               ],
               [
                -82.846298,
                38.588575
               ],
               [
                -82.731282,
                38.561191
               ],
               [
                -82.594358,
                38.424267
               ],
               [
                -82.621743,
                38.123036
               ],
               [
                -82.50125,
                37.931343
               ],
               [
                -82.342419,
                37.783465
               ],
               [
                -82.293127,
                37.668449
               ],
               [
                -82.101434,
                37.553434
               ],
               [
                -81.969987,
                37.537003
               ],
               [
                -82.353373,
                37.268633
               ],
               [
                -82.720328,
                37.120755
               ],
               [
                -82.720328,
                37.044078
               ],
               [
                -82.868205,
                36.978355
               ],
               [
                -82.879159,
                36.890724
               ],
               [
                -83.070852,
                36.852385
               ],
               [
                -83.136575,
                36.742847
               ],
               [
                -83.673316,
                36.600446
               ],
               [
                -83.689746,
                36.584015
               ],
               [
                -84.544149,
                36.594969
               ],
               [
                -85.289013,
                36.627831
               ],
               [
                -85.486183,
                36.616877
               ],
               [
                -86.592525,
                36.655216
               ],
               [
                -87.852221,
                36.633308
               ],
               [
                -88.071299,
                36.677123
               ],
               [
                -88.054868,
                36.496384
               ],
               [
                -89.298133,
                36.507338
               ],
               [
                -89.418626,
                36.496384
               ],
               [
                -89.363857,
                36.622354
               ],
               [
                -89.215979,
                36.578538
               ],
               [
                -89.133825,
                36.983832
               ],
               [
                -89.183118,
                37.038601
               ],
               [
                -89.029763,
                37.213863
               ],
               [
                -88.914747,
                37.224817
               ],
               [
                -88.547792,
                37.071463
               ],
               [
                -88.421823,
                37.153617
               ],
               [
                -88.514931,
                37.285064
               ],
               [
                -88.476592,
                37.389126
               ],
               [
                -88.065822,
                37.482234
               ],
               [
                -88.15893,
                37.657496
               ],
               [
                -88.027483,
                37.799896
               ],
               [
                -87.934375,
                37.893004
               ],
               [
                -87.682436,
                37.903958
               ],
               [
                -87.600282,
                37.975158
               ],
               [
                -87.512651,
                37.903958
               ],
               [
                -87.381204,
                37.93682
               ],
               [
                -87.129265,
                37.788942
               ],
               [
                -87.047111,
                37.893004
               ],
               [
                -86.795172,
                37.991589
               ],
               [
                -86.729448,
                37.893004
               ],
               [
                -86.504894,
                37.931343
               ],
               [
                -86.521325,
                38.040881
               ],
               [
                -86.302247,
                38.166851
               ],
               [
                -86.263908,
                38.051835
               ],
               [
                -86.039354,
                37.958727
               ],
               [
                -85.924338,
                38.024451
               ],
               [
                -85.83123,
                38.27639
               ],
               [
                -85.655968,
                38.325682
               ],
               [
                -85.590245,
                38.451652
               ],
               [
                -85.42046,
                38.533806
               ],
               [
                -85.431413,
                38.730976
               ],
               [
                -85.173997,
                38.68716
               ],
               [
                -84.987781,
                38.780268
               ],
               [
                -84.812519,
                38.785745
               ],
               [
                -84.894673,
                39.059592
               ],
               [
                -84.817996,
                39.103408
               ],
               [
                -84.43461,
                39.103408
               ],
               [
                -84.231963,
                38.895284
               ],
               [
                -84.215533,
                38.807653
               ],
               [
                -83.903347,
                38.769315
               ]
              ]
             ],
             "type": "Polygon"
            },
            "id": "21",
            "properties": {
             "density": 110,
             "name": "Kentucky"
            },
            "type": "Feature"
           },
           {
            "geometry": {
             "coordinates": [
              [
               [
                -93.608485,
                33.018527
               ],
               [
                -91.16577,
                33.002096
               ],
               [
                -91.072662,
                32.887081
               ],
               [
                -91.143862,
                32.843265
               ],
               [
                -91.154816,
                32.640618
               ],
               [
                -91.006939,
                32.514649
               ],
               [
                -90.985031,
                32.218894
               ],
               [
                -91.105524,
                31.988862
               ],
               [
                -91.341032,
                31.846462
               ],
               [
                -91.401278,
                31.621907
               ],
               [
                -91.499863,
                31.643815
               ],
               [
                -91.516294,
                31.27686
               ],
               [
                -91.636787,
                31.265906
               ],
               [
                -91.565587,
                31.068736
               ],
               [
                -91.636787,
                30.997536
               ],
               [
                -89.747242,
                30.997536
               ],
               [
                -89.845827,
                30.66892
               ],
               [
                -89.681519,
                30.449842
               ],
               [
                -89.643181,
                30.285534
               ],
               [
                -89.522688,
                30.181472
               ],
               [
                -89.818443,
                30.044549
               ],
               [
                -89.84035,
                29.945964
               ],
               [
                -89.599365,
                29.88024
               ],
               [
                -89.495303,
                30.039072
               ],
               [
                -89.287179,
                29.88024
               ],
               [
                -89.30361,
                29.754271
               ],
               [
                -89.424103,
                29.699501
               ],
               [
                -89.648657,
                29.748794
               ],
               [
                -89.621273,
                29.655686
               ],
               [
                -89.69795,
                29.513285
               ],
               [
                -89.506257,
                29.387316
               ],
               [
                -89.199548,
                29.348977
               ],
               [
                -89.09001,
                29.2011
               ],
               [
                -89.002379,
                29.179192
               ],
               [
                -89.16121,
                29.009407
               ],
               [
                -89.336472,
                29.042268
               ],
               [
                -89.484349,
                29.217531
               ],
               [
                -89.851304,
                29.310638
               ],
               [
                -89.851304,
                29.480424
               ],
               [
                -90.032043,
                29.425654
               ],
               [
                -90.021089,
                29.283254
               ],
               [
                -90.103244,
                29.151807
               ],
               [
                -90.23469,
                29.129899
               ],
               [
                -90.333275,
                29.277777
               ],
               [
                -90.563307,
                29.283254
               ],
               [
                -90.645461,
                29.129899
               ],
               [
                -90.798815,
                29.086084
               ],
               [
                -90.963123,
                29.179192
               ],
               [
                -91.09457,
                29.190146
               ],
               [
                -91.220539,
                29.436608
               ],
               [
                -91.445094,
                29.546147
               ],
               [
                -91.532725,
                29.529716
               ],
               [
                -91.620356,
                29.73784
               ],
               [
                -91.883249,
                29.710455
               ],
               [
                -91.888726,
                29.836425
               ],
               [
                -92.146142,
                29.715932
               ],
               [
                -92.113281,
                29.622824
               ],
               [
                -92.31045,
                29.535193
               ],
               [
                -92.617159,
                29.579009
               ],
               [
                -92.97316,
                29.715932
               ],
               [
                -93.2251,
                29.776178
               ],
               [
                -93.767317,
                29.726886
               ],
               [
                -93.838517,
                29.688547
               ],
               [
                -93.926148,
                29.787132
               ],
               [
                -93.690639,
                30.143133
               ],
               [
                -93.767317,
                30.334826
               ],
               [
                -93.696116,
                30.438888
               ],
               [
                -93.728978,
                30.575812
               ],
               [
                -93.630393,
                30.679874
               ],
               [
                -93.526331,
                30.93729
               ],
               [
                -93.542762,
                31.15089
               ],
               [
                -93.816609,
                31.556184
               ],
               [
                -93.822086,
                31.775262
               ],
               [
                -94.041164,
                31.994339
               ],
               [
                -94.041164,
                33.018527
               ],
               [
                -93.608485,
                33.018527
               ]
              ]
             ],
             "type": "Polygon"
            },
            "id": "22",
            "properties": {
             "density": 105,
             "name": "Louisiana"
            },
            "type": "Feature"
           },
           {
            "geometry": {
             "coordinates": [
              [
               [
                -70.703921,
                43.057759
               ],
               [
                -70.824413,
                43.128959
               ],
               [
                -70.807983,
                43.227544
               ],
               [
                -70.966814,
                43.34256
               ],
               [
                -71.032537,
                44.657025
               ],
               [
                -71.08183,
                45.303304
               ],
               [
                -70.649151,
                45.440228
               ],
               [
                -70.720352,
                45.511428
               ],
               [
                -70.556043,
                45.664782
               ],
               [
                -70.386258,
                45.735983
               ],
               [
                -70.41912,
                45.796229
               ],
               [
                -70.260289,
                45.889337
               ],
               [
                -70.309581,
                46.064599
               ],
               [
                -70.210996,
                46.327492
               ],
               [
                -70.057642,
                46.415123
               ],
               [
                -69.997395,
                46.694447
               ],
               [
                -69.225147,
                47.461219
               ],
               [
                -69.044408,
                47.428357
               ],
               [
                -69.033454,
                47.242141
               ],
               [
                -68.902007,
                47.176418
               ],
               [
                -68.578868,
                47.285957
               ],
               [
                -68.376221,
                47.285957
               ],
               [
                -68.233821,
                47.357157
               ],
               [
                -67.954497,
                47.198326
               ],
               [
                -67.790188,
                47.066879
               ],
               [
                -67.779235,
                45.944106
               ],
               [
                -67.801142,
                45.675736
               ],
               [
                -67.456095,
                45.604536
               ],
               [
                -67.505388,
                45.48952
               ],
               [
                -67.417757,
                45.379982
               ],
               [
                -67.488957,
                45.281397
               ],
               [
                -67.346556,
                45.128042
               ],
               [
                -67.16034,
                45.160904
               ],
               [
                -66.979601,
                44.804903
               ],
               [
                -67.187725,
                44.646072
               ],
               [
                -67.308218,
                44.706318
               ],
               [
                -67.406803,
                44.596779
               ],
               [
                -67.549203,
                44.624164
               ],
               [
                -67.565634,
                44.531056
               ],
               [
                -67.75185,
                44.54201
               ],
               [
                -68.047605,
                44.328409
               ],
               [
                -68.118805,
                44.476286
               ],
               [
                -68.222867,
                44.48724
               ],
               [
                -68.173574,
                44.328409
               ],
               [
                -68.403606,
                44.251732
               ],
               [
                -68.458375,
                44.377701
               ],
               [
                -68.567914,
                44.311978
               ],
               [
                -68.82533,
                44.311978
               ],
               [
                -68.830807,
                44.459856
               ],
               [
                -68.984161,
                44.426994
               ],
               [
                -68.956777,
                44.322932
               ],
               [
                -69.099177,
                44.103854
               ],
               [
                -69.071793,
                44.043608
               ],
               [
                -69.258008,
                43.923115
               ],
               [
                -69.444224,
                43.966931
               ],
               [
                -69.553763,
                43.840961
               ],
               [
                -69.707118,
                43.82453
               ],
               [
                -69.833087,
                43.720469
               ],
               [
                -69.986442,
                43.742376
               ],
               [
                -70.030257,
                43.851915
               ],
               [
                -70.254812,
                43.676653
               ],
               [
                -70.194565,
                43.567114
               ],
               [
                -70.358873,
                43.528776
               ],
               [
                -70.369827,
                43.435668
               ],
               [
                -70.556043,
                43.320652
               ],
               [
                -70.703921,
                43.057759
               ]
              ]
             ],
             "type": "Polygon"
            },
            "id": "23",
            "properties": {
             "density": 43.04,
             "name": "Maine"
            },
            "type": "Feature"
           },
           {
            "geometry": {
             "coordinates": [
              [
               [
                [
                 -75.994645,
                 37.95325
                ],
                [
                 -76.016553,
                 37.95325
                ],
                [
                 -76.043938,
                 37.95325
                ],
                [
                 -75.994645,
                 37.95325
                ]
               ]
              ],
              [
               [
                [
                 -79.477979,
                 39.722302
                ],
                [
                 -75.786521,
                 39.722302
                ],
                [
                 -75.693413,
                 38.462606
                ],
                [
                 -75.047134,
                 38.451652
                ],
                [
                 -75.244304,
                 38.029928
                ],
                [
                 -75.397659,
                 38.013497
                ],
                [
                 -75.671506,
                 37.95325
                ],
                [
                 -75.885106,
                 37.909435
                ],
                [
                 -75.879629,
                 38.073743
                ],
                [
                 -75.961783,
                 38.139466
                ],
                [
                 -75.846768,
                 38.210667
                ],
                [
                 -76.000122,
                 38.374975
                ],
                [
                 -76.049415,
                 38.303775
                ],
                [
                 -76.257538,
                 38.320205
                ],
                [
                 -76.328738,
                 38.500944
                ],
                [
                 -76.263015,
                 38.500944
                ],
                [
                 -76.257538,
                 38.736453
                ],
                [
                 -76.191815,
                 38.829561
                ],
                [
                 -76.279446,
                 39.147223
                ],
                [
                 -76.169907,
                 39.333439
                ],
                [
                 -76.000122,
                 39.366301
                ],
                [
                 -75.972737,
                 39.557994
                ],
                [
                 -76.098707,
                 39.536086
                ],
                [
                 -76.104184,
                 39.437501
                ],
                [
                 -76.367077,
                 39.311532
                ],
                [
                 -76.443754,
                 39.196516
                ],
                [
                 -76.460185,
                 38.906238
                ],
                [
                 -76.55877,
                 38.769315
                ],
                [
                 -76.514954,
                 38.539283
                ],
                [
                 -76.383508,
                 38.380452
                ],
                [
                 -76.399939,
                 38.259959
                ],
                [
                 -76.317785,
                 38.139466
                ],
                [
                 -76.3616,
                 38.057312
                ],
                [
                 -76.591632,
                 38.216144
                ],
                [
                 -76.920248,
                 38.292821
                ],
                [
                 -77.018833,
                 38.446175
                ],
                [
                 -77.205049,
                 38.358544
                ],
                [
                 -77.276249,
                 38.479037
                ],
                [
                 -77.128372,
                 38.632391
                ],
                [
                 -77.040741,
                 38.791222
                ],
                [
                 -76.909294,
                 38.895284
                ],
                [
                 -77.035264,
                 38.993869
                ],
                [
                 -77.117418,
                 38.933623
                ],
                [
                 -77.248864,
                 39.026731
                ],
                [
                 -77.456988,
                 39.076023
                ],
                [
                 -77.456988,
                 39.223901
                ],
                [
                 -77.566527,
                 39.306055
                ],
                [
                 -77.719881,
                 39.322485
                ],
                [
                 -77.834897,
                 39.601809
                ],
                [
                 -78.004682,
                 39.601809
                ],
                [
                 -78.174467,
                 39.694917
                ],
                [
                 -78.267575,
                 39.61824
                ],
                [
                 -78.431884,
                 39.623717
                ],
                [
                 -78.470222,
                 39.514178
                ],
                [
                 -78.765977,
                 39.585379
                ],
                [
                 -78.963147,
                 39.437501
                ],
                [
                 -79.094593,
                 39.470363
                ],
                [
                 -79.291763,
                 39.300578
                ],
                [
                 -79.488933,
                 39.20747
                ],
                [
                 -79.477979,
                 39.722302
                ]
               ]
              ]
             ],
             "type": "MultiPolygon"
            },
            "id": "24",
            "properties": {
             "density": 596.3,
             "name": "Maryland"
            },
            "type": "Feature"
           },
           {
            "geometry": {
             "coordinates": [
              [
               [
                -70.917521,
                42.887974
               ],
               [
                -70.818936,
                42.871543
               ],
               [
                -70.780598,
                42.696281
               ],
               [
                -70.824413,
                42.55388
               ],
               [
                -70.983245,
                42.422434
               ],
               [
                -70.988722,
                42.269079
               ],
               [
                -70.769644,
                42.247172
               ],
               [
                -70.638197,
                42.08834
               ],
               [
                -70.660105,
                41.962371
               ],
               [
                -70.550566,
                41.929509
               ],
               [
                -70.539613,
                41.814493
               ],
               [
                -70.260289,
                41.715908
               ],
               [
                -69.937149,
                41.809016
               ],
               [
                -70.008349,
                41.672093
               ],
               [
                -70.484843,
                41.5516
               ],
               [
                -70.660105,
                41.546123
               ],
               [
                -70.764167,
                41.639231
               ],
               [
                -70.928475,
                41.611847
               ],
               [
                -70.933952,
                41.540646
               ],
               [
                -71.120168,
                41.496831
               ],
               [
                -71.196845,
                41.67757
               ],
               [
                -71.22423,
                41.710431
               ],
               [
                -71.328292,
                41.781632
               ],
               [
                -71.383061,
                42.01714
               ],
               [
                -71.530939,
                42.01714
               ],
               [
                -71.799309,
                42.006186
               ],
               [
                -71.799309,
                42.022617
               ],
               [
                -73.053528,
                42.039048
               ],
               [
                -73.486206,
                42.050002
               ],
               [
                -73.508114,
                42.08834
               ],
               [
                -73.267129,
                42.745573
               ],
               [
                -72.456542,
                42.729142
               ],
               [
                -71.29543,
                42.696281
               ],
               [
                -71.185891,
                42.789389
               ],
               [
                -70.917521,
                42.887974
               ]
              ]
             ],
             "type": "Polygon"
            },
            "id": "25",
            "properties": {
             "density": 840.2,
             "name": "Massachusetts"
            },
            "type": "Feature"
           },
           {
            "geometry": {
             "coordinates": [
              [
               [
                [
                 -83.454238,
                 41.732339
                ],
                [
                 -84.807042,
                 41.694001
                ],
                [
                 -84.807042,
                 41.759724
                ],
                [
                 -85.990061,
                 41.759724
                ],
                [
                 -86.822556,
                 41.759724
                ],
                [
                 -86.619909,
                 41.891171
                ],
                [
                 -86.482986,
                 42.115725
                ],
                [
                 -86.357016,
                 42.252649
                ],
                [
                 -86.263908,
                 42.444341
                ],
                [
                 -86.209139,
                 42.718189
                ],
                [
                 -86.231047,
                 43.013943
                ],
                [
                 -86.526801,
                 43.594499
                ],
                [
                 -86.433693,
                 43.813577
                ],
                [
                 -86.499417,
                 44.07647
                ],
                [
                 -86.269385,
                 44.34484
                ],
                [
                 -86.220093,
                 44.569394
                ],
                [
                 -86.252954,
                 44.689887
                ],
                [
                 -86.088646,
                 44.73918
                ],
                [
                 -86.066738,
                 44.903488
                ],
                [
                 -85.809322,
                 44.947303
                ],
                [
                 -85.612152,
                 45.128042
                ],
                [
                 -85.628583,
                 44.766564
                ],
                [
                 -85.524521,
                 44.750133
                ],
                [
                 -85.393075,
                 44.930872
                ],
                [
                 -85.387598,
                 45.237581
                ],
                [
                 -85.305444,
                 45.314258
                ],
                [
                 -85.031597,
                 45.363551
                ],
                [
                 -85.119228,
                 45.577151
                ],
                [
                 -84.938489,
                 45.75789
                ],
                [
                 -84.713934,
                 45.768844
                ],
                [
                 -84.461995,
                 45.653829
                ],
                [
                 -84.215533,
                 45.637398
                ],
                [
                 -84.09504,
                 45.494997
                ],
                [
                 -83.908824,
                 45.484043
                ],
                [
                 -83.596638,
                 45.352597
                ],
                [
                 -83.4871,
                 45.358074
                ],
                [
                 -83.317314,
                 45.144473
                ],
                [
                 -83.454238,
                 45.029457
                ],
                [
                 -83.322791,
                 44.88158
                ],
                [
                 -83.273499,
                 44.711795
                ],
                [
                 -83.333745,
                 44.339363
                ],
                [
                 -83.536392,
                 44.246255
                ],
                [
                 -83.585684,
                 44.054562
                ],
                [
                 -83.82667,
                 43.988839
                ],
                [
                 -83.958116,
                 43.758807
                ],
                [
                 -83.908824,
                 43.671176
                ],
                [
                 -83.667839,
                 43.589022
                ],
                [
                 -83.481623,
                 43.714992
                ],
                [
                 -83.262545,
                 43.972408
                ],
                [
                 -82.917498,
                 44.070993
                ],
                [
                 -82.747713,
                 43.994316
                ],
                [
                 -82.643651,
                 43.851915
                ],
                [
                 -82.539589,
                 43.435668
                ],
                [
                 -82.523158,
                 43.227544
                ],
                [
                 -82.413619,
                 42.975605
                ],
                [
                 -82.517681,
                 42.614127
                ],
                [
                 -82.681989,
                 42.559357
                ],
                [
                 -82.687466,
                 42.690804
                ],
                [
                 -82.797005,
                 42.652465
                ],
                [
                 -82.922975,
                 42.351234
                ],
                [
                 -83.125621,
                 42.236218
                ],
                [
                 -83.185868,
                 42.006186
                ],
                [
                 -83.437807,
                 41.814493
                ],
                [
                 -83.454238,
                 41.732339
                ]
               ]
              ],
              [
               [
                [
                 -85.508091,
                 45.730506
                ],
                [
                 -85.49166,
                 45.610013
                ],
                [
                 -85.623106,
                 45.588105
                ],
                [
                 -85.568337,
                 45.75789
                ],
                [
                 -85.508091,
                 45.730506
                ]
               ]
              ],
              [
               [
                [
                 -87.589328,
                 45.095181
                ],
                [
                 -87.742682,
                 45.199243
                ],
                [
                 -87.649574,
                 45.341643
                ],
                [
                 -87.885083,
                 45.363551
                ],
                [
                 -87.791975,
                 45.500474
                ],
                [
                 -87.781021,
                 45.675736
                ],
                [
                 -87.989145,
                 45.796229
                ],
                [
                 -88.10416,
                 45.922199
                ],
                [
                 -88.531362,
                 46.020784
                ],
                [
                 -88.662808,
                 45.987922
                ],
                [
                 -89.09001,
                 46.135799
                ],
                [
                 -90.119674,
                 46.338446
                ],
                [
                 -90.229213,
                 46.508231
                ],
                [
                 -90.415429,
                 46.568478
                ],
                [
                 -90.026566,
                 46.672539
                ],
                [
                 -89.851304,
                 46.793032
                ],
                [
                 -89.413149,
                 46.842325
                ],
                [
                 -89.128348,
                 46.990202
                ],
                [
                 -88.996902,
                 46.995679
                ],
                [
                 -88.887363,
                 47.099741
                ],
                [
                 -88.575177,
                 47.247618
                ],
                [
                 -88.416346,
                 47.373588
                ],
                [
                 -88.180837,
                 47.455742
                ],
                [
                 -87.956283,
                 47.384542
                ],
                [
                 -88.350623,
                 47.077833
                ],
                [
                 -88.443731,
                 46.973771
                ],
                [
                 -88.438254,
                 46.787555
                ],
                [
                 -88.246561,
                 46.929956
                ],
                [
                 -87.901513,
                 46.908048
                ],
                [
                 -87.633143,
                 46.809463
                ],
                [
                 -87.392158,
                 46.535616
                ],
                [
                 -87.260711,
                 46.486323
                ],
                [
                 -87.008772,
                 46.530139
                ],
                [
                 -86.948526,
                 46.469893
                ],
                [
                 -86.696587,
                 46.437031
                ],
                [
                 -86.159846,
                 46.667063
                ],
                [
                 -85.880522,
                 46.68897
                ],
                [
                 -85.508091,
                 46.678016
                ],
                [
                 -85.256151,
                 46.754694
                ],
                [
                 -85.064458,
                 46.760171
                ],
                [
                 -85.02612,
                 46.480847
                ],
                [
                 -84.82895,
                 46.442508
                ],
                [
                 -84.63178,
                 46.486323
                ],
                [
                 -84.549626,
                 46.4206
                ],
                [
                 -84.418179,
                 46.502754
                ],
                [
                 -84.127902,
                 46.530139
                ],
                [
                 -84.122425,
                 46.179615
                ],
                [
                 -83.990978,
                 46.031737
                ],
                [
                 -83.793808,
                 45.993399
                ],
                [
                 -83.7719,
                 46.091984
                ],
                [
                 -83.580208,
                 46.091984
                ],
                [
                 -83.476146,
                 45.987922
                ],
                [
                 -83.563777,
                 45.911245
                ],
                [
                 -84.111471,
                 45.976968
                ],
                [
                 -84.374364,
                 45.933153
                ],
                [
                 -84.659165,
                 46.053645
                ],
                [
                 -84.741319,
                 45.944106
                ],
                [
                 -84.70298,
                 45.850998
                ],
                [
                 -84.82895,
                 45.872906
                ],
                [
                 -85.015166,
                 46.00983
                ],
                [
                 -85.338305,
                 46.091984
                ],
                [
                 -85.502614,
                 46.097461
                ],
                [
                 -85.661445,
                 45.966014
                ],
                [
                 -85.924338,
                 45.933153
                ],
                [
                 -86.209139,
                 45.960537
                ],
                [
                 -86.324155,
                 45.905768
                ],
                [
                 -86.351539,
                 45.796229
                ],
                [
                 -86.663725,
                 45.703121
                ],
                [
                 -86.647294,
                 45.834568
                ],
                [
                 -86.784218,
                 45.861952
                ],
                [
                 -86.838987,
                 45.725029
                ],
                [
                 -87.069019,
                 45.719552
                ],
                [
                 -87.17308,
                 45.659305
                ],
                [
                 -87.326435,
                 45.423797
                ],
                [
                 -87.611236,
                 45.122565
                ],
                [
                 -87.589328,
                 45.095181
                ]
               ]
              ],
              [
               [
                [
                 -88.805209,
                 47.976051
                ],
                [
                 -89.057148,
                 47.850082
                ],
                [
                 -89.188594,
                 47.833651
                ],
                [
                 -89.177641,
                 47.937713
                ],
                [
                 -88.547792,
                 48.173221
                ],
                [
                 -88.668285,
                 48.008913
                ],
                [
                 -88.805209,
                 47.976051
                ]
               ]
              ]
             ],
             "type": "MultiPolygon"
            },
            "id": "26",
            "properties": {
             "density": 173.9,
             "name": "Michigan"
            },
            "type": "Feature"
           },
           {
            "geometry": {
             "coordinates": [
              [
               [
                -92.014696,
                46.705401
               ],
               [
                -92.091373,
                46.749217
               ],
               [
                -92.29402,
                46.667063
               ],
               [
                -92.29402,
                46.075553
               ],
               [
                -92.354266,
                46.015307
               ],
               [
                -92.639067,
                45.933153
               ],
               [
                -92.869098,
                45.719552
               ],
               [
                -92.885529,
                45.577151
               ],
               [
                -92.770513,
                45.566198
               ],
               [
                -92.644544,
                45.440228
               ],
               [
                -92.75956,
                45.286874
               ],
               [
                -92.737652,
                45.117088
               ],
               [
                -92.808852,
                44.750133
               ],
               [
                -92.545959,
                44.569394
               ],
               [
                -92.337835,
                44.552964
               ],
               [
                -92.233773,
                44.443425
               ],
               [
                -91.927065,
                44.333886
               ],
               [
                -91.877772,
                44.202439
               ],
               [
                -91.592971,
                44.032654
               ],
               [
                -91.43414,
                43.994316
               ],
               [
                -91.242447,
                43.775238
               ],
               [
                -91.269832,
                43.616407
               ],
               [
                -91.215062,
                43.501391
               ],
               [
                -91.368417,
                43.501391
               ],
               [
                -96.451017,
                43.501391
               ],
               [
                -96.451017,
                45.297827
               ],
               [
                -96.681049,
                45.412843
               ],
               [
                -96.856311,
                45.604536
               ],
               [
                -96.582464,
                45.818137
               ],
               [
                -96.560556,
                45.933153
               ],
               [
                -96.598895,
                46.332969
               ],
               [
                -96.719387,
                46.437031
               ],
               [
                -96.801542,
                46.656109
               ],
               [
                -96.785111,
                46.924479
               ],
               [
                -96.823449,
                46.968294
               ],
               [
                -96.856311,
                47.609096
               ],
               [
                -97.053481,
                47.948667
               ],
               [
                -97.130158,
                48.140359
               ],
               [
                -97.16302,
                48.545653
               ],
               [
                -97.097296,
                48.682577
               ],
               [
                -97.228743,
                49.000239
               ],
               [
                -95.152983,
                49.000239
               ],
               [
                -95.152983,
                49.383625
               ],
               [
                -94.955813,
                49.372671
               ],
               [
                -94.824366,
                49.295994
               ],
               [
                -94.69292,
                48.775685
               ],
               [
                -94.588858,
                48.715438
               ],
               [
                -94.260241,
                48.699007
               ],
               [
                -94.221903,
                48.649715
               ],
               [
                -93.838517,
                48.627807
               ],
               [
                -93.794701,
                48.518268
               ],
               [
                -93.466085,
                48.545653
               ],
               [
                -93.466085,
                48.589469
               ],
               [
                -93.208669,
                48.644238
               ],
               [
                -92.984114,
                48.62233
               ],
               [
                -92.726698,
                48.540176
               ],
               [
                -92.655498,
                48.436114
               ],
               [
                -92.50762,
                48.447068
               ],
               [
                -92.370697,
                48.222514
               ],
               [
                -92.304974,
                48.315622
               ],
               [
                -92.053034,
                48.359437
               ],
               [
                -92.009219,
                48.266329
               ],
               [
                -91.713464,
                48.200606
               ],
               [
                -91.713464,
                48.112975
               ],
               [
                -91.565587,
                48.041775
               ],
               [
                -91.264355,
                48.080113
               ],
               [
                -91.083616,
                48.178698
               ],
               [
                -90.837154,
                48.238944
               ],
               [
                -90.749522,
                48.091067
               ],
               [
                -90.579737,
                48.123929
               ],
               [
                -90.377091,
                48.091067
               ],
               [
                -90.141582,
                48.112975
               ],
               [
                -89.873212,
                47.987005
               ],
               [
                -89.615796,
                48.008913
               ],
               [
                -89.637704,
                47.954144
               ],
               [
                -89.971797,
                47.828174
               ],
               [
                -90.437337,
                47.729589
               ],
               [
                -90.738569,
                47.625527
               ],
               [
                -91.171247,
                47.368111
               ],
               [
                -91.357463,
                47.20928
               ],
               [
                -91.642264,
                47.028541
               ],
               [
                -92.091373,
                46.787555
               ],
               [
                -92.014696,
                46.705401
               ]
              ]
             ],
             "type": "Polygon"
            },
            "id": "27",
            "properties": {
             "density": 67.14,
             "name": "Minnesota"
            },
            "type": "Feature"
           },
           {
            "geometry": {
             "coordinates": [
              [
               [
                -88.471115,
                34.995703
               ],
               [
                -88.202745,
                34.995703
               ],
               [
                -88.098683,
                34.891641
               ],
               [
                -88.241084,
                33.796253
               ],
               [
                -88.471115,
                31.895754
               ],
               [
                -88.394438,
                30.367688
               ],
               [
                -88.503977,
                30.323872
               ],
               [
                -88.744962,
                30.34578
               ],
               [
                -88.843547,
                30.411504
               ],
               [
                -89.084533,
                30.367688
               ],
               [
                -89.418626,
                30.252672
               ],
               [
                -89.522688,
                30.181472
               ],
               [
                -89.643181,
                30.285534
               ],
               [
                -89.681519,
                30.449842
               ],
               [
                -89.845827,
                30.66892
               ],
               [
                -89.747242,
                30.997536
               ],
               [
                -91.636787,
                30.997536
               ],
               [
                -91.565587,
                31.068736
               ],
               [
                -91.636787,
                31.265906
               ],
               [
                -91.516294,
                31.27686
               ],
               [
                -91.499863,
                31.643815
               ],
               [
                -91.401278,
                31.621907
               ],
               [
                -91.341032,
                31.846462
               ],
               [
                -91.105524,
                31.988862
               ],
               [
                -90.985031,
                32.218894
               ],
               [
                -91.006939,
                32.514649
               ],
               [
                -91.154816,
                32.640618
               ],
               [
                -91.143862,
                32.843265
               ],
               [
                -91.072662,
                32.887081
               ],
               [
                -91.16577,
                33.002096
               ],
               [
                -91.089093,
                33.13902
               ],
               [
                -91.143862,
                33.347144
               ],
               [
                -91.056231,
                33.429298
               ],
               [
                -91.231493,
                33.560744
               ],
               [
                -91.072662,
                33.867453
               ],
               [
                -90.891923,
                34.026284
               ],
               [
                -90.952169,
                34.135823
               ],
               [
                -90.744046,
                34.300131
               ],
               [
                -90.749522,
                34.365854
               ],
               [
                -90.568783,
                34.420624
               ],
               [
                -90.585214,
                34.617794
               ],
               [
                -90.481152,
                34.661609
               ],
               [
                -90.409952,
                34.831394
               ],
               [
                -90.251121,
                34.908072
               ],
               [
                -90.311367,
                34.995703
               ],
               [
                -88.471115,
                34.995703
               ]
              ]
             ],
             "type": "Polygon"
            },
            "id": "28",
            "properties": {
             "density": 63.5,
             "name": "Mississippi"
            },
            "type": "Feature"
           },
           {
            "geometry": {
             "coordinates": [
              [
               [
                -91.833957,
                40.609566
               ],
               [
                -91.729895,
                40.615043
               ],
               [
                -91.527248,
                40.412397
               ],
               [
                -91.417709,
                40.379535
               ],
               [
                -91.50534,
                40.237135
               ],
               [
                -91.494386,
                40.034488
               ],
               [
                -91.368417,
                39.727779
               ],
               [
                -91.061708,
                39.470363
               ],
               [
                -90.727615,
                39.256762
               ],
               [
                -90.661891,
                38.928146
               ],
               [
                -90.585214,
                38.867899
               ],
               [
                -90.470199,
                38.961007
               ],
               [
                -90.251121,
                38.917192
               ],
               [
                -90.10872,
                38.845992
               ],
               [
                -90.207305,
                38.725499
               ],
               [
                -90.179921,
                38.632391
               ],
               [
                -90.349706,
                38.374975
               ],
               [
                -90.355183,
                38.216144
               ],
               [
                -90.059428,
                38.013497
               ],
               [
                -89.949889,
                37.88205
               ],
               [
                -89.84035,
                37.903958
               ],
               [
                -89.517211,
                37.690357
               ],
               [
                -89.517211,
                37.537003
               ],
               [
                -89.435057,
                37.34531
               ],
               [
                -89.517211,
                37.279587
               ],
               [
                -89.292656,
                36.994786
               ],
               [
                -89.133825,
                36.983832
               ],
               [
                -89.215979,
                36.578538
               ],
               [
                -89.363857,
                36.622354
               ],
               [
                -89.418626,
                36.496384
               ],
               [
                -89.484349,
                36.496384
               ],
               [
                -89.539119,
                36.496384
               ],
               [
                -89.533642,
                36.249922
               ],
               [
                -89.730812,
                35.997983
               ],
               [
                -90.377091,
                35.997983
               ],
               [
                -90.218259,
                36.184199
               ],
               [
                -90.064905,
                36.304691
               ],
               [
                -90.152536,
                36.496384
               ],
               [
                -94.473842,
                36.501861
               ],
               [
                -94.616242,
                36.501861
               ],
               [
                -94.616242,
                37.000263
               ],
               [
                -94.610765,
                39.158177
               ],
               [
                -94.824366,
                39.20747
               ],
               [
                -94.983197,
                39.442978
               ],
               [
                -95.109167,
                39.541563
               ],
               [
                -94.884612,
                39.831841
               ],
               [
                -95.207752,
                39.908518
               ],
               [
                -95.306337,
                40.001626
               ],
               [
                -95.552799,
                40.264519
               ],
               [
                -95.7664,
                40.587659
               ],
               [
                -94.632673,
                40.571228
               ],
               [
                -93.257961,
                40.582182
               ],
               [
                -91.833957,
                40.609566
               ]
              ]
             ],
             "type": "Polygon"
            },
            "id": "29",
            "properties": {
             "density": 87.26,
             "name": "Missouri"
            },
            "type": "Feature"
           },
           {
            "geometry": {
             "coordinates": [
              [
               [
                -104.047534,
                49.000239
               ],
               [
                -104.042057,
                47.861036
               ],
               [
                -104.047534,
                45.944106
               ],
               [
                -104.042057,
                44.996596
               ],
               [
                -104.058488,
                44.996596
               ],
               [
                -105.91517,
                45.002073
               ],
               [
                -109.080842,
                45.002073
               ],
               [
                -111.05254,
                45.002073
               ],
               [
                -111.047063,
                44.476286
               ],
               [
                -111.227803,
                44.580348
               ],
               [
                -111.386634,
                44.75561
               ],
               [
                -111.616665,
                44.547487
               ],
               [
                -111.819312,
                44.509148
               ],
               [
                -111.868605,
                44.563917
               ],
               [
                -112.104113,
                44.520102
               ],
               [
                -112.241036,
                44.569394
               ],
               [
                -112.471068,
                44.481763
               ],
               [
                -112.783254,
                44.48724
               ],
               [
                -112.887315,
                44.394132
               ],
               [
                -113.002331,
                44.448902
               ],
               [
                -113.133778,
                44.772041
               ],
               [
                -113.341901,
                44.782995
               ],
               [
                -113.456917,
                44.865149
               ],
               [
                -113.45144,
                45.056842
               ],
               [
                -113.571933,
                45.128042
               ],
               [
                -113.736241,
                45.330689
               ],
               [
                -113.834826,
                45.522382
               ],
               [
                -113.807441,
                45.604536
               ],
               [
                -113.98818,
                45.703121
               ],
               [
                -114.086765,
                45.593582
               ],
               [
                -114.333228,
                45.456659
               ],
               [
                -114.546828,
                45.560721
               ],
               [
                -114.497536,
                45.670259
               ],
               [
                -114.568736,
                45.774321
               ],
               [
                -114.387997,
                45.88386
               ],
               [
                -114.492059,
                46.037214
               ],
               [
                -114.464674,
                46.272723
               ],
               [
                -114.322274,
                46.645155
               ],
               [
                -114.612552,
                46.639678
               ],
               [
                -114.623506,
                46.705401
               ],
               [
                -114.886399,
                46.809463
               ],
               [
                -114.930214,
                46.919002
               ],
               [
                -115.302646,
                47.187372
               ],
               [
                -115.324554,
                47.258572
               ],
               [
                -115.527201,
                47.302388
               ],
               [
                -115.718894,
                47.42288
               ],
               [
                -115.724371,
                47.696727
               ],
               [
                -116.04751,
                47.976051
               ],
               [
                -116.04751,
                49.000239
               ],
               [
                -111.50165,
                48.994762
               ],
               [
                -109.453274,
                49.000239
               ],
               [
                -104.047534,
                49.000239
               ]
              ]
             ],
             "type": "Polygon"
            },
            "id": "30",
            "properties": {
             "density": 6.858,
             "name": "Montana"
            },
            "type": "Feature"
           },
           {
            "geometry": {
             "coordinates": [
              [
               [
                -103.324578,
                43.002989
               ],
               [
                -101.626726,
                42.997512
               ],
               [
                -98.499393,
                42.997512
               ],
               [
                -98.466531,
                42.94822
               ],
               [
                -97.951699,
                42.767481
               ],
               [
                -97.831206,
                42.866066
               ],
               [
                -97.688806,
                42.844158
               ],
               [
                -97.217789,
                42.844158
               ],
               [
                -96.692003,
                42.657942
               ],
               [
                -96.626279,
                42.515542
               ],
               [
                -96.44554,
                42.488157
               ],
               [
                -96.264801,
                42.039048
               ],
               [
                -96.127878,
                41.973325
               ],
               [
                -96.062155,
                41.798063
               ],
               [
                -96.122401,
                41.67757
               ],
               [
                -96.095016,
                41.540646
               ],
               [
                -95.919754,
                41.453015
               ],
               [
                -95.925231,
                41.201076
               ],
               [
                -95.826646,
                40.976521
               ],
               [
                -95.881416,
                40.719105
               ],
               [
                -95.7664,
                40.587659
               ],
               [
                -95.552799,
                40.264519
               ],
               [
                -95.306337,
                40.001626
               ],
               [
                -101.90605,
                40.001626
               ],
               [
                -102.053927,
                40.001626
               ],
               [
                -102.053927,
                41.003906
               ],
               [
                -104.053011,
                41.003906
               ],
               [
                -104.053011,
                43.002989
               ],
               [
                -103.324578,
                43.002989
               ]
              ]
             ],
             "type": "Polygon"
            },
            "id": "31",
            "properties": {
             "density": 23.97,
             "name": "Nebraska"
            },
            "type": "Feature"
           },
           {
            "geometry": {
             "coordinates": [
              [
               [
                -117.027882,
                42.000709
               ],
               [
                -114.04295,
                41.995232
               ],
               [
                -114.048427,
                37.000263
               ],
               [
                -114.048427,
                36.195153
               ],
               [
                -114.152489,
                36.025367
               ],
               [
                -114.251074,
                36.01989
               ],
               [
                -114.371566,
                36.140383
               ],
               [
                -114.738521,
                36.102045
               ],
               [
                -114.678275,
                35.516012
               ],
               [
                -114.596121,
                35.324319
               ],
               [
                -114.574213,
                35.138103
               ],
               [
                -114.634459,
                35.00118
               ],
               [
                -115.85034,
                35.970598
               ],
               [
                -116.540435,
                36.501861
               ],
               [
                -117.498899,
                37.21934
               ],
               [
                -118.71478,
                38.101128
               ],
               [
                -120.001861,
                38.999346
               ],
               [
                -119.996384,
                40.264519
               ],
               [
                -120.001861,
                41.995232
               ],
               [
                -118.698349,
                41.989755
               ],
               [
                -117.027882,
                42.000709
               ]
              ]
             ],
             "type": "Polygon"
            },
            "id": "32",
            "properties": {
             "density": 24.8,
             "name": "Nevada"
            },
            "type": "Feature"
           },
           {
            "geometry": {
             "coordinates": [
              [
               [
                -71.08183,
                45.303304
               ],
               [
                -71.032537,
                44.657025
               ],
               [
                -70.966814,
                43.34256
               ],
               [
                -70.807983,
                43.227544
               ],
               [
                -70.824413,
                43.128959
               ],
               [
                -70.703921,
                43.057759
               ],
               [
                -70.818936,
                42.871543
               ],
               [
                -70.917521,
                42.887974
               ],
               [
                -71.185891,
                42.789389
               ],
               [
                -71.29543,
                42.696281
               ],
               [
                -72.456542,
                42.729142
               ],
               [
                -72.544173,
                42.80582
               ],
               [
                -72.533219,
                42.953697
               ],
               [
                -72.445588,
                43.008466
               ],
               [
                -72.456542,
                43.150867
               ],
               [
                -72.379864,
                43.572591
               ],
               [
                -72.204602,
                43.769761
               ],
               [
                -72.116971,
                43.994316
               ],
               [
                -72.02934,
                44.07647
               ],
               [
                -72.034817,
                44.322932
               ],
               [
                -71.700724,
                44.41604
               ],
               [
                -71.536416,
                44.585825
               ],
               [
                -71.629524,
                44.750133
               ],
               [
                -71.4926,
                44.914442
               ],
               [
                -71.503554,
                45.013027
               ],
               [
                -71.361154,
                45.270443
               ],
               [
                -71.131122,
                45.243058
               ],
               [
                -71.08183,
                45.303304
               ]
              ]
             ],
             "type": "Polygon"
            },
            "id": "33",
            "properties": {
             "density": 147,
             "name": "New Hampshire"
            },
            "type": "Feature"
           },
           {
            "geometry": {
             "coordinates": [
              [
               [
                -74.236547,
                41.14083
               ],
               [
                -73.902454,
                40.998429
               ],
               [
                -74.022947,
                40.708151
               ],
               [
                -74.187255,
                40.642428
               ],
               [
                -74.274886,
                40.489074
               ],
               [
                -74.001039,
                40.412397
               ],
               [
                -73.979131,
                40.297381
               ],
               [
                -74.099624,
                39.760641
               ],
               [
                -74.411809,
                39.360824
               ],
               [
                -74.614456,
                39.245808
               ],
               [
                -74.795195,
                38.993869
               ],
               [
                -74.888303,
                39.158177
               ],
               [
                -75.178581,
                39.240331
               ],
               [
                -75.534582,
                39.459409
               ],
               [
                -75.55649,
                39.607286
               ],
               [
                -75.561967,
                39.629194
               ],
               [
                -75.507197,
                39.683964
               ],
               [
                -75.414089,
                39.804456
               ],
               [
                -75.145719,
                39.88661
               ],
               [
                -75.129289,
                39.963288
               ],
               [
                -74.82258,
                40.127596
               ],
               [
                -74.773287,
                40.215227
               ],
               [
                -75.058088,
                40.417874
               ],
               [
                -75.069042,
                40.543843
               ],
               [
                -75.195012,
                40.576705
               ],
               [
                -75.205966,
                40.691721
               ],
               [
                -75.052611,
                40.866983
               ],
               [
                -75.134765,
                40.971045
               ],
               [
                -74.882826,
                41.179168
               ],
               [
                -74.828057,
                41.288707
               ],
               [
                -74.69661,
                41.359907
               ],
               [
                -74.236547,
                41.14083
               ]
              ]
             ],
             "type": "Polygon"
            },
            "id": "34",
            "properties": {
             "density": 1189,
             "name": "New Jersey"
            },
            "type": "Feature"
           },
           {
            "geometry": {
             "coordinates": [
              [
               [
                -107.421329,
                37.000263
               ],
               [
                -106.868158,
                36.994786
               ],
               [
                -104.337812,
                36.994786
               ],
               [
                -103.001438,
                37.000263
               ],
               [
                -103.001438,
                36.501861
               ],
               [
                -103.039777,
                36.501861
               ],
               [
                -103.045254,
                34.01533
               ],
               [
                -103.067161,
                33.002096
               ],
               [
                -103.067161,
                31.999816
               ],
               [
                -106.616219,
                31.999816
               ],
               [
                -106.643603,
                31.901231
               ],
               [
                -106.528588,
                31.786216
               ],
               [
                -108.210008,
                31.786216
               ],
               [
                -108.210008,
                31.331629
               ],
               [
                -109.04798,
                31.331629
               ],
               [
                -109.042503,
                37.000263
               ],
               [
                -107.421329,
                37.000263
               ]
              ]
             ],
             "type": "Polygon"
            },
            "id": "35",
            "properties": {
             "density": 17.16,
             "name": "New Mexico"
            },
            "type": "Feature"
           },
           {
            "geometry": {
             "coordinates": [
              [
               [
                -73.343806,
                45.013027
               ],
               [
                -73.332852,
                44.804903
               ],
               [
                -73.387622,
                44.618687
               ],
               [
                -73.294514,
                44.437948
               ],
               [
                -73.321898,
                44.246255
               ],
               [
                -73.436914,
                44.043608
               ],
               [
                -73.349283,
                43.769761
               ],
               [
                -73.404052,
                43.687607
               ],
               [
                -73.245221,
                43.523299
               ],
               [
                -73.278083,
                42.833204
               ],
               [
                -73.267129,
                42.745573
               ],
               [
                -73.508114,
                42.08834
               ],
               [
                -73.486206,
                42.050002
               ],
               [
                -73.55193,
                41.294184
               ],
               [
                -73.48073,
                41.21203
               ],
               [
                -73.727192,
                41.102491
               ],
               [
                -73.655992,
                40.987475
               ],
               [
                -73.22879,
                40.905321
               ],
               [
                -73.141159,
                40.965568
               ],
               [
                -72.774204,
                40.965568
               ],
               [
                -72.587988,
                40.998429
               ],
               [
                -72.28128,
                41.157261
               ],
               [
                -72.259372,
                41.042245
               ],
               [
                -72.100541,
                40.992952
               ],
               [
                -72.467496,
                40.845075
               ],
               [
                -73.239744,
                40.625997
               ],
               [
                -73.562884,
                40.582182
               ],
               [
                -73.776484,
                40.593136
               ],
               [
                -73.935316,
                40.543843
               ],
               [
                -74.022947,
                40.708151
               ],
               [
                -73.902454,
                40.998429
               ],
               [
                -74.236547,
                41.14083
               ],
               [
                -74.69661,
                41.359907
               ],
               [
                -74.740426,
                41.431108
               ],
               [
                -74.89378,
                41.436584
               ],
               [
                -75.074519,
                41.60637
               ],
               [
                -75.052611,
                41.754247
               ],
               [
                -75.173104,
                41.869263
               ],
               [
                -75.249781,
                41.863786
               ],
               [
                -75.35932,
                42.000709
               ],
               [
                -79.76278,
                42.000709
               ],
               [
                -79.76278,
                42.252649
               ],
               [
                -79.76278,
                42.269079
               ],
               [
                -79.149363,
                42.55388
               ],
               [
                -79.050778,
                42.690804
               ],
               [
                -78.853608,
                42.783912
               ],
               [
                -78.930285,
                42.953697
               ],
               [
                -79.012439,
                42.986559
               ],
               [
                -79.072686,
                43.260406
               ],
               [
                -78.486653,
                43.375421
               ],
               [
                -77.966344,
                43.369944
               ],
               [
                -77.75822,
                43.34256
               ],
               [
                -77.533665,
                43.233021
               ],
               [
                -77.391265,
                43.276836
               ],
               [
                -76.958587,
                43.271359
               ],
               [
                -76.695693,
                43.34256
               ],
               [
                -76.41637,
                43.523299
               ],
               [
                -76.235631,
                43.528776
               ],
               [
                -76.230154,
                43.802623
               ],
               [
                -76.137046,
                43.961454
               ],
               [
                -76.3616,
                44.070993
               ],
               [
                -76.312308,
                44.196962
               ],
               [
                -75.912491,
                44.366748
               ],
               [
                -75.764614,
                44.514625
               ],
               [
                -75.282643,
                44.848718
               ],
               [
                -74.828057,
                45.018503
               ],
               [
                -74.148916,
                44.991119
               ],
               [
                -73.343806,
                45.013027
               ]
              ]
             ],
             "type": "Polygon"
            },
            "id": "36",
            "properties": {
             "density": 412.3,
             "name": "New York"
            },
            "type": "Feature"
           },
           {
            "geometry": {
             "coordinates": [
              [
               [
                -80.978661,
                36.562108
               ],
               [
                -80.294043,
                36.545677
               ],
               [
                -79.510841,
                36.5402
               ],
               [
                -75.868676,
                36.551154
               ],
               [
                -75.75366,
                36.151337
               ],
               [
                -76.032984,
                36.189676
               ],
               [
                -76.071322,
                36.140383
               ],
               [
                -76.410893,
                36.080137
               ],
               [
                -76.460185,
                36.025367
               ],
               [
                -76.68474,
                36.008937
               ],
               [
                -76.673786,
                35.937736
               ],
               [
                -76.399939,
                35.987029
               ],
               [
                -76.3616,
                35.943213
               ],
               [
                -76.060368,
                35.992506
               ],
               [
                -75.961783,
                35.899398
               ],
               [
                -75.781044,
                35.937736
               ],
               [
                -75.715321,
                35.696751
               ],
               [
                -75.775568,
                35.581735
               ],
               [
                -75.89606,
                35.570781
               ],
               [
                -76.147999,
                35.324319
               ],
               [
                -76.482093,
                35.313365
               ],
               [
                -76.536862,
                35.14358
               ],
               [
                -76.394462,
                34.973795
               ],
               [
                -76.279446,
                34.940933
               ],
               [
                -76.493047,
                34.661609
               ],
               [
                -76.673786,
                34.694471
               ],
               [
                -76.991448,
                34.667086
               ],
               [
                -77.210526,
                34.60684
               ],
               [
                -77.555573,
                34.415147
               ],
               [
                -77.82942,
                34.163208
               ],
               [
                -77.971821,
                33.845545
               ],
               [
                -78.179944,
                33.916745
               ],
               [
                -78.541422,
                33.851022
               ],
               [
                -79.675149,
                34.80401
               ],
               [
                -80.797922,
                34.820441
               ],
               [
                -80.781491,
                34.935456
               ],
               [
                -80.934845,
                35.105241
               ],
               [
                -81.038907,
                35.044995
               ],
               [
                -81.044384,
                35.149057
               ],
               [
                -82.276696,
                35.198349
               ],
               [
                -82.550543,
                35.160011
               ],
               [
                -82.764143,
                35.066903
               ],
               [
                -83.109191,
                35.00118
               ],
               [
                -83.618546,
                34.984749
               ],
               [
                -84.319594,
                34.990226
               ],
               [
                -84.29221,
                35.225734
               ],
               [
                -84.09504,
                35.247642
               ],
               [
                -84.018363,
                35.41195
               ],
               [
                -83.7719,
                35.559827
               ],
               [
                -83.498053,
                35.565304
               ],
               [
                -83.251591,
                35.718659
               ],
               [
                -82.994175,
                35.773428
               ],
               [
                -82.775097,
                35.997983
               ],
               [
                -82.638174,
                36.063706
               ],
               [
                -82.610789,
                35.965121
               ],
               [
                -82.216449,
                36.156814
               ],
               [
                -82.03571,
                36.118475
               ],
               [
                -81.909741,
                36.304691
               ],
               [
                -81.723525,
                36.353984
               ],
               [
                -81.679709,
                36.589492
               ],
               [
                -80.978661,
                36.562108
               ]
              ]
             ],
             "type": "Polygon"
            },
            "id": "37",
            "properties": {
             "density": 198.2,
             "name": "North Carolina"
            },
            "type": "Feature"
           },
           {
            "geometry": {
             "coordinates": [
              [
               [
                -97.228743,
                49.000239
               ],
               [
                -97.097296,
                48.682577
               ],
               [
                -97.16302,
                48.545653
               ],
               [
                -97.130158,
                48.140359
               ],
               [
                -97.053481,
                47.948667
               ],
               [
                -96.856311,
                47.609096
               ],
               [
                -96.823449,
                46.968294
               ],
               [
                -96.785111,
                46.924479
               ],
               [
                -96.801542,
                46.656109
               ],
               [
                -96.719387,
                46.437031
               ],
               [
                -96.598895,
                46.332969
               ],
               [
                -96.560556,
                45.933153
               ],
               [
                -104.047534,
                45.944106
               ],
               [
                -104.042057,
                47.861036
               ],
               [
                -104.047534,
                49.000239
               ],
               [
                -97.228743,
                49.000239
               ]
              ]
             ],
             "type": "Polygon"
            },
            "id": "38",
            "properties": {
             "density": 9.916,
             "name": "North Dakota"
            },
            "type": "Feature"
           },
           {
            "geometry": {
             "coordinates": [
              [
               [
                -80.518598,
                41.978802
               ],
               [
                -80.518598,
                40.636951
               ],
               [
                -80.666475,
                40.582182
               ],
               [
                -80.595275,
                40.472643
               ],
               [
                -80.600752,
                40.319289
               ],
               [
                -80.737675,
                40.078303
               ],
               [
                -80.830783,
                39.711348
               ],
               [
                -81.219646,
                39.388209
               ],
               [
                -81.345616,
                39.344393
               ],
               [
                -81.455155,
                39.410117
               ],
               [
                -81.57017,
                39.267716
               ],
               [
                -81.685186,
                39.273193
               ],
               [
                -81.811156,
                39.0815
               ],
               [
                -81.783771,
                38.966484
               ],
               [
                -81.887833,
                38.873376
               ],
               [
                -82.03571,
                39.026731
               ],
               [
                -82.221926,
                38.785745
               ],
               [
                -82.172634,
                38.632391
               ],
               [
                -82.293127,
                38.577622
               ],
               [
                -82.331465,
                38.446175
               ],
               [
                -82.594358,
                38.424267
               ],
               [
                -82.731282,
                38.561191
               ],
               [
                -82.846298,
                38.588575
               ],
               [
                -82.890113,
                38.758361
               ],
               [
                -83.032514,
                38.725499
               ],
               [
                -83.142052,
                38.626914
               ],
               [
                -83.519961,
                38.703591
               ],
               [
                -83.678792,
                38.632391
               ],
               [
                -83.903347,
                38.769315
               ],
               [
                -84.215533,
                38.807653
               ],
               [
                -84.231963,
                38.895284
               ],
               [
                -84.43461,
                39.103408
               ],
               [
                -84.817996,
                39.103408
               ],
               [
                -84.801565,
                40.500028
               ],
               [
                -84.807042,
                41.694001
               ],
               [
                -83.454238,
                41.732339
               ],
               [
                -83.065375,
                41.595416
               ],
               [
                -82.933929,
                41.513262
               ],
               [
                -82.835344,
                41.589939
               ],
               [
                -82.616266,
                41.431108
               ],
               [
                -82.479343,
                41.381815
               ],
               [
                -82.013803,
                41.513262
               ],
               [
                -81.739956,
                41.485877
               ],
               [
                -81.444201,
                41.672093
               ],
               [
                -81.011523,
                41.852832
               ],
               [
                -80.518598,
                41.978802
               ],
               [
                -80.518598,
                41.978802
               ]
              ]
             ],
             "type": "Polygon"
            },
            "id": "39",
            "properties": {
             "density": 281.9,
             "name": "Ohio"
            },
            "type": "Feature"
           },
           {
            "geometry": {
             "coordinates": [
              [
               [
                -100.087706,
                37.000263
               ],
               [
                -94.616242,
                37.000263
               ],
               [
                -94.616242,
                36.501861
               ],
               [
                -94.430026,
                35.395519
               ],
               [
                -94.484796,
                33.637421
               ],
               [
                -94.868182,
                33.74696
               ],
               [
                -94.966767,
                33.861976
               ],
               [
                -95.224183,
                33.960561
               ],
               [
                -95.289906,
                33.87293
               ],
               [
                -95.547322,
                33.878407
               ],
               [
                -95.602092,
                33.933176
               ],
               [
                -95.8376,
                33.834591
               ],
               [
                -95.936185,
                33.889361
               ],
               [
                -96.149786,
                33.840068
               ],
               [
                -96.346956,
                33.686714
               ],
               [
                -96.423633,
                33.774345
               ],
               [
                -96.631756,
                33.845545
               ],
               [
                -96.850834,
                33.845545
               ],
               [
                -96.922034,
                33.960561
               ],
               [
                -97.173974,
                33.736006
               ],
               [
                -97.256128,
                33.861976
               ],
               [
                -97.371143,
                33.823637
               ],
               [
                -97.458774,
                33.905791
               ],
               [
                -97.694283,
                33.982469
               ],
               [
                -97.869545,
                33.851022
               ],
               [
                -97.946222,
                33.987946
               ],
               [
                -98.088623,
                34.004376
               ],
               [
                -98.170777,
                34.113915
               ],
               [
                -98.36247,
                34.157731
               ],
               [
                -98.488439,
                34.064623
               ],
               [
                -98.570593,
                34.146777
               ],
               [
                -98.767763,
                34.135823
               ],
               [
                -98.986841,
                34.223454
               ],
               [
                -99.189488,
                34.2125
               ],
               [
                -99.260688,
                34.404193
               ],
               [
                -99.57835,
                34.415147
               ],
               [
                -99.698843,
                34.382285
               ],
               [
                -99.923398,
                34.573978
               ],
               [
                -100.000075,
                34.563024
               ],
               [
                -100.000075,
                36.501861
               ],
               [
                -101.812942,
                36.501861
               ],
               [
                -103.001438,
                36.501861
               ],
               [
                -103.001438,
                37.000263
               ],
               [
                -102.042974,
                36.994786
               ],
               [
                -100.087706,
                37.000263
               ]
              ]
             ],
             "type": "Polygon"
            },
            "id": "40",
            "properties": {
             "density": 55.22,
             "name": "Oklahoma"
            },
            "type": "Feature"
           },
           {
            "geometry": {
             "coordinates": [
              [
               [
                -123.211348,
                46.174138
               ],
               [
                -123.11824,
                46.185092
               ],
               [
                -122.904639,
                46.08103
               ],
               [
                -122.811531,
                45.960537
               ],
               [
                -122.762239,
                45.659305
               ],
               [
                -122.247407,
                45.549767
               ],
               [
                -121.809251,
                45.708598
               ],
               [
                -121.535404,
                45.725029
               ],
               [
                -121.217742,
                45.670259
               ],
               [
                -121.18488,
                45.604536
               ],
               [
                -120.637186,
                45.746937
               ],
               [
                -120.505739,
                45.697644
               ],
               [
                -120.209985,
                45.725029
               ],
               [
                -119.963522,
                45.823614
               ],
               [
                -119.525367,
                45.911245
               ],
               [
                -119.125551,
                45.933153
               ],
               [
                -118.988627,
                45.998876
               ],
               [
                -116.918344,
                45.993399
               ],
               [
                -116.78142,
                45.823614
               ],
               [
                -116.545912,
                45.752413
               ],
               [
                -116.463758,
                45.61549
               ],
               [
                -116.671881,
                45.319735
               ],
               [
                -116.732128,
                45.144473
               ],
               [
                -116.847143,
                45.02398
               ],
               [
                -116.830713,
                44.930872
               ],
               [
                -116.934774,
                44.782995
               ],
               [
                -117.038836,
                44.750133
               ],
               [
                -117.241483,
                44.394132
               ],
               [
                -117.170283,
                44.257209
               ],
               [
                -116.97859,
                44.240778
               ],
               [
                -116.896436,
                44.158624
               ],
               [
                -117.027882,
                43.830007
               ],
               [
                -117.027882,
                42.000709
               ],
               [
                -118.698349,
                41.989755
               ],
               [
                -120.001861,
                41.995232
               ],
               [
                -121.037003,
                41.995232
               ],
               [
                -122.378853,
                42.011663
               ],
               [
                -123.233256,
                42.006186
               ],
               [
                -124.213628,
                42.000709
               ],
               [
                -124.356029,
                42.115725
               ],
               [
                -124.432706,
                42.438865
               ],
               [
                -124.416275,
                42.663419
               ],
               [
                -124.553198,
                42.838681
               ],
               [
                -124.454613,
                43.002989
               ],
               [
                -124.383413,
                43.271359
               ],
               [
                -124.235536,
                43.55616
               ],
               [
                -124.169813,
                43.8081
               ],
               [
                -124.060274,
                44.657025
               ],
               [
                -124.076705,
                44.772041
               ],
               [
                -123.97812,
                45.144473
               ],
               [
                -123.939781,
                45.659305
               ],
               [
                -123.994551,
                45.944106
               ],
               [
                -123.945258,
                46.113892
               ],
               [
                -123.545441,
                46.261769
               ],
               [
                -123.370179,
                46.146753
               ],
               [
                -123.211348,
                46.174138
               ]
              ]
             ],
             "type": "Polygon"
            },
            "id": "41",
            "properties": {
             "density": 40.33,
             "name": "Oregon"
            },
            "type": "Feature"
           },
           {
            "geometry": {
             "coordinates": [
              [
               [
                -79.76278,
                42.252649
               ],
               [
                -79.76278,
                42.000709
               ],
               [
                -75.35932,
                42.000709
               ],
               [
                -75.249781,
                41.863786
               ],
               [
                -75.173104,
                41.869263
               ],
               [
                -75.052611,
                41.754247
               ],
               [
                -75.074519,
                41.60637
               ],
               [
                -74.89378,
                41.436584
               ],
               [
                -74.740426,
                41.431108
               ],
               [
                -74.69661,
                41.359907
               ],
               [
                -74.828057,
                41.288707
               ],
               [
                -74.882826,
                41.179168
               ],
               [
                -75.134765,
                40.971045
               ],
               [
                -75.052611,
                40.866983
               ],
               [
                -75.205966,
                40.691721
               ],
               [
                -75.195012,
                40.576705
               ],
               [
                -75.069042,
                40.543843
               ],
               [
                -75.058088,
                40.417874
               ],
               [
                -74.773287,
                40.215227
               ],
               [
                -74.82258,
                40.127596
               ],
               [
                -75.129289,
                39.963288
               ],
               [
                -75.145719,
                39.88661
               ],
               [
                -75.414089,
                39.804456
               ],
               [
                -75.616736,
                39.831841
               ],
               [
                -75.786521,
                39.722302
               ],
               [
                -79.477979,
                39.722302
               ],
               [
                -80.518598,
                39.722302
               ],
               [
                -80.518598,
                40.636951
               ],
               [
                -80.518598,
                41.978802
               ],
               [
                -80.518598,
                41.978802
               ],
               [
                -80.332382,
                42.033571
               ],
               [
                -79.76278,
                42.269079
               ],
               [
                -79.76278,
                42.252649
               ]
              ]
             ],
             "type": "Polygon"
            },
            "id": "42",
            "properties": {
             "density": 284.3,
             "name": "Pennsylvania"
            },
            "type": "Feature"
           },
           {
            "geometry": {
             "coordinates": [
              [
               [
                [
                 -71.196845,
                 41.67757
                ],
                [
                 -71.120168,
                 41.496831
                ],
                [
                 -71.317338,
                 41.474923
                ],
                [
                 -71.196845,
                 41.67757
                ]
               ]
              ],
              [
               [
                [
                 -71.530939,
                 42.01714
                ],
                [
                 -71.383061,
                 42.01714
                ],
                [
                 -71.328292,
                 41.781632
                ],
                [
                 -71.22423,
                 41.710431
                ],
                [
                 -71.344723,
                 41.726862
                ],
                [
                 -71.448785,
                 41.578985
                ],
                [
                 -71.481646,
                 41.370861
                ],
                [
                 -71.859555,
                 41.321569
                ],
                [
                 -71.799309,
                 41.414677
                ],
                [
                 -71.799309,
                 42.006186
                ],
                [
                 -71.530939,
                 42.01714
                ]
               ]
              ]
             ],
             "type": "MultiPolygon"
            },
            "id": "44",
            "properties": {
             "density": 1006,
             "name": "Rhode Island"
            },
            "type": "Feature"
           },
           {
            "geometry": {
             "coordinates": [
              [
               [
                -82.764143,
                35.066903
               ],
               [
                -82.550543,
                35.160011
               ],
               [
                -82.276696,
                35.198349
               ],
               [
                -81.044384,
                35.149057
               ],
               [
                -81.038907,
                35.044995
               ],
               [
                -80.934845,
                35.105241
               ],
               [
                -80.781491,
                34.935456
               ],
               [
                -80.797922,
                34.820441
               ],
               [
                -79.675149,
                34.80401
               ],
               [
                -78.541422,
                33.851022
               ],
               [
                -78.716684,
                33.80173
               ],
               [
                -78.935762,
                33.637421
               ],
               [
                -79.149363,
                33.380005
               ],
               [
                -79.187701,
                33.171881
               ],
               [
                -79.357487,
                33.007573
               ],
               [
                -79.582041,
                33.007573
               ],
               [
                -79.631334,
                32.887081
               ],
               [
                -79.866842,
                32.755634
               ],
               [
                -79.998289,
                32.613234
               ],
               [
                -80.206412,
                32.552987
               ],
               [
                -80.430967,
                32.399633
               ],
               [
                -80.452875,
                32.328433
               ],
               [
                -80.660998,
                32.246279
               ],
               [
                -80.885553,
                32.032678
               ],
               [
                -81.115584,
                32.120309
               ],
               [
                -81.121061,
                32.290094
               ],
               [
                -81.279893,
                32.558464
               ],
               [
                -81.416816,
                32.629664
               ],
               [
                -81.42777,
                32.843265
               ],
               [
                -81.493493,
                33.007573
               ],
               [
                -81.761863,
                33.160928
               ],
               [
                -81.937125,
                33.347144
               ],
               [
                -81.926172,
                33.462159
               ],
               [
                -82.194542,
                33.631944
               ],
               [
                -82.325988,
                33.81816
               ],
               [
                -82.55602,
                33.94413
               ],
               [
                -82.714851,
                34.152254
               ],
               [
                -82.747713,
                34.26727
               ],
               [
                -82.901067,
                34.486347
               ],
               [
                -83.005129,
                34.469916
               ],
               [
                -83.339222,
                34.683517
               ],
               [
                -83.322791,
                34.787579
               ],
               [
                -83.109191,
                35.00118
               ],
               [
                -82.764143,
                35.066903
               ]
              ]
             ],
             "type": "Polygon"
            },
            "id": "45",
            "properties": {
             "density": 155.4,
             "name": "South Carolina"
            },
            "type": "Feature"
           },
           {
            "geometry": {
             "coordinates": [
              [
               [
                -104.047534,
                45.944106
               ],
               [
                -96.560556,
                45.933153
               ],
               [
                -96.582464,
                45.818137
               ],
               [
                -96.856311,
                45.604536
               ],
               [
                -96.681049,
                45.412843
               ],
               [
                -96.451017,
                45.297827
               ],
               [
                -96.451017,
                43.501391
               ],
               [
                -96.582464,
                43.479483
               ],
               [
                -96.527695,
                43.397329
               ],
               [
                -96.560556,
                43.222067
               ],
               [
                -96.434587,
                43.123482
               ],
               [
                -96.511264,
                43.052282
               ],
               [
                -96.544125,
                42.855112
               ],
               [
                -96.631756,
                42.707235
               ],
               [
                -96.44554,
                42.488157
               ],
               [
                -96.626279,
                42.515542
               ],
               [
                -96.692003,
                42.657942
               ],
               [
                -97.217789,
                42.844158
               ],
               [
                -97.688806,
                42.844158
               ],
               [
                -97.831206,
                42.866066
               ],
               [
                -97.951699,
                42.767481
               ],
               [
                -98.466531,
                42.94822
               ],
               [
                -98.499393,
                42.997512
               ],
               [
                -101.626726,
                42.997512
               ],
               [
                -103.324578,
                43.002989
               ],
               [
                -104.053011,
                43.002989
               ],
               [
                -104.058488,
                44.996596
               ],
               [
                -104.042057,
                44.996596
               ],
               [
                -104.047534,
                45.944106
               ]
              ]
             ],
             "type": "Polygon"
            },
            "id": "46",
            "properties": {
             "density": 98.07,
             "name": "South Dakota"
            },
            "type": "Feature"
           },
           {
            "geometry": {
             "coordinates": [
              [
               [
                -88.054868,
                36.496384
               ],
               [
                -88.071299,
                36.677123
               ],
               [
                -87.852221,
                36.633308
               ],
               [
                -86.592525,
                36.655216
               ],
               [
                -85.486183,
                36.616877
               ],
               [
                -85.289013,
                36.627831
               ],
               [
                -84.544149,
                36.594969
               ],
               [
                -83.689746,
                36.584015
               ],
               [
                -83.673316,
                36.600446
               ],
               [
                -81.679709,
                36.589492
               ],
               [
                -81.723525,
                36.353984
               ],
               [
                -81.909741,
                36.304691
               ],
               [
                -82.03571,
                36.118475
               ],
               [
                -82.216449,
                36.156814
               ],
               [
                -82.610789,
                35.965121
               ],
               [
                -82.638174,
                36.063706
               ],
               [
                -82.775097,
                35.997983
               ],
               [
                -82.994175,
                35.773428
               ],
               [
                -83.251591,
                35.718659
               ],
               [
                -83.498053,
                35.565304
               ],
               [
                -83.7719,
                35.559827
               ],
               [
                -84.018363,
                35.41195
               ],
               [
                -84.09504,
                35.247642
               ],
               [
                -84.29221,
                35.225734
               ],
               [
                -84.319594,
                34.990226
               ],
               [
                -85.606675,
                34.984749
               ],
               [
                -87.359296,
                35.00118
               ],
               [
                -88.202745,
                34.995703
               ],
               [
                -88.471115,
                34.995703
               ],
               [
                -90.311367,
                34.995703
               ],
               [
                -90.212782,
                35.023087
               ],
               [
                -90.114197,
                35.198349
               ],
               [
                -90.130628,
                35.439335
               ],
               [
                -89.944412,
                35.603643
               ],
               [
                -89.911551,
                35.756997
               ],
               [
                -89.763673,
                35.811767
               ],
               [
                -89.730812,
                35.997983
               ],
               [
                -89.533642,
                36.249922
               ],
               [
                -89.539119,
                36.496384
               ],
               [
                -89.484349,
                36.496384
               ],
               [
                -89.418626,
                36.496384
               ],
               [
                -89.298133,
                36.507338
               ],
               [
                -88.054868,
                36.496384
               ]
              ]
             ],
             "type": "Polygon"
            },
            "id": "47",
            "properties": {
             "density": 88.08,
             "name": "Tennessee"
            },
            "type": "Feature"
           },
           {
            "geometry": {
             "coordinates": [
              [
               [
                -101.812942,
                36.501861
               ],
               [
                -100.000075,
                36.501861
               ],
               [
                -100.000075,
                34.563024
               ],
               [
                -99.923398,
                34.573978
               ],
               [
                -99.698843,
                34.382285
               ],
               [
                -99.57835,
                34.415147
               ],
               [
                -99.260688,
                34.404193
               ],
               [
                -99.189488,
                34.2125
               ],
               [
                -98.986841,
                34.223454
               ],
               [
                -98.767763,
                34.135823
               ],
               [
                -98.570593,
                34.146777
               ],
               [
                -98.488439,
                34.064623
               ],
               [
                -98.36247,
                34.157731
               ],
               [
                -98.170777,
                34.113915
               ],
               [
                -98.088623,
                34.004376
               ],
               [
                -97.946222,
                33.987946
               ],
               [
                -97.869545,
                33.851022
               ],
               [
                -97.694283,
                33.982469
               ],
               [
                -97.458774,
                33.905791
               ],
               [
                -97.371143,
                33.823637
               ],
               [
                -97.256128,
                33.861976
               ],
               [
                -97.173974,
                33.736006
               ],
               [
                -96.922034,
                33.960561
               ],
               [
                -96.850834,
                33.845545
               ],
               [
                -96.631756,
                33.845545
               ],
               [
                -96.423633,
                33.774345
               ],
               [
                -96.346956,
                33.686714
               ],
               [
                -96.149786,
                33.840068
               ],
               [
                -95.936185,
                33.889361
               ],
               [
                -95.8376,
                33.834591
               ],
               [
                -95.602092,
                33.933176
               ],
               [
                -95.547322,
                33.878407
               ],
               [
                -95.289906,
                33.87293
               ],
               [
                -95.224183,
                33.960561
               ],
               [
                -94.966767,
                33.861976
               ],
               [
                -94.868182,
                33.74696
               ],
               [
                -94.484796,
                33.637421
               ],
               [
                -94.380734,
                33.544313
               ],
               [
                -94.183564,
                33.593606
               ],
               [
                -94.041164,
                33.54979
               ],
               [
                -94.041164,
                33.018527
               ],
               [
                -94.041164,
                31.994339
               ],
               [
                -93.822086,
                31.775262
               ],
               [
                -93.816609,
                31.556184
               ],
               [
                -93.542762,
                31.15089
               ],
               [
                -93.526331,
                30.93729
               ],
               [
                -93.630393,
                30.679874
               ],
               [
                -93.728978,
                30.575812
               ],
               [
                -93.696116,
                30.438888
               ],
               [
                -93.767317,
                30.334826
               ],
               [
                -93.690639,
                30.143133
               ],
               [
                -93.926148,
                29.787132
               ],
               [
                -93.838517,
                29.688547
               ],
               [
                -94.002825,
                29.68307
               ],
               [
                -94.523134,
                29.546147
               ],
               [
                -94.70935,
                29.622824
               ],
               [
                -94.742212,
                29.787132
               ],
               [
                -94.873659,
                29.672117
               ],
               [
                -94.966767,
                29.699501
               ],
               [
                -95.016059,
                29.557101
               ],
               [
                -94.911997,
                29.496854
               ],
               [
                -94.895566,
                29.310638
               ],
               [
                -95.081782,
                29.113469
               ],
               [
                -95.383014,
                28.867006
               ],
               [
                -95.985477,
                28.604113
               ],
               [
                -96.045724,
                28.647929
               ],
               [
                -96.226463,
                28.582205
               ],
               [
                -96.23194,
                28.642452
               ],
               [
                -96.478402,
                28.598636
               ],
               [
                -96.593418,
                28.724606
               ],
               [
                -96.664618,
                28.697221
               ],
               [
                -96.401725,
                28.439805
               ],
               [
                -96.593418,
                28.357651
               ],
               [
                -96.774157,
                28.406943
               ],
               [
                -96.801542,
                28.226204
               ],
               [
                -97.026096,
                28.039988
               ],
               [
                -97.256128,
                27.694941
               ],
               [
                -97.404005,
                27.333463
               ],
               [
                -97.513544,
                27.360848
               ],
               [
                -97.540929,
                27.229401
               ],
               [
                -97.425913,
                27.262263
               ],
               [
                -97.480682,
                26.99937
               ],
               [
                -97.557359,
                26.988416
               ],
               [
                -97.562836,
                26.840538
               ],
               [
                -97.469728,
                26.758384
               ],
               [
                -97.442344,
                26.457153
               ],
               [
                -97.332805,
                26.353091
               ],
               [
                -97.30542,
                26.161398
               ],
               [
                -97.217789,
                25.991613
               ],
               [
                -97.524498,
                25.887551
               ],
               [
                -97.650467,
                26.018997
               ],
               [
                -97.885976,
                26.06829
               ],
               [
                -98.198161,
                26.057336
               ],
               [
                -98.466531,
                26.221644
               ],
               [
                -98.669178,
                26.238075
               ],
               [
                -98.822533,
                26.369522
               ],
               [
                -99.030656,
                26.413337
               ],
               [
                -99.173057,
                26.539307
               ],
               [
                -99.266165,
                26.840538
               ],
               [
                -99.446904,
                27.021277
               ],
               [
                -99.424996,
                27.174632
               ],
               [
                -99.50715,
                27.33894
               ],
               [
                -99.479765,
                27.48134
               ],
               [
                -99.605735,
                27.640172
               ],
               [
                -99.709797,
                27.656603
               ],
               [
                -99.879582,
                27.799003
               ],
               [
                -99.934351,
                27.979742
               ],
               [
                -100.082229,
                28.14405
               ],
               [
                -100.29583,
                28.280974
               ],
               [
                -100.399891,
                28.582205
               ],
               [
                -100.498476,
                28.66436
               ],
               [
                -100.629923,
                28.905345
               ],
               [
                -100.673738,
                29.102515
               ],
               [
                -100.799708,
                29.244915
               ],
               [
                -101.013309,
                29.370885
               ],
               [
                -101.062601,
                29.458516
               ],
               [
                -101.259771,
                29.535193
               ],
               [
                -101.413125,
                29.754271
               ],
               [
                -101.851281,
                29.803563
               ],
               [
                -102.114174,
                29.792609
               ],
               [
                -102.338728,
                29.869286
               ],
               [
                -102.388021,
                29.765225
               ],
               [
                -102.629006,
                29.732363
               ],
               [
                -102.809745,
                29.524239
               ],
               [
                -102.919284,
                29.190146
               ],
               [
                -102.97953,
                29.184669
               ],
               [
                -103.116454,
                28.987499
               ],
               [
                -103.280762,
                28.982022
               ],
               [
                -103.527224,
                29.135376
               ],
               [
                -104.146119,
                29.381839
               ],
               [
                -104.266611,
                29.513285
               ],
               [
                -104.507597,
                29.639255
               ],
               [
                -104.677382,
                29.924056
               ],
               [
                -104.688336,
                30.181472
               ],
               [
                -104.858121,
                30.389596
               ],
               [
                -104.896459,
                30.570335
               ],
               [
                -105.005998,
                30.685351
               ],
               [
                -105.394861,
                30.855136
               ],
               [
                -105.602985,
                31.085167
               ],
               [
                -105.77277,
                31.167321
               ],
               [
                -105.953509,
                31.364491
               ],
               [
                -106.205448,
                31.468553
               ],
               [
                -106.38071,
                31.731446
               ],
               [
                -106.528588,
                31.786216
               ],
               [
                -106.643603,
                31.901231
               ],
               [
                -106.616219,
                31.999816
               ],
               [
                -103.067161,
                31.999816
               ],
               [
                -103.067161,
                33.002096
               ],
               [
                -103.045254,
                34.01533
               ],
               [
                -103.039777,
                36.501861
               ],
               [
                -103.001438,
                36.501861
               ],
               [
                -101.812942,
                36.501861
               ]
              ]
             ],
             "type": "Polygon"
            },
            "id": "48",
            "properties": {
             "density": 98.07,
             "name": "Texas"
            },
            "type": "Feature"
           },
           {
            "geometry": {
             "coordinates": [
              [
               [
                -112.164359,
                41.995232
               ],
               [
                -111.047063,
                42.000709
               ],
               [
                -111.047063,
                40.998429
               ],
               [
                -109.04798,
                40.998429
               ],
               [
                -109.053457,
                39.125316
               ],
               [
                -109.058934,
                38.27639
               ],
               [
                -109.042503,
                38.166851
               ],
               [
                -109.042503,
                37.000263
               ],
               [
                -110.499369,
                37.00574
               ],
               [
                -114.048427,
                37.000263
               ],
               [
                -114.04295,
                41.995232
               ],
               [
                -112.164359,
                41.995232
               ]
              ]
             ],
             "type": "Polygon"
            },
            "id": "49",
            "properties": {
             "density": 34.3,
             "name": "Utah"
            },
            "type": "Feature"
           },
           {
            "geometry": {
             "coordinates": [
              [
               [
                -71.503554,
                45.013027
               ],
               [
                -71.4926,
                44.914442
               ],
               [
                -71.629524,
                44.750133
               ],
               [
                -71.536416,
                44.585825
               ],
               [
                -71.700724,
                44.41604
               ],
               [
                -72.034817,
                44.322932
               ],
               [
                -72.02934,
                44.07647
               ],
               [
                -72.116971,
                43.994316
               ],
               [
                -72.204602,
                43.769761
               ],
               [
                -72.379864,
                43.572591
               ],
               [
                -72.456542,
                43.150867
               ],
               [
                -72.445588,
                43.008466
               ],
               [
                -72.533219,
                42.953697
               ],
               [
                -72.544173,
                42.80582
               ],
               [
                -72.456542,
                42.729142
               ],
               [
                -73.267129,
                42.745573
               ],
               [
                -73.278083,
                42.833204
               ],
               [
                -73.245221,
                43.523299
               ],
               [
                -73.404052,
                43.687607
               ],
               [
                -73.349283,
                43.769761
               ],
               [
                -73.436914,
                44.043608
               ],
               [
                -73.321898,
                44.246255
               ],
               [
                -73.294514,
                44.437948
               ],
               [
                -73.387622,
                44.618687
               ],
               [
                -73.332852,
                44.804903
               ],
               [
                -73.343806,
                45.013027
               ],
               [
                -72.308664,
                45.002073
               ],
               [
                -71.503554,
                45.013027
               ]
              ]
             ],
             "type": "Polygon"
            },
            "id": "50",
            "properties": {
             "density": 67.73,
             "name": "Vermont"
            },
            "type": "Feature"
           },
           {
            "geometry": {
             "coordinates": [
              [
               [
                [
                 -75.397659,
                 38.013497
                ],
                [
                 -75.244304,
                 38.029928
                ],
                [
                 -75.375751,
                 37.860142
                ],
                [
                 -75.512674,
                 37.799896
                ],
                [
                 -75.594828,
                 37.569865
                ],
                [
                 -75.802952,
                 37.197433
                ],
                [
                 -75.972737,
                 37.120755
                ],
                [
                 -76.027507,
                 37.257679
                ],
                [
                 -75.939876,
                 37.564388
                ],
                [
                 -75.671506,
                 37.95325
                ],
                [
                 -75.397659,
                 38.013497
                ]
               ]
              ],
              [
               [
                [
                 -76.016553,
                 37.95325
                ],
                [
                 -75.994645,
                 37.95325
                ],
                [
                 -76.043938,
                 37.95325
                ],
                [
                 -76.016553,
                 37.95325
                ]
               ]
              ],
              [
               [
                [
                 -78.349729,
                 39.464886
                ],
                [
                 -77.82942,
                 39.130793
                ],
                [
                 -77.719881,
                 39.322485
                ],
                [
                 -77.566527,
                 39.306055
                ],
                [
                 -77.456988,
                 39.223901
                ],
                [
                 -77.456988,
                 39.076023
                ],
                [
                 -77.248864,
                 39.026731
                ],
                [
                 -77.117418,
                 38.933623
                ],
                [
                 -77.040741,
                 38.791222
                ],
                [
                 -77.128372,
                 38.632391
                ],
                [
                 -77.248864,
                 38.588575
                ],
                [
                 -77.325542,
                 38.446175
                ],
                [
                 -77.281726,
                 38.342113
                ],
                [
                 -77.013356,
                 38.374975
                ],
                [
                 -76.964064,
                 38.216144
                ],
                [
                 -76.613539,
                 38.15042
                ],
                [
                 -76.514954,
                 38.024451
                ],
                [
                 -76.235631,
                 37.887527
                ],
                [
                 -76.3616,
                 37.608203
                ],
                [
                 -76.246584,
                 37.389126
                ],
                [
                 -76.383508,
                 37.285064
                ],
                [
                 -76.399939,
                 37.159094
                ],
                [
                 -76.273969,
                 37.082417
                ],
                [
                 -76.410893,
                 36.961924
                ],
                [
                 -76.619016,
                 37.120755
                ],
                [
                 -76.668309,
                 37.065986
                ],
                [
                 -76.48757,
                 36.95097
                ],
                [
                 -75.994645,
                 36.923586
                ],
                [
                 -75.868676,
                 36.551154
                ],
                [
                 -79.510841,
                 36.5402
                ],
                [
                 -80.294043,
                 36.545677
                ],
                [
                 -80.978661,
                 36.562108
                ],
                [
                 -81.679709,
                 36.589492
                ],
                [
                 -83.673316,
                 36.600446
                ],
                [
                 -83.136575,
                 36.742847
                ],
                [
                 -83.070852,
                 36.852385
                ],
                [
                 -82.879159,
                 36.890724
                ],
                [
                 -82.868205,
                 36.978355
                ],
                [
                 -82.720328,
                 37.044078
                ],
                [
                 -82.720328,
                 37.120755
                ],
                [
                 -82.353373,
                 37.268633
                ],
                [
                 -81.969987,
                 37.537003
                ],
                [
                 -81.986418,
                 37.454849
                ],
                [
                 -81.849494,
                 37.285064
                ],
                [
                 -81.679709,
                 37.20291
                ],
                [
                 -81.55374,
                 37.208387
                ],
                [
                 -81.362047,
                 37.339833
                ],
                [
                 -81.225123,
                 37.235771
                ],
                [
                 -80.967707,
                 37.290541
                ],
                [
                 -80.513121,
                 37.482234
                ],
                [
                 -80.474782,
                 37.421987
                ],
                [
                 -80.29952,
                 37.509618
                ],
                [
                 -80.294043,
                 37.690357
                ],
                [
                 -80.184505,
                 37.849189
                ],
                [
                 -79.998289,
                 37.997066
                ],
                [
                 -79.921611,
                 38.177805
                ],
                [
                 -79.724442,
                 38.364021
                ],
                [
                 -79.647764,
                 38.594052
                ],
                [
                 -79.477979,
                 38.457129
                ],
                [
                 -79.313671,
                 38.413313
                ],
                [
                 -79.209609,
                 38.495467
                ],
                [
                 -78.996008,
                 38.851469
                ],
                [
                 -78.870039,
                 38.763838
                ],
                [
                 -78.404499,
                 39.169131
                ],
                [
                 -78.349729,
                 39.464886
                ]
               ]
              ]
             ],
             "type": "MultiPolygon"
            },
            "id": "51",
            "properties": {
             "density": 204.5,
             "name": "Virginia"
            },
            "type": "Feature"
           },
           {
            "geometry": {
             "coordinates": [
              [
               [
                [
                 -117.033359,
                 49.000239
                ],
                [
                 -117.044313,
                 47.762451
                ],
                [
                 -117.038836,
                 46.426077
                ],
                [
                 -117.055267,
                 46.343923
                ],
                [
                 -116.92382,
                 46.168661
                ],
                [
                 -116.918344,
                 45.993399
                ],
                [
                 -118.988627,
                 45.998876
                ],
                [
                 -119.125551,
                 45.933153
                ],
                [
                 -119.525367,
                 45.911245
                ],
                [
                 -119.963522,
                 45.823614
                ],
                [
                 -120.209985,
                 45.725029
                ],
                [
                 -120.505739,
                 45.697644
                ],
                [
                 -120.637186,
                 45.746937
                ],
                [
                 -121.18488,
                 45.604536
                ],
                [
                 -121.217742,
                 45.670259
                ],
                [
                 -121.535404,
                 45.725029
                ],
                [
                 -121.809251,
                 45.708598
                ],
                [
                 -122.247407,
                 45.549767
                ],
                [
                 -122.762239,
                 45.659305
                ],
                [
                 -122.811531,
                 45.960537
                ],
                [
                 -122.904639,
                 46.08103
                ],
                [
                 -123.11824,
                 46.185092
                ],
                [
                 -123.211348,
                 46.174138
                ],
                [
                 -123.370179,
                 46.146753
                ],
                [
                 -123.545441,
                 46.261769
                ],
                [
                 -123.72618,
                 46.300108
                ],
                [
                 -123.874058,
                 46.239861
                ],
                [
                 -124.065751,
                 46.327492
                ],
                [
                 -124.027412,
                 46.464416
                ],
                [
                 -123.895966,
                 46.535616
                ],
                [
                 -124.098612,
                 46.74374
                ],
                [
                 -124.235536,
                 47.285957
                ],
                [
                 -124.31769,
                 47.357157
                ],
                [
                 -124.427229,
                 47.740543
                ],
                [
                 -124.624399,
                 47.88842
                ],
                [
                 -124.706553,
                 48.184175
                ],
                [
                 -124.597014,
                 48.381345
                ],
                [
                 -124.394367,
                 48.288237
                ],
                [
                 -123.983597,
                 48.162267
                ],
                [
                 -123.704273,
                 48.167744
                ],
                [
                 -123.424949,
                 48.118452
                ],
                [
                 -123.162056,
                 48.167744
                ],
                [
                 -123.036086,
                 48.080113
                ],
                [
                 -122.800578,
                 48.08559
                ],
                [
                 -122.636269,
                 47.866512
                ],
                [
                 -122.515777,
                 47.882943
                ],
                [
                 -122.493869,
                 47.587189
                ],
                [
                 -122.422669,
                 47.318818
                ],
                [
                 -122.324084,
                 47.346203
                ],
                [
                 -122.422669,
                 47.576235
                ],
                [
                 -122.395284,
                 47.800789
                ],
                [
                 -122.230976,
                 48.030821
                ],
                [
                 -122.362422,
                 48.123929
                ],
                [
                 -122.373376,
                 48.288237
                ],
                [
                 -122.471961,
                 48.468976
                ],
                [
                 -122.422669,
                 48.600422
                ],
                [
                 -122.488392,
                 48.753777
                ],
                [
                 -122.647223,
                 48.775685
                ],
                [
                 -122.795101,
                 48.8907
                ],
                [
                 -122.756762,
                 49.000239
                ],
                [
                 -117.033359,
                 49.000239
                ]
               ]
              ],
              [
               [
                [
                 -122.718423,
                 48.310145
                ],
                [
                 -122.586977,
                 48.35396
                ],
                [
                 -122.608885,
                 48.151313
                ],
                [
                 -122.767716,
                 48.227991
                ],
                [
                 -122.718423,
                 48.310145
                ]
               ]
              ],
              [
               [
                [
                 -123.025132,
                 48.583992
                ],
                [
                 -122.915593,
                 48.715438
                ],
                [
                 -122.767716,
                 48.556607
                ],
                [
                 -122.811531,
                 48.419683
                ],
                [
                 -123.041563,
                 48.458022
                ],
                [
                 -123.025132,
                 48.583992
                ]
               ]
              ]
             ],
             "type": "MultiPolygon"
            },
            "id": "53",
            "properties": {
             "density": 102.6,
             "name": "Washington"
            },
            "type": "Feature"
           },
           {
            "geometry": {
             "coordinates": [
              [
               [
                -80.518598,
                40.636951
               ],
               [
                -80.518598,
                39.722302
               ],
               [
                -79.477979,
                39.722302
               ],
               [
                -79.488933,
                39.20747
               ],
               [
                -79.291763,
                39.300578
               ],
               [
                -79.094593,
                39.470363
               ],
               [
                -78.963147,
                39.437501
               ],
               [
                -78.765977,
                39.585379
               ],
               [
                -78.470222,
                39.514178
               ],
               [
                -78.431884,
                39.623717
               ],
               [
                -78.267575,
                39.61824
               ],
               [
                -78.174467,
                39.694917
               ],
               [
                -78.004682,
                39.601809
               ],
               [
                -77.834897,
                39.601809
               ],
               [
                -77.719881,
                39.322485
               ],
               [
                -77.82942,
                39.130793
               ],
               [
                -78.349729,
                39.464886
               ],
               [
                -78.404499,
                39.169131
               ],
               [
                -78.870039,
                38.763838
               ],
               [
                -78.996008,
                38.851469
               ],
               [
                -79.209609,
                38.495467
               ],
               [
                -79.313671,
                38.413313
               ],
               [
                -79.477979,
                38.457129
               ],
               [
                -79.647764,
                38.594052
               ],
               [
                -79.724442,
                38.364021
               ],
               [
                -79.921611,
                38.177805
               ],
               [
                -79.998289,
                37.997066
               ],
               [
                -80.184505,
                37.849189
               ],
               [
                -80.294043,
                37.690357
               ],
               [
                -80.29952,
                37.509618
               ],
               [
                -80.474782,
                37.421987
               ],
               [
                -80.513121,
                37.482234
               ],
               [
                -80.967707,
                37.290541
               ],
               [
                -81.225123,
                37.235771
               ],
               [
                -81.362047,
                37.339833
               ],
               [
                -81.55374,
                37.208387
               ],
               [
                -81.679709,
                37.20291
               ],
               [
                -81.849494,
                37.285064
               ],
               [
                -81.986418,
                37.454849
               ],
               [
                -81.969987,
                37.537003
               ],
               [
                -82.101434,
                37.553434
               ],
               [
                -82.293127,
                37.668449
               ],
               [
                -82.342419,
                37.783465
               ],
               [
                -82.50125,
                37.931343
               ],
               [
                -82.621743,
                38.123036
               ],
               [
                -82.594358,
                38.424267
               ],
               [
                -82.331465,
                38.446175
               ],
               [
                -82.293127,
                38.577622
               ],
               [
                -82.172634,
                38.632391
               ],
               [
                -82.221926,
                38.785745
               ],
               [
                -82.03571,
                39.026731
               ],
               [
                -81.887833,
                38.873376
               ],
               [
                -81.783771,
                38.966484
               ],
               [
                -81.811156,
                39.0815
               ],
               [
                -81.685186,
                39.273193
               ],
               [
                -81.57017,
                39.267716
               ],
               [
                -81.455155,
                39.410117
               ],
               [
                -81.345616,
                39.344393
               ],
               [
                -81.219646,
                39.388209
               ],
               [
                -80.830783,
                39.711348
               ],
               [
                -80.737675,
                40.078303
               ],
               [
                -80.600752,
                40.319289
               ],
               [
                -80.595275,
                40.472643
               ],
               [
                -80.666475,
                40.582182
               ],
               [
                -80.518598,
                40.636951
               ]
              ]
             ],
             "type": "Polygon"
            },
            "id": "54",
            "properties": {
             "density": 77.06,
             "name": "West Virginia"
            },
            "type": "Feature"
           },
           {
            "geometry": {
             "coordinates": [
              [
               [
                -90.415429,
                46.568478
               ],
               [
                -90.229213,
                46.508231
               ],
               [
                -90.119674,
                46.338446
               ],
               [
                -89.09001,
                46.135799
               ],
               [
                -88.662808,
                45.987922
               ],
               [
                -88.531362,
                46.020784
               ],
               [
                -88.10416,
                45.922199
               ],
               [
                -87.989145,
                45.796229
               ],
               [
                -87.781021,
                45.675736
               ],
               [
                -87.791975,
                45.500474
               ],
               [
                -87.885083,
                45.363551
               ],
               [
                -87.649574,
                45.341643
               ],
               [
                -87.742682,
                45.199243
               ],
               [
                -87.589328,
                45.095181
               ],
               [
                -87.627666,
                44.974688
               ],
               [
                -87.819359,
                44.95278
               ],
               [
                -87.983668,
                44.722749
               ],
               [
                -88.043914,
                44.563917
               ],
               [
                -87.928898,
                44.536533
               ],
               [
                -87.775544,
                44.640595
               ],
               [
                -87.611236,
                44.837764
               ],
               [
                -87.403112,
                44.914442
               ],
               [
                -87.238804,
                45.166381
               ],
               [
                -87.03068,
                45.22115
               ],
               [
                -87.047111,
                45.089704
               ],
               [
                -87.189511,
                44.969211
               ],
               [
                -87.468835,
                44.552964
               ],
               [
                -87.545512,
                44.322932
               ],
               [
                -87.540035,
                44.158624
               ],
               [
                -87.644097,
                44.103854
               ],
               [
                -87.737205,
                43.8793
               ],
               [
                -87.704344,
                43.687607
               ],
               [
                -87.791975,
                43.561637
               ],
               [
                -87.912467,
                43.249452
               ],
               [
                -87.885083,
                43.002989
               ],
               [
                -87.76459,
                42.783912
               ],
               [
                -87.802929,
                42.493634
               ],
               [
                -88.788778,
                42.493634
               ],
               [
                -90.639984,
                42.510065
               ],
               [
                -90.711184,
                42.636034
               ],
               [
                -91.067185,
                42.75105
               ],
               [
                -91.143862,
                42.909881
               ],
               [
                -91.176724,
                43.134436
               ],
               [
                -91.056231,
                43.254929
               ],
               [
                -91.204109,
                43.353514
               ],
               [
                -91.215062,
                43.501391
               ],
               [
                -91.269832,
                43.616407
               ],
               [
                -91.242447,
                43.775238
               ],
               [
                -91.43414,
                43.994316
               ],
               [
                -91.592971,
                44.032654
               ],
               [
                -91.877772,
                44.202439
               ],
               [
                -91.927065,
                44.333886
               ],
               [
                -92.233773,
                44.443425
               ],
               [
                -92.337835,
                44.552964
               ],
               [
                -92.545959,
                44.569394
               ],
               [
                -92.808852,
                44.750133
               ],
               [
                -92.737652,
                45.117088
               ],
               [
                -92.75956,
                45.286874
               ],
               [
                -92.644544,
                45.440228
               ],
               [
                -92.770513,
                45.566198
               ],
               [
                -92.885529,
                45.577151
               ],
               [
                -92.869098,
                45.719552
               ],
               [
                -92.639067,
                45.933153
               ],
               [
                -92.354266,
                46.015307
               ],
               [
                -92.29402,
                46.075553
               ],
               [
                -92.29402,
                46.667063
               ],
               [
                -92.091373,
                46.749217
               ],
               [
                -92.014696,
                46.705401
               ],
               [
                -91.790141,
                46.694447
               ],
               [
                -91.09457,
                46.864232
               ],
               [
                -90.837154,
                46.95734
               ],
               [
                -90.749522,
                46.88614
               ],
               [
                -90.886446,
                46.754694
               ],
               [
                -90.55783,
                46.584908
               ],
               [
                -90.415429,
                46.568478
               ]
              ]
             ],
             "type": "Polygon"
            },
            "id": "55",
            "properties": {
             "density": 105.2,
             "name": "Wisconsin"
            },
            "type": "Feature"
           },
           {
            "geometry": {
             "coordinates": [
              [
               [
                -109.080842,
                45.002073
               ],
               [
                -105.91517,
                45.002073
               ],
               [
                -104.058488,
                44.996596
               ],
               [
                -104.053011,
                43.002989
               ],
               [
                -104.053011,
                41.003906
               ],
               [
                -105.728954,
                40.998429
               ],
               [
                -107.919731,
                41.003906
               ],
               [
                -109.04798,
                40.998429
               ],
               [
                -111.047063,
                40.998429
               ],
               [
                -111.047063,
                42.000709
               ],
               [
                -111.047063,
                44.476286
               ],
               [
                -111.05254,
                45.002073
               ],
               [
                -109.080842,
                45.002073
               ]
              ]
             ],
             "type": "Polygon"
            },
            "id": "56",
            "properties": {
             "density": 5.851,
             "name": "Wyoming"
            },
            "type": "Feature"
           }
          ],
          "type": "FeatureCollection"
         },
         "hovertemplate": "name=%{location}<br>1/22/20=%{z}<extra></extra>",
         "locations": [
          "Alabama",
          "Alaska",
          "Arizona",
          "Arkansas",
          "California",
          "Colorado",
          "Connecticut",
          "Delaware",
          "District of Columbia",
          "Florida",
          "Georgia",
          "Hawaii",
          "Idaho",
          "Illinois",
          "Indiana",
          "Iowa",
          "Kansas",
          "Kentucky",
          "Louisiana",
          "Maine",
          "Maryland",
          "Massachusetts",
          "Michigan",
          "Minnesota",
          "Mississippi",
          "Missouri",
          "Montana",
          "Nebraska",
          "Nevada",
          "New Hampshire",
          "New Jersey",
          "New Mexico",
          "New York",
          "North Carolina",
          "North Dakota",
          "Ohio",
          "Oklahoma",
          "Oregon",
          "Pennsylvania",
          "Rhode Island",
          "South Carolina",
          "South Dakota",
          "Tennessee",
          "Texas",
          "Utah",
          "Vermont",
          "Virginia",
          "Washington",
          "West Virginia",
          "Wisconsin",
          "Wyoming"
         ],
         "marker": {
          "opacity": 0.8
         },
         "name": "",
         "subplot": "mapbox",
         "type": "choroplethmapbox",
         "z": [
          0,
          0,
          0,
          0,
          0,
          0,
          0,
          0,
          0,
          0,
          0,
          0,
          0,
          0,
          0,
          0,
          0,
          0,
          0,
          0,
          0,
          0,
          0,
          0,
          0,
          0,
          0,
          0,
          0,
          0,
          0,
          0,
          0,
          0,
          0,
          0,
          0,
          0,
          0,
          0,
          0,
          0,
          0,
          0,
          0,
          0,
          0,
          1,
          0,
          0,
          0
         ]
        }
       ],
       "layout": {
        "clickmode": "event+select",
        "coloraxis": {
         "cmax": 12,
         "cmin": 0,
         "colorbar": {
          "title": {
           "text": "1/22/20"
          }
         },
         "colorscale": [
          [
           0,
           "#440154"
          ],
          [
           0.1111111111111111,
           "#482878"
          ],
          [
           0.2222222222222222,
           "#3e4989"
          ],
          [
           0.3333333333333333,
           "#31688e"
          ],
          [
           0.4444444444444444,
           "#26828e"
          ],
          [
           0.5555555555555556,
           "#1f9e89"
          ],
          [
           0.6666666666666666,
           "#35b779"
          ],
          [
           0.7777777777777778,
           "#6ece58"
          ],
          [
           0.8888888888888888,
           "#b5de2b"
          ],
          [
           1,
           "#fde725"
          ]
         ]
        },
        "legend": {
         "tracegroupgap": 0
        },
        "mapbox": {
         "accesstoken": "pk.eyJ1IjoiZ3BlcnJvbmUiLCJhIjoiY2s4eXA0ZWt4MDBybDNsbzVuanZwd2RtbSJ9._NuCR3BXdVzrvGtdodRjLw",
         "center": {
          "lat": 37.0902,
          "lon": -95.7129
         },
         "domain": {
          "x": [
           0,
           1
          ],
          "y": [
           0,
           1
          ]
         },
         "style": "carto-positron",
         "zoom": 3
        },
        "margin": {
         "t": 60
        },
        "template": {
         "data": {
          "bar": [
           {
            "error_x": {
             "color": "#2a3f5f"
            },
            "error_y": {
             "color": "#2a3f5f"
            },
            "marker": {
             "line": {
              "color": "#E5ECF6",
              "width": 0.5
             }
            },
            "type": "bar"
           }
          ],
          "barpolar": [
           {
            "marker": {
             "line": {
              "color": "#E5ECF6",
              "width": 0.5
             }
            },
            "type": "barpolar"
           }
          ],
          "carpet": [
           {
            "aaxis": {
             "endlinecolor": "#2a3f5f",
             "gridcolor": "white",
             "linecolor": "white",
             "minorgridcolor": "white",
             "startlinecolor": "#2a3f5f"
            },
            "baxis": {
             "endlinecolor": "#2a3f5f",
             "gridcolor": "white",
             "linecolor": "white",
             "minorgridcolor": "white",
             "startlinecolor": "#2a3f5f"
            },
            "type": "carpet"
           }
          ],
          "choropleth": [
           {
            "colorbar": {
             "outlinewidth": 0,
             "ticks": ""
            },
            "type": "choropleth"
           }
          ],
          "contour": [
           {
            "colorbar": {
             "outlinewidth": 0,
             "ticks": ""
            },
            "colorscale": [
             [
              0,
              "#0d0887"
             ],
             [
              0.1111111111111111,
              "#46039f"
             ],
             [
              0.2222222222222222,
              "#7201a8"
             ],
             [
              0.3333333333333333,
              "#9c179e"
             ],
             [
              0.4444444444444444,
              "#bd3786"
             ],
             [
              0.5555555555555556,
              "#d8576b"
             ],
             [
              0.6666666666666666,
              "#ed7953"
             ],
             [
              0.7777777777777778,
              "#fb9f3a"
             ],
             [
              0.8888888888888888,
              "#fdca26"
             ],
             [
              1,
              "#f0f921"
             ]
            ],
            "type": "contour"
           }
          ],
          "contourcarpet": [
           {
            "colorbar": {
             "outlinewidth": 0,
             "ticks": ""
            },
            "type": "contourcarpet"
           }
          ],
          "heatmap": [
           {
            "colorbar": {
             "outlinewidth": 0,
             "ticks": ""
            },
            "colorscale": [
             [
              0,
              "#0d0887"
             ],
             [
              0.1111111111111111,
              "#46039f"
             ],
             [
              0.2222222222222222,
              "#7201a8"
             ],
             [
              0.3333333333333333,
              "#9c179e"
             ],
             [
              0.4444444444444444,
              "#bd3786"
             ],
             [
              0.5555555555555556,
              "#d8576b"
             ],
             [
              0.6666666666666666,
              "#ed7953"
             ],
             [
              0.7777777777777778,
              "#fb9f3a"
             ],
             [
              0.8888888888888888,
              "#fdca26"
             ],
             [
              1,
              "#f0f921"
             ]
            ],
            "type": "heatmap"
           }
          ],
          "heatmapgl": [
           {
            "colorbar": {
             "outlinewidth": 0,
             "ticks": ""
            },
            "colorscale": [
             [
              0,
              "#0d0887"
             ],
             [
              0.1111111111111111,
              "#46039f"
             ],
             [
              0.2222222222222222,
              "#7201a8"
             ],
             [
              0.3333333333333333,
              "#9c179e"
             ],
             [
              0.4444444444444444,
              "#bd3786"
             ],
             [
              0.5555555555555556,
              "#d8576b"
             ],
             [
              0.6666666666666666,
              "#ed7953"
             ],
             [
              0.7777777777777778,
              "#fb9f3a"
             ],
             [
              0.8888888888888888,
              "#fdca26"
             ],
             [
              1,
              "#f0f921"
             ]
            ],
            "type": "heatmapgl"
           }
          ],
          "histogram": [
           {
            "marker": {
             "colorbar": {
              "outlinewidth": 0,
              "ticks": ""
             }
            },
            "type": "histogram"
           }
          ],
          "histogram2d": [
           {
            "colorbar": {
             "outlinewidth": 0,
             "ticks": ""
            },
            "colorscale": [
             [
              0,
              "#0d0887"
             ],
             [
              0.1111111111111111,
              "#46039f"
             ],
             [
              0.2222222222222222,
              "#7201a8"
             ],
             [
              0.3333333333333333,
              "#9c179e"
             ],
             [
              0.4444444444444444,
              "#bd3786"
             ],
             [
              0.5555555555555556,
              "#d8576b"
             ],
             [
              0.6666666666666666,
              "#ed7953"
             ],
             [
              0.7777777777777778,
              "#fb9f3a"
             ],
             [
              0.8888888888888888,
              "#fdca26"
             ],
             [
              1,
              "#f0f921"
             ]
            ],
            "type": "histogram2d"
           }
          ],
          "histogram2dcontour": [
           {
            "colorbar": {
             "outlinewidth": 0,
             "ticks": ""
            },
            "colorscale": [
             [
              0,
              "#0d0887"
             ],
             [
              0.1111111111111111,
              "#46039f"
             ],
             [
              0.2222222222222222,
              "#7201a8"
             ],
             [
              0.3333333333333333,
              "#9c179e"
             ],
             [
              0.4444444444444444,
              "#bd3786"
             ],
             [
              0.5555555555555556,
              "#d8576b"
             ],
             [
              0.6666666666666666,
              "#ed7953"
             ],
             [
              0.7777777777777778,
              "#fb9f3a"
             ],
             [
              0.8888888888888888,
              "#fdca26"
             ],
             [
              1,
              "#f0f921"
             ]
            ],
            "type": "histogram2dcontour"
           }
          ],
          "mesh3d": [
           {
            "colorbar": {
             "outlinewidth": 0,
             "ticks": ""
            },
            "type": "mesh3d"
           }
          ],
          "parcoords": [
           {
            "line": {
             "colorbar": {
              "outlinewidth": 0,
              "ticks": ""
             }
            },
            "type": "parcoords"
           }
          ],
          "pie": [
           {
            "automargin": true,
            "type": "pie"
           }
          ],
          "scatter": [
           {
            "marker": {
             "colorbar": {
              "outlinewidth": 0,
              "ticks": ""
             }
            },
            "type": "scatter"
           }
          ],
          "scatter3d": [
           {
            "line": {
             "colorbar": {
              "outlinewidth": 0,
              "ticks": ""
             }
            },
            "marker": {
             "colorbar": {
              "outlinewidth": 0,
              "ticks": ""
             }
            },
            "type": "scatter3d"
           }
          ],
          "scattercarpet": [
           {
            "marker": {
             "colorbar": {
              "outlinewidth": 0,
              "ticks": ""
             }
            },
            "type": "scattercarpet"
           }
          ],
          "scattergeo": [
           {
            "marker": {
             "colorbar": {
              "outlinewidth": 0,
              "ticks": ""
             }
            },
            "type": "scattergeo"
           }
          ],
          "scattergl": [
           {
            "marker": {
             "colorbar": {
              "outlinewidth": 0,
              "ticks": ""
             }
            },
            "type": "scattergl"
           }
          ],
          "scattermapbox": [
           {
            "marker": {
             "colorbar": {
              "outlinewidth": 0,
              "ticks": ""
             }
            },
            "type": "scattermapbox"
           }
          ],
          "scatterpolar": [
           {
            "marker": {
             "colorbar": {
              "outlinewidth": 0,
              "ticks": ""
             }
            },
            "type": "scatterpolar"
           }
          ],
          "scatterpolargl": [
           {
            "marker": {
             "colorbar": {
              "outlinewidth": 0,
              "ticks": ""
             }
            },
            "type": "scatterpolargl"
           }
          ],
          "scatterternary": [
           {
            "marker": {
             "colorbar": {
              "outlinewidth": 0,
              "ticks": ""
             }
            },
            "type": "scatterternary"
           }
          ],
          "surface": [
           {
            "colorbar": {
             "outlinewidth": 0,
             "ticks": ""
            },
            "colorscale": [
             [
              0,
              "#0d0887"
             ],
             [
              0.1111111111111111,
              "#46039f"
             ],
             [
              0.2222222222222222,
              "#7201a8"
             ],
             [
              0.3333333333333333,
              "#9c179e"
             ],
             [
              0.4444444444444444,
              "#bd3786"
             ],
             [
              0.5555555555555556,
              "#d8576b"
             ],
             [
              0.6666666666666666,
              "#ed7953"
             ],
             [
              0.7777777777777778,
              "#fb9f3a"
             ],
             [
              0.8888888888888888,
              "#fdca26"
             ],
             [
              1,
              "#f0f921"
             ]
            ],
            "type": "surface"
           }
          ],
          "table": [
           {
            "cells": {
             "fill": {
              "color": "#EBF0F8"
             },
             "line": {
              "color": "white"
             }
            },
            "header": {
             "fill": {
              "color": "#C8D4E3"
             },
             "line": {
              "color": "white"
             }
            },
            "type": "table"
           }
          ]
         },
         "layout": {
          "annotationdefaults": {
           "arrowcolor": "#2a3f5f",
           "arrowhead": 0,
           "arrowwidth": 1
          },
          "coloraxis": {
           "colorbar": {
            "outlinewidth": 0,
            "ticks": ""
           }
          },
          "colorscale": {
           "diverging": [
            [
             0,
             "#8e0152"
            ],
            [
             0.1,
             "#c51b7d"
            ],
            [
             0.2,
             "#de77ae"
            ],
            [
             0.3,
             "#f1b6da"
            ],
            [
             0.4,
             "#fde0ef"
            ],
            [
             0.5,
             "#f7f7f7"
            ],
            [
             0.6,
             "#e6f5d0"
            ],
            [
             0.7,
             "#b8e186"
            ],
            [
             0.8,
             "#7fbc41"
            ],
            [
             0.9,
             "#4d9221"
            ],
            [
             1,
             "#276419"
            ]
           ],
           "sequential": [
            [
             0,
             "#0d0887"
            ],
            [
             0.1111111111111111,
             "#46039f"
            ],
            [
             0.2222222222222222,
             "#7201a8"
            ],
            [
             0.3333333333333333,
             "#9c179e"
            ],
            [
             0.4444444444444444,
             "#bd3786"
            ],
            [
             0.5555555555555556,
             "#d8576b"
            ],
            [
             0.6666666666666666,
             "#ed7953"
            ],
            [
             0.7777777777777778,
             "#fb9f3a"
            ],
            [
             0.8888888888888888,
             "#fdca26"
            ],
            [
             1,
             "#f0f921"
            ]
           ],
           "sequentialminus": [
            [
             0,
             "#0d0887"
            ],
            [
             0.1111111111111111,
             "#46039f"
            ],
            [
             0.2222222222222222,
             "#7201a8"
            ],
            [
             0.3333333333333333,
             "#9c179e"
            ],
            [
             0.4444444444444444,
             "#bd3786"
            ],
            [
             0.5555555555555556,
             "#d8576b"
            ],
            [
             0.6666666666666666,
             "#ed7953"
            ],
            [
             0.7777777777777778,
             "#fb9f3a"
            ],
            [
             0.8888888888888888,
             "#fdca26"
            ],
            [
             1,
             "#f0f921"
            ]
           ]
          },
          "colorway": [
           "#636efa",
           "#EF553B",
           "#00cc96",
           "#ab63fa",
           "#FFA15A",
           "#19d3f3",
           "#FF6692",
           "#B6E880",
           "#FF97FF",
           "#FECB52"
          ],
          "font": {
           "color": "#2a3f5f"
          },
          "geo": {
           "bgcolor": "white",
           "lakecolor": "white",
           "landcolor": "#E5ECF6",
           "showlakes": true,
           "showland": true,
           "subunitcolor": "white"
          },
          "hoverlabel": {
           "align": "left"
          },
          "hovermode": "closest",
          "mapbox": {
           "style": "light"
          },
          "paper_bgcolor": "white",
          "plot_bgcolor": "#E5ECF6",
          "polar": {
           "angularaxis": {
            "gridcolor": "white",
            "linecolor": "white",
            "ticks": ""
           },
           "bgcolor": "#E5ECF6",
           "radialaxis": {
            "gridcolor": "white",
            "linecolor": "white",
            "ticks": ""
           }
          },
          "scene": {
           "xaxis": {
            "backgroundcolor": "#E5ECF6",
            "gridcolor": "white",
            "gridwidth": 2,
            "linecolor": "white",
            "showbackground": true,
            "ticks": "",
            "zerolinecolor": "white"
           },
           "yaxis": {
            "backgroundcolor": "#E5ECF6",
            "gridcolor": "white",
            "gridwidth": 2,
            "linecolor": "white",
            "showbackground": true,
            "ticks": "",
            "zerolinecolor": "white"
           },
           "zaxis": {
            "backgroundcolor": "#E5ECF6",
            "gridcolor": "white",
            "gridwidth": 2,
            "linecolor": "white",
            "showbackground": true,
            "ticks": "",
            "zerolinecolor": "white"
           }
          },
          "shapedefaults": {
           "line": {
            "color": "#2a3f5f"
           }
          },
          "ternary": {
           "aaxis": {
            "gridcolor": "white",
            "linecolor": "white",
            "ticks": ""
           },
           "baxis": {
            "gridcolor": "white",
            "linecolor": "white",
            "ticks": ""
           },
           "bgcolor": "#E5ECF6",
           "caxis": {
            "gridcolor": "white",
            "linecolor": "white",
            "ticks": ""
           }
          },
          "title": {
           "x": 0.05
          },
          "xaxis": {
           "automargin": true,
           "gridcolor": "white",
           "linecolor": "white",
           "ticks": "",
           "title": {
            "standoff": 15
           },
           "zerolinecolor": "white",
           "zerolinewidth": 2
          },
          "yaxis": {
           "automargin": true,
           "gridcolor": "white",
           "linecolor": "white",
           "ticks": "",
           "title": {
            "standoff": 15
           },
           "zerolinecolor": "white",
           "zerolinewidth": 2
          }
         }
        }
       }
      },
      "text/html": [
       "<div>                            <div id=\"1dc5cd35-a69b-4b0a-85ae-1dbcc2b3cdf7\" class=\"plotly-graph-div\" style=\"height:525px; width:100%;\"></div>            <script type=\"text/javascript\">                require([\"plotly\"], function(Plotly) {                    window.PLOTLYENV=window.PLOTLYENV || {};                                    if (document.getElementById(\"1dc5cd35-a69b-4b0a-85ae-1dbcc2b3cdf7\")) {                    Plotly.newPlot(                        \"1dc5cd35-a69b-4b0a-85ae-1dbcc2b3cdf7\",                        [{\"coloraxis\": \"coloraxis\", \"featureidkey\": \"properties.name\", \"geojson\": {\"features\": [{\"geometry\": {\"coordinates\": [[[-87.359296, 35.00118], [-85.606675, 34.984749], [-85.431413, 34.124869], [-85.184951, 32.859696], [-85.069935, 32.580372], [-84.960397, 32.421541], [-85.004212, 32.322956], [-84.889196, 32.262709], [-85.058981, 32.13674], [-85.053504, 32.01077], [-85.141136, 31.840985], [-85.042551, 31.539753], [-85.113751, 31.27686], [-85.004212, 31.003013], [-85.497137, 30.997536], [-87.600282, 30.997536], [-87.633143, 30.86609], [-87.408589, 30.674397], [-87.446927, 30.510088], [-87.37025, 30.427934], [-87.518128, 30.280057], [-87.655051, 30.247195], [-87.90699, 30.411504], [-87.934375, 30.657966], [-88.011052, 30.685351], [-88.10416, 30.499135], [-88.137022, 30.318396], [-88.394438, 30.367688], [-88.471115, 31.895754], [-88.241084, 33.796253], [-88.098683, 34.891641], [-88.202745, 34.995703], [-87.359296, 35.00118]]], \"type\": \"Polygon\"}, \"id\": \"01\", \"properties\": {\"density\": 94.65, \"name\": \"Alabama\"}, \"type\": \"Feature\"}, {\"geometry\": {\"coordinates\": [[[[-131.602021, 55.117982], [-131.569159, 55.28229], [-131.355558, 55.183705], [-131.38842, 55.01392], [-131.645836, 55.035827], [-131.602021, 55.117982]]], [[[-131.832052, 55.42469], [-131.645836, 55.304197], [-131.749898, 55.128935], [-131.832052, 55.189182], [-131.832052, 55.42469]]], [[[-132.976733, 56.437924], [-132.735747, 56.459832], [-132.631685, 56.421493], [-132.664547, 56.273616], [-132.878148, 56.240754], [-133.069841, 56.333862], [-132.976733, 56.437924]]], [[[-133.595627, 56.350293], [-133.162949, 56.317431], [-133.05341, 56.125739], [-132.620732, 55.912138], [-132.472854, 55.780691], [-132.4619, 55.671152], [-132.357838, 55.649245], [-132.341408, 55.506844], [-132.166146, 55.364444], [-132.144238, 55.238474], [-132.029222, 55.276813], [-131.97993, 55.178228], [-131.958022, 54.789365], [-132.029222, 54.701734], [-132.308546, 54.718165], [-132.385223, 54.915335], [-132.483808, 54.898904], [-132.686455, 55.046781], [-132.746701, 54.997489], [-132.916486, 55.046781], [-132.889102, 54.898904], [-132.73027, 54.937242], [-132.626209, 54.882473], [-132.675501, 54.679826], [-132.867194, 54.701734], [-133.157472, 54.95915], [-133.239626, 55.090597], [-133.223195, 55.22752], [-133.453227, 55.216566], [-133.453227, 55.320628], [-133.277964, 55.331582], [-133.102702, 55.42469], [-133.17938, 55.588998], [-133.387503, 55.62186], [-133.420365, 55.884753], [-133.497042, 56.0162], [-133.639442, 55.923092], [-133.694212, 56.070969], [-133.546335, 56.142169], [-133.666827, 56.311955], [-133.595627, 56.350293]]], [[[-133.738027, 55.556137], [-133.546335, 55.490413], [-133.414888, 55.572568], [-133.283441, 55.534229], [-133.420365, 55.386352], [-133.633966, 55.430167], [-133.738027, 55.556137]]], [[[-133.907813, 56.930849], [-134.050213, 57.029434], [-133.885905, 57.095157], [-133.343688, 57.002049], [-133.102702, 57.007526], [-132.932917, 56.82131], [-132.620732, 56.667956], [-132.653593, 56.55294], [-132.817901, 56.492694], [-133.042456, 56.520078], [-133.201287, 56.448878], [-133.420365, 56.492694], [-133.66135, 56.448878], [-133.710643, 56.684386], [-133.688735, 56.837741], [-133.869474, 56.843218], [-133.907813, 56.930849]]], [[[-134.115936, 56.48174], [-134.25286, 56.558417], [-134.400737, 56.722725], [-134.417168, 56.848695], [-134.296675, 56.908941], [-134.170706, 56.848695], [-134.143321, 56.952757], [-133.748981, 56.772017], [-133.710643, 56.596755], [-133.847566, 56.574848], [-133.935197, 56.377678], [-133.836612, 56.322908], [-133.957105, 56.092877], [-134.110459, 56.142169], [-134.132367, 55.999769], [-134.230952, 56.070969], [-134.291198, 56.350293], [-134.115936, 56.48174]]], [[[-134.636246, 56.28457], [-134.669107, 56.169554], [-134.806031, 56.235277], [-135.178463, 56.67891], [-135.413971, 56.810356], [-135.331817, 56.914418], [-135.424925, 57.166357], [-135.687818, 57.369004], [-135.419448, 57.566174], [-135.298955, 57.48402], [-135.063447, 57.418296], [-134.849846, 57.407343], [-134.844369, 57.248511], [-134.636246, 56.728202], [-134.636246, 56.28457]]], [[[-134.712923, 58.223407], [-134.373353, 58.14673], [-134.176183, 58.157683], [-134.187137, 58.081006], [-133.902336, 57.807159], [-134.099505, 57.850975], [-134.148798, 57.757867], [-133.935197, 57.615466], [-133.869474, 57.363527], [-134.083075, 57.297804], [-134.154275, 57.210173], [-134.499322, 57.029434], [-134.603384, 57.034911], [-134.6472, 57.226604], [-134.575999, 57.341619], [-134.608861, 57.511404], [-134.729354, 57.719528], [-134.707446, 57.829067], [-134.784123, 58.097437], [-134.91557, 58.212453], [-134.953908, 58.409623], [-134.712923, 58.223407]]], [[[-135.857603, 57.330665], [-135.715203, 57.330665], [-135.567326, 57.149926], [-135.633049, 57.023957], [-135.857603, 56.996572], [-135.824742, 57.193742], [-135.857603, 57.330665]]], [[[-136.279328, 58.206976], [-135.978096, 58.201499], [-135.780926, 58.28913], [-135.496125, 58.168637], [-135.64948, 58.037191], [-135.59471, 57.987898], [-135.45231, 58.135776], [-135.107263, 58.086483], [-134.91557, 57.976944], [-135.025108, 57.779775], [-134.937477, 57.763344], [-134.822462, 57.500451], [-135.085355, 57.462112], [-135.572802, 57.675713], [-135.556372, 57.456635], [-135.709726, 57.369004], [-135.890465, 57.407343], [-136.000004, 57.544266], [-136.208128, 57.637374], [-136.366959, 57.829067], [-136.569606, 57.916698], [-136.558652, 58.075529], [-136.421728, 58.130299], [-136.377913, 58.267222], [-136.279328, 58.206976]]], [[[-147.079854, 60.200582], [-147.501579, 59.948643], [-147.53444, 59.850058], [-147.874011, 59.784335], [-147.80281, 59.937689], [-147.435855, 60.09652], [-147.205824, 60.271782], [-147.079854, 60.200582]]], [[[-147.561825, 60.578491], [-147.616594, 60.370367], [-147.758995, 60.156767], [-147.956165, 60.227967], [-147.791856, 60.474429], [-147.561825, 60.578491]]], [[[-147.786379, 70.245291], [-147.682318, 70.201475], [-147.162008, 70.15766], [-146.888161, 70.185044], [-146.510252, 70.185044], [-146.099482, 70.146706], [-145.858496, 70.168614], [-145.622988, 70.08646], [-145.195787, 69.993352], [-144.620708, 69.971444], [-144.461877, 70.026213], [-144.078491, 70.059075], [-143.914183, 70.130275], [-143.497935, 70.141229], [-143.503412, 70.091936], [-143.25695, 70.119321], [-142.747594, 70.042644], [-142.402547, 69.916674], [-142.079408, 69.856428], [-142.008207, 69.801659], [-141.712453, 69.790705], [-141.433129, 69.697597], [-141.378359, 69.63735], [-141.208574, 69.686643], [-141.00045, 69.648304], [-141.00045, 60.304644], [-140.53491, 60.22249], [-140.474664, 60.310121], [-139.987216, 60.184151], [-139.696939, 60.342983], [-139.088998, 60.359413], [-139.198537, 60.091043], [-139.045183, 59.997935], [-138.700135, 59.910304], [-138.623458, 59.767904], [-137.604747, 59.242118], [-137.445916, 58.908024], [-137.265177, 59.001132], [-136.827022, 59.159963], [-136.580559, 59.16544], [-136.465544, 59.285933], [-136.476498, 59.466672], [-136.301236, 59.466672], [-136.25742, 59.625503], [-135.945234, 59.663842], [-135.479694, 59.800766], [-135.025108, 59.565257], [-135.068924, 59.422857], [-134.959385, 59.280456], [-134.701969, 59.247595], [-134.378829, 59.033994], [-134.400737, 58.973748], [-134.25286, 58.858732], [-133.842089, 58.727285], [-133.173903, 58.152206], [-133.075318, 57.998852], [-132.867194, 57.845498], [-132.560485, 57.505928], [-132.253777, 57.21565], [-132.368792, 57.095157], [-132.05113, 57.051341], [-132.127807, 56.876079], [-131.870391, 56.804879], [-131.837529, 56.602232], [-131.580113, 56.613186], [-131.087188, 56.405062], [-130.78048, 56.366724], [-130.621648, 56.268139], [-130.468294, 56.240754], [-130.424478, 56.142169], [-130.101339, 56.114785], [-130.002754, 55.994292], [-130.150631, 55.769737], [-130.128724, 55.583521], [-129.986323, 55.276813], [-130.095862, 55.200136], [-130.336847, 54.920812], [-130.687372, 54.718165], [-130.785957, 54.822227], [-130.917403, 54.789365], [-131.010511, 54.997489], [-130.983126, 55.08512], [-131.092665, 55.189182], [-130.862634, 55.298721], [-130.928357, 55.337059], [-131.158389, 55.200136], [-131.284358, 55.287767], [-131.426759, 55.238474], [-131.843006, 55.457552], [-131.700606, 55.698537], [-131.963499, 55.616383], [-131.974453, 55.49589], [-132.182576, 55.588998], [-132.226392, 55.704014], [-132.083991, 55.829984], [-132.127807, 55.955953], [-132.324977, 55.851892], [-132.522147, 56.076446], [-132.642639, 56.032631], [-132.719317, 56.218847], [-132.527624, 56.339339], [-132.341408, 56.339339], [-132.396177, 56.487217], [-132.297592, 56.67891], [-132.450946, 56.673433], [-132.768609, 56.837741], [-132.993164, 57.034911], [-133.51895, 57.177311], [-133.507996, 57.577128], [-133.677781, 57.62642], [-133.639442, 57.790728], [-133.814705, 57.834544], [-134.072121, 58.053622], [-134.143321, 58.168637], [-134.586953, 58.206976], [-135.074401, 58.502731], [-135.282525, 59.192825], [-135.38111, 59.033994], [-135.337294, 58.891593], [-135.140124, 58.617746], [-135.189417, 58.573931], [-135.05797, 58.349376], [-135.085355, 58.201499], [-135.277048, 58.234361], [-135.430402, 58.398669], [-135.633049, 58.426053], [-135.91785, 58.382238], [-135.912373, 58.617746], [-136.087635, 58.814916], [-136.246466, 58.75467], [-136.876314, 58.962794], [-136.931084, 58.902547], [-136.586036, 58.836824], [-136.317666, 58.672516], [-136.213604, 58.667039], [-136.180743, 58.535592], [-136.043819, 58.382238], [-136.388867, 58.294607], [-136.591513, 58.349376], [-136.59699, 58.212453], [-136.859883, 58.316515], [-136.947514, 58.393192], [-137.111823, 58.393192], [-137.566409, 58.590362], [-137.900502, 58.765624], [-137.933364, 58.869686], [-138.11958, 59.02304], [-138.634412, 59.132579], [-138.919213, 59.247595], [-139.417615, 59.379041], [-139.746231, 59.505011], [-139.718846, 59.641934], [-139.625738, 59.598119], [-139.5162, 59.68575], [-139.625738, 59.88292], [-139.488815, 59.992458], [-139.554538, 60.041751], [-139.801, 59.833627], [-140.315833, 59.696704], [-140.92925, 59.745996], [-141.444083, 59.871966], [-141.46599, 59.970551], [-141.706976, 59.948643], [-141.964392, 60.019843], [-142.539471, 60.085566], [-142.873564, 60.091043], [-143.623905, 60.036274], [-143.892275, 59.997935], [-144.231845, 60.140336], [-144.65357, 60.206059], [-144.785016, 60.29369], [-144.834309, 60.441568], [-145.124586, 60.430614], [-145.223171, 60.299167], [-145.738004, 60.474429], [-145.820158, 60.551106], [-146.351421, 60.408706], [-146.608837, 60.238921], [-146.718376, 60.397752], [-146.608837, 60.485383], [-146.455483, 60.463475], [-145.951604, 60.578491], [-146.017328, 60.666122], [-146.252836, 60.622307], [-146.345944, 60.737322], [-146.565022, 60.753753], [-146.784099, 61.044031], [-146.866253, 60.972831], [-147.172962, 60.934492], [-147.271547, 60.972831], [-147.375609, 60.879723], [-147.758995, 60.912584], [-147.775426, 60.808523], [-148.032842, 60.781138], [-148.153334, 60.819476], [-148.065703, 61.005692], [-148.175242, 61.000215], [-148.350504, 60.803046], [-148.109519, 60.737322], [-148.087611, 60.594922], [-147.939734, 60.441568], [-148.027365, 60.277259], [-148.219058, 60.332029], [-148.273827, 60.249875], [-148.087611, 60.217013], [-147.983549, 59.997935], [-148.251919, 59.95412], [-148.399797, 59.997935], [-148.635305, 59.937689], [-148.755798, 59.986981], [-149.067984, 59.981505], [-149.05703, 60.063659], [-149.204907, 60.008889], [-149.287061, 59.904827], [-149.418508, 59.997935], [-149.582816, 59.866489], [-149.511616, 59.806242], [-149.741647, 59.729565], [-149.949771, 59.718611], [-150.031925, 59.61455], [-150.25648, 59.521442], [-150.409834, 59.554303], [-150.579619, 59.444764], [-150.716543, 59.450241], [-151.001343, 59.225687], [-151.308052, 59.209256], [-151.406637, 59.280456], [-151.592853, 59.159963], [-151.976239, 59.253071], [-151.888608, 59.422857], [-151.636669, 59.483103], [-151.47236, 59.472149], [-151.423068, 59.537872], [-151.127313, 59.669319], [-151.116359, 59.778858], [-151.505222, 59.63098], [-151.828361, 59.718611], [-151.8667, 59.778858], [-151.702392, 60.030797], [-151.423068, 60.211536], [-151.379252, 60.359413], [-151.297098, 60.386798], [-151.264237, 60.545629], [-151.406637, 60.720892], [-151.06159, 60.786615], [-150.404357, 61.038554], [-150.245526, 60.939969], [-150.042879, 60.912584], [-149.741647, 61.016646], [-150.075741, 61.15357], [-150.207187, 61.257632], [-150.47008, 61.246678], [-150.656296, 61.29597], [-150.711066, 61.252155], [-151.023251, 61.180954], [-151.165652, 61.044031], [-151.477837, 61.011169], [-151.800977, 60.852338], [-151.833838, 60.748276], [-152.080301, 60.693507], [-152.13507, 60.578491], [-152.310332, 60.507291], [-152.392486, 60.304644], [-152.732057, 60.173197], [-152.567748, 60.069136], [-152.704672, 59.915781], [-153.022334, 59.888397], [-153.049719, 59.691227], [-153.345474, 59.620026], [-153.438582, 59.702181], [-153.586459, 59.548826], [-153.761721, 59.543349], [-153.72886, 59.433811], [-154.117723, 59.368087], [-154.1944, 59.066856], [-153.750768, 59.050425], [-153.400243, 58.968271], [-153.301658, 58.869686], [-153.444059, 58.710854], [-153.679567, 58.612269], [-153.898645, 58.606793], [-153.920553, 58.519161], [-154.062953, 58.4863], [-153.99723, 58.376761], [-154.145107, 58.212453], [-154.46277, 58.059098], [-154.643509, 58.059098], [-154.818771, 58.004329], [-154.988556, 58.015283], [-155.120003, 57.955037], [-155.081664, 57.872883], [-155.328126, 57.829067], [-155.377419, 57.708574], [-155.547204, 57.785251], [-155.73342, 57.549743], [-156.045606, 57.566174], [-156.023698, 57.440204], [-156.209914, 57.473066], [-156.34136, 57.418296], [-156.34136, 57.248511], [-156.549484, 56.985618], [-156.883577, 56.952757], [-157.157424, 56.832264], [-157.20124, 56.766541], [-157.376502, 56.859649], [-157.672257, 56.607709], [-157.754411, 56.67891], [-157.918719, 56.657002], [-157.957058, 56.514601], [-158.126843, 56.459832], [-158.32949, 56.48174], [-158.488321, 56.339339], [-158.208997, 56.295524], [-158.510229, 55.977861], [-159.375585, 55.873799], [-159.616571, 55.594475], [-159.676817, 55.654722], [-159.643955, 55.829984], [-159.813741, 55.857368], [-160.027341, 55.791645], [-160.060203, 55.720445], [-160.394296, 55.605429], [-160.536697, 55.473983], [-160.580512, 55.567091], [-160.668143, 55.457552], [-160.865313, 55.528752], [-161.232268, 55.358967], [-161.506115, 55.364444], [-161.467776, 55.49589], [-161.588269, 55.62186], [-161.697808, 55.517798], [-161.686854, 55.408259], [-162.053809, 55.074166], [-162.179779, 55.15632], [-162.218117, 55.03035], [-162.470057, 55.052258], [-162.508395, 55.249428], [-162.661749, 55.293244], [-162.716519, 55.222043], [-162.579595, 55.134412], [-162.645319, 54.997489], [-162.847965, 54.926289], [-163.00132, 55.079643], [-163.187536, 55.090597], [-163.220397, 55.03035], [-163.034181, 54.942719], [-163.373752, 54.800319], [-163.14372, 54.76198], [-163.138243, 54.696257], [-163.329936, 54.74555], [-163.587352, 54.614103], [-164.085754, 54.61958], [-164.332216, 54.531949], [-164.354124, 54.466226], [-164.638925, 54.389548], [-164.847049, 54.416933], [-164.918249, 54.603149], [-164.710125, 54.663395], [-164.551294, 54.88795], [-164.34317, 54.893427], [-163.894061, 55.041304], [-163.532583, 55.046781], [-163.39566, 54.904381], [-163.291598, 55.008443], [-163.313505, 55.128935], [-163.105382, 55.183705], [-162.880827, 55.183705], [-162.579595, 55.446598], [-162.245502, 55.682106], [-161.807347, 55.89023], [-161.292514, 55.983338], [-161.078914, 55.939523], [-160.87079, 55.999769], [-160.816021, 55.912138], [-160.931036, 55.813553], [-160.805067, 55.736876], [-160.766728, 55.857368], [-160.509312, 55.868322], [-160.438112, 55.791645], [-160.27928, 55.76426], [-160.273803, 55.857368], [-160.536697, 55.939523], [-160.558604, 55.994292], [-160.383342, 56.251708], [-160.147834, 56.399586], [-159.830171, 56.541986], [-159.326293, 56.667956], [-158.959338, 56.848695], [-158.784076, 56.782971], [-158.641675, 56.810356], [-158.701922, 56.925372], [-158.658106, 57.034911], [-158.378782, 57.264942], [-157.995396, 57.41282], [-157.688688, 57.609989], [-157.705118, 57.719528], [-157.458656, 58.497254], [-157.07527, 58.705377], [-157.119086, 58.869686], [-158.039212, 58.634177], [-158.32949, 58.661562], [-158.40069, 58.760147], [-158.564998, 58.803962], [-158.619768, 58.913501], [-158.767645, 58.864209], [-158.860753, 58.694424], [-158.701922, 58.480823], [-158.893615, 58.387715], [-159.0634, 58.420577], [-159.392016, 58.760147], [-159.616571, 58.929932], [-159.731586, 58.929932], [-159.808264, 58.803962], [-159.906848, 58.782055], [-160.054726, 58.886116], [-160.235465, 58.902547], [-160.317619, 59.072332], [-160.854359, 58.88064], [-161.33633, 58.743716], [-161.374669, 58.667039], [-161.752577, 58.552023], [-161.938793, 58.656085], [-161.769008, 58.776578], [-161.829255, 59.061379], [-161.955224, 59.36261], [-161.703285, 59.48858], [-161.911409, 59.740519], [-162.092148, 59.88292], [-162.234548, 60.091043], [-162.448149, 60.178674], [-162.502918, 59.997935], [-162.760334, 59.959597], [-163.171105, 59.844581], [-163.66403, 59.795289], [-163.9324, 59.806242], [-164.162431, 59.866489], [-164.189816, 60.02532], [-164.386986, 60.074613], [-164.699171, 60.29369], [-164.962064, 60.337506], [-165.268773, 60.578491], [-165.060649, 60.68803], [-165.016834, 60.890677], [-165.175665, 60.846861], [-165.197573, 60.972831], [-165.120896, 61.076893], [-165.323543, 61.170001], [-165.34545, 61.071416], [-165.591913, 61.109754], [-165.624774, 61.279539], [-165.816467, 61.301447], [-165.920529, 61.416463], [-165.915052, 61.558863], [-166.106745, 61.49314], [-166.139607, 61.630064], [-165.904098, 61.662925], [-166.095791, 61.81628], [-165.756221, 61.827233], [-165.756221, 62.013449], [-165.674067, 62.139419], [-165.044219, 62.539236], [-164.912772, 62.659728], [-164.819664, 62.637821], [-164.874433, 62.807606], [-164.633448, 63.097884], [-164.425324, 63.212899], [-164.036462, 63.262192], [-163.73523, 63.212899], [-163.313505, 63.037637], [-163.039658, 63.059545], [-162.661749, 63.22933], [-162.272887, 63.486746], [-162.075717, 63.514131], [-162.026424, 63.448408], [-161.555408, 63.448408], [-161.13916, 63.503177], [-160.766728, 63.771547], [-160.766728, 63.837271], [-160.952944, 64.08921], [-160.974852, 64.237087], [-161.26513, 64.395918], [-161.374669, 64.532842], [-161.078914, 64.494503], [-160.79959, 64.609519], [-160.783159, 64.719058], [-161.144637, 64.921705], [-161.413007, 64.762873], [-161.664946, 64.790258], [-161.900455, 64.702627], [-162.168825, 64.680719], [-162.234548, 64.620473], [-162.541257, 64.532842], [-162.634365, 64.384965], [-162.787719, 64.324718], [-162.858919, 64.49998], [-163.045135, 64.538319], [-163.176582, 64.401395], [-163.253259, 64.467119], [-163.598306, 64.565704], [-164.304832, 64.560227], [-164.80871, 64.450688], [-165.000403, 64.434257], [-165.411174, 64.49998], [-166.188899, 64.576658], [-166.391546, 64.636904], [-166.484654, 64.735489], [-166.413454, 64.872412], [-166.692778, 64.987428], [-166.638008, 65.113398], [-166.462746, 65.179121], [-166.517516, 65.337952], [-166.796839, 65.337952], [-167.026871, 65.381768], [-167.47598, 65.414629], [-167.711489, 65.496784], [-168.072967, 65.578938], [-168.105828, 65.682999], [-167.541703, 65.819923], [-166.829701, 66.049954], [-166.3313, 66.186878], [-166.046499, 66.110201], [-165.756221, 66.09377], [-165.690498, 66.203309], [-165.86576, 66.21974], [-165.88219, 66.312848], [-165.186619, 66.466202], [-164.403417, 66.581218], [-163.981692, 66.592172], [-163.751661, 66.553833], [-163.872153, 66.389525], [-163.828338, 66.274509], [-163.915969, 66.192355], [-163.768091, 66.060908], [-163.494244, 66.082816], [-163.149197, 66.060908], [-162.749381, 66.088293], [-162.634365, 66.039001], [-162.371472, 66.028047], [-162.14144, 66.077339], [-161.840208, 66.02257], [-161.549931, 66.241647], [-161.341807, 66.252601], [-161.199406, 66.208786], [-161.128206, 66.334755], [-161.528023, 66.395002], [-161.911409, 66.345709], [-161.87307, 66.510017], [-162.174302, 66.68528], [-162.502918, 66.740049], [-162.601503, 66.89888], [-162.344087, 66.937219], [-162.015471, 66.778388], [-162.075717, 66.652418], [-161.916886, 66.553833], [-161.571838, 66.438817], [-161.489684, 66.55931], [-161.884024, 66.718141], [-161.714239, 67.002942], [-161.851162, 67.052235], [-162.240025, 66.991988], [-162.639842, 67.008419], [-162.700088, 67.057712], [-162.902735, 67.008419], [-163.740707, 67.128912], [-163.757138, 67.254881], [-164.009077, 67.534205], [-164.211724, 67.638267], [-164.534863, 67.725898], [-165.192096, 67.966884], [-165.493328, 68.059992], [-165.794559, 68.081899], [-166.243668, 68.246208], [-166.681824, 68.339316], [-166.703731, 68.372177], [-166.375115, 68.42147], [-166.227238, 68.574824], [-166.216284, 68.881533], [-165.329019, 68.859625], [-164.255539, 68.930825], [-163.976215, 68.985595], [-163.532583, 69.138949], [-163.110859, 69.374457], [-163.023228, 69.609966], [-162.842489, 69.812613], [-162.470057, 69.982398], [-162.311225, 70.108367], [-161.851162, 70.311014], [-161.779962, 70.256245], [-161.396576, 70.239814], [-160.837928, 70.343876], [-160.487404, 70.453415], [-159.649432, 70.792985], [-159.33177, 70.809416], [-159.298908, 70.760123], [-158.975769, 70.798462], [-158.658106, 70.787508], [-158.033735, 70.831323], [-157.420318, 70.979201], [-156.812377, 71.285909], [-156.565915, 71.351633], [-156.522099, 71.296863], [-155.585543, 71.170894], [-155.508865, 71.083263], [-155.832005, 70.968247], [-155.979882, 70.96277], [-155.974405, 70.809416], [-155.503388, 70.858708], [-155.476004, 70.940862], [-155.262403, 71.017539], [-155.191203, 70.973724], [-155.032372, 71.148986], [-154.566832, 70.990155], [-154.643509, 70.869662], [-154.353231, 70.8368], [-154.183446, 70.7656], [-153.931507, 70.880616], [-153.487874, 70.886093], [-153.235935, 70.924431], [-152.589656, 70.886093], [-152.26104, 70.842277], [-152.419871, 70.606769], [-151.817408, 70.546523], [-151.773592, 70.486276], [-151.187559, 70.382214], [-151.182082, 70.431507], [-150.760358, 70.49723], [-150.355064, 70.491753], [-150.349588, 70.436984], [-150.114079, 70.431507], [-149.867617, 70.508184], [-149.462323, 70.519138], [-149.177522, 70.486276], [-148.78866, 70.404122], [-148.607921, 70.420553], [-148.350504, 70.305537], [-148.202627, 70.349353], [-147.961642, 70.316491], [-147.786379, 70.245291]]], [[[-152.94018, 58.026237], [-152.945657, 57.982421], [-153.290705, 58.048145], [-153.044242, 58.305561], [-152.819688, 58.327469], [-152.666333, 58.562977], [-152.496548, 58.354853], [-152.354148, 58.426053], [-152.080301, 58.311038], [-152.080301, 58.152206], [-152.480117, 58.130299], [-152.655379, 58.059098], [-152.94018, 58.026237]]], [[[-153.958891, 57.538789], [-153.67409, 57.670236], [-153.931507, 57.69762], [-153.936983, 57.812636], [-153.723383, 57.889313], [-153.570028, 57.834544], [-153.548121, 57.719528], [-153.46049, 57.796205], [-153.455013, 57.96599], [-153.268797, 57.889313], [-153.235935, 57.998852], [-153.071627, 57.933129], [-152.874457, 57.933129], [-152.721103, 57.993375], [-152.469163, 57.889313], [-152.469163, 57.599035], [-152.151501, 57.620943], [-152.359625, 57.42925], [-152.74301, 57.505928], [-152.60061, 57.379958], [-152.710149, 57.275896], [-152.907319, 57.325188], [-152.912796, 57.128019], [-153.214027, 57.073249], [-153.312612, 56.991095], [-153.498828, 57.067772], [-153.695998, 56.859649], [-153.849352, 56.837741], [-154.013661, 56.744633], [-154.073907, 56.969187], [-154.303938, 56.848695], [-154.314892, 56.919895], [-154.523016, 56.991095], [-154.539447, 57.193742], [-154.742094, 57.275896], [-154.627078, 57.511404], [-154.227261, 57.659282], [-153.980799, 57.648328], [-153.958891, 57.538789]]], [[[-154.53397, 56.602232], [-154.742094, 56.399586], [-154.807817, 56.432447], [-154.53397, 56.602232]]], [[[-155.634835, 55.923092], [-155.476004, 55.912138], [-155.530773, 55.704014], [-155.793666, 55.731399], [-155.837482, 55.802599], [-155.634835, 55.923092]]], [[[-159.890418, 55.28229], [-159.950664, 55.068689], [-160.257373, 54.893427], [-160.109495, 55.161797], [-160.005433, 55.134412], [-159.890418, 55.28229]]], [[[-160.520266, 55.358967], [-160.33405, 55.358967], [-160.339527, 55.249428], [-160.525743, 55.128935], [-160.690051, 55.211089], [-160.794113, 55.134412], [-160.854359, 55.320628], [-160.79959, 55.380875], [-160.520266, 55.358967]]], [[[-162.256456, 54.981058], [-162.234548, 54.893427], [-162.349564, 54.838658], [-162.437195, 54.931766], [-162.256456, 54.981058]]], [[[-162.415287, 63.634624], [-162.563165, 63.536039], [-162.612457, 63.62367], [-162.415287, 63.634624]]], [[[-162.80415, 54.488133], [-162.590549, 54.449795], [-162.612457, 54.367641], [-162.782242, 54.373118], [-162.80415, 54.488133]]], [[[-165.548097, 54.29644], [-165.476897, 54.181425], [-165.630251, 54.132132], [-165.685021, 54.252625], [-165.548097, 54.29644]]], [[[-165.73979, 54.15404], [-166.046499, 54.044501], [-166.112222, 54.121178], [-165.980775, 54.219763], [-165.73979, 54.15404]]], [[[-166.364161, 60.359413], [-166.13413, 60.397752], [-166.084837, 60.326552], [-165.88219, 60.342983], [-165.685021, 60.277259], [-165.646682, 59.992458], [-165.750744, 59.89935], [-166.00816, 59.844581], [-166.062929, 59.745996], [-166.440838, 59.855535], [-166.6161, 59.850058], [-166.994009, 59.992458], [-167.125456, 59.992458], [-167.344534, 60.074613], [-167.421211, 60.206059], [-167.311672, 60.238921], [-166.93924, 60.206059], [-166.763978, 60.310121], [-166.577762, 60.321075], [-166.495608, 60.392275], [-166.364161, 60.359413]]], [[[-166.375115, 54.01164], [-166.210807, 53.934962], [-166.5449, 53.748746], [-166.539423, 53.715885], [-166.117699, 53.852808], [-166.112222, 53.776131], [-166.282007, 53.683023], [-166.555854, 53.622777], [-166.583239, 53.529669], [-166.878994, 53.431084], [-167.13641, 53.425607], [-167.306195, 53.332499], [-167.623857, 53.250345], [-167.793643, 53.337976], [-167.459549, 53.442038], [-167.355487, 53.425607], [-167.103548, 53.513238], [-167.163794, 53.611823], [-167.021394, 53.715885], [-166.807793, 53.666592], [-166.785886, 53.732316], [-167.015917, 53.754223], [-167.141887, 53.825424], [-167.032348, 53.945916], [-166.643485, 54.017116], [-166.561331, 53.880193], [-166.375115, 54.01164]]], [[[-168.790446, 53.157237], [-168.40706, 53.34893], [-168.385152, 53.431084], [-168.237275, 53.524192], [-168.007243, 53.568007], [-167.886751, 53.518715], [-167.842935, 53.387268], [-168.270136, 53.244868], [-168.500168, 53.036744], [-168.686384, 52.965544], [-168.790446, 53.157237]]], [[[-169.74891, 52.894344], [-169.705095, 52.795759], [-169.962511, 52.790282], [-169.989896, 52.856005], [-169.74891, 52.894344]]], [[[-170.148727, 57.221127], [-170.28565, 57.128019], [-170.313035, 57.221127], [-170.148727, 57.221127]]], [[[-170.669036, 52.697174], [-170.603313, 52.604066], [-170.789529, 52.538343], [-170.816914, 52.636928], [-170.669036, 52.697174]]], [[[-171.742517, 63.716778], [-170.94836, 63.5689], [-170.488297, 63.69487], [-170.280174, 63.683916], [-170.093958, 63.612716], [-170.044665, 63.492223], [-169.644848, 63.4265], [-169.518879, 63.366254], [-168.99857, 63.338869], [-168.686384, 63.295053], [-168.856169, 63.147176], [-169.108108, 63.180038], [-169.376478, 63.152653], [-169.513402, 63.08693], [-169.639372, 62.939052], [-169.831064, 63.075976], [-170.055619, 63.169084], [-170.263743, 63.180038], [-170.362328, 63.2841], [-170.866206, 63.415546], [-171.101715, 63.421023], [-171.463193, 63.306007], [-171.73704, 63.366254], [-171.852055, 63.486746], [-171.742517, 63.716778]]], [[[-172.432611, 52.390465], [-172.41618, 52.275449], [-172.607873, 52.253542], [-172.569535, 52.352127], [-172.432611, 52.390465]]], [[[-173.626584, 52.14948], [-173.495138, 52.105664], [-173.122706, 52.111141], [-173.106275, 52.07828], [-173.549907, 52.028987], [-173.626584, 52.14948]]], [[[-174.322156, 52.280926], [-174.327632, 52.379511], [-174.185232, 52.41785], [-173.982585, 52.319265], [-174.059262, 52.226157], [-174.179755, 52.231634], [-174.141417, 52.127572], [-174.333109, 52.116618], [-174.738403, 52.007079], [-174.968435, 52.039941], [-174.902711, 52.116618], [-174.656249, 52.105664], [-174.322156, 52.280926]]], [[[-176.469116, 51.853725], [-176.288377, 51.870156], [-176.288377, 51.744186], [-176.518409, 51.760617], [-176.80321, 51.61274], [-176.912748, 51.80991], [-176.792256, 51.815386], [-176.775825, 51.963264], [-176.627947, 51.968741], [-176.627947, 51.859202], [-176.469116, 51.853725]]], [[[-177.153734, 51.946833], [-177.044195, 51.897541], [-177.120872, 51.727755], [-177.274226, 51.678463], [-177.279703, 51.782525], [-177.153734, 51.946833]]], [[[-178.123152, 51.919448], [-177.953367, 51.913971], [-177.800013, 51.793479], [-177.964321, 51.651078], [-178.123152, 51.919448]]], [[[-187.107557, 52.992929], [-187.293773, 52.927205], [-187.304726, 52.823143], [-188.90491, 52.762897], [-188.642017, 52.927205], [-188.642017, 53.003883], [-187.107557, 52.992929]]]], \"type\": \"MultiPolygon\"}, \"id\": \"02\", \"properties\": {\"density\": 1.264, \"name\": \"Alaska\"}, \"type\": \"Feature\"}, {\"geometry\": {\"coordinates\": [[[-109.042503, 37.000263], [-109.04798, 31.331629], [-111.074448, 31.331629], [-112.246513, 31.704061], [-114.815198, 32.492741], [-114.72209, 32.717295], [-114.524921, 32.755634], [-114.470151, 32.843265], [-114.524921, 33.029481], [-114.661844, 33.034958], [-114.727567, 33.40739], [-114.524921, 33.54979], [-114.497536, 33.697668], [-114.535874, 33.933176], [-114.415382, 34.108438], [-114.256551, 34.174162], [-114.136058, 34.305608], [-114.333228, 34.448009], [-114.470151, 34.710902], [-114.634459, 34.87521], [-114.634459, 35.00118], [-114.574213, 35.138103], [-114.596121, 35.324319], [-114.678275, 35.516012], [-114.738521, 36.102045], [-114.371566, 36.140383], [-114.251074, 36.01989], [-114.152489, 36.025367], [-114.048427, 36.195153], [-114.048427, 37.000263], [-110.499369, 37.00574], [-109.042503, 37.000263]]], \"type\": \"Polygon\"}, \"id\": \"04\", \"properties\": {\"density\": 57.05, \"name\": \"Arizona\"}, \"type\": \"Feature\"}, {\"geometry\": {\"coordinates\": [[[-94.473842, 36.501861], [-90.152536, 36.496384], [-90.064905, 36.304691], [-90.218259, 36.184199], [-90.377091, 35.997983], [-89.730812, 35.997983], [-89.763673, 35.811767], [-89.911551, 35.756997], [-89.944412, 35.603643], [-90.130628, 35.439335], [-90.114197, 35.198349], [-90.212782, 35.023087], [-90.311367, 34.995703], [-90.251121, 34.908072], [-90.409952, 34.831394], [-90.481152, 34.661609], [-90.585214, 34.617794], [-90.568783, 34.420624], [-90.749522, 34.365854], [-90.744046, 34.300131], [-90.952169, 34.135823], [-90.891923, 34.026284], [-91.072662, 33.867453], [-91.231493, 33.560744], [-91.056231, 33.429298], [-91.143862, 33.347144], [-91.089093, 33.13902], [-91.16577, 33.002096], [-93.608485, 33.018527], [-94.041164, 33.018527], [-94.041164, 33.54979], [-94.183564, 33.593606], [-94.380734, 33.544313], [-94.484796, 33.637421], [-94.430026, 35.395519], [-94.616242, 36.501861], [-94.473842, 36.501861]]], \"type\": \"Polygon\"}, \"id\": \"05\", \"properties\": {\"density\": 56.43, \"name\": \"Arkansas\"}, \"type\": \"Feature\"}, {\"geometry\": {\"coordinates\": [[[-123.233256, 42.006186], [-122.378853, 42.011663], [-121.037003, 41.995232], [-120.001861, 41.995232], [-119.996384, 40.264519], [-120.001861, 38.999346], [-118.71478, 38.101128], [-117.498899, 37.21934], [-116.540435, 36.501861], [-115.85034, 35.970598], [-114.634459, 35.00118], [-114.634459, 34.87521], [-114.470151, 34.710902], [-114.333228, 34.448009], [-114.136058, 34.305608], [-114.256551, 34.174162], [-114.415382, 34.108438], [-114.535874, 33.933176], [-114.497536, 33.697668], [-114.524921, 33.54979], [-114.727567, 33.40739], [-114.661844, 33.034958], [-114.524921, 33.029481], [-114.470151, 32.843265], [-114.524921, 32.755634], [-114.72209, 32.717295], [-116.04751, 32.624187], [-117.126467, 32.536556], [-117.24696, 32.668003], [-117.252437, 32.876127], [-117.329114, 33.122589], [-117.471515, 33.297851], [-117.7837, 33.538836], [-118.183517, 33.763391], [-118.260194, 33.703145], [-118.413548, 33.741483], [-118.391641, 33.840068], [-118.566903, 34.042715], [-118.802411, 33.998899], [-119.218659, 34.146777], [-119.278905, 34.26727], [-119.558229, 34.415147], [-119.875891, 34.40967], [-120.138784, 34.475393], [-120.472878, 34.448009], [-120.64814, 34.579455], [-120.609801, 34.858779], [-120.670048, 34.902595], [-120.631709, 35.099764], [-120.894602, 35.247642], [-120.905556, 35.450289], [-121.004141, 35.461243], [-121.168449, 35.636505], [-121.283465, 35.674843], [-121.332757, 35.784382], [-121.716143, 36.195153], [-121.896882, 36.315645], [-121.935221, 36.638785], [-121.858544, 36.6114], [-121.787344, 36.803093], [-121.929744, 36.978355], [-122.105006, 36.956447], [-122.335038, 37.115279], [-122.417192, 37.241248], [-122.400761, 37.361741], [-122.515777, 37.520572], [-122.515777, 37.783465], [-122.329561, 37.783465], [-122.406238, 38.15042], [-122.488392, 38.112082], [-122.504823, 37.931343], [-122.701993, 37.893004], [-122.937501, 38.029928], [-122.97584, 38.265436], [-123.129194, 38.451652], [-123.331841, 38.566668], [-123.44138, 38.698114], [-123.737134, 38.95553], [-123.687842, 39.032208], [-123.824765, 39.366301], [-123.764519, 39.552517], [-123.85215, 39.831841], [-124.109566, 40.105688], [-124.361506, 40.259042], [-124.410798, 40.439781], [-124.158859, 40.877937], [-124.109566, 41.025814], [-124.158859, 41.14083], [-124.065751, 41.442061], [-124.147905, 41.715908], [-124.257444, 41.781632], [-124.213628, 42.000709], [-123.233256, 42.006186]]], \"type\": \"Polygon\"}, \"id\": \"06\", \"properties\": {\"density\": 241.7, \"name\": \"California\"}, \"type\": \"Feature\"}, {\"geometry\": {\"coordinates\": [[[-107.919731, 41.003906], [-105.728954, 40.998429], [-104.053011, 41.003906], [-102.053927, 41.003906], [-102.053927, 40.001626], [-102.042974, 36.994786], [-103.001438, 37.000263], [-104.337812, 36.994786], [-106.868158, 36.994786], [-107.421329, 37.000263], [-109.042503, 37.000263], [-109.042503, 38.166851], [-109.058934, 38.27639], [-109.053457, 39.125316], [-109.04798, 40.998429], [-107.919731, 41.003906]]], \"type\": \"Polygon\"}, \"id\": \"08\", \"properties\": {\"density\": 49.33, \"name\": \"Colorado\"}, \"type\": \"Feature\"}, {\"geometry\": {\"coordinates\": [[[-73.053528, 42.039048], [-71.799309, 42.022617], [-71.799309, 42.006186], [-71.799309, 41.414677], [-71.859555, 41.321569], [-71.947186, 41.338], [-72.385341, 41.261322], [-72.905651, 41.28323], [-73.130205, 41.146307], [-73.371191, 41.102491], [-73.655992, 40.987475], [-73.727192, 41.102491], [-73.48073, 41.21203], [-73.55193, 41.294184], [-73.486206, 42.050002], [-73.053528, 42.039048]]], \"type\": \"Polygon\"}, \"id\": \"09\", \"properties\": {\"density\": 739.1, \"name\": \"Connecticut\"}, \"type\": \"Feature\"}, {\"geometry\": {\"coordinates\": [[[-75.414089, 39.804456], [-75.507197, 39.683964], [-75.611259, 39.61824], [-75.589352, 39.459409], [-75.441474, 39.311532], [-75.403136, 39.065069], [-75.189535, 38.807653], [-75.09095, 38.796699], [-75.047134, 38.451652], [-75.693413, 38.462606], [-75.786521, 39.722302], [-75.616736, 39.831841], [-75.414089, 39.804456]]], \"type\": \"Polygon\"}, \"id\": \"10\", \"properties\": {\"density\": 464.3, \"name\": \"Delaware\"}, \"type\": \"Feature\"}, {\"geometry\": {\"coordinates\": [[[-77.035264, 38.993869], [-76.909294, 38.895284], [-77.040741, 38.791222], [-77.117418, 38.933623], [-77.035264, 38.993869]]], \"type\": \"Polygon\"}, \"id\": \"11\", \"properties\": {\"density\": 10065, \"name\": \"District of Columbia\"}, \"type\": \"Feature\"}, {\"geometry\": {\"coordinates\": [[[-85.497137, 30.997536], [-85.004212, 31.003013], [-84.867289, 30.712735], [-83.498053, 30.647012], [-82.216449, 30.570335], [-82.167157, 30.356734], [-82.046664, 30.362211], [-82.002849, 30.564858], [-82.041187, 30.751074], [-81.948079, 30.827751], [-81.718048, 30.745597], [-81.444201, 30.707258], [-81.383954, 30.27458], [-81.257985, 29.787132], [-80.967707, 29.14633], [-80.524075, 28.461713], [-80.589798, 28.41242], [-80.56789, 28.094758], [-80.381674, 27.738757], [-80.091397, 27.021277], [-80.03115, 26.796723], [-80.036627, 26.566691], [-80.146166, 25.739673], [-80.239274, 25.723243], [-80.337859, 25.465826], [-80.304997, 25.383672], [-80.49669, 25.197456], [-80.573367, 25.241272], [-80.759583, 25.164595], [-81.077246, 25.120779], [-81.170354, 25.224841], [-81.126538, 25.378195], [-81.351093, 25.821827], [-81.526355, 25.903982], [-81.679709, 25.843735], [-81.800202, 26.090198], [-81.833064, 26.292844], [-82.041187, 26.517399], [-82.09048, 26.665276], [-82.057618, 26.878877], [-82.172634, 26.917216], [-82.145249, 26.791246], [-82.249311, 26.758384], [-82.566974, 27.300601], [-82.692943, 27.437525], [-82.391711, 27.837342], [-82.588881, 27.815434], [-82.720328, 27.689464], [-82.851774, 27.886634], [-82.676512, 28.434328], [-82.643651, 28.888914], [-82.764143, 28.998453], [-82.802482, 29.14633], [-82.994175, 29.179192], [-83.218729, 29.420177], [-83.399469, 29.518762], [-83.410422, 29.66664], [-83.536392, 29.721409], [-83.640454, 29.885717], [-84.02384, 30.104795], [-84.357933, 30.055502], [-84.341502, 29.902148], [-84.451041, 29.929533], [-84.867289, 29.743317], [-85.310921, 29.699501], [-85.299967, 29.80904], [-85.404029, 29.940487], [-85.924338, 30.236241], [-86.29677, 30.362211], [-86.630863, 30.395073], [-86.910187, 30.373165], [-87.518128, 30.280057], [-87.37025, 30.427934], [-87.446927, 30.510088], [-87.408589, 30.674397], [-87.633143, 30.86609], [-87.600282, 30.997536], [-85.497137, 30.997536]]], \"type\": \"Polygon\"}, \"id\": \"12\", \"properties\": {\"density\": 353.4, \"name\": \"Florida\"}, \"type\": \"Feature\"}, {\"geometry\": {\"coordinates\": [[[-83.109191, 35.00118], [-83.322791, 34.787579], [-83.339222, 34.683517], [-83.005129, 34.469916], [-82.901067, 34.486347], [-82.747713, 34.26727], [-82.714851, 34.152254], [-82.55602, 33.94413], [-82.325988, 33.81816], [-82.194542, 33.631944], [-81.926172, 33.462159], [-81.937125, 33.347144], [-81.761863, 33.160928], [-81.493493, 33.007573], [-81.42777, 32.843265], [-81.416816, 32.629664], [-81.279893, 32.558464], [-81.121061, 32.290094], [-81.115584, 32.120309], [-80.885553, 32.032678], [-81.132015, 31.693108], [-81.175831, 31.517845], [-81.279893, 31.364491], [-81.290846, 31.20566], [-81.400385, 31.13446], [-81.444201, 30.707258], [-81.718048, 30.745597], [-81.948079, 30.827751], [-82.041187, 30.751074], [-82.002849, 30.564858], [-82.046664, 30.362211], [-82.167157, 30.356734], [-82.216449, 30.570335], [-83.498053, 30.647012], [-84.867289, 30.712735], [-85.004212, 31.003013], [-85.113751, 31.27686], [-85.042551, 31.539753], [-85.141136, 31.840985], [-85.053504, 32.01077], [-85.058981, 32.13674], [-84.889196, 32.262709], [-85.004212, 32.322956], [-84.960397, 32.421541], [-85.069935, 32.580372], [-85.184951, 32.859696], [-85.431413, 34.124869], [-85.606675, 34.984749], [-84.319594, 34.990226], [-83.618546, 34.984749], [-83.109191, 35.00118]]], \"type\": \"Polygon\"}, \"id\": \"13\", \"properties\": {\"density\": 169.5, \"name\": \"Georgia\"}, \"type\": \"Feature\"}, {\"geometry\": {\"coordinates\": [[[[-155.634835, 18.948267], [-155.881297, 19.035898], [-155.919636, 19.123529], [-155.886774, 19.348084], [-156.062036, 19.73147], [-155.925113, 19.857439], [-155.826528, 20.032702], [-155.897728, 20.147717], [-155.87582, 20.26821], [-155.596496, 20.12581], [-155.284311, 20.021748], [-155.092618, 19.868393], [-155.092618, 19.736947], [-154.807817, 19.523346], [-154.983079, 19.348084], [-155.295265, 19.26593], [-155.514342, 19.134483], [-155.634835, 18.948267]]], [[[-156.587823, 21.029505], [-156.472807, 20.892581], [-156.324929, 20.952827], [-156.00179, 20.793996], [-156.051082, 20.651596], [-156.379699, 20.580396], [-156.445422, 20.60778], [-156.461853, 20.783042], [-156.631638, 20.821381], [-156.697361, 20.919966], [-156.587823, 21.029505]]], [[[-156.982162, 21.210244], [-157.080747, 21.106182], [-157.310779, 21.106182], [-157.239579, 21.221198], [-156.982162, 21.210244]]], [[[-157.951581, 21.697691], [-157.842042, 21.462183], [-157.896811, 21.325259], [-158.110412, 21.303352], [-158.252813, 21.582676], [-158.126843, 21.588153], [-157.951581, 21.697691]]], [[[-159.468693, 22.228955], [-159.353678, 22.218001], [-159.298908, 22.113939], [-159.33177, 21.966061], [-159.446786, 21.872953], [-159.764448, 21.987969], [-159.726109, 22.152277], [-159.468693, 22.228955]]]], \"type\": \"MultiPolygon\"}, \"id\": \"15\", \"properties\": {\"density\": 214.1, \"name\": \"Hawaii\"}, \"type\": \"Feature\"}, {\"geometry\": {\"coordinates\": [[[-116.04751, 49.000239], [-116.04751, 47.976051], [-115.724371, 47.696727], [-115.718894, 47.42288], [-115.527201, 47.302388], [-115.324554, 47.258572], [-115.302646, 47.187372], [-114.930214, 46.919002], [-114.886399, 46.809463], [-114.623506, 46.705401], [-114.612552, 46.639678], [-114.322274, 46.645155], [-114.464674, 46.272723], [-114.492059, 46.037214], [-114.387997, 45.88386], [-114.568736, 45.774321], [-114.497536, 45.670259], [-114.546828, 45.560721], [-114.333228, 45.456659], [-114.086765, 45.593582], [-113.98818, 45.703121], [-113.807441, 45.604536], [-113.834826, 45.522382], [-113.736241, 45.330689], [-113.571933, 45.128042], [-113.45144, 45.056842], [-113.456917, 44.865149], [-113.341901, 44.782995], [-113.133778, 44.772041], [-113.002331, 44.448902], [-112.887315, 44.394132], [-112.783254, 44.48724], [-112.471068, 44.481763], [-112.241036, 44.569394], [-112.104113, 44.520102], [-111.868605, 44.563917], [-111.819312, 44.509148], [-111.616665, 44.547487], [-111.386634, 44.75561], [-111.227803, 44.580348], [-111.047063, 44.476286], [-111.047063, 42.000709], [-112.164359, 41.995232], [-114.04295, 41.995232], [-117.027882, 42.000709], [-117.027882, 43.830007], [-116.896436, 44.158624], [-116.97859, 44.240778], [-117.170283, 44.257209], [-117.241483, 44.394132], [-117.038836, 44.750133], [-116.934774, 44.782995], [-116.830713, 44.930872], [-116.847143, 45.02398], [-116.732128, 45.144473], [-116.671881, 45.319735], [-116.463758, 45.61549], [-116.545912, 45.752413], [-116.78142, 45.823614], [-116.918344, 45.993399], [-116.92382, 46.168661], [-117.055267, 46.343923], [-117.038836, 46.426077], [-117.044313, 47.762451], [-117.033359, 49.000239], [-116.04751, 49.000239]]], \"type\": \"Polygon\"}, \"id\": \"16\", \"properties\": {\"density\": 19.15, \"name\": \"Idaho\"}, \"type\": \"Feature\"}, {\"geometry\": {\"coordinates\": [[[-90.639984, 42.510065], [-88.788778, 42.493634], [-87.802929, 42.493634], [-87.83579, 42.301941], [-87.682436, 42.077386], [-87.523605, 41.710431], [-87.529082, 39.34987], [-87.63862, 39.169131], [-87.512651, 38.95553], [-87.49622, 38.780268], [-87.62219, 38.637868], [-87.655051, 38.506421], [-87.83579, 38.292821], [-87.950806, 38.27639], [-87.923421, 38.15042], [-88.000098, 38.101128], [-88.060345, 37.865619], [-88.027483, 37.799896], [-88.15893, 37.657496], [-88.065822, 37.482234], [-88.476592, 37.389126], [-88.514931, 37.285064], [-88.421823, 37.153617], [-88.547792, 37.071463], [-88.914747, 37.224817], [-89.029763, 37.213863], [-89.183118, 37.038601], [-89.133825, 36.983832], [-89.292656, 36.994786], [-89.517211, 37.279587], [-89.435057, 37.34531], [-89.517211, 37.537003], [-89.517211, 37.690357], [-89.84035, 37.903958], [-89.949889, 37.88205], [-90.059428, 38.013497], [-90.355183, 38.216144], [-90.349706, 38.374975], [-90.179921, 38.632391], [-90.207305, 38.725499], [-90.10872, 38.845992], [-90.251121, 38.917192], [-90.470199, 38.961007], [-90.585214, 38.867899], [-90.661891, 38.928146], [-90.727615, 39.256762], [-91.061708, 39.470363], [-91.368417, 39.727779], [-91.494386, 40.034488], [-91.50534, 40.237135], [-91.417709, 40.379535], [-91.401278, 40.560274], [-91.121954, 40.669813], [-91.09457, 40.823167], [-90.963123, 40.921752], [-90.946692, 41.097014], [-91.111001, 41.239415], [-91.045277, 41.414677], [-90.656414, 41.463969], [-90.344229, 41.589939], [-90.311367, 41.743293], [-90.179921, 41.809016], [-90.141582, 42.000709], [-90.168967, 42.126679], [-90.393521, 42.225264], [-90.420906, 42.329326], [-90.639984, 42.510065]]], \"type\": \"Polygon\"}, \"id\": \"17\", \"properties\": {\"density\": 231.5, \"name\": \"Illinois\"}, \"type\": \"Feature\"}, {\"geometry\": {\"coordinates\": [[[-85.990061, 41.759724], [-84.807042, 41.759724], [-84.807042, 41.694001], [-84.801565, 40.500028], [-84.817996, 39.103408], [-84.894673, 39.059592], [-84.812519, 38.785745], [-84.987781, 38.780268], [-85.173997, 38.68716], [-85.431413, 38.730976], [-85.42046, 38.533806], [-85.590245, 38.451652], [-85.655968, 38.325682], [-85.83123, 38.27639], [-85.924338, 38.024451], [-86.039354, 37.958727], [-86.263908, 38.051835], [-86.302247, 38.166851], [-86.521325, 38.040881], [-86.504894, 37.931343], [-86.729448, 37.893004], [-86.795172, 37.991589], [-87.047111, 37.893004], [-87.129265, 37.788942], [-87.381204, 37.93682], [-87.512651, 37.903958], [-87.600282, 37.975158], [-87.682436, 37.903958], [-87.934375, 37.893004], [-88.027483, 37.799896], [-88.060345, 37.865619], [-88.000098, 38.101128], [-87.923421, 38.15042], [-87.950806, 38.27639], [-87.83579, 38.292821], [-87.655051, 38.506421], [-87.62219, 38.637868], [-87.49622, 38.780268], [-87.512651, 38.95553], [-87.63862, 39.169131], [-87.529082, 39.34987], [-87.523605, 41.710431], [-87.42502, 41.644708], [-87.118311, 41.644708], [-86.822556, 41.759724], [-85.990061, 41.759724]]], \"type\": \"Polygon\"}, \"id\": \"18\", \"properties\": {\"density\": 181.7, \"name\": \"Indiana\"}, \"type\": \"Feature\"}, {\"geometry\": {\"coordinates\": [[[-91.368417, 43.501391], [-91.215062, 43.501391], [-91.204109, 43.353514], [-91.056231, 43.254929], [-91.176724, 43.134436], [-91.143862, 42.909881], [-91.067185, 42.75105], [-90.711184, 42.636034], [-90.639984, 42.510065], [-90.420906, 42.329326], [-90.393521, 42.225264], [-90.168967, 42.126679], [-90.141582, 42.000709], [-90.179921, 41.809016], [-90.311367, 41.743293], [-90.344229, 41.589939], [-90.656414, 41.463969], [-91.045277, 41.414677], [-91.111001, 41.239415], [-90.946692, 41.097014], [-90.963123, 40.921752], [-91.09457, 40.823167], [-91.121954, 40.669813], [-91.401278, 40.560274], [-91.417709, 40.379535], [-91.527248, 40.412397], [-91.729895, 40.615043], [-91.833957, 40.609566], [-93.257961, 40.582182], [-94.632673, 40.571228], [-95.7664, 40.587659], [-95.881416, 40.719105], [-95.826646, 40.976521], [-95.925231, 41.201076], [-95.919754, 41.453015], [-96.095016, 41.540646], [-96.122401, 41.67757], [-96.062155, 41.798063], [-96.127878, 41.973325], [-96.264801, 42.039048], [-96.44554, 42.488157], [-96.631756, 42.707235], [-96.544125, 42.855112], [-96.511264, 43.052282], [-96.434587, 43.123482], [-96.560556, 43.222067], [-96.527695, 43.397329], [-96.582464, 43.479483], [-96.451017, 43.501391], [-91.368417, 43.501391]]], \"type\": \"Polygon\"}, \"id\": \"19\", \"properties\": {\"density\": 54.81, \"name\": \"Iowa\"}, \"type\": \"Feature\"}, {\"geometry\": {\"coordinates\": [[[-101.90605, 40.001626], [-95.306337, 40.001626], [-95.207752, 39.908518], [-94.884612, 39.831841], [-95.109167, 39.541563], [-94.983197, 39.442978], [-94.824366, 39.20747], [-94.610765, 39.158177], [-94.616242, 37.000263], [-100.087706, 37.000263], [-102.042974, 36.994786], [-102.053927, 40.001626], [-101.90605, 40.001626]]], \"type\": \"Polygon\"}, \"id\": \"20\", \"properties\": {\"density\": 35.09, \"name\": \"Kansas\"}, \"type\": \"Feature\"}, {\"geometry\": {\"coordinates\": [[[-83.903347, 38.769315], [-83.678792, 38.632391], [-83.519961, 38.703591], [-83.142052, 38.626914], [-83.032514, 38.725499], [-82.890113, 38.758361], [-82.846298, 38.588575], [-82.731282, 38.561191], [-82.594358, 38.424267], [-82.621743, 38.123036], [-82.50125, 37.931343], [-82.342419, 37.783465], [-82.293127, 37.668449], [-82.101434, 37.553434], [-81.969987, 37.537003], [-82.353373, 37.268633], [-82.720328, 37.120755], [-82.720328, 37.044078], [-82.868205, 36.978355], [-82.879159, 36.890724], [-83.070852, 36.852385], [-83.136575, 36.742847], [-83.673316, 36.600446], [-83.689746, 36.584015], [-84.544149, 36.594969], [-85.289013, 36.627831], [-85.486183, 36.616877], [-86.592525, 36.655216], [-87.852221, 36.633308], [-88.071299, 36.677123], [-88.054868, 36.496384], [-89.298133, 36.507338], [-89.418626, 36.496384], [-89.363857, 36.622354], [-89.215979, 36.578538], [-89.133825, 36.983832], [-89.183118, 37.038601], [-89.029763, 37.213863], [-88.914747, 37.224817], [-88.547792, 37.071463], [-88.421823, 37.153617], [-88.514931, 37.285064], [-88.476592, 37.389126], [-88.065822, 37.482234], [-88.15893, 37.657496], [-88.027483, 37.799896], [-87.934375, 37.893004], [-87.682436, 37.903958], [-87.600282, 37.975158], [-87.512651, 37.903958], [-87.381204, 37.93682], [-87.129265, 37.788942], [-87.047111, 37.893004], [-86.795172, 37.991589], [-86.729448, 37.893004], [-86.504894, 37.931343], [-86.521325, 38.040881], [-86.302247, 38.166851], [-86.263908, 38.051835], [-86.039354, 37.958727], [-85.924338, 38.024451], [-85.83123, 38.27639], [-85.655968, 38.325682], [-85.590245, 38.451652], [-85.42046, 38.533806], [-85.431413, 38.730976], [-85.173997, 38.68716], [-84.987781, 38.780268], [-84.812519, 38.785745], [-84.894673, 39.059592], [-84.817996, 39.103408], [-84.43461, 39.103408], [-84.231963, 38.895284], [-84.215533, 38.807653], [-83.903347, 38.769315]]], \"type\": \"Polygon\"}, \"id\": \"21\", \"properties\": {\"density\": 110, \"name\": \"Kentucky\"}, \"type\": \"Feature\"}, {\"geometry\": {\"coordinates\": [[[-93.608485, 33.018527], [-91.16577, 33.002096], [-91.072662, 32.887081], [-91.143862, 32.843265], [-91.154816, 32.640618], [-91.006939, 32.514649], [-90.985031, 32.218894], [-91.105524, 31.988862], [-91.341032, 31.846462], [-91.401278, 31.621907], [-91.499863, 31.643815], [-91.516294, 31.27686], [-91.636787, 31.265906], [-91.565587, 31.068736], [-91.636787, 30.997536], [-89.747242, 30.997536], [-89.845827, 30.66892], [-89.681519, 30.449842], [-89.643181, 30.285534], [-89.522688, 30.181472], [-89.818443, 30.044549], [-89.84035, 29.945964], [-89.599365, 29.88024], [-89.495303, 30.039072], [-89.287179, 29.88024], [-89.30361, 29.754271], [-89.424103, 29.699501], [-89.648657, 29.748794], [-89.621273, 29.655686], [-89.69795, 29.513285], [-89.506257, 29.387316], [-89.199548, 29.348977], [-89.09001, 29.2011], [-89.002379, 29.179192], [-89.16121, 29.009407], [-89.336472, 29.042268], [-89.484349, 29.217531], [-89.851304, 29.310638], [-89.851304, 29.480424], [-90.032043, 29.425654], [-90.021089, 29.283254], [-90.103244, 29.151807], [-90.23469, 29.129899], [-90.333275, 29.277777], [-90.563307, 29.283254], [-90.645461, 29.129899], [-90.798815, 29.086084], [-90.963123, 29.179192], [-91.09457, 29.190146], [-91.220539, 29.436608], [-91.445094, 29.546147], [-91.532725, 29.529716], [-91.620356, 29.73784], [-91.883249, 29.710455], [-91.888726, 29.836425], [-92.146142, 29.715932], [-92.113281, 29.622824], [-92.31045, 29.535193], [-92.617159, 29.579009], [-92.97316, 29.715932], [-93.2251, 29.776178], [-93.767317, 29.726886], [-93.838517, 29.688547], [-93.926148, 29.787132], [-93.690639, 30.143133], [-93.767317, 30.334826], [-93.696116, 30.438888], [-93.728978, 30.575812], [-93.630393, 30.679874], [-93.526331, 30.93729], [-93.542762, 31.15089], [-93.816609, 31.556184], [-93.822086, 31.775262], [-94.041164, 31.994339], [-94.041164, 33.018527], [-93.608485, 33.018527]]], \"type\": \"Polygon\"}, \"id\": \"22\", \"properties\": {\"density\": 105, \"name\": \"Louisiana\"}, \"type\": \"Feature\"}, {\"geometry\": {\"coordinates\": [[[-70.703921, 43.057759], [-70.824413, 43.128959], [-70.807983, 43.227544], [-70.966814, 43.34256], [-71.032537, 44.657025], [-71.08183, 45.303304], [-70.649151, 45.440228], [-70.720352, 45.511428], [-70.556043, 45.664782], [-70.386258, 45.735983], [-70.41912, 45.796229], [-70.260289, 45.889337], [-70.309581, 46.064599], [-70.210996, 46.327492], [-70.057642, 46.415123], [-69.997395, 46.694447], [-69.225147, 47.461219], [-69.044408, 47.428357], [-69.033454, 47.242141], [-68.902007, 47.176418], [-68.578868, 47.285957], [-68.376221, 47.285957], [-68.233821, 47.357157], [-67.954497, 47.198326], [-67.790188, 47.066879], [-67.779235, 45.944106], [-67.801142, 45.675736], [-67.456095, 45.604536], [-67.505388, 45.48952], [-67.417757, 45.379982], [-67.488957, 45.281397], [-67.346556, 45.128042], [-67.16034, 45.160904], [-66.979601, 44.804903], [-67.187725, 44.646072], [-67.308218, 44.706318], [-67.406803, 44.596779], [-67.549203, 44.624164], [-67.565634, 44.531056], [-67.75185, 44.54201], [-68.047605, 44.328409], [-68.118805, 44.476286], [-68.222867, 44.48724], [-68.173574, 44.328409], [-68.403606, 44.251732], [-68.458375, 44.377701], [-68.567914, 44.311978], [-68.82533, 44.311978], [-68.830807, 44.459856], [-68.984161, 44.426994], [-68.956777, 44.322932], [-69.099177, 44.103854], [-69.071793, 44.043608], [-69.258008, 43.923115], [-69.444224, 43.966931], [-69.553763, 43.840961], [-69.707118, 43.82453], [-69.833087, 43.720469], [-69.986442, 43.742376], [-70.030257, 43.851915], [-70.254812, 43.676653], [-70.194565, 43.567114], [-70.358873, 43.528776], [-70.369827, 43.435668], [-70.556043, 43.320652], [-70.703921, 43.057759]]], \"type\": \"Polygon\"}, \"id\": \"23\", \"properties\": {\"density\": 43.04, \"name\": \"Maine\"}, \"type\": \"Feature\"}, {\"geometry\": {\"coordinates\": [[[[-75.994645, 37.95325], [-76.016553, 37.95325], [-76.043938, 37.95325], [-75.994645, 37.95325]]], [[[-79.477979, 39.722302], [-75.786521, 39.722302], [-75.693413, 38.462606], [-75.047134, 38.451652], [-75.244304, 38.029928], [-75.397659, 38.013497], [-75.671506, 37.95325], [-75.885106, 37.909435], [-75.879629, 38.073743], [-75.961783, 38.139466], [-75.846768, 38.210667], [-76.000122, 38.374975], [-76.049415, 38.303775], [-76.257538, 38.320205], [-76.328738, 38.500944], [-76.263015, 38.500944], [-76.257538, 38.736453], [-76.191815, 38.829561], [-76.279446, 39.147223], [-76.169907, 39.333439], [-76.000122, 39.366301], [-75.972737, 39.557994], [-76.098707, 39.536086], [-76.104184, 39.437501], [-76.367077, 39.311532], [-76.443754, 39.196516], [-76.460185, 38.906238], [-76.55877, 38.769315], [-76.514954, 38.539283], [-76.383508, 38.380452], [-76.399939, 38.259959], [-76.317785, 38.139466], [-76.3616, 38.057312], [-76.591632, 38.216144], [-76.920248, 38.292821], [-77.018833, 38.446175], [-77.205049, 38.358544], [-77.276249, 38.479037], [-77.128372, 38.632391], [-77.040741, 38.791222], [-76.909294, 38.895284], [-77.035264, 38.993869], [-77.117418, 38.933623], [-77.248864, 39.026731], [-77.456988, 39.076023], [-77.456988, 39.223901], [-77.566527, 39.306055], [-77.719881, 39.322485], [-77.834897, 39.601809], [-78.004682, 39.601809], [-78.174467, 39.694917], [-78.267575, 39.61824], [-78.431884, 39.623717], [-78.470222, 39.514178], [-78.765977, 39.585379], [-78.963147, 39.437501], [-79.094593, 39.470363], [-79.291763, 39.300578], [-79.488933, 39.20747], [-79.477979, 39.722302]]]], \"type\": \"MultiPolygon\"}, \"id\": \"24\", \"properties\": {\"density\": 596.3, \"name\": \"Maryland\"}, \"type\": \"Feature\"}, {\"geometry\": {\"coordinates\": [[[-70.917521, 42.887974], [-70.818936, 42.871543], [-70.780598, 42.696281], [-70.824413, 42.55388], [-70.983245, 42.422434], [-70.988722, 42.269079], [-70.769644, 42.247172], [-70.638197, 42.08834], [-70.660105, 41.962371], [-70.550566, 41.929509], [-70.539613, 41.814493], [-70.260289, 41.715908], [-69.937149, 41.809016], [-70.008349, 41.672093], [-70.484843, 41.5516], [-70.660105, 41.546123], [-70.764167, 41.639231], [-70.928475, 41.611847], [-70.933952, 41.540646], [-71.120168, 41.496831], [-71.196845, 41.67757], [-71.22423, 41.710431], [-71.328292, 41.781632], [-71.383061, 42.01714], [-71.530939, 42.01714], [-71.799309, 42.006186], [-71.799309, 42.022617], [-73.053528, 42.039048], [-73.486206, 42.050002], [-73.508114, 42.08834], [-73.267129, 42.745573], [-72.456542, 42.729142], [-71.29543, 42.696281], [-71.185891, 42.789389], [-70.917521, 42.887974]]], \"type\": \"Polygon\"}, \"id\": \"25\", \"properties\": {\"density\": 840.2, \"name\": \"Massachusetts\"}, \"type\": \"Feature\"}, {\"geometry\": {\"coordinates\": [[[[-83.454238, 41.732339], [-84.807042, 41.694001], [-84.807042, 41.759724], [-85.990061, 41.759724], [-86.822556, 41.759724], [-86.619909, 41.891171], [-86.482986, 42.115725], [-86.357016, 42.252649], [-86.263908, 42.444341], [-86.209139, 42.718189], [-86.231047, 43.013943], [-86.526801, 43.594499], [-86.433693, 43.813577], [-86.499417, 44.07647], [-86.269385, 44.34484], [-86.220093, 44.569394], [-86.252954, 44.689887], [-86.088646, 44.73918], [-86.066738, 44.903488], [-85.809322, 44.947303], [-85.612152, 45.128042], [-85.628583, 44.766564], [-85.524521, 44.750133], [-85.393075, 44.930872], [-85.387598, 45.237581], [-85.305444, 45.314258], [-85.031597, 45.363551], [-85.119228, 45.577151], [-84.938489, 45.75789], [-84.713934, 45.768844], [-84.461995, 45.653829], [-84.215533, 45.637398], [-84.09504, 45.494997], [-83.908824, 45.484043], [-83.596638, 45.352597], [-83.4871, 45.358074], [-83.317314, 45.144473], [-83.454238, 45.029457], [-83.322791, 44.88158], [-83.273499, 44.711795], [-83.333745, 44.339363], [-83.536392, 44.246255], [-83.585684, 44.054562], [-83.82667, 43.988839], [-83.958116, 43.758807], [-83.908824, 43.671176], [-83.667839, 43.589022], [-83.481623, 43.714992], [-83.262545, 43.972408], [-82.917498, 44.070993], [-82.747713, 43.994316], [-82.643651, 43.851915], [-82.539589, 43.435668], [-82.523158, 43.227544], [-82.413619, 42.975605], [-82.517681, 42.614127], [-82.681989, 42.559357], [-82.687466, 42.690804], [-82.797005, 42.652465], [-82.922975, 42.351234], [-83.125621, 42.236218], [-83.185868, 42.006186], [-83.437807, 41.814493], [-83.454238, 41.732339]]], [[[-85.508091, 45.730506], [-85.49166, 45.610013], [-85.623106, 45.588105], [-85.568337, 45.75789], [-85.508091, 45.730506]]], [[[-87.589328, 45.095181], [-87.742682, 45.199243], [-87.649574, 45.341643], [-87.885083, 45.363551], [-87.791975, 45.500474], [-87.781021, 45.675736], [-87.989145, 45.796229], [-88.10416, 45.922199], [-88.531362, 46.020784], [-88.662808, 45.987922], [-89.09001, 46.135799], [-90.119674, 46.338446], [-90.229213, 46.508231], [-90.415429, 46.568478], [-90.026566, 46.672539], [-89.851304, 46.793032], [-89.413149, 46.842325], [-89.128348, 46.990202], [-88.996902, 46.995679], [-88.887363, 47.099741], [-88.575177, 47.247618], [-88.416346, 47.373588], [-88.180837, 47.455742], [-87.956283, 47.384542], [-88.350623, 47.077833], [-88.443731, 46.973771], [-88.438254, 46.787555], [-88.246561, 46.929956], [-87.901513, 46.908048], [-87.633143, 46.809463], [-87.392158, 46.535616], [-87.260711, 46.486323], [-87.008772, 46.530139], [-86.948526, 46.469893], [-86.696587, 46.437031], [-86.159846, 46.667063], [-85.880522, 46.68897], [-85.508091, 46.678016], [-85.256151, 46.754694], [-85.064458, 46.760171], [-85.02612, 46.480847], [-84.82895, 46.442508], [-84.63178, 46.486323], [-84.549626, 46.4206], [-84.418179, 46.502754], [-84.127902, 46.530139], [-84.122425, 46.179615], [-83.990978, 46.031737], [-83.793808, 45.993399], [-83.7719, 46.091984], [-83.580208, 46.091984], [-83.476146, 45.987922], [-83.563777, 45.911245], [-84.111471, 45.976968], [-84.374364, 45.933153], [-84.659165, 46.053645], [-84.741319, 45.944106], [-84.70298, 45.850998], [-84.82895, 45.872906], [-85.015166, 46.00983], [-85.338305, 46.091984], [-85.502614, 46.097461], [-85.661445, 45.966014], [-85.924338, 45.933153], [-86.209139, 45.960537], [-86.324155, 45.905768], [-86.351539, 45.796229], [-86.663725, 45.703121], [-86.647294, 45.834568], [-86.784218, 45.861952], [-86.838987, 45.725029], [-87.069019, 45.719552], [-87.17308, 45.659305], [-87.326435, 45.423797], [-87.611236, 45.122565], [-87.589328, 45.095181]]], [[[-88.805209, 47.976051], [-89.057148, 47.850082], [-89.188594, 47.833651], [-89.177641, 47.937713], [-88.547792, 48.173221], [-88.668285, 48.008913], [-88.805209, 47.976051]]]], \"type\": \"MultiPolygon\"}, \"id\": \"26\", \"properties\": {\"density\": 173.9, \"name\": \"Michigan\"}, \"type\": \"Feature\"}, {\"geometry\": {\"coordinates\": [[[-92.014696, 46.705401], [-92.091373, 46.749217], [-92.29402, 46.667063], [-92.29402, 46.075553], [-92.354266, 46.015307], [-92.639067, 45.933153], [-92.869098, 45.719552], [-92.885529, 45.577151], [-92.770513, 45.566198], [-92.644544, 45.440228], [-92.75956, 45.286874], [-92.737652, 45.117088], [-92.808852, 44.750133], [-92.545959, 44.569394], [-92.337835, 44.552964], [-92.233773, 44.443425], [-91.927065, 44.333886], [-91.877772, 44.202439], [-91.592971, 44.032654], [-91.43414, 43.994316], [-91.242447, 43.775238], [-91.269832, 43.616407], [-91.215062, 43.501391], [-91.368417, 43.501391], [-96.451017, 43.501391], [-96.451017, 45.297827], [-96.681049, 45.412843], [-96.856311, 45.604536], [-96.582464, 45.818137], [-96.560556, 45.933153], [-96.598895, 46.332969], [-96.719387, 46.437031], [-96.801542, 46.656109], [-96.785111, 46.924479], [-96.823449, 46.968294], [-96.856311, 47.609096], [-97.053481, 47.948667], [-97.130158, 48.140359], [-97.16302, 48.545653], [-97.097296, 48.682577], [-97.228743, 49.000239], [-95.152983, 49.000239], [-95.152983, 49.383625], [-94.955813, 49.372671], [-94.824366, 49.295994], [-94.69292, 48.775685], [-94.588858, 48.715438], [-94.260241, 48.699007], [-94.221903, 48.649715], [-93.838517, 48.627807], [-93.794701, 48.518268], [-93.466085, 48.545653], [-93.466085, 48.589469], [-93.208669, 48.644238], [-92.984114, 48.62233], [-92.726698, 48.540176], [-92.655498, 48.436114], [-92.50762, 48.447068], [-92.370697, 48.222514], [-92.304974, 48.315622], [-92.053034, 48.359437], [-92.009219, 48.266329], [-91.713464, 48.200606], [-91.713464, 48.112975], [-91.565587, 48.041775], [-91.264355, 48.080113], [-91.083616, 48.178698], [-90.837154, 48.238944], [-90.749522, 48.091067], [-90.579737, 48.123929], [-90.377091, 48.091067], [-90.141582, 48.112975], [-89.873212, 47.987005], [-89.615796, 48.008913], [-89.637704, 47.954144], [-89.971797, 47.828174], [-90.437337, 47.729589], [-90.738569, 47.625527], [-91.171247, 47.368111], [-91.357463, 47.20928], [-91.642264, 47.028541], [-92.091373, 46.787555], [-92.014696, 46.705401]]], \"type\": \"Polygon\"}, \"id\": \"27\", \"properties\": {\"density\": 67.14, \"name\": \"Minnesota\"}, \"type\": \"Feature\"}, {\"geometry\": {\"coordinates\": [[[-88.471115, 34.995703], [-88.202745, 34.995703], [-88.098683, 34.891641], [-88.241084, 33.796253], [-88.471115, 31.895754], [-88.394438, 30.367688], [-88.503977, 30.323872], [-88.744962, 30.34578], [-88.843547, 30.411504], [-89.084533, 30.367688], [-89.418626, 30.252672], [-89.522688, 30.181472], [-89.643181, 30.285534], [-89.681519, 30.449842], [-89.845827, 30.66892], [-89.747242, 30.997536], [-91.636787, 30.997536], [-91.565587, 31.068736], [-91.636787, 31.265906], [-91.516294, 31.27686], [-91.499863, 31.643815], [-91.401278, 31.621907], [-91.341032, 31.846462], [-91.105524, 31.988862], [-90.985031, 32.218894], [-91.006939, 32.514649], [-91.154816, 32.640618], [-91.143862, 32.843265], [-91.072662, 32.887081], [-91.16577, 33.002096], [-91.089093, 33.13902], [-91.143862, 33.347144], [-91.056231, 33.429298], [-91.231493, 33.560744], [-91.072662, 33.867453], [-90.891923, 34.026284], [-90.952169, 34.135823], [-90.744046, 34.300131], [-90.749522, 34.365854], [-90.568783, 34.420624], [-90.585214, 34.617794], [-90.481152, 34.661609], [-90.409952, 34.831394], [-90.251121, 34.908072], [-90.311367, 34.995703], [-88.471115, 34.995703]]], \"type\": \"Polygon\"}, \"id\": \"28\", \"properties\": {\"density\": 63.5, \"name\": \"Mississippi\"}, \"type\": \"Feature\"}, {\"geometry\": {\"coordinates\": [[[-91.833957, 40.609566], [-91.729895, 40.615043], [-91.527248, 40.412397], [-91.417709, 40.379535], [-91.50534, 40.237135], [-91.494386, 40.034488], [-91.368417, 39.727779], [-91.061708, 39.470363], [-90.727615, 39.256762], [-90.661891, 38.928146], [-90.585214, 38.867899], [-90.470199, 38.961007], [-90.251121, 38.917192], [-90.10872, 38.845992], [-90.207305, 38.725499], [-90.179921, 38.632391], [-90.349706, 38.374975], [-90.355183, 38.216144], [-90.059428, 38.013497], [-89.949889, 37.88205], [-89.84035, 37.903958], [-89.517211, 37.690357], [-89.517211, 37.537003], [-89.435057, 37.34531], [-89.517211, 37.279587], [-89.292656, 36.994786], [-89.133825, 36.983832], [-89.215979, 36.578538], [-89.363857, 36.622354], [-89.418626, 36.496384], [-89.484349, 36.496384], [-89.539119, 36.496384], [-89.533642, 36.249922], [-89.730812, 35.997983], [-90.377091, 35.997983], [-90.218259, 36.184199], [-90.064905, 36.304691], [-90.152536, 36.496384], [-94.473842, 36.501861], [-94.616242, 36.501861], [-94.616242, 37.000263], [-94.610765, 39.158177], [-94.824366, 39.20747], [-94.983197, 39.442978], [-95.109167, 39.541563], [-94.884612, 39.831841], [-95.207752, 39.908518], [-95.306337, 40.001626], [-95.552799, 40.264519], [-95.7664, 40.587659], [-94.632673, 40.571228], [-93.257961, 40.582182], [-91.833957, 40.609566]]], \"type\": \"Polygon\"}, \"id\": \"29\", \"properties\": {\"density\": 87.26, \"name\": \"Missouri\"}, \"type\": \"Feature\"}, {\"geometry\": {\"coordinates\": [[[-104.047534, 49.000239], [-104.042057, 47.861036], [-104.047534, 45.944106], [-104.042057, 44.996596], [-104.058488, 44.996596], [-105.91517, 45.002073], [-109.080842, 45.002073], [-111.05254, 45.002073], [-111.047063, 44.476286], [-111.227803, 44.580348], [-111.386634, 44.75561], [-111.616665, 44.547487], [-111.819312, 44.509148], [-111.868605, 44.563917], [-112.104113, 44.520102], [-112.241036, 44.569394], [-112.471068, 44.481763], [-112.783254, 44.48724], [-112.887315, 44.394132], [-113.002331, 44.448902], [-113.133778, 44.772041], [-113.341901, 44.782995], [-113.456917, 44.865149], [-113.45144, 45.056842], [-113.571933, 45.128042], [-113.736241, 45.330689], [-113.834826, 45.522382], [-113.807441, 45.604536], [-113.98818, 45.703121], [-114.086765, 45.593582], [-114.333228, 45.456659], [-114.546828, 45.560721], [-114.497536, 45.670259], [-114.568736, 45.774321], [-114.387997, 45.88386], [-114.492059, 46.037214], [-114.464674, 46.272723], [-114.322274, 46.645155], [-114.612552, 46.639678], [-114.623506, 46.705401], [-114.886399, 46.809463], [-114.930214, 46.919002], [-115.302646, 47.187372], [-115.324554, 47.258572], [-115.527201, 47.302388], [-115.718894, 47.42288], [-115.724371, 47.696727], [-116.04751, 47.976051], [-116.04751, 49.000239], [-111.50165, 48.994762], [-109.453274, 49.000239], [-104.047534, 49.000239]]], \"type\": \"Polygon\"}, \"id\": \"30\", \"properties\": {\"density\": 6.858, \"name\": \"Montana\"}, \"type\": \"Feature\"}, {\"geometry\": {\"coordinates\": [[[-103.324578, 43.002989], [-101.626726, 42.997512], [-98.499393, 42.997512], [-98.466531, 42.94822], [-97.951699, 42.767481], [-97.831206, 42.866066], [-97.688806, 42.844158], [-97.217789, 42.844158], [-96.692003, 42.657942], [-96.626279, 42.515542], [-96.44554, 42.488157], [-96.264801, 42.039048], [-96.127878, 41.973325], [-96.062155, 41.798063], [-96.122401, 41.67757], [-96.095016, 41.540646], [-95.919754, 41.453015], [-95.925231, 41.201076], [-95.826646, 40.976521], [-95.881416, 40.719105], [-95.7664, 40.587659], [-95.552799, 40.264519], [-95.306337, 40.001626], [-101.90605, 40.001626], [-102.053927, 40.001626], [-102.053927, 41.003906], [-104.053011, 41.003906], [-104.053011, 43.002989], [-103.324578, 43.002989]]], \"type\": \"Polygon\"}, \"id\": \"31\", \"properties\": {\"density\": 23.97, \"name\": \"Nebraska\"}, \"type\": \"Feature\"}, {\"geometry\": {\"coordinates\": [[[-117.027882, 42.000709], [-114.04295, 41.995232], [-114.048427, 37.000263], [-114.048427, 36.195153], [-114.152489, 36.025367], [-114.251074, 36.01989], [-114.371566, 36.140383], [-114.738521, 36.102045], [-114.678275, 35.516012], [-114.596121, 35.324319], [-114.574213, 35.138103], [-114.634459, 35.00118], [-115.85034, 35.970598], [-116.540435, 36.501861], [-117.498899, 37.21934], [-118.71478, 38.101128], [-120.001861, 38.999346], [-119.996384, 40.264519], [-120.001861, 41.995232], [-118.698349, 41.989755], [-117.027882, 42.000709]]], \"type\": \"Polygon\"}, \"id\": \"32\", \"properties\": {\"density\": 24.8, \"name\": \"Nevada\"}, \"type\": \"Feature\"}, {\"geometry\": {\"coordinates\": [[[-71.08183, 45.303304], [-71.032537, 44.657025], [-70.966814, 43.34256], [-70.807983, 43.227544], [-70.824413, 43.128959], [-70.703921, 43.057759], [-70.818936, 42.871543], [-70.917521, 42.887974], [-71.185891, 42.789389], [-71.29543, 42.696281], [-72.456542, 42.729142], [-72.544173, 42.80582], [-72.533219, 42.953697], [-72.445588, 43.008466], [-72.456542, 43.150867], [-72.379864, 43.572591], [-72.204602, 43.769761], [-72.116971, 43.994316], [-72.02934, 44.07647], [-72.034817, 44.322932], [-71.700724, 44.41604], [-71.536416, 44.585825], [-71.629524, 44.750133], [-71.4926, 44.914442], [-71.503554, 45.013027], [-71.361154, 45.270443], [-71.131122, 45.243058], [-71.08183, 45.303304]]], \"type\": \"Polygon\"}, \"id\": \"33\", \"properties\": {\"density\": 147, \"name\": \"New Hampshire\"}, \"type\": \"Feature\"}, {\"geometry\": {\"coordinates\": [[[-74.236547, 41.14083], [-73.902454, 40.998429], [-74.022947, 40.708151], [-74.187255, 40.642428], [-74.274886, 40.489074], [-74.001039, 40.412397], [-73.979131, 40.297381], [-74.099624, 39.760641], [-74.411809, 39.360824], [-74.614456, 39.245808], [-74.795195, 38.993869], [-74.888303, 39.158177], [-75.178581, 39.240331], [-75.534582, 39.459409], [-75.55649, 39.607286], [-75.561967, 39.629194], [-75.507197, 39.683964], [-75.414089, 39.804456], [-75.145719, 39.88661], [-75.129289, 39.963288], [-74.82258, 40.127596], [-74.773287, 40.215227], [-75.058088, 40.417874], [-75.069042, 40.543843], [-75.195012, 40.576705], [-75.205966, 40.691721], [-75.052611, 40.866983], [-75.134765, 40.971045], [-74.882826, 41.179168], [-74.828057, 41.288707], [-74.69661, 41.359907], [-74.236547, 41.14083]]], \"type\": \"Polygon\"}, \"id\": \"34\", \"properties\": {\"density\": 1189, \"name\": \"New Jersey\"}, \"type\": \"Feature\"}, {\"geometry\": {\"coordinates\": [[[-107.421329, 37.000263], [-106.868158, 36.994786], [-104.337812, 36.994786], [-103.001438, 37.000263], [-103.001438, 36.501861], [-103.039777, 36.501861], [-103.045254, 34.01533], [-103.067161, 33.002096], [-103.067161, 31.999816], [-106.616219, 31.999816], [-106.643603, 31.901231], [-106.528588, 31.786216], [-108.210008, 31.786216], [-108.210008, 31.331629], [-109.04798, 31.331629], [-109.042503, 37.000263], [-107.421329, 37.000263]]], \"type\": \"Polygon\"}, \"id\": \"35\", \"properties\": {\"density\": 17.16, \"name\": \"New Mexico\"}, \"type\": \"Feature\"}, {\"geometry\": {\"coordinates\": [[[-73.343806, 45.013027], [-73.332852, 44.804903], [-73.387622, 44.618687], [-73.294514, 44.437948], [-73.321898, 44.246255], [-73.436914, 44.043608], [-73.349283, 43.769761], [-73.404052, 43.687607], [-73.245221, 43.523299], [-73.278083, 42.833204], [-73.267129, 42.745573], [-73.508114, 42.08834], [-73.486206, 42.050002], [-73.55193, 41.294184], [-73.48073, 41.21203], [-73.727192, 41.102491], [-73.655992, 40.987475], [-73.22879, 40.905321], [-73.141159, 40.965568], [-72.774204, 40.965568], [-72.587988, 40.998429], [-72.28128, 41.157261], [-72.259372, 41.042245], [-72.100541, 40.992952], [-72.467496, 40.845075], [-73.239744, 40.625997], [-73.562884, 40.582182], [-73.776484, 40.593136], [-73.935316, 40.543843], [-74.022947, 40.708151], [-73.902454, 40.998429], [-74.236547, 41.14083], [-74.69661, 41.359907], [-74.740426, 41.431108], [-74.89378, 41.436584], [-75.074519, 41.60637], [-75.052611, 41.754247], [-75.173104, 41.869263], [-75.249781, 41.863786], [-75.35932, 42.000709], [-79.76278, 42.000709], [-79.76278, 42.252649], [-79.76278, 42.269079], [-79.149363, 42.55388], [-79.050778, 42.690804], [-78.853608, 42.783912], [-78.930285, 42.953697], [-79.012439, 42.986559], [-79.072686, 43.260406], [-78.486653, 43.375421], [-77.966344, 43.369944], [-77.75822, 43.34256], [-77.533665, 43.233021], [-77.391265, 43.276836], [-76.958587, 43.271359], [-76.695693, 43.34256], [-76.41637, 43.523299], [-76.235631, 43.528776], [-76.230154, 43.802623], [-76.137046, 43.961454], [-76.3616, 44.070993], [-76.312308, 44.196962], [-75.912491, 44.366748], [-75.764614, 44.514625], [-75.282643, 44.848718], [-74.828057, 45.018503], [-74.148916, 44.991119], [-73.343806, 45.013027]]], \"type\": \"Polygon\"}, \"id\": \"36\", \"properties\": {\"density\": 412.3, \"name\": \"New York\"}, \"type\": \"Feature\"}, {\"geometry\": {\"coordinates\": [[[-80.978661, 36.562108], [-80.294043, 36.545677], [-79.510841, 36.5402], [-75.868676, 36.551154], [-75.75366, 36.151337], [-76.032984, 36.189676], [-76.071322, 36.140383], [-76.410893, 36.080137], [-76.460185, 36.025367], [-76.68474, 36.008937], [-76.673786, 35.937736], [-76.399939, 35.987029], [-76.3616, 35.943213], [-76.060368, 35.992506], [-75.961783, 35.899398], [-75.781044, 35.937736], [-75.715321, 35.696751], [-75.775568, 35.581735], [-75.89606, 35.570781], [-76.147999, 35.324319], [-76.482093, 35.313365], [-76.536862, 35.14358], [-76.394462, 34.973795], [-76.279446, 34.940933], [-76.493047, 34.661609], [-76.673786, 34.694471], [-76.991448, 34.667086], [-77.210526, 34.60684], [-77.555573, 34.415147], [-77.82942, 34.163208], [-77.971821, 33.845545], [-78.179944, 33.916745], [-78.541422, 33.851022], [-79.675149, 34.80401], [-80.797922, 34.820441], [-80.781491, 34.935456], [-80.934845, 35.105241], [-81.038907, 35.044995], [-81.044384, 35.149057], [-82.276696, 35.198349], [-82.550543, 35.160011], [-82.764143, 35.066903], [-83.109191, 35.00118], [-83.618546, 34.984749], [-84.319594, 34.990226], [-84.29221, 35.225734], [-84.09504, 35.247642], [-84.018363, 35.41195], [-83.7719, 35.559827], [-83.498053, 35.565304], [-83.251591, 35.718659], [-82.994175, 35.773428], [-82.775097, 35.997983], [-82.638174, 36.063706], [-82.610789, 35.965121], [-82.216449, 36.156814], [-82.03571, 36.118475], [-81.909741, 36.304691], [-81.723525, 36.353984], [-81.679709, 36.589492], [-80.978661, 36.562108]]], \"type\": \"Polygon\"}, \"id\": \"37\", \"properties\": {\"density\": 198.2, \"name\": \"North Carolina\"}, \"type\": \"Feature\"}, {\"geometry\": {\"coordinates\": [[[-97.228743, 49.000239], [-97.097296, 48.682577], [-97.16302, 48.545653], [-97.130158, 48.140359], [-97.053481, 47.948667], [-96.856311, 47.609096], [-96.823449, 46.968294], [-96.785111, 46.924479], [-96.801542, 46.656109], [-96.719387, 46.437031], [-96.598895, 46.332969], [-96.560556, 45.933153], [-104.047534, 45.944106], [-104.042057, 47.861036], [-104.047534, 49.000239], [-97.228743, 49.000239]]], \"type\": \"Polygon\"}, \"id\": \"38\", \"properties\": {\"density\": 9.916, \"name\": \"North Dakota\"}, \"type\": \"Feature\"}, {\"geometry\": {\"coordinates\": [[[-80.518598, 41.978802], [-80.518598, 40.636951], [-80.666475, 40.582182], [-80.595275, 40.472643], [-80.600752, 40.319289], [-80.737675, 40.078303], [-80.830783, 39.711348], [-81.219646, 39.388209], [-81.345616, 39.344393], [-81.455155, 39.410117], [-81.57017, 39.267716], [-81.685186, 39.273193], [-81.811156, 39.0815], [-81.783771, 38.966484], [-81.887833, 38.873376], [-82.03571, 39.026731], [-82.221926, 38.785745], [-82.172634, 38.632391], [-82.293127, 38.577622], [-82.331465, 38.446175], [-82.594358, 38.424267], [-82.731282, 38.561191], [-82.846298, 38.588575], [-82.890113, 38.758361], [-83.032514, 38.725499], [-83.142052, 38.626914], [-83.519961, 38.703591], [-83.678792, 38.632391], [-83.903347, 38.769315], [-84.215533, 38.807653], [-84.231963, 38.895284], [-84.43461, 39.103408], [-84.817996, 39.103408], [-84.801565, 40.500028], [-84.807042, 41.694001], [-83.454238, 41.732339], [-83.065375, 41.595416], [-82.933929, 41.513262], [-82.835344, 41.589939], [-82.616266, 41.431108], [-82.479343, 41.381815], [-82.013803, 41.513262], [-81.739956, 41.485877], [-81.444201, 41.672093], [-81.011523, 41.852832], [-80.518598, 41.978802], [-80.518598, 41.978802]]], \"type\": \"Polygon\"}, \"id\": \"39\", \"properties\": {\"density\": 281.9, \"name\": \"Ohio\"}, \"type\": \"Feature\"}, {\"geometry\": {\"coordinates\": [[[-100.087706, 37.000263], [-94.616242, 37.000263], [-94.616242, 36.501861], [-94.430026, 35.395519], [-94.484796, 33.637421], [-94.868182, 33.74696], [-94.966767, 33.861976], [-95.224183, 33.960561], [-95.289906, 33.87293], [-95.547322, 33.878407], [-95.602092, 33.933176], [-95.8376, 33.834591], [-95.936185, 33.889361], [-96.149786, 33.840068], [-96.346956, 33.686714], [-96.423633, 33.774345], [-96.631756, 33.845545], [-96.850834, 33.845545], [-96.922034, 33.960561], [-97.173974, 33.736006], [-97.256128, 33.861976], [-97.371143, 33.823637], [-97.458774, 33.905791], [-97.694283, 33.982469], [-97.869545, 33.851022], [-97.946222, 33.987946], [-98.088623, 34.004376], [-98.170777, 34.113915], [-98.36247, 34.157731], [-98.488439, 34.064623], [-98.570593, 34.146777], [-98.767763, 34.135823], [-98.986841, 34.223454], [-99.189488, 34.2125], [-99.260688, 34.404193], [-99.57835, 34.415147], [-99.698843, 34.382285], [-99.923398, 34.573978], [-100.000075, 34.563024], [-100.000075, 36.501861], [-101.812942, 36.501861], [-103.001438, 36.501861], [-103.001438, 37.000263], [-102.042974, 36.994786], [-100.087706, 37.000263]]], \"type\": \"Polygon\"}, \"id\": \"40\", \"properties\": {\"density\": 55.22, \"name\": \"Oklahoma\"}, \"type\": \"Feature\"}, {\"geometry\": {\"coordinates\": [[[-123.211348, 46.174138], [-123.11824, 46.185092], [-122.904639, 46.08103], [-122.811531, 45.960537], [-122.762239, 45.659305], [-122.247407, 45.549767], [-121.809251, 45.708598], [-121.535404, 45.725029], [-121.217742, 45.670259], [-121.18488, 45.604536], [-120.637186, 45.746937], [-120.505739, 45.697644], [-120.209985, 45.725029], [-119.963522, 45.823614], [-119.525367, 45.911245], [-119.125551, 45.933153], [-118.988627, 45.998876], [-116.918344, 45.993399], [-116.78142, 45.823614], [-116.545912, 45.752413], [-116.463758, 45.61549], [-116.671881, 45.319735], [-116.732128, 45.144473], [-116.847143, 45.02398], [-116.830713, 44.930872], [-116.934774, 44.782995], [-117.038836, 44.750133], [-117.241483, 44.394132], [-117.170283, 44.257209], [-116.97859, 44.240778], [-116.896436, 44.158624], [-117.027882, 43.830007], [-117.027882, 42.000709], [-118.698349, 41.989755], [-120.001861, 41.995232], [-121.037003, 41.995232], [-122.378853, 42.011663], [-123.233256, 42.006186], [-124.213628, 42.000709], [-124.356029, 42.115725], [-124.432706, 42.438865], [-124.416275, 42.663419], [-124.553198, 42.838681], [-124.454613, 43.002989], [-124.383413, 43.271359], [-124.235536, 43.55616], [-124.169813, 43.8081], [-124.060274, 44.657025], [-124.076705, 44.772041], [-123.97812, 45.144473], [-123.939781, 45.659305], [-123.994551, 45.944106], [-123.945258, 46.113892], [-123.545441, 46.261769], [-123.370179, 46.146753], [-123.211348, 46.174138]]], \"type\": \"Polygon\"}, \"id\": \"41\", \"properties\": {\"density\": 40.33, \"name\": \"Oregon\"}, \"type\": \"Feature\"}, {\"geometry\": {\"coordinates\": [[[-79.76278, 42.252649], [-79.76278, 42.000709], [-75.35932, 42.000709], [-75.249781, 41.863786], [-75.173104, 41.869263], [-75.052611, 41.754247], [-75.074519, 41.60637], [-74.89378, 41.436584], [-74.740426, 41.431108], [-74.69661, 41.359907], [-74.828057, 41.288707], [-74.882826, 41.179168], [-75.134765, 40.971045], [-75.052611, 40.866983], [-75.205966, 40.691721], [-75.195012, 40.576705], [-75.069042, 40.543843], [-75.058088, 40.417874], [-74.773287, 40.215227], [-74.82258, 40.127596], [-75.129289, 39.963288], [-75.145719, 39.88661], [-75.414089, 39.804456], [-75.616736, 39.831841], [-75.786521, 39.722302], [-79.477979, 39.722302], [-80.518598, 39.722302], [-80.518598, 40.636951], [-80.518598, 41.978802], [-80.518598, 41.978802], [-80.332382, 42.033571], [-79.76278, 42.269079], [-79.76278, 42.252649]]], \"type\": \"Polygon\"}, \"id\": \"42\", \"properties\": {\"density\": 284.3, \"name\": \"Pennsylvania\"}, \"type\": \"Feature\"}, {\"geometry\": {\"coordinates\": [[[[-71.196845, 41.67757], [-71.120168, 41.496831], [-71.317338, 41.474923], [-71.196845, 41.67757]]], [[[-71.530939, 42.01714], [-71.383061, 42.01714], [-71.328292, 41.781632], [-71.22423, 41.710431], [-71.344723, 41.726862], [-71.448785, 41.578985], [-71.481646, 41.370861], [-71.859555, 41.321569], [-71.799309, 41.414677], [-71.799309, 42.006186], [-71.530939, 42.01714]]]], \"type\": \"MultiPolygon\"}, \"id\": \"44\", \"properties\": {\"density\": 1006, \"name\": \"Rhode Island\"}, \"type\": \"Feature\"}, {\"geometry\": {\"coordinates\": [[[-82.764143, 35.066903], [-82.550543, 35.160011], [-82.276696, 35.198349], [-81.044384, 35.149057], [-81.038907, 35.044995], [-80.934845, 35.105241], [-80.781491, 34.935456], [-80.797922, 34.820441], [-79.675149, 34.80401], [-78.541422, 33.851022], [-78.716684, 33.80173], [-78.935762, 33.637421], [-79.149363, 33.380005], [-79.187701, 33.171881], [-79.357487, 33.007573], [-79.582041, 33.007573], [-79.631334, 32.887081], [-79.866842, 32.755634], [-79.998289, 32.613234], [-80.206412, 32.552987], [-80.430967, 32.399633], [-80.452875, 32.328433], [-80.660998, 32.246279], [-80.885553, 32.032678], [-81.115584, 32.120309], [-81.121061, 32.290094], [-81.279893, 32.558464], [-81.416816, 32.629664], [-81.42777, 32.843265], [-81.493493, 33.007573], [-81.761863, 33.160928], [-81.937125, 33.347144], [-81.926172, 33.462159], [-82.194542, 33.631944], [-82.325988, 33.81816], [-82.55602, 33.94413], [-82.714851, 34.152254], [-82.747713, 34.26727], [-82.901067, 34.486347], [-83.005129, 34.469916], [-83.339222, 34.683517], [-83.322791, 34.787579], [-83.109191, 35.00118], [-82.764143, 35.066903]]], \"type\": \"Polygon\"}, \"id\": \"45\", \"properties\": {\"density\": 155.4, \"name\": \"South Carolina\"}, \"type\": \"Feature\"}, {\"geometry\": {\"coordinates\": [[[-104.047534, 45.944106], [-96.560556, 45.933153], [-96.582464, 45.818137], [-96.856311, 45.604536], [-96.681049, 45.412843], [-96.451017, 45.297827], [-96.451017, 43.501391], [-96.582464, 43.479483], [-96.527695, 43.397329], [-96.560556, 43.222067], [-96.434587, 43.123482], [-96.511264, 43.052282], [-96.544125, 42.855112], [-96.631756, 42.707235], [-96.44554, 42.488157], [-96.626279, 42.515542], [-96.692003, 42.657942], [-97.217789, 42.844158], [-97.688806, 42.844158], [-97.831206, 42.866066], [-97.951699, 42.767481], [-98.466531, 42.94822], [-98.499393, 42.997512], [-101.626726, 42.997512], [-103.324578, 43.002989], [-104.053011, 43.002989], [-104.058488, 44.996596], [-104.042057, 44.996596], [-104.047534, 45.944106]]], \"type\": \"Polygon\"}, \"id\": \"46\", \"properties\": {\"density\": 98.07, \"name\": \"South Dakota\"}, \"type\": \"Feature\"}, {\"geometry\": {\"coordinates\": [[[-88.054868, 36.496384], [-88.071299, 36.677123], [-87.852221, 36.633308], [-86.592525, 36.655216], [-85.486183, 36.616877], [-85.289013, 36.627831], [-84.544149, 36.594969], [-83.689746, 36.584015], [-83.673316, 36.600446], [-81.679709, 36.589492], [-81.723525, 36.353984], [-81.909741, 36.304691], [-82.03571, 36.118475], [-82.216449, 36.156814], [-82.610789, 35.965121], [-82.638174, 36.063706], [-82.775097, 35.997983], [-82.994175, 35.773428], [-83.251591, 35.718659], [-83.498053, 35.565304], [-83.7719, 35.559827], [-84.018363, 35.41195], [-84.09504, 35.247642], [-84.29221, 35.225734], [-84.319594, 34.990226], [-85.606675, 34.984749], [-87.359296, 35.00118], [-88.202745, 34.995703], [-88.471115, 34.995703], [-90.311367, 34.995703], [-90.212782, 35.023087], [-90.114197, 35.198349], [-90.130628, 35.439335], [-89.944412, 35.603643], [-89.911551, 35.756997], [-89.763673, 35.811767], [-89.730812, 35.997983], [-89.533642, 36.249922], [-89.539119, 36.496384], [-89.484349, 36.496384], [-89.418626, 36.496384], [-89.298133, 36.507338], [-88.054868, 36.496384]]], \"type\": \"Polygon\"}, \"id\": \"47\", \"properties\": {\"density\": 88.08, \"name\": \"Tennessee\"}, \"type\": \"Feature\"}, {\"geometry\": {\"coordinates\": [[[-101.812942, 36.501861], [-100.000075, 36.501861], [-100.000075, 34.563024], [-99.923398, 34.573978], [-99.698843, 34.382285], [-99.57835, 34.415147], [-99.260688, 34.404193], [-99.189488, 34.2125], [-98.986841, 34.223454], [-98.767763, 34.135823], [-98.570593, 34.146777], [-98.488439, 34.064623], [-98.36247, 34.157731], [-98.170777, 34.113915], [-98.088623, 34.004376], [-97.946222, 33.987946], [-97.869545, 33.851022], [-97.694283, 33.982469], [-97.458774, 33.905791], [-97.371143, 33.823637], [-97.256128, 33.861976], [-97.173974, 33.736006], [-96.922034, 33.960561], [-96.850834, 33.845545], [-96.631756, 33.845545], [-96.423633, 33.774345], [-96.346956, 33.686714], [-96.149786, 33.840068], [-95.936185, 33.889361], [-95.8376, 33.834591], [-95.602092, 33.933176], [-95.547322, 33.878407], [-95.289906, 33.87293], [-95.224183, 33.960561], [-94.966767, 33.861976], [-94.868182, 33.74696], [-94.484796, 33.637421], [-94.380734, 33.544313], [-94.183564, 33.593606], [-94.041164, 33.54979], [-94.041164, 33.018527], [-94.041164, 31.994339], [-93.822086, 31.775262], [-93.816609, 31.556184], [-93.542762, 31.15089], [-93.526331, 30.93729], [-93.630393, 30.679874], [-93.728978, 30.575812], [-93.696116, 30.438888], [-93.767317, 30.334826], [-93.690639, 30.143133], [-93.926148, 29.787132], [-93.838517, 29.688547], [-94.002825, 29.68307], [-94.523134, 29.546147], [-94.70935, 29.622824], [-94.742212, 29.787132], [-94.873659, 29.672117], [-94.966767, 29.699501], [-95.016059, 29.557101], [-94.911997, 29.496854], [-94.895566, 29.310638], [-95.081782, 29.113469], [-95.383014, 28.867006], [-95.985477, 28.604113], [-96.045724, 28.647929], [-96.226463, 28.582205], [-96.23194, 28.642452], [-96.478402, 28.598636], [-96.593418, 28.724606], [-96.664618, 28.697221], [-96.401725, 28.439805], [-96.593418, 28.357651], [-96.774157, 28.406943], [-96.801542, 28.226204], [-97.026096, 28.039988], [-97.256128, 27.694941], [-97.404005, 27.333463], [-97.513544, 27.360848], [-97.540929, 27.229401], [-97.425913, 27.262263], [-97.480682, 26.99937], [-97.557359, 26.988416], [-97.562836, 26.840538], [-97.469728, 26.758384], [-97.442344, 26.457153], [-97.332805, 26.353091], [-97.30542, 26.161398], [-97.217789, 25.991613], [-97.524498, 25.887551], [-97.650467, 26.018997], [-97.885976, 26.06829], [-98.198161, 26.057336], [-98.466531, 26.221644], [-98.669178, 26.238075], [-98.822533, 26.369522], [-99.030656, 26.413337], [-99.173057, 26.539307], [-99.266165, 26.840538], [-99.446904, 27.021277], [-99.424996, 27.174632], [-99.50715, 27.33894], [-99.479765, 27.48134], [-99.605735, 27.640172], [-99.709797, 27.656603], [-99.879582, 27.799003], [-99.934351, 27.979742], [-100.082229, 28.14405], [-100.29583, 28.280974], [-100.399891, 28.582205], [-100.498476, 28.66436], [-100.629923, 28.905345], [-100.673738, 29.102515], [-100.799708, 29.244915], [-101.013309, 29.370885], [-101.062601, 29.458516], [-101.259771, 29.535193], [-101.413125, 29.754271], [-101.851281, 29.803563], [-102.114174, 29.792609], [-102.338728, 29.869286], [-102.388021, 29.765225], [-102.629006, 29.732363], [-102.809745, 29.524239], [-102.919284, 29.190146], [-102.97953, 29.184669], [-103.116454, 28.987499], [-103.280762, 28.982022], [-103.527224, 29.135376], [-104.146119, 29.381839], [-104.266611, 29.513285], [-104.507597, 29.639255], [-104.677382, 29.924056], [-104.688336, 30.181472], [-104.858121, 30.389596], [-104.896459, 30.570335], [-105.005998, 30.685351], [-105.394861, 30.855136], [-105.602985, 31.085167], [-105.77277, 31.167321], [-105.953509, 31.364491], [-106.205448, 31.468553], [-106.38071, 31.731446], [-106.528588, 31.786216], [-106.643603, 31.901231], [-106.616219, 31.999816], [-103.067161, 31.999816], [-103.067161, 33.002096], [-103.045254, 34.01533], [-103.039777, 36.501861], [-103.001438, 36.501861], [-101.812942, 36.501861]]], \"type\": \"Polygon\"}, \"id\": \"48\", \"properties\": {\"density\": 98.07, \"name\": \"Texas\"}, \"type\": \"Feature\"}, {\"geometry\": {\"coordinates\": [[[-112.164359, 41.995232], [-111.047063, 42.000709], [-111.047063, 40.998429], [-109.04798, 40.998429], [-109.053457, 39.125316], [-109.058934, 38.27639], [-109.042503, 38.166851], [-109.042503, 37.000263], [-110.499369, 37.00574], [-114.048427, 37.000263], [-114.04295, 41.995232], [-112.164359, 41.995232]]], \"type\": \"Polygon\"}, \"id\": \"49\", \"properties\": {\"density\": 34.3, \"name\": \"Utah\"}, \"type\": \"Feature\"}, {\"geometry\": {\"coordinates\": [[[-71.503554, 45.013027], [-71.4926, 44.914442], [-71.629524, 44.750133], [-71.536416, 44.585825], [-71.700724, 44.41604], [-72.034817, 44.322932], [-72.02934, 44.07647], [-72.116971, 43.994316], [-72.204602, 43.769761], [-72.379864, 43.572591], [-72.456542, 43.150867], [-72.445588, 43.008466], [-72.533219, 42.953697], [-72.544173, 42.80582], [-72.456542, 42.729142], [-73.267129, 42.745573], [-73.278083, 42.833204], [-73.245221, 43.523299], [-73.404052, 43.687607], [-73.349283, 43.769761], [-73.436914, 44.043608], [-73.321898, 44.246255], [-73.294514, 44.437948], [-73.387622, 44.618687], [-73.332852, 44.804903], [-73.343806, 45.013027], [-72.308664, 45.002073], [-71.503554, 45.013027]]], \"type\": \"Polygon\"}, \"id\": \"50\", \"properties\": {\"density\": 67.73, \"name\": \"Vermont\"}, \"type\": \"Feature\"}, {\"geometry\": {\"coordinates\": [[[[-75.397659, 38.013497], [-75.244304, 38.029928], [-75.375751, 37.860142], [-75.512674, 37.799896], [-75.594828, 37.569865], [-75.802952, 37.197433], [-75.972737, 37.120755], [-76.027507, 37.257679], [-75.939876, 37.564388], [-75.671506, 37.95325], [-75.397659, 38.013497]]], [[[-76.016553, 37.95325], [-75.994645, 37.95325], [-76.043938, 37.95325], [-76.016553, 37.95325]]], [[[-78.349729, 39.464886], [-77.82942, 39.130793], [-77.719881, 39.322485], [-77.566527, 39.306055], [-77.456988, 39.223901], [-77.456988, 39.076023], [-77.248864, 39.026731], [-77.117418, 38.933623], [-77.040741, 38.791222], [-77.128372, 38.632391], [-77.248864, 38.588575], [-77.325542, 38.446175], [-77.281726, 38.342113], [-77.013356, 38.374975], [-76.964064, 38.216144], [-76.613539, 38.15042], [-76.514954, 38.024451], [-76.235631, 37.887527], [-76.3616, 37.608203], [-76.246584, 37.389126], [-76.383508, 37.285064], [-76.399939, 37.159094], [-76.273969, 37.082417], [-76.410893, 36.961924], [-76.619016, 37.120755], [-76.668309, 37.065986], [-76.48757, 36.95097], [-75.994645, 36.923586], [-75.868676, 36.551154], [-79.510841, 36.5402], [-80.294043, 36.545677], [-80.978661, 36.562108], [-81.679709, 36.589492], [-83.673316, 36.600446], [-83.136575, 36.742847], [-83.070852, 36.852385], [-82.879159, 36.890724], [-82.868205, 36.978355], [-82.720328, 37.044078], [-82.720328, 37.120755], [-82.353373, 37.268633], [-81.969987, 37.537003], [-81.986418, 37.454849], [-81.849494, 37.285064], [-81.679709, 37.20291], [-81.55374, 37.208387], [-81.362047, 37.339833], [-81.225123, 37.235771], [-80.967707, 37.290541], [-80.513121, 37.482234], [-80.474782, 37.421987], [-80.29952, 37.509618], [-80.294043, 37.690357], [-80.184505, 37.849189], [-79.998289, 37.997066], [-79.921611, 38.177805], [-79.724442, 38.364021], [-79.647764, 38.594052], [-79.477979, 38.457129], [-79.313671, 38.413313], [-79.209609, 38.495467], [-78.996008, 38.851469], [-78.870039, 38.763838], [-78.404499, 39.169131], [-78.349729, 39.464886]]]], \"type\": \"MultiPolygon\"}, \"id\": \"51\", \"properties\": {\"density\": 204.5, \"name\": \"Virginia\"}, \"type\": \"Feature\"}, {\"geometry\": {\"coordinates\": [[[[-117.033359, 49.000239], [-117.044313, 47.762451], [-117.038836, 46.426077], [-117.055267, 46.343923], [-116.92382, 46.168661], [-116.918344, 45.993399], [-118.988627, 45.998876], [-119.125551, 45.933153], [-119.525367, 45.911245], [-119.963522, 45.823614], [-120.209985, 45.725029], [-120.505739, 45.697644], [-120.637186, 45.746937], [-121.18488, 45.604536], [-121.217742, 45.670259], [-121.535404, 45.725029], [-121.809251, 45.708598], [-122.247407, 45.549767], [-122.762239, 45.659305], [-122.811531, 45.960537], [-122.904639, 46.08103], [-123.11824, 46.185092], [-123.211348, 46.174138], [-123.370179, 46.146753], [-123.545441, 46.261769], [-123.72618, 46.300108], [-123.874058, 46.239861], [-124.065751, 46.327492], [-124.027412, 46.464416], [-123.895966, 46.535616], [-124.098612, 46.74374], [-124.235536, 47.285957], [-124.31769, 47.357157], [-124.427229, 47.740543], [-124.624399, 47.88842], [-124.706553, 48.184175], [-124.597014, 48.381345], [-124.394367, 48.288237], [-123.983597, 48.162267], [-123.704273, 48.167744], [-123.424949, 48.118452], [-123.162056, 48.167744], [-123.036086, 48.080113], [-122.800578, 48.08559], [-122.636269, 47.866512], [-122.515777, 47.882943], [-122.493869, 47.587189], [-122.422669, 47.318818], [-122.324084, 47.346203], [-122.422669, 47.576235], [-122.395284, 47.800789], [-122.230976, 48.030821], [-122.362422, 48.123929], [-122.373376, 48.288237], [-122.471961, 48.468976], [-122.422669, 48.600422], [-122.488392, 48.753777], [-122.647223, 48.775685], [-122.795101, 48.8907], [-122.756762, 49.000239], [-117.033359, 49.000239]]], [[[-122.718423, 48.310145], [-122.586977, 48.35396], [-122.608885, 48.151313], [-122.767716, 48.227991], [-122.718423, 48.310145]]], [[[-123.025132, 48.583992], [-122.915593, 48.715438], [-122.767716, 48.556607], [-122.811531, 48.419683], [-123.041563, 48.458022], [-123.025132, 48.583992]]]], \"type\": \"MultiPolygon\"}, \"id\": \"53\", \"properties\": {\"density\": 102.6, \"name\": \"Washington\"}, \"type\": \"Feature\"}, {\"geometry\": {\"coordinates\": [[[-80.518598, 40.636951], [-80.518598, 39.722302], [-79.477979, 39.722302], [-79.488933, 39.20747], [-79.291763, 39.300578], [-79.094593, 39.470363], [-78.963147, 39.437501], [-78.765977, 39.585379], [-78.470222, 39.514178], [-78.431884, 39.623717], [-78.267575, 39.61824], [-78.174467, 39.694917], [-78.004682, 39.601809], [-77.834897, 39.601809], [-77.719881, 39.322485], [-77.82942, 39.130793], [-78.349729, 39.464886], [-78.404499, 39.169131], [-78.870039, 38.763838], [-78.996008, 38.851469], [-79.209609, 38.495467], [-79.313671, 38.413313], [-79.477979, 38.457129], [-79.647764, 38.594052], [-79.724442, 38.364021], [-79.921611, 38.177805], [-79.998289, 37.997066], [-80.184505, 37.849189], [-80.294043, 37.690357], [-80.29952, 37.509618], [-80.474782, 37.421987], [-80.513121, 37.482234], [-80.967707, 37.290541], [-81.225123, 37.235771], [-81.362047, 37.339833], [-81.55374, 37.208387], [-81.679709, 37.20291], [-81.849494, 37.285064], [-81.986418, 37.454849], [-81.969987, 37.537003], [-82.101434, 37.553434], [-82.293127, 37.668449], [-82.342419, 37.783465], [-82.50125, 37.931343], [-82.621743, 38.123036], [-82.594358, 38.424267], [-82.331465, 38.446175], [-82.293127, 38.577622], [-82.172634, 38.632391], [-82.221926, 38.785745], [-82.03571, 39.026731], [-81.887833, 38.873376], [-81.783771, 38.966484], [-81.811156, 39.0815], [-81.685186, 39.273193], [-81.57017, 39.267716], [-81.455155, 39.410117], [-81.345616, 39.344393], [-81.219646, 39.388209], [-80.830783, 39.711348], [-80.737675, 40.078303], [-80.600752, 40.319289], [-80.595275, 40.472643], [-80.666475, 40.582182], [-80.518598, 40.636951]]], \"type\": \"Polygon\"}, \"id\": \"54\", \"properties\": {\"density\": 77.06, \"name\": \"West Virginia\"}, \"type\": \"Feature\"}, {\"geometry\": {\"coordinates\": [[[-90.415429, 46.568478], [-90.229213, 46.508231], [-90.119674, 46.338446], [-89.09001, 46.135799], [-88.662808, 45.987922], [-88.531362, 46.020784], [-88.10416, 45.922199], [-87.989145, 45.796229], [-87.781021, 45.675736], [-87.791975, 45.500474], [-87.885083, 45.363551], [-87.649574, 45.341643], [-87.742682, 45.199243], [-87.589328, 45.095181], [-87.627666, 44.974688], [-87.819359, 44.95278], [-87.983668, 44.722749], [-88.043914, 44.563917], [-87.928898, 44.536533], [-87.775544, 44.640595], [-87.611236, 44.837764], [-87.403112, 44.914442], [-87.238804, 45.166381], [-87.03068, 45.22115], [-87.047111, 45.089704], [-87.189511, 44.969211], [-87.468835, 44.552964], [-87.545512, 44.322932], [-87.540035, 44.158624], [-87.644097, 44.103854], [-87.737205, 43.8793], [-87.704344, 43.687607], [-87.791975, 43.561637], [-87.912467, 43.249452], [-87.885083, 43.002989], [-87.76459, 42.783912], [-87.802929, 42.493634], [-88.788778, 42.493634], [-90.639984, 42.510065], [-90.711184, 42.636034], [-91.067185, 42.75105], [-91.143862, 42.909881], [-91.176724, 43.134436], [-91.056231, 43.254929], [-91.204109, 43.353514], [-91.215062, 43.501391], [-91.269832, 43.616407], [-91.242447, 43.775238], [-91.43414, 43.994316], [-91.592971, 44.032654], [-91.877772, 44.202439], [-91.927065, 44.333886], [-92.233773, 44.443425], [-92.337835, 44.552964], [-92.545959, 44.569394], [-92.808852, 44.750133], [-92.737652, 45.117088], [-92.75956, 45.286874], [-92.644544, 45.440228], [-92.770513, 45.566198], [-92.885529, 45.577151], [-92.869098, 45.719552], [-92.639067, 45.933153], [-92.354266, 46.015307], [-92.29402, 46.075553], [-92.29402, 46.667063], [-92.091373, 46.749217], [-92.014696, 46.705401], [-91.790141, 46.694447], [-91.09457, 46.864232], [-90.837154, 46.95734], [-90.749522, 46.88614], [-90.886446, 46.754694], [-90.55783, 46.584908], [-90.415429, 46.568478]]], \"type\": \"Polygon\"}, \"id\": \"55\", \"properties\": {\"density\": 105.2, \"name\": \"Wisconsin\"}, \"type\": \"Feature\"}, {\"geometry\": {\"coordinates\": [[[-109.080842, 45.002073], [-105.91517, 45.002073], [-104.058488, 44.996596], [-104.053011, 43.002989], [-104.053011, 41.003906], [-105.728954, 40.998429], [-107.919731, 41.003906], [-109.04798, 40.998429], [-111.047063, 40.998429], [-111.047063, 42.000709], [-111.047063, 44.476286], [-111.05254, 45.002073], [-109.080842, 45.002073]]], \"type\": \"Polygon\"}, \"id\": \"56\", \"properties\": {\"density\": 5.851, \"name\": \"Wyoming\"}, \"type\": \"Feature\"}], \"type\": \"FeatureCollection\"}, \"hovertemplate\": \"name=%{location}<br>1/22/20=%{z}<extra></extra>\", \"locations\": [\"Alabama\", \"Alaska\", \"Arizona\", \"Arkansas\", \"California\", \"Colorado\", \"Connecticut\", \"Delaware\", \"District of Columbia\", \"Florida\", \"Georgia\", \"Hawaii\", \"Idaho\", \"Illinois\", \"Indiana\", \"Iowa\", \"Kansas\", \"Kentucky\", \"Louisiana\", \"Maine\", \"Maryland\", \"Massachusetts\", \"Michigan\", \"Minnesota\", \"Mississippi\", \"Missouri\", \"Montana\", \"Nebraska\", \"Nevada\", \"New Hampshire\", \"New Jersey\", \"New Mexico\", \"New York\", \"North Carolina\", \"North Dakota\", \"Ohio\", \"Oklahoma\", \"Oregon\", \"Pennsylvania\", \"Rhode Island\", \"South Carolina\", \"South Dakota\", \"Tennessee\", \"Texas\", \"Utah\", \"Vermont\", \"Virginia\", \"Washington\", \"West Virginia\", \"Wisconsin\", \"Wyoming\"], \"marker\": {\"opacity\": 0.8}, \"name\": \"\", \"subplot\": \"mapbox\", \"type\": \"choroplethmapbox\", \"z\": [0, 0, 0, 0, 0, 0, 0, 0, 0, 0, 0, 0, 0, 0, 0, 0, 0, 0, 0, 0, 0, 0, 0, 0, 0, 0, 0, 0, 0, 0, 0, 0, 0, 0, 0, 0, 0, 0, 0, 0, 0, 0, 0, 0, 0, 0, 0, 1, 0, 0, 0]}],                        {\"clickmode\": \"event+select\", \"coloraxis\": {\"cmax\": 12, \"cmin\": 0, \"colorbar\": {\"title\": {\"text\": \"1/22/20\"}}, \"colorscale\": [[0.0, \"#440154\"], [0.1111111111111111, \"#482878\"], [0.2222222222222222, \"#3e4989\"], [0.3333333333333333, \"#31688e\"], [0.4444444444444444, \"#26828e\"], [0.5555555555555556, \"#1f9e89\"], [0.6666666666666666, \"#35b779\"], [0.7777777777777778, \"#6ece58\"], [0.8888888888888888, \"#b5de2b\"], [1.0, \"#fde725\"]]}, \"legend\": {\"tracegroupgap\": 0}, \"mapbox\": {\"accesstoken\": \"pk.eyJ1IjoiZ3BlcnJvbmUiLCJhIjoiY2s4eXA0ZWt4MDBybDNsbzVuanZwd2RtbSJ9._NuCR3BXdVzrvGtdodRjLw\", \"center\": {\"lat\": 37.0902, \"lon\": -95.7129}, \"domain\": {\"x\": [0.0, 1.0], \"y\": [0.0, 1.0]}, \"style\": \"carto-positron\", \"zoom\": 3}, \"margin\": {\"t\": 60}, \"template\": {\"data\": {\"bar\": [{\"error_x\": {\"color\": \"#2a3f5f\"}, \"error_y\": {\"color\": \"#2a3f5f\"}, \"marker\": {\"line\": {\"color\": \"#E5ECF6\", \"width\": 0.5}}, \"type\": \"bar\"}], \"barpolar\": [{\"marker\": {\"line\": {\"color\": \"#E5ECF6\", \"width\": 0.5}}, \"type\": \"barpolar\"}], \"carpet\": [{\"aaxis\": {\"endlinecolor\": \"#2a3f5f\", \"gridcolor\": \"white\", \"linecolor\": \"white\", \"minorgridcolor\": \"white\", \"startlinecolor\": \"#2a3f5f\"}, \"baxis\": {\"endlinecolor\": \"#2a3f5f\", \"gridcolor\": \"white\", \"linecolor\": \"white\", \"minorgridcolor\": \"white\", \"startlinecolor\": \"#2a3f5f\"}, \"type\": \"carpet\"}], \"choropleth\": [{\"colorbar\": {\"outlinewidth\": 0, \"ticks\": \"\"}, \"type\": \"choropleth\"}], \"contour\": [{\"colorbar\": {\"outlinewidth\": 0, \"ticks\": \"\"}, \"colorscale\": [[0.0, \"#0d0887\"], [0.1111111111111111, \"#46039f\"], [0.2222222222222222, \"#7201a8\"], [0.3333333333333333, \"#9c179e\"], [0.4444444444444444, \"#bd3786\"], [0.5555555555555556, \"#d8576b\"], [0.6666666666666666, \"#ed7953\"], [0.7777777777777778, \"#fb9f3a\"], [0.8888888888888888, \"#fdca26\"], [1.0, \"#f0f921\"]], \"type\": \"contour\"}], \"contourcarpet\": [{\"colorbar\": {\"outlinewidth\": 0, \"ticks\": \"\"}, \"type\": \"contourcarpet\"}], \"heatmap\": [{\"colorbar\": {\"outlinewidth\": 0, \"ticks\": \"\"}, \"colorscale\": [[0.0, \"#0d0887\"], [0.1111111111111111, \"#46039f\"], [0.2222222222222222, \"#7201a8\"], [0.3333333333333333, \"#9c179e\"], [0.4444444444444444, \"#bd3786\"], [0.5555555555555556, \"#d8576b\"], [0.6666666666666666, \"#ed7953\"], [0.7777777777777778, \"#fb9f3a\"], [0.8888888888888888, \"#fdca26\"], [1.0, \"#f0f921\"]], \"type\": \"heatmap\"}], \"heatmapgl\": [{\"colorbar\": {\"outlinewidth\": 0, \"ticks\": \"\"}, \"colorscale\": [[0.0, \"#0d0887\"], [0.1111111111111111, \"#46039f\"], [0.2222222222222222, \"#7201a8\"], [0.3333333333333333, \"#9c179e\"], [0.4444444444444444, \"#bd3786\"], [0.5555555555555556, \"#d8576b\"], [0.6666666666666666, \"#ed7953\"], [0.7777777777777778, \"#fb9f3a\"], [0.8888888888888888, \"#fdca26\"], [1.0, \"#f0f921\"]], \"type\": \"heatmapgl\"}], \"histogram\": [{\"marker\": {\"colorbar\": {\"outlinewidth\": 0, \"ticks\": \"\"}}, \"type\": \"histogram\"}], \"histogram2d\": [{\"colorbar\": {\"outlinewidth\": 0, \"ticks\": \"\"}, \"colorscale\": [[0.0, \"#0d0887\"], [0.1111111111111111, \"#46039f\"], [0.2222222222222222, \"#7201a8\"], [0.3333333333333333, \"#9c179e\"], [0.4444444444444444, \"#bd3786\"], [0.5555555555555556, \"#d8576b\"], [0.6666666666666666, \"#ed7953\"], [0.7777777777777778, \"#fb9f3a\"], [0.8888888888888888, \"#fdca26\"], [1.0, \"#f0f921\"]], \"type\": \"histogram2d\"}], \"histogram2dcontour\": [{\"colorbar\": {\"outlinewidth\": 0, \"ticks\": \"\"}, \"colorscale\": [[0.0, \"#0d0887\"], [0.1111111111111111, \"#46039f\"], [0.2222222222222222, \"#7201a8\"], [0.3333333333333333, \"#9c179e\"], [0.4444444444444444, \"#bd3786\"], [0.5555555555555556, \"#d8576b\"], [0.6666666666666666, \"#ed7953\"], [0.7777777777777778, \"#fb9f3a\"], [0.8888888888888888, \"#fdca26\"], [1.0, \"#f0f921\"]], \"type\": \"histogram2dcontour\"}], \"mesh3d\": [{\"colorbar\": {\"outlinewidth\": 0, \"ticks\": \"\"}, \"type\": \"mesh3d\"}], \"parcoords\": [{\"line\": {\"colorbar\": {\"outlinewidth\": 0, \"ticks\": \"\"}}, \"type\": \"parcoords\"}], \"pie\": [{\"automargin\": true, \"type\": \"pie\"}], \"scatter\": [{\"marker\": {\"colorbar\": {\"outlinewidth\": 0, \"ticks\": \"\"}}, \"type\": \"scatter\"}], \"scatter3d\": [{\"line\": {\"colorbar\": {\"outlinewidth\": 0, \"ticks\": \"\"}}, \"marker\": {\"colorbar\": {\"outlinewidth\": 0, \"ticks\": \"\"}}, \"type\": \"scatter3d\"}], \"scattercarpet\": [{\"marker\": {\"colorbar\": {\"outlinewidth\": 0, \"ticks\": \"\"}}, \"type\": \"scattercarpet\"}], \"scattergeo\": [{\"marker\": {\"colorbar\": {\"outlinewidth\": 0, \"ticks\": \"\"}}, \"type\": \"scattergeo\"}], \"scattergl\": [{\"marker\": {\"colorbar\": {\"outlinewidth\": 0, \"ticks\": \"\"}}, \"type\": \"scattergl\"}], \"scattermapbox\": [{\"marker\": {\"colorbar\": {\"outlinewidth\": 0, \"ticks\": \"\"}}, \"type\": \"scattermapbox\"}], \"scatterpolar\": [{\"marker\": {\"colorbar\": {\"outlinewidth\": 0, \"ticks\": \"\"}}, \"type\": \"scatterpolar\"}], \"scatterpolargl\": [{\"marker\": {\"colorbar\": {\"outlinewidth\": 0, \"ticks\": \"\"}}, \"type\": \"scatterpolargl\"}], \"scatterternary\": [{\"marker\": {\"colorbar\": {\"outlinewidth\": 0, \"ticks\": \"\"}}, \"type\": \"scatterternary\"}], \"surface\": [{\"colorbar\": {\"outlinewidth\": 0, \"ticks\": \"\"}, \"colorscale\": [[0.0, \"#0d0887\"], [0.1111111111111111, \"#46039f\"], [0.2222222222222222, \"#7201a8\"], [0.3333333333333333, \"#9c179e\"], [0.4444444444444444, \"#bd3786\"], [0.5555555555555556, \"#d8576b\"], [0.6666666666666666, \"#ed7953\"], [0.7777777777777778, \"#fb9f3a\"], [0.8888888888888888, \"#fdca26\"], [1.0, \"#f0f921\"]], \"type\": \"surface\"}], \"table\": [{\"cells\": {\"fill\": {\"color\": \"#EBF0F8\"}, \"line\": {\"color\": \"white\"}}, \"header\": {\"fill\": {\"color\": \"#C8D4E3\"}, \"line\": {\"color\": \"white\"}}, \"type\": \"table\"}]}, \"layout\": {\"annotationdefaults\": {\"arrowcolor\": \"#2a3f5f\", \"arrowhead\": 0, \"arrowwidth\": 1}, \"coloraxis\": {\"colorbar\": {\"outlinewidth\": 0, \"ticks\": \"\"}}, \"colorscale\": {\"diverging\": [[0, \"#8e0152\"], [0.1, \"#c51b7d\"], [0.2, \"#de77ae\"], [0.3, \"#f1b6da\"], [0.4, \"#fde0ef\"], [0.5, \"#f7f7f7\"], [0.6, \"#e6f5d0\"], [0.7, \"#b8e186\"], [0.8, \"#7fbc41\"], [0.9, \"#4d9221\"], [1, \"#276419\"]], \"sequential\": [[0.0, \"#0d0887\"], [0.1111111111111111, \"#46039f\"], [0.2222222222222222, \"#7201a8\"], [0.3333333333333333, \"#9c179e\"], [0.4444444444444444, \"#bd3786\"], [0.5555555555555556, \"#d8576b\"], [0.6666666666666666, \"#ed7953\"], [0.7777777777777778, \"#fb9f3a\"], [0.8888888888888888, \"#fdca26\"], [1.0, \"#f0f921\"]], \"sequentialminus\": [[0.0, \"#0d0887\"], [0.1111111111111111, \"#46039f\"], [0.2222222222222222, \"#7201a8\"], [0.3333333333333333, \"#9c179e\"], [0.4444444444444444, \"#bd3786\"], [0.5555555555555556, \"#d8576b\"], [0.6666666666666666, \"#ed7953\"], [0.7777777777777778, \"#fb9f3a\"], [0.8888888888888888, \"#fdca26\"], [1.0, \"#f0f921\"]]}, \"colorway\": [\"#636efa\", \"#EF553B\", \"#00cc96\", \"#ab63fa\", \"#FFA15A\", \"#19d3f3\", \"#FF6692\", \"#B6E880\", \"#FF97FF\", \"#FECB52\"], \"font\": {\"color\": \"#2a3f5f\"}, \"geo\": {\"bgcolor\": \"white\", \"lakecolor\": \"white\", \"landcolor\": \"#E5ECF6\", \"showlakes\": true, \"showland\": true, \"subunitcolor\": \"white\"}, \"hoverlabel\": {\"align\": \"left\"}, \"hovermode\": \"closest\", \"mapbox\": {\"style\": \"light\"}, \"paper_bgcolor\": \"white\", \"plot_bgcolor\": \"#E5ECF6\", \"polar\": {\"angularaxis\": {\"gridcolor\": \"white\", \"linecolor\": \"white\", \"ticks\": \"\"}, \"bgcolor\": \"#E5ECF6\", \"radialaxis\": {\"gridcolor\": \"white\", \"linecolor\": \"white\", \"ticks\": \"\"}}, \"scene\": {\"xaxis\": {\"backgroundcolor\": \"#E5ECF6\", \"gridcolor\": \"white\", \"gridwidth\": 2, \"linecolor\": \"white\", \"showbackground\": true, \"ticks\": \"\", \"zerolinecolor\": \"white\"}, \"yaxis\": {\"backgroundcolor\": \"#E5ECF6\", \"gridcolor\": \"white\", \"gridwidth\": 2, \"linecolor\": \"white\", \"showbackground\": true, \"ticks\": \"\", \"zerolinecolor\": \"white\"}, \"zaxis\": {\"backgroundcolor\": \"#E5ECF6\", \"gridcolor\": \"white\", \"gridwidth\": 2, \"linecolor\": \"white\", \"showbackground\": true, \"ticks\": \"\", \"zerolinecolor\": \"white\"}}, \"shapedefaults\": {\"line\": {\"color\": \"#2a3f5f\"}}, \"ternary\": {\"aaxis\": {\"gridcolor\": \"white\", \"linecolor\": \"white\", \"ticks\": \"\"}, \"baxis\": {\"gridcolor\": \"white\", \"linecolor\": \"white\", \"ticks\": \"\"}, \"bgcolor\": \"#E5ECF6\", \"caxis\": {\"gridcolor\": \"white\", \"linecolor\": \"white\", \"ticks\": \"\"}}, \"title\": {\"x\": 0.05}, \"xaxis\": {\"automargin\": true, \"gridcolor\": \"white\", \"linecolor\": \"white\", \"ticks\": \"\", \"title\": {\"standoff\": 15}, \"zerolinecolor\": \"white\", \"zerolinewidth\": 2}, \"yaxis\": {\"automargin\": true, \"gridcolor\": \"white\", \"linecolor\": \"white\", \"ticks\": \"\", \"title\": {\"standoff\": 15}, \"zerolinecolor\": \"white\", \"zerolinewidth\": 2}}}},                        {\"responsive\": true}                    ).then(function(){\n",
       "                            \n",
       "var gd = document.getElementById('1dc5cd35-a69b-4b0a-85ae-1dbcc2b3cdf7');\n",
       "var x = new MutationObserver(function (mutations, observer) {{\n",
       "        var display = window.getComputedStyle(gd).display;\n",
       "        if (!display || display === 'none') {{\n",
       "            console.log([gd, 'removed!']);\n",
       "            Plotly.purge(gd);\n",
       "            observer.disconnect();\n",
       "        }}\n",
       "}});\n",
       "\n",
       "// Listen for the removal of the full notebook cells\n",
       "var notebookContainer = gd.closest('#notebook-container');\n",
       "if (notebookContainer) {{\n",
       "    x.observe(notebookContainer, {childList: true});\n",
       "}}\n",
       "\n",
       "// Listen for the clearing of the current output cell\n",
       "var outputEl = gd.closest('.output');\n",
       "if (outputEl) {{\n",
       "    x.observe(outputEl, {childList: true});\n",
       "}}\n",
       "\n",
       "                        })                };                });            </script>        </div>"
      ]
     },
     "metadata": {},
     "output_type": "display_data"
    }
   ],
   "source": [
    "# use custom_data parameter to send over state specific info to callback when ready for dashboard interaction\n",
    "fig = px.choropleth_mapbox(states, geojson=states_geojson, locations='name', color='1/22/20', featureidkey=\"properties.name\",\n",
    "                           color_continuous_scale=\"Viridis\",\n",
    "                           range_color=(0, 12),\n",
    "                           mapbox_style=\"carto-positron\",\n",
    "                           zoom=3, center = {\"lat\": 37.0902, \"lon\": -95.7129},\n",
    "                           opacity=0.8,\n",
    "                           labels={'unemp':'unemployment rate'})\n",
    "fig.update_layout(clickmode='event+select')\n",
    "fig"
   ]
  }
 ],
 "metadata": {
  "kernelspec": {
   "display_name": "Python 3",
   "language": "python",
   "name": "python3"
  },
  "language_info": {
   "codemirror_mode": {
    "name": "ipython",
    "version": 3
   },
   "file_extension": ".py",
   "mimetype": "text/x-python",
   "name": "python",
   "nbconvert_exporter": "python",
   "pygments_lexer": "ipython3",
   "version": "3.8.3"
  }
 },
 "nbformat": 4,
 "nbformat_minor": 2
}
